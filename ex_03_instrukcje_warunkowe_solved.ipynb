{
 "cells": [
  {
   "cell_type": "markdown",
   "metadata": {},
   "source": [
    "| **Kinga Węzka** <BR> kinga.wezka@pw.edu.pl  <BR> Warsaw University of Technology <BR> Faculty Geodesy and Cartography <BR> Plac Politechniki 1 (room 38)<BR> 00-661 Warszawa, POLAND<BR> <A href=\"https://www.google.com/maps/place/Gmach+G%C5%82%C3%B3wny+Politechniki+Warszawskiej/@52.220656,21.0094422,19z/data=!3m1!4b1!4m5!3m4!1s0x471ecce951c85a19:0x712b0e1503c42b91!8m2!3d52.220656!4d21.0099894\"> N 52&ordm; 12' 45&quot; / E 21&ordm; 03' 51&quot;</A></B><BR> | <a rel=\"license\" href=\"https://www.pw.edu.pl\"><img alt=\"Politechnika Warszawska\" style=\"border-width:0\" src=\"https://www.pw.edu.pl/design/pw/images/znak-pw.png\" /></a> |\n",
    "|---------------------------------------------------------------------------------------------------------------------------------------------------------------------------------------------------------------------------------------------------------------------------------------------------------------------------------------------------------------------------------------------------------------------------------------------------------------------------|-------------------------------------------------------------------------------------------------------------------------------------------------------------------------|\n",
    "\n",
    "**Informatyka Geodezyjna** (projekt) -- rok akademicki 2021/2022\n",
    "    \n",
    "**Prowadzący:** Kinga Węzka\n",
    "    \n",
    "**Projekt 3: Instrukcje warunkowe**\n",
    "\n",
    "\n",
    "**UWAGA: Odpowiedź na każde pytanie powinna znajdować się w oddzielnej komórce poniżej pytania, z podanym numerem pytania**\n"
   ]
  },
  {
   "cell_type": "markdown",
   "metadata": {},
   "source": [
    "# Spis tresci:\n",
    "\n",
    "1. [Zad. 1: Sprawdzenie liczby: parzysta/nieparzysta](#zad1)\n",
    "2. [Zad. 2: Sprawdzenie - trójkąt prostokatny](#zad2)\n",
    "3. [Zad. 3: Wyznaczenie azymutu](#zad3)\n",
    "4. [Zad. 4: Edycja łańcucha znaków (biblioteka: datetime)](#zad4)\n",
    "5. [Zad. 5: Uszeregować liczby od największej do najmniejszej](#zad5)\n",
    "6. [Zad. 6: Sprawdzenie - rok przestępny](#zad6)\n",
    "7. [Zad. 7: Pierwiastki równania kwadratowego](#zad7)\n",
    "8. [Zad. 8: Kalkulator przeliczanie jdnostek kątowych](#zad8)"
   ]
  },
  {
   "cell_type": "code",
   "execution_count": 4,
   "metadata": {},
   "outputs": [
    {
     "name": "stdout",
     "output_type": "stream",
     "text": [
      "4\n",
      "3\n"
     ]
    }
   ],
   "source": [
    "#Pierwszy przypadek jest równoważny dwóm różnym if's z pustymi instrukcjami else (else: pass); \n",
    "#w drugim przypadku elif jest częścią pierwszej instrukcji if.\n",
    "\n",
    "# przykład 1\n",
    "a = 2\n",
    "if a > 1:   # True\n",
    "    a = a+1\n",
    "if a > 2:   #True\n",
    "    a = a+1\n",
    "print(a) \n",
    "    \n",
    "# przykład 2\n",
    "a = 2\n",
    "if a > 1:    # False\n",
    "    a = a+1\n",
    "elif a > 2: \n",
    "    a = a+1\n",
    "print(a) \n"
   ]
  },
  {
   "cell_type": "code",
   "execution_count": null,
   "metadata": {},
   "outputs": [],
   "source": [
    "#W niektórych przypadkach elif jest wymagany do poprawnej semantyki.\n",
    "#Dzieje się tak, gdy warunki nie wykluczają się wzajemnie:\n",
    "if x == 0:   result = 0\n",
    "elif y == 0: result = None\n",
    "else:        result = x / y"
   ]
  },
  {
   "cell_type": "markdown",
   "metadata": {},
   "source": [
    "## Zad. 1:  Sprawdzenie liczby: parzysta/nieparzysta <a name=\"zad1\"></a>\n",
    "Napisz program, który pyta użytkownika o podanie liczby i zwraca informację \n",
    "czy podana liczba jest liczbą parzystą (even) czy nieparzystą (odd).\n",
    "A co jeśli użytkownik poda liczbę rzeczywistą ?!\n",
    "\n",
    "Podpowiedzi: Można wykorzystać metodę modf z biblioteki math\n",
    "math.modf(x): zwraca krotkę składającą się z części dziesiętnej i całkowitej liczby x. \n",
    "Obie wartości sa typem float i przejmują znak liczby x.\n"
   ]
  },
  {
   "cell_type": "code",
   "execution_count": 1,
   "metadata": {},
   "outputs": [
    {
     "name": "stdout",
     "output_type": "stream",
     "text": [
      "Podaj liczbę  :5\n",
      "Podana przez Ciebie liczba to: 5\n",
      "Twoja liczba jest liczbą nieparzystą\n"
     ]
    }
   ],
   "source": [
    "from math import  modf\n",
    "\n",
    "\n",
    "liczba = input(\"Podaj liczbę  :\" )      # należy podać liczbę\n",
    "\n",
    "print('Podana przez Ciebie liczba to:', int(liczba,30))\n",
    "\n",
    "if float(liczba)%2 == 0: # warunek dla liczb parzystych\n",
    "    print(\"Twoja liczba jest liczbą parzystą\")\n",
    "elif float(liczba)%2 != 0 and modf(float(liczba))[0] == 0: # warunek dla liczb nieparzystych\n",
    "    print(\"Twoja liczba jest liczbą nieparzystą\")\n",
    "else: # pozostałe wartości (liczby niecałkowite)\n",
    "    print('Twoja liczba nie jest liczbą całkowitą !!!!')\n"
   ]
  },
  {
   "cell_type": "markdown",
   "metadata": {},
   "source": [
    "## Zad. 2: Sprawdzenie - trójkąt prostokatny <a name=\"zad2\"></a>\n",
    "Napisz program, który na podstawie danych pobranych od użytkownika, czyli długości 3 boków, sprawdza, \n",
    "\n",
    "- czy da się zbudować trójkąt i \n",
    "\n",
    "- czy jest to trójkąt prostokątny. \n",
    "\n",
    "Jeżeli da się zbudować trójkąt, należy wydrukować jego obwód i pole, w przeciwnym wypadku komunikat, że nie da się utworzyć trójkąta.\n",
    "\n",
    "\n",
    "Podpowiedź: \n",
    "\n",
    "1. Mając odcinki a, b, c trójkąt można zbudować jeżeli suma długości każdych dwóch odcinków  jest większa od 3ciego\n",
    "\n",
    "2. Twierdzenie Pitagorasa "
   ]
  },
  {
   "cell_type": "code",
   "execution_count": null,
   "metadata": {},
   "outputs": [],
   "source": [
    "from math import sqrt\n",
    "\n",
    "a = float(input('Podaj długość boku a: '))\n",
    "b = float(input('Podaj długość boku b: '))\n",
    "c = float(input('Podaj długość boku c: '))\n",
    "\n",
    "if a + b > c and a + c > b and b + c > a:  # warunek złożony\n",
    "    print(\"Z podanych boków można zbudować trójkąt.\")\n",
    "    # czy boki spełniają warunki trójkąta prostokątnego?\n",
    "    # zamiast sprawdzac warunek a**2 + b**2 == c**2, sprawdzamy rownowazny:\n",
    "    # a**2+ b**2 - c**2 < 1e-8 (1e-8 jest tu tolerancja na to jak bardzo nasz wynik moze byc rozny od 0)\n",
    "    # sprawdzenie rownosci zadziala dla int, ale dla float niekoniecznie:\n",
    "    # przykladowo, spr. czy 0.05**2 + 0.12**2 == 0.13**2 (5, 12, 13 to trojka pitagorejska)\n",
    "    if (a**2 + b**2 - c**2 < 1e-8 or\n",
    "        a**2 + c**2 - b**2 < 1e-8 or\n",
    "        b**2 + c**2 - a**2 < 1e-8):\n",
    "        print(\"Do tego prostokątny!\")\n",
    "\n",
    "    # na wyjściu możemy wyprowadzać wyrażenia\n",
    "    print(\"Obwód wynosi:\", (a + b + c))\n",
    "    p = 0.5 * (a + b + c)  # obliczmy współczynnik wzoru Herona\n",
    "    # liczymy pole ze wzoru Herona\n",
    "    P = sqrt(p * (p - a) * (p - b) * (p - c))\n",
    "    print(\"Pole wynosi:\", P)\n",
    "else:\n",
    "    print(\"Z podanych odcinków nie można utworzyć trójkąta prostokątnego.\")\n",
    "\n"
   ]
  },
  {
   "cell_type": "code",
   "execution_count": 1,
   "metadata": {},
   "outputs": [
    {
     "name": "stdout",
     "output_type": "stream",
     "text": [
      "1e-08\n"
     ]
    }
   ],
   "source": [
    "print(1e-8)"
   ]
  },
  {
   "cell_type": "markdown",
   "metadata": {},
   "source": [
    "## Zad. 3:  Wyznaczenie azymutu <a name=\"zad3\"></a>\n",
    "Znając współrzędne płaskie (x,y) punktów A i B.  Policz azymut (z punktu B do A)  oraz odległość miedzy punktami\n",
    "\n",
    "Podpowiedzi:\n",
    "\n",
    "    1) wyznaczamy przyrosty współrzednych X i Y odcinka AB;\n",
    "    2) obliczamy azymut i wynik przedstawiamy w stopniach;\n",
    "    3) liczymy odległośc z punktu A do punktu B"
   ]
  },
  {
   "cell_type": "raw",
   "metadata": {},
   "source": [
    "Warunki obliczenia azymutu na podstawie przyrostu współrzędnych:\n",
    "_________________________________\n",
    "| dx  | dY  | wartość azymutu   |\n",
    "---------------------------------\n",
    "| +   | +   | wyliczony         |\n",
    "| -   | +   | wyliczony + 180st |\n",
    "| -   | -   | wyliczony + 180st |\n",
    "| +   | -   | wyliczony + 360st |\n",
    "| 0   | +   | 90st              |\n",
    "| -   | 0   | 180st             |\n",
    "| 0   | -   | 270st             |\n",
    "| +   | 0   | 360st lub 0st     |\n",
    "---------------------------------"
   ]
  },
  {
   "cell_type": "code",
   "execution_count": 2,
   "metadata": {},
   "outputs": [
    {
     "name": "stdout",
     "output_type": "stream",
     "text": [
      "III ćwiartka 185.20906057454428\n",
      "------------------------------------------------------------ \n",
      " Azymut wynosi \t\t: 185.20906057454428 \n",
      " 0dległość wynosi \t: 113.44853635018832 \n",
      " ------------------------------------------------------------\n"
     ]
    }
   ],
   "source": [
    "from math import degrees, atan, pi, sqrt\n",
    "\n",
    "\n",
    "# DANE współrzędne punktów A i B (można zapytać użytkownika o podanie współrzednych)\n",
    "xy_A = [-45.00, 23.82]\n",
    "xy_B = [67.98, 34.12]\n",
    "\n",
    "# wyznaczenie przyrostów współrzednych\n",
    "dX = xy_A[0] - xy_B[0]\n",
    "dY = xy_A[1] - xy_B[1]\n",
    "\n",
    "# wyznaczenie azymutu:\n",
    "if dX > 0 and dY > 0:                       # I ćwiartka (0-90st)\n",
    "    Az      = atan(dY/dX)              # [rad]\n",
    "    Az_deg  = degrees(Az)              # [deg]\n",
    "    print('I ćwiartka', Az_deg)\n",
    "elif dX < 0 and dY > 0:                     # II ćwiartka (90-180st)\n",
    "    Az      = atan(dY/dX)+ pi     # [rad]\n",
    "    Az_deg  = degrees(Az)              # [deg]\n",
    "    print('II ćwiartka', Az_deg)\n",
    "elif dX < 0 and dY < 0:                     # III ćwiartka (180-270st)\n",
    "    Az      = atan(dY/dX) + pi    # [rad]\n",
    "    Az_deg  = degrees(Az)              # [deg]\n",
    "    print('III ćwiartka', Az_deg)\n",
    "elif dX > 0 and dY < 0:                     # IV ćwiartka (270-360st)\n",
    "    Az      = atan(dY/dX)  + 2 * pi  # [rad]\n",
    "    Az_deg  = degrees(Az)              # [deg]\n",
    "    print('IV ćwiartka', Az_deg)\n",
    "elif dX == 0 and dY > 0:                    # (90st)\n",
    "    Az      = pi /2                    # [rad]\n",
    "    Az_deg  = degrees(Az)              # [deg]\n",
    "    print('dX=0 i dY>0', Az_deg)\n",
    "elif dX < 0 and dY == 0:                    # (180st)\n",
    "    Az      = pi                       # [rad]\n",
    "    Az_deg  = degrees(Az)              # [deg]\n",
    "    print('dX=0 i dY>0', Az_deg)\n",
    "elif dX == 0 and dY < 0:                    # (270st)\n",
    "    Az      = pi + math.pi /2          # [rad]\n",
    "    Az_deg  = degrees(Az)              # [deg]\n",
    "    print('dX=0 i dY>0', Az_deg)\n",
    "elif dX > 0 and dY == 0:                    # (360st lub 0st)\n",
    "    Az1     = 0                             # [rad]\n",
    "    Az_deg1 = degrees(Az)              # [deg]\n",
    "    Az2     = 2*pi                    # [rad]\n",
    "    Az_deg2 = degrees(Az)              # [deg]\n",
    "    print('dX=0 i dY>0', (Az_deg1, Az_deg2))\n",
    " \n",
    "# wyznaczenie długości odcinka AB\n",
    "dist_AB = sqrt(dX**2 +dY**2)\n",
    "\n",
    "# przekazanie wyników azymutu i długości na konsolę:\n",
    "print(60*'-','\\n', 'Azymut wynosi \\t\\t:', Az_deg, '\\n', '0dległość wynosi \\t:', dist_AB, '\\n' ,60*'-' )\n",
    "\n"
   ]
  },
  {
   "cell_type": "markdown",
   "metadata": {},
   "source": [
    "## Zad. 4: Edycja łańcucha znaków (biblioteka: datetime) <a name=\"zad4\"></a>\n",
    "\n",
    "Korzystając z biblioteki `datetime` napisz program który:\n",
    " + poprosi użytkownik o podanie daty, przypisując datę do 3 zmiennych rok, miesiąc, dzien ;\n",
    " + skorzysta  z wbudowanej metody (wykorzystaj dir, help, w celu dobrania metody) w celu sprawdzenia czy podawane przez użytkownika wartości są liczbowe czy napisowe, w przypadku podawanych wartości napisowych prosze zwrócić stosowny komunikat za pomocą funkcji `print`,\n",
    " + sprawdzi o ile dni podana data odbiega od daty aktualnej (data teraz) oraz od daty referencyjnej (2000.01.01). Należy zwrócić stosowny komunikat oróżnicy dni - korzystając z funkcji `print`\n",
    " + jeśli podana data jest przed datą referencyjną (2000.01.01) to to program zwróci komunikat: \"Rok produkcji przed rokuiem 2000 - brak informacji o produkcie.\"\n",
    " + jesli podana data jest po roku 2010, ale przed aktualną datą, program zwróci komunikat: \"Rok produkcji po roku 2010, ale przed aktualną datą (dziś)\"\n",
    " + jeśli podana data jest po aktualnej dacie (dziś) program zwraca stosowny (zaproponowany przez programistę) stosowny komunikat.\n",
    " \n",
    " **Podpowiedz:** W zadaniu można przyjąć, że rok ma 365.5 dni."
   ]
  },
  {
   "cell_type": "code",
   "execution_count": 7,
   "metadata": {},
   "outputs": [
    {
     "name": "stdout",
     "output_type": "stream",
     "text": [
      "podaj rok: 2015\n",
      "podaj miesiąc: 5\n",
      "podaj dzien: 5\n",
      "Rok produkcji po roku 2010\n"
     ]
    }
   ],
   "source": [
    "from datetime import datetime\n",
    "\n",
    "# zapytanie użytkownika o podanie daty \n",
    "rok = input('podaj rok: ')\n",
    "msc = input('podaj miesiąc: ')\n",
    "dzn = input('podaj dzien: ')\n",
    "\n",
    "if (rok.isdigit() and msc.isdigit() and dzn.isdigit()): # sprawdzenie czy podawane wartości są cyframi?\n",
    "    tu   = datetime(year = int(rok), month = int(msc), day = int(dzn), hour = 12, minute = 0, second = 0) # data użytkownika\n",
    "    t0   = datetime.now() # data teraz\n",
    "    tr   = datetime(year = 2000, month = 1, day = 1, hour = 12, minute = 0, second = 0) # data odniesienia\n",
    "    dtr  = tu - tr    # różnica z czasem referencyjnym w dniach\n",
    "    dtr  = str(dtr) # rzutowanie formatu datetime do str, pozwoli na odniesienie do poszczególnych komponentów\n",
    "    dni_r = float(dtr[0:5])\n",
    "\n",
    "    dt0    = tu - t0    # różnica z aktualnym czasem w dniach\n",
    "    dt0    = str(dt0) # rzutowanie formatu datetime do str, pozwoli na odniesienie do poszczególnych komponentów\n",
    "    dni_0  = float(dt0[0:5])\n",
    "\n",
    "    if dni_r < 0:\n",
    "        print(\"Rok produkcji przed rokuiem 2000 - brak informacji o produkcie.\")\n",
    "    elif (dni_r/365.5) > 10 and (dni_0 < 0):\n",
    "        print(\"Rok produkcji po roku 2010, ale przed aktualną datą (dziś)\")  \n",
    "    else: \n",
    "        print(\"Rok produkcji po dzisiejszej dacie - niemożliwe\")\n",
    "else:\n",
    "    print('Podawane daty nie są wartościami liczbowymi!')\n",
    "\n",
    "\n"
   ]
  },
  {
   "cell_type": "markdown",
   "metadata": {},
   "source": [
    "## Zad. 5: Uszeregować liczby od największej do najmniejszej <a name=\"zad5\"></a>\n",
    "Uszeregować trzy liczby (a, b, c) podane przez użytkownika od największej do najmniejszej bez korzystania z funkcji sortujących."
   ]
  },
  {
   "cell_type": "code",
   "execution_count": null,
   "metadata": {},
   "outputs": [],
   "source": [
    "a = float(input(\"Podaj a \"))\n",
    "b = float(input(\"Podaj b \"))\n",
    "c = float(input(\"Podaj c \"))\n",
    "\n",
    "if a >= b and a >= c:\n",
    "    if b >= c:\n",
    "        print (a, b, c)\n",
    "    else:\n",
    "        print (a, c, b)\n",
    "elif b >= a and b >= c:\n",
    "    if a >= c:\n",
    "        print(b, a, c)\n",
    "    else:\n",
    "        print(b, c, a)\n",
    "elif c >= a and c >= b:\n",
    "    if a >= b:\n",
    "        print(c, a, b)\n",
    "    else:\n",
    "        print(c, b, a)"
   ]
  },
  {
   "cell_type": "markdown",
   "metadata": {},
   "source": [
    "## Zad. 6: Sprawdzenie - rok przestępny <a name=\"zad6\"></a>\n",
    "Sprawdzić czy podany przez użytkownika rok jest przestępny. Wyswietlić odpowiedni komunikat.\n",
    "\n",
    "Podpowiedź: Rok jest przestepny, gdy jest podzielny przez 4. Jednocześnie, lata podzielne przez 100 nie są przestępne, z wyjątkiem lat\n",
    "podzielnych przez 400. "
   ]
  },
  {
   "cell_type": "code",
   "execution_count": null,
   "metadata": {},
   "outputs": [],
   "source": [
    "rok = int(input(\"Podaj rok \"))\n",
    "\"\"\"\n",
    "if rok % 400 == 0:\n",
    "    print(\"Rok \", rok, \" jest przestępny\")\n",
    "elif rok % 100 == 0:  # ale juz nie przez 400\n",
    "    print(\"rok \", rok, \"nie jest przestepny\")\n",
    "elif rok % 4 == 0:\n",
    "    print(\"Rok \", rok, \" jest przestępny\")\n",
    "else:\n",
    "    print(\"rok \", rok, \" nie jest przestepny\")\n",
    "\"\"\"\n",
    "    \n",
    "\"\"\" lub\n",
    "if rok % 4 ==0\n",
    "    if rok % 400: # tylko przypadek gdy podzielny przez 400 (czyli tez przez 100)\n",
    "        print(\"rok przestepny\")\n",
    "    elif rok % 100 # przypadek podzielnosci przez 400 obsluzony wczesniej\n",
    "        print(\"rok nie jest przestepny\")\n",
    "    else: # pozostale przypadki\n",
    "        print(\"rok przestepny\")\n",
    "else:\n",
    "    print(\"rok nie jest przestepny\")\n",
    "\"\"\"    \n",
    "# lub\n",
    "# '''\n",
    "if rok % 400==0 or (rok % 4==0 and not(rok % 100==0)):\n",
    "    print(\"Rok \", rok, \" jest przestępny\")\n",
    "else:\n",
    "    print(\"rok \", rok, \" nie jest przestepny\")\n",
    "\n",
    "# '''  \n"
   ]
  },
  {
   "cell_type": "markdown",
   "metadata": {},
   "source": [
    "## Zad. 7:  Pierwiastki równania kwadratowego <a name=\"zad7\"></a>\n",
    "Wyznaczyć rzeczywiste pierwiastki równania kwadratowego o współczynnikach całkowitych podanych przez uzytkownika. Wyświetlić wynik.\n",
    "Jeżeli równanie nie ma rozwiazań rzeczywistych, wypisać odpowiedni komunikat.\n",
    "\n",
    "Podpowiedź: \n",
    "\n",
    "Wzór na wyznacznik: delta = b ** 2 - 4 * a * c\n"
   ]
  },
  {
   "cell_type": "code",
   "execution_count": null,
   "metadata": {},
   "outputs": [],
   "source": [
    "from math import\n",
    "\n",
    "print(\"podaj wspolczynniki calkowite rownania kwadratowego: ax^2 +bx +c = 0\")\n",
    "a = int(input(\"a = \"))\n",
    "b = int(input(\"b = \"))\n",
    "c = int(input(\"c = \"))\n",
    "\n",
    "delta = b ** 2 - 4 * a * c\n",
    "if delta < 0:\n",
    "    print(\"Nie ma rozwiazan rzeczywistych\")\n",
    "elif delta == 0:\n",
    "    print(\"Rozwiazaniem jest pierwiastek podwojny : \", -b/(2*a))\n",
    "else:\n",
    "    print(\"Rozwiazania: \", (sqrt(delta)-b)/(2*a), (- sqrt(delta)-b)/(2*a))\n",
    "\n",
    "\n",
    "\n",
    "\n",
    "\n"
   ]
  },
  {
   "cell_type": "markdown",
   "metadata": {},
   "source": [
    "## Zad. 8: Kalkulator przeliczanie jdnostek kątowych<a name=\"zad8\"></a>\n",
    "Przygotować prosty kalkulator działań dla kąta podanego w stopniach. Należy wczytać kąt w postaci trzech liczb całkowitych - stopnie, minuty i sekundy - (lub dwóch całkowitych i jednej rzeczywistej) , \n",
    "nastepnie wyświetlić menu z listą dostępnych działań:\n",
    "- przeliczenie na grady,\n",
    "- obliczenie sinusa kąta,\n",
    "- dodanie drugiego kąta. Po wybraniu tej operacji należy poprosić użytkownika o wpisanie drugiego kąta.\n",
    "Wybór działania odbywa sie poprzez wpisanie odpowiedniej liczby odpowiadajacej działaniu lub wciśniecie odpowiedniego klawisza (zgodnie z informacja zawartą w menu). \n",
    "Wyświetlić wynik operacji. "
   ]
  },
  {
   "cell_type": "code",
   "execution_count": null,
   "metadata": {},
   "outputs": [],
   "source": [
    "import math\n",
    "\n",
    "##### import math as m\n",
    "\n",
    "kat = input(\"Podaj kat w postaci trzech liczb oddzielonych spacjami \")\n",
    "# podzielenie ciagu znakow po spacjach\n",
    "kat = kat.split(\" \")\n",
    "# nalezaloby sprawdzic, czy zostala wpisana poprawna wartosc, tj, czy minuty < 60\n",
    "sekundy = float(kat[2])\n",
    "minuty = int(kat[1])\n",
    "stopnie= int(kat[0])\n",
    "# wyswietlenie menu\n",
    "print(\"Przelicz kat na grady (1)\")\n",
    "print(\"Oblicz sinus kata (2)\")\n",
    "print(\"Dodaj kat (3)\")\n",
    "wybor = input(\"Numer polecenia \")\n",
    "\n",
    "# zamiana na liczby\n",
    "kat_s = stopnie + minuty/60 + sekundy/3600\n",
    "\n",
    "if wybor == '1':\n",
    "    kat_g = kat_s * 10/9\n",
    "    print(\"Podany kat w gradach wynosi: \", kat_g)\n",
    "elif wybor == '2':\n",
    "    sin  = m.sin(m.radians(kat_s))\n",
    "    print(\"Sinus kata wynosi: \", sin)\n",
    "elif wybor == '3':\n",
    "    kat2 = input(\"Podaj kat w postaci trzech liczb oddzielonych spacjami \")\n",
    "    # podzielenie ciagu znakow po spacjach\n",
    "    kat2 = kat2.split(\" \")\n",
    "    # dodawanie mozna zrobic tez na ifach zapamietujac \"przeniesienie sekundowe\"\n",
    "    # if sekundy + kat2[2] > 60:\n",
    "    # min_dod = 1 \n",
    "    # else:\n",
    "    # min_dod = 0\n",
    "    sekundy2 = float(kat2[2])\n",
    "    minuty2  = int(kat2[1])\n",
    "    stopnie2 = int(kat2[0])\n",
    "    sek  = (sekundy + sekundy2) % 60\n",
    "    minu = (minuty + minuty2) % 60 + (sekundy + sekundy2) // 60\n",
    "    st   = stopnie + stopnie2 + (minuty + minuty2) // 60\n",
    "    print(\"Suma katow wynosi: \", st, int(minu), sek)\n",
    "else:\n",
    "    print(\"Niepoprawny wybor opcji.\")\n",
    "\n"
   ]
  },
  {
   "cell_type": "code",
   "execution_count": null,
   "metadata": {},
   "outputs": [],
   "source": []
  }
 ],
 "metadata": {
  "kernelspec": {
   "display_name": "Python 3",
   "language": "python",
   "name": "python3"
  },
  "language_info": {
   "codemirror_mode": {
    "name": "ipython",
    "version": 3
   },
   "file_extension": ".py",
   "mimetype": "text/x-python",
   "name": "python",
   "nbconvert_exporter": "python",
   "pygments_lexer": "ipython3",
   "version": "3.8.8"
  }
 },
 "nbformat": 4,
 "nbformat_minor": 2
}
