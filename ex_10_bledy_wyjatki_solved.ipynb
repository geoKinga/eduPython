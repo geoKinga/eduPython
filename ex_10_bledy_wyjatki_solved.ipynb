{
 "cells": [
  {
   "cell_type": "markdown",
   "metadata": {},
   "source": [
    "| **Kinga Węzka** <BR> kinga.wezka@pw.edu.pl  <BR> Warsaw University of Technology <BR> Faculty Geodesy and Cartography <BR> Plac Politechniki 1 (room 38)<BR> 00-661 Warszawa, POLAND<BR> <A href=\"https://www.google.com/maps/place/Gmach+G%C5%82%C3%B3wny+Politechniki+Warszawskiej/@52.220656,21.0094422,19z/data=!3m1!4b1!4m5!3m4!1s0x471ecce951c85a19:0x712b0e1503c42b91!8m2!3d52.220656!4d21.0099894\"> N 52&ordm; 12' 45&quot; / E 21&ordm; 03' 51&quot;</A></B><BR> | <a rel=\"license\" href=\"https://www.pw.edu.pl\"><img alt=\"Politechnika Warszawska\" style=\"border-width:0\" src=\"https://www.pw.edu.pl/design/pw/images/znak-pw.png\" /></a> |\n",
    "|---------------------------------------------------------------------------------------------------------------------------------------------------------------------------------------------------------------------------------------------------------------------------------------------------------------------------------------------------------------------------------------------------------------------------------------------------------------------------|-------------------------------------------------------------------------------------------------------------------------------------------------------------------------|\n",
    "\n",
    "**Informatyka Geodezyjna** (projekt) -- rok akademicki 2020/2021\n",
    "    \n",
    "**Prowadzący:** Kinga Węzka\n",
    "    \n",
    "**Projekt 11**  Obsługa błędów i wyjątków w Pythonie\n",
    "\n",
    "**UWAGA: Odpowiedź na każde pytanie powinna znajdować się w oddzielnej komórce poniżej pytania, z podanym numerem pytania**\n"
   ]
  },
  {
   "cell_type": "markdown",
   "metadata": {},
   "source": [
    "# Spis treści:\n",
    "1. [Zad. 1: Zgłoszenie wyjątku - assert](#zad1)\n",
    "2. [Zad. 2: Sprawdzanie i zgłaszanie wyjątków  - assert](#zad2)\n",
    "3. [Zad. 3: Sprawdzanie i zgłaszanie wyjątków  - assert, f-string](#zad3) \n",
    "4. [Zad. 6: Obsługa wyjątków w programach Pythona - zwiększenie niezawodności programów](#zad6)\n",
    "5. [Zad. 4: Zgłaszanie i obsługa 'własnego wyjątku' -- klasa wyjątku, try/except](#zad4)\n",
    "6. [Zad. 5: Zgłaszanie i obsługa 'własnego wyjątku' -- klasa wyjątku, try/except](#zad5)\n",
    "7. [Zad. 7: Wbudowane wyjątki w Pythonie](#zad7)"
   ]
  },
  {
   "cell_type": "raw",
   "metadata": {},
   "source": [
    "BaseException\n",
    " ├── SystemExit                   # Raised by the sys.exit() function.\n",
    " ├── KeyboardInterrupt            # Raised when the user hits the interrupt key (ctrl-c).\n",
    " └── Exception                    # User-defined exceptions should be derived from this class.\n",
    "      ├── ArithmeticError         # Base class for arithmetic errors.\n",
    "      │    └── ZeroDivisionError  # Raised when dividing by zero.\n",
    "      ├── AttributeError          # Raised when an attribute is missing.\n",
    "      ├── EOFError                # Raised by input() when it hits end-of-file condition.\n",
    "      ├── LookupError             # Raised when a look-up on a collection fails.\n",
    "      │    ├── IndexError         # Raised when a sequence index is out of range.\n",
    "      │    └── KeyError           # Raised when a dictionary key or set element is not found.\n",
    "      ├── NameError               # Raised when a variable name is not found.\n",
    "      ├── OSError                 # Errors such as “file not found” or “disk full” (see Open).\n",
    "      │    └── FileNotFoundError  # When a file or directory is requested but doesn't exist.\n",
    "      ├── RuntimeError            # Raised by errors that don't fall in other categories.\n",
    "      │    └── RecursionError     # Raised when the maximum recursion depth is exceeded.\n",
    "      ├── StopIteration           # Raised by next() when run on an empty iterator.\n",
    "      ├── TypeError               # Raised when an argument is of wrong type.\n",
    "      └── ValueError              # When an argument is of right type but inappropriate value.\n",
    "           └── UnicodeError       # Raised when encoding/decoding strings to/from bytes fails.\n"
   ]
  },
  {
   "cell_type": "code",
   "execution_count": 1,
   "metadata": {},
   "outputs": [],
   "source": [
    "a = 5\n",
    "b = 's'\n",
    "a - b # raise TypeError\n",
    "a - int(b) # raise ValueError\n",
    "a.split(',') # raise AttributeError"
   ]
  },
  {
   "cell_type": "code",
   "execution_count": 4,
   "metadata": {},
   "outputs": [
    {
     "ename": "AttributeError",
     "evalue": "'int' object has no attribute 'split'",
     "output_type": "error",
     "traceback": [
      "\u001b[0;31m---------------------------------------------------------------------------\u001b[0m",
      "\u001b[0;31mAttributeError\u001b[0m                            Traceback (most recent call last)",
      "\u001b[0;32m<ipython-input-4-4b04a74527ef>\u001b[0m in \u001b[0;36m<module>\u001b[0;34m\u001b[0m\n\u001b[0;32m----> 1\u001b[0;31m \u001b[0ma\u001b[0m\u001b[0;34m.\u001b[0m\u001b[0msplit\u001b[0m\u001b[0;34m(\u001b[0m\u001b[0;34m','\u001b[0m\u001b[0;34m)\u001b[0m\u001b[0;34m\u001b[0m\u001b[0;34m\u001b[0m\u001b[0m\n\u001b[0m",
      "\u001b[0;31mAttributeError\u001b[0m: 'int' object has no attribute 'split'"
     ]
    }
   ],
   "source": [
    "a.split(',') # raise AttributeError"
   ]
  },
  {
   "cell_type": "code",
   "execution_count": 6,
   "metadata": {},
   "outputs": [
    {
     "name": "stdout",
     "output_type": "stream",
     "text": [
      "jjjjjj\n",
      "hello world\n"
     ]
    }
   ],
   "source": [
    "try:\n",
    "    a = 8\n",
    "    b = 7\n",
    "    w = a + b\n",
    "    assert w > 30, 'wynik zły'\n",
    "except AssertionError:\n",
    "    print('jjjjjj')\n",
    "\n",
    "print('hello world')"
   ]
  },
  {
   "cell_type": "code",
   "execution_count": 4,
   "metadata": {},
   "outputs": [
    {
     "data": {
      "text/plain": [
       "<ufunc 'sin'>"
      ]
     },
     "execution_count": 4,
     "metadata": {},
     "output_type": "execute_result"
    }
   ],
   "source": [
    "import numpy as np\n",
    "np.sin"
   ]
  },
  {
   "cell_type": "code",
   "execution_count": 5,
   "metadata": {},
   "outputs": [
    {
     "name": "stdout",
     "output_type": "stream",
     "text": [
      "nic\n"
     ]
    }
   ],
   "source": [
    "def dzielenie(a, b):\n",
    "    assert b!= 0, f'wartość mianownika jest równana {b}'\n",
    "    wynik = a/b\n",
    "    return(wynik)\n",
    "\n",
    "try: \n",
    "    dzielenie(2, 0)\n",
    "except AssertionError:\n",
    "    print('nic')\n",
    "    "
   ]
  },
  {
   "cell_type": "code",
   "execution_count": null,
   "metadata": {},
   "outputs": [],
   "source": [
    "#assert warunek_logiczny, f'opis'\n",
    "\n",
    "def dzielenie(a, b):\n",
    "    wynik = a/b\n",
    "    return(wynik)\n",
    "\n",
    "\n",
    "try: \n",
    "    dzielenie(2, 1)\n",
    "except ZeroDivisionError:\n",
    "    print('Nie Można dzielić przez zero')\n",
    "except TypeError:\n",
    "    print('Typ zmiennej jest nieprawidłowy ')\n",
    "else:\n",
    "    print('wykona się jesli nie ma określonego wyjatku', dzielenie(2, 1))\n",
    "finally:\n",
    "    print('wykona się zawsze')"
   ]
  },
  {
   "cell_type": "markdown",
   "metadata": {},
   "source": [
    "## Zad.1: Zgłoszenie wyjątku - assert <a name=\"zad1\"></a>\n",
    "Napisać funkcję dzielenia dwóch liczb i za pomoca instrukcji `assert` zweryfikowac poprawność/zgodność argumentów:"
   ]
  },
  {
   "cell_type": "code",
   "execution_count": 2,
   "metadata": {},
   "outputs": [
    {
     "ename": "AssertionError",
     "evalue": "wartość y powinna być różna od zera, a  y = 0",
     "output_type": "error",
     "traceback": [
      "\u001b[0;31m---------------------------------------------------------------------------\u001b[0m",
      "\u001b[0;31mAssertionError\u001b[0m                            Traceback (most recent call last)",
      "\u001b[0;32m<ipython-input-2-bfa156d9094b>\u001b[0m in \u001b[0;36m<module>\u001b[0;34m\u001b[0m\n\u001b[1;32m      7\u001b[0m     \u001b[0mprint\u001b[0m\u001b[0;34m(\u001b[0m\u001b[0mwynik\u001b[0m\u001b[0;34m)\u001b[0m\u001b[0;34m\u001b[0m\u001b[0;34m\u001b[0m\u001b[0m\n\u001b[1;32m      8\u001b[0m \u001b[0;34m\u001b[0m\u001b[0m\n\u001b[0;32m----> 9\u001b[0;31m \u001b[0mdzielenie\u001b[0m\u001b[0;34m(\u001b[0m\u001b[0;36m2\u001b[0m\u001b[0;34m,\u001b[0m \u001b[0;36m0\u001b[0m\u001b[0;34m)\u001b[0m\u001b[0;34m\u001b[0m\u001b[0;34m\u001b[0m\u001b[0m\n\u001b[0m",
      "\u001b[0;32m<ipython-input-2-bfa156d9094b>\u001b[0m in \u001b[0;36mdzielenie\u001b[0;34m(x, y)\u001b[0m\n\u001b[1;32m      3\u001b[0m \u001b[0;34m\u001b[0m\u001b[0m\n\u001b[1;32m      4\u001b[0m \u001b[0;32mdef\u001b[0m \u001b[0mdzielenie\u001b[0m \u001b[0;34m(\u001b[0m\u001b[0mx\u001b[0m\u001b[0;34m,\u001b[0m \u001b[0my\u001b[0m\u001b[0;34m)\u001b[0m\u001b[0;34m:\u001b[0m\u001b[0;34m\u001b[0m\u001b[0;34m\u001b[0m\u001b[0m\n\u001b[0;32m----> 5\u001b[0;31m     \u001b[0;32massert\u001b[0m \u001b[0my\u001b[0m \u001b[0;34m!=\u001b[0m \u001b[0;36m0\u001b[0m\u001b[0;34m,\u001b[0m \u001b[0;34mf'wartość y powinna być różna od zera, a  y = {y}'\u001b[0m\u001b[0;34m\u001b[0m\u001b[0;34m\u001b[0m\u001b[0m\n\u001b[0m\u001b[1;32m      6\u001b[0m     \u001b[0mwynik\u001b[0m \u001b[0;34m=\u001b[0m \u001b[0mx\u001b[0m\u001b[0;34m/\u001b[0m\u001b[0my\u001b[0m\u001b[0;34m\u001b[0m\u001b[0;34m\u001b[0m\u001b[0m\n\u001b[1;32m      7\u001b[0m     \u001b[0mprint\u001b[0m\u001b[0;34m(\u001b[0m\u001b[0mwynik\u001b[0m\u001b[0;34m)\u001b[0m\u001b[0;34m\u001b[0m\u001b[0;34m\u001b[0m\u001b[0m\n",
      "\u001b[0;31mAssertionError\u001b[0m: wartość y powinna być różna od zera, a  y = 0"
     ]
    }
   ],
   "source": [
    "#Propagacja wyjątków \n",
    "#jeśli funkcje wołaja funkcję to wyjatek można obsłużyć w wywołaniu ostatniej funkcji\n",
    "\n",
    "def dzielenie (x, y):\n",
    "    assert y != 0, f'wartość y powinna być różna od zera, a  y = {y}'\n",
    "    wynik = x/y\n",
    "    print(wynik)\n",
    "\n",
    "dzielenie(2, 0)\n"
   ]
  },
  {
   "cell_type": "code",
   "execution_count": null,
   "metadata": {},
   "outputs": [],
   "source": []
  },
  {
   "cell_type": "code",
   "execution_count": 2,
   "metadata": {},
   "outputs": [
    {
     "name": "stdout",
     "output_type": "stream",
     "text": [
      "0.6666666666666666\n"
     ]
    },
    {
     "ename": "AssertionError",
     "evalue": "Lista jest pusta",
     "output_type": "error",
     "traceback": [
      "\u001b[0;31m---------------------------------------------------------------------------\u001b[0m",
      "\u001b[0;31mAssertionError\u001b[0m                            Traceback (most recent call last)",
      "\u001b[0;32m<ipython-input-2-75194151836b>\u001b[0m in \u001b[0;36m<module>\u001b[0;34m\u001b[0m\n\u001b[1;32m     11\u001b[0m \u001b[0;34m\u001b[0m\u001b[0m\n\u001b[1;32m     12\u001b[0m \u001b[0mp\u001b[0m \u001b[0;34m=\u001b[0m \u001b[0;34m[\u001b[0m\u001b[0;34m]\u001b[0m\u001b[0;34m\u001b[0m\u001b[0;34m\u001b[0m\u001b[0m\n\u001b[0;32m---> 13\u001b[0;31m \u001b[0mprint\u001b[0m\u001b[0;34m(\u001b[0m\u001b[0;34m\"Average of mark1:\"\u001b[0m\u001b[0;34m,\u001b[0m\u001b[0mavg\u001b[0m\u001b[0;34m(\u001b[0m\u001b[0mp\u001b[0m\u001b[0;34m)\u001b[0m\u001b[0;34m)\u001b[0m\u001b[0;34m\u001b[0m\u001b[0;34m\u001b[0m\u001b[0m\n\u001b[0m",
      "\u001b[0;32m<ipython-input-2-75194151836b>\u001b[0m in \u001b[0;36mavg\u001b[0;34m(points)\u001b[0m\n\u001b[1;32m      7\u001b[0m \u001b[0mdzielenie\u001b[0m\u001b[0;34m(\u001b[0m\u001b[0;36m2\u001b[0m\u001b[0;34m,\u001b[0m \u001b[0;36m3\u001b[0m\u001b[0;34m)\u001b[0m\u001b[0;34m\u001b[0m\u001b[0;34m\u001b[0m\u001b[0m\n\u001b[1;32m      8\u001b[0m \u001b[0;32mdef\u001b[0m \u001b[0mavg\u001b[0m\u001b[0;34m(\u001b[0m\u001b[0mpoints\u001b[0m\u001b[0;34m)\u001b[0m\u001b[0;34m:\u001b[0m\u001b[0;34m\u001b[0m\u001b[0;34m\u001b[0m\u001b[0m\n\u001b[0;32m----> 9\u001b[0;31m     \u001b[0;32massert\u001b[0m \u001b[0mlen\u001b[0m\u001b[0;34m(\u001b[0m\u001b[0mpoints\u001b[0m\u001b[0;34m)\u001b[0m \u001b[0;34m!=\u001b[0m \u001b[0;36m0\u001b[0m\u001b[0;34m,\u001b[0m \u001b[0;34mf'Lista jest pusta'\u001b[0m\u001b[0;34m\u001b[0m\u001b[0;34m\u001b[0m\u001b[0m\n\u001b[0m\u001b[1;32m     10\u001b[0m     \u001b[0;32mreturn\u001b[0m \u001b[0msum\u001b[0m\u001b[0;34m(\u001b[0m\u001b[0mpoints\u001b[0m\u001b[0;34m)\u001b[0m\u001b[0;34m/\u001b[0m\u001b[0mlen\u001b[0m\u001b[0;34m(\u001b[0m\u001b[0mpoints\u001b[0m\u001b[0;34m)\u001b[0m\u001b[0;34m\u001b[0m\u001b[0;34m\u001b[0m\u001b[0m\n\u001b[1;32m     11\u001b[0m \u001b[0;34m\u001b[0m\u001b[0m\n",
      "\u001b[0;31mAssertionError\u001b[0m: Lista jest pusta"
     ]
    }
   ],
   "source": [
    "def avg(points):\n",
    "    assert len(points) != 0, f'Lista jest pusta'\n",
    "    return sum(points)/len(points)\n",
    "\n",
    "p = []\n",
    "print(\"Average of mark1:\",avg(p))"
   ]
  },
  {
   "cell_type": "markdown",
   "metadata": {},
   "source": [
    "## Zad.2: Sprawdzanie i zgłaszanie wyjątków  - assert  <a name=\"zad2\"></a>\n",
    "Napisać fragment programu, który pyta uzytkownika o imię, nazwisko i wiek.\n",
    "Instrukcją assert należy sprawdzac podawane przez użytkownika dane sprawdzając typ zmiennych"
   ]
  },
  {
   "cell_type": "code",
   "execution_count": 2,
   "metadata": {},
   "outputs": [
    {
     "name": "stdout",
     "output_type": "stream",
     "text": [
      "podaj imię: ola\n",
      "podaj imię: kowalska\n",
      "podaj wiek: 25\n"
     ]
    }
   ],
   "source": [
    "imie = input('podaj imię: ')\n",
    "assert imie.isalpha(), 'Podana wartość imie nie jest napisem'\n",
    "nazwisko = input('podaj imię: ')\n",
    "assert nazwisko.isalpha(), 'Podana wartość nazwisko nie jest napisem'\n",
    "wiek = input('podaj wiek: ')\n",
    "assert wiek.isdigit(), 'Podana wartość wiek nie jest liczbą'"
   ]
  },
  {
   "cell_type": "markdown",
   "metadata": {},
   "source": [
    "## Zad.3: Sprawdzanie i zgłaszanie wyjątków  - assert, f-string <a name=\"zad3\"></a>\n",
    "\n",
    "Napisz funkcję która przyjmuje 3 argumenty (a, b, c) i zwraca ich sumę. Następnie korzystając z instrukcji assert sprawdź czy podane argumenty spełniają poniżej zdefiniowane założenia programu. Zdefinuj stosowny komunikat dla każdego błędu asercji (AssertionError). W definiowaniu komunikatu należy wykorzystać metodę f-string i treść komunikatu oraz wartość sprawdzanego argumentu  Podane wartości argumentów powinny spełniać warunki:\n",
    "    \n",
    "    a jest liczbą całkowitą,\n",
    "    b jest liczbą nie należącą do przedziału <0,10>,\n",
    "    c jest wartością z listy [10, 20, 30, 40, 50].\n",
    "    \n",
    "**Podpowiedź:** przykładowy komunikat np. Podana warość b = ?? jest poza wymaganycm zakresem."
   ]
  },
  {
   "cell_type": "code",
   "execution_count": null,
   "metadata": {},
   "outputs": [],
   "source": [
    "def myFunction(a,b,c):\n",
    "    assert isinstance(a, int), f\"Oczekiwany int, przekazany {type(a)}\"\n",
    "    assert b <= 0 or b >= 10, f\"Wartość {b} poza oczekiwanym zakresem\"\n",
    "    assert c in [10, 20, 30, 40, 50] , f\"Wartość {c} nie odpowiada wartosciom z listy\"\n",
    "    return(a+b+c)    \n",
    "\n",
    "myFunction(2, 12 , 10)"
   ]
  },
  {
   "cell_type": "code",
   "execution_count": 1,
   "metadata": {},
   "outputs": [
    {
     "ename": "FileNotFoundError",
     "evalue": "[Errno 2] No such file or directory: 'nie_ma _mnie.txt'",
     "output_type": "error",
     "traceback": [
      "\u001b[0;31m---------------------------------------------------------------------------\u001b[0m",
      "\u001b[0;31mFileNotFoundError\u001b[0m                         Traceback (most recent call last)",
      "\u001b[0;32m<ipython-input-1-9d1099816034>\u001b[0m in \u001b[0;36m<module>\u001b[0;34m\u001b[0m\n\u001b[0;32m----> 1\u001b[0;31m \u001b[0mf\u001b[0m\u001b[0;34m=\u001b[0m \u001b[0mopen\u001b[0m\u001b[0;34m(\u001b[0m\u001b[0;34m'nie_ma _mnie.txt'\u001b[0m\u001b[0;34m)\u001b[0m\u001b[0;34m\u001b[0m\u001b[0;34m\u001b[0m\u001b[0m\n\u001b[0m",
      "\u001b[0;31mFileNotFoundError\u001b[0m: [Errno 2] No such file or directory: 'nie_ma _mnie.txt'"
     ]
    }
   ],
   "source": [
    "f= open('nie_ma _mnie.txt')"
   ]
  },
  {
   "cell_type": "markdown",
   "metadata": {},
   "source": [
    "## Zad. 4: Obsługa wyjątków w programach Pythona -- zwiększenie niezawodności programów <a name=\"zad6\"></a>\n",
    "Poniższy program nie jest wystarczająco niezawodny, możemy łatwo spowodować 'awarię' (crash). Przyjżyj się każdej funkcji i zastanów się jakie mogą być wyjątkowe przypadki awari programu.\n",
    "Popraw kod tak aby program był niezawodny.\n",
    "Skorzysstaj z klauzuli `try...except...`"
   ]
  },
  {
   "cell_type": "code",
   "execution_count": 6,
   "metadata": {},
   "outputs": [
    {
     "name": "stdout",
     "output_type": "stream",
     "text": [
      "enter a number: 5\n",
      "enter another number: 6\n",
      "5 / 6 = 0.8333333333333334\n",
      "enter a number: 5\n",
      "enter another number: 4\n",
      "5 / 4 = 1.25\n",
      "enter a number: 45\n",
      "enter another number: 0\n"
     ]
    },
    {
     "ename": "ZeroDivisionError",
     "evalue": "division by zero",
     "output_type": "error",
     "traceback": [
      "\u001b[0;31m---------------------------------------------------------------------------\u001b[0m",
      "\u001b[0;31mZeroDivisionError\u001b[0m                         Traceback (most recent call last)",
      "\u001b[0;32m<ipython-input-6-16e76881b7ae>\u001b[0m in \u001b[0;36m<module>\u001b[0;34m\u001b[0m\n\u001b[1;32m     33\u001b[0m     \u001b[0mprintUpperFile\u001b[0m\u001b[0;34m(\u001b[0m \u001b[0;34m\"./Dessssktop/misspelled.txt\"\u001b[0m \u001b[0;34m)\u001b[0m\u001b[0;34m\u001b[0m\u001b[0;34m\u001b[0m\u001b[0m\n\u001b[1;32m     34\u001b[0m \u001b[0;34m\u001b[0m\u001b[0m\n\u001b[0;32m---> 35\u001b[0;31m \u001b[0mmain\u001b[0m\u001b[0;34m(\u001b[0m\u001b[0;34m)\u001b[0m\u001b[0;34m\u001b[0m\u001b[0;34m\u001b[0m\u001b[0m\n\u001b[0m",
      "\u001b[0;32m<ipython-input-6-16e76881b7ae>\u001b[0m in \u001b[0;36mmain\u001b[0;34m()\u001b[0m\n\u001b[1;32m     24\u001b[0m \u001b[0;34m\u001b[0m\u001b[0m\n\u001b[1;32m     25\u001b[0m \u001b[0;32mdef\u001b[0m \u001b[0mmain\u001b[0m\u001b[0;34m(\u001b[0m\u001b[0;34m)\u001b[0m\u001b[0;34m:\u001b[0m\u001b[0;34m\u001b[0m\u001b[0;34m\u001b[0m\u001b[0m\n\u001b[0;32m---> 26\u001b[0;31m     \u001b[0mexample1\u001b[0m\u001b[0;34m(\u001b[0m\u001b[0;34m)\u001b[0m\u001b[0;34m\u001b[0m\u001b[0;34m\u001b[0m\u001b[0m\n\u001b[0m\u001b[1;32m     27\u001b[0m     \u001b[0mL\u001b[0m \u001b[0;34m=\u001b[0m \u001b[0;34m[\u001b[0m \u001b[0;36m10\u001b[0m\u001b[0;34m,\u001b[0m \u001b[0;36m3\u001b[0m\u001b[0;34m,\u001b[0m \u001b[0;36m5\u001b[0m\u001b[0;34m,\u001b[0m \u001b[0;36m6\u001b[0m\u001b[0;34m,\u001b[0m \u001b[0;36m9\u001b[0m\u001b[0;34m,\u001b[0m \u001b[0;36m3\u001b[0m \u001b[0;34m]\u001b[0m\u001b[0;34m\u001b[0m\u001b[0;34m\u001b[0m\u001b[0m\n\u001b[1;32m     28\u001b[0m     \u001b[0mexample2\u001b[0m\u001b[0;34m(\u001b[0m \u001b[0mL\u001b[0m \u001b[0;34m)\u001b[0m\u001b[0;34m\u001b[0m\u001b[0;34m\u001b[0m\u001b[0m\n",
      "\u001b[0;32m<ipython-input-6-16e76881b7ae>\u001b[0m in \u001b[0;36mexample1\u001b[0;34m()\u001b[0m\n\u001b[1;32m      5\u001b[0m         \u001b[0mx\u001b[0m \u001b[0;34m=\u001b[0m \u001b[0mint\u001b[0m\u001b[0;34m(\u001b[0m \u001b[0minput\u001b[0m\u001b[0;34m(\u001b[0m \u001b[0;34m\"enter a number: \"\u001b[0m \u001b[0;34m)\u001b[0m \u001b[0;34m)\u001b[0m\u001b[0;34m\u001b[0m\u001b[0;34m\u001b[0m\u001b[0m\n\u001b[1;32m      6\u001b[0m         \u001b[0my\u001b[0m \u001b[0;34m=\u001b[0m \u001b[0mint\u001b[0m\u001b[0;34m(\u001b[0m \u001b[0minput\u001b[0m\u001b[0;34m(\u001b[0m \u001b[0;34m\"enter another number: \"\u001b[0m \u001b[0;34m)\u001b[0m \u001b[0;34m)\u001b[0m\u001b[0;34m\u001b[0m\u001b[0;34m\u001b[0m\u001b[0m\n\u001b[0;32m----> 7\u001b[0;31m         \u001b[0mprint\u001b[0m\u001b[0;34m(\u001b[0m \u001b[0mx\u001b[0m\u001b[0;34m,\u001b[0m \u001b[0;34m'/'\u001b[0m\u001b[0;34m,\u001b[0m \u001b[0my\u001b[0m\u001b[0;34m,\u001b[0m \u001b[0;34m'='\u001b[0m\u001b[0;34m,\u001b[0m \u001b[0mx\u001b[0m\u001b[0;34m/\u001b[0m\u001b[0my\u001b[0m \u001b[0;34m)\u001b[0m\u001b[0;34m\u001b[0m\u001b[0;34m\u001b[0m\u001b[0m\n\u001b[0m\u001b[1;32m      8\u001b[0m \u001b[0;34m\u001b[0m\u001b[0m\n\u001b[1;32m      9\u001b[0m \u001b[0;32mdef\u001b[0m \u001b[0mexample2\u001b[0m\u001b[0;34m(\u001b[0m \u001b[0mL\u001b[0m \u001b[0;34m)\u001b[0m\u001b[0;34m:\u001b[0m\u001b[0;34m\u001b[0m\u001b[0;34m\u001b[0m\u001b[0m\n",
      "\u001b[0;31mZeroDivisionError\u001b[0m: division by zero"
     ]
    }
   ],
   "source": [
    "# zawodny kod:\n",
    "def example1():\n",
    "    for i in range( 3 ):\n",
    "        x = int( input( \"enter a number: \" ) )\n",
    "        y = int( input( \"enter another number: \" ) )\n",
    "        print( x, '/', y, '=', x/y )\n",
    "\n",
    "def example2( L ):\n",
    "    print( \"\\n\\nExample 2\" )\n",
    "    sum = 0\n",
    "    sumOfPairs = []\n",
    "    for i in range( len( L ) ):\n",
    "        sumOfPairs.append( L[i]+L[i+1] )\n",
    "\n",
    "    print( \"sumOfPairs = \", sumOfPairs )\n",
    "\n",
    "\n",
    "def printUpperFile(fileName ):\n",
    "   file = open( fileName, \"r\" )\n",
    "   for line in file:\n",
    "       print( line.upper() )\n",
    "   file.close()\n",
    "    \n",
    "def main():\n",
    "    example1()\n",
    "    L = [ 10, 3, 5, 6, 9, 3 ]\n",
    "    example2( L )\n",
    "    example2( [ 10, 3, 5, 6, \"NA\", 3 ] )\n",
    "    example3( [ 10, 3, 5, 6 ] )\n",
    "\n",
    "    printUpperFile( \"doesNotExistYest.txt\" )\n",
    "    printUpperFile( \"./Dessssktop/misspelled.txt\" )\n",
    "\n",
    "main()\n"
   ]
  },
  {
   "cell_type": "code",
   "execution_count": 9,
   "metadata": {},
   "outputs": [
    {
     "name": "stdout",
     "output_type": "stream",
     "text": [
      "enter a number: 5\n",
      "enter another number: 45\n",
      "5 / 45 = 0.1111111111111111\n",
      "\n",
      "\n",
      "Example 2\n",
      "L          =  [10, 3, 5, 6, 9, 3]\n",
      "sumOfPairs =  [13, 8, 11, 15, 12]\n",
      "\n",
      "\n",
      "Example 2\n",
      "L          =  [10, 3, 5, 6, 'NA', 3]\n",
      "sumOfPairs =  [13, 8, 11]\n",
      "***Error*** File doesNotExistYest.txt not found!\n",
      "***Error*** File ./Dessssktop/misspelled.txt not found!\n"
     ]
    }
   ],
   "source": [
    "# niezawodny kod:\n",
    "def example1():\n",
    "    while True:\n",
    "       try:\n",
    "            x = int( input( \"enter a number: \" ) )\n",
    "            y = int( input( \"enter another number: \" ) )\n",
    "            print( x, '/', y, '=', x/y )\n",
    "            break\n",
    "       except ZeroDivisionError:\n",
    "            print( \"Can't divide by 0!\" )\n",
    "       except ValueError:\n",
    "            print( \"That doesn't look like a number!\" )\n",
    "       except:\n",
    "            print( \"something unexpected happend!\" )\n",
    "            \n",
    "            \n",
    "def example2( L ):\n",
    "    print( \"\\n\\nExample 2\" )\n",
    "    print( \"L          = \", L )\n",
    "    sum = 0\n",
    "    sumOfPairs = []\n",
    "    for i in range( len( L ) ):\n",
    "            try:\n",
    "                sumOfPairs.append( L[i]+L[i+1] )\n",
    "            except IndexError:\n",
    "                continue\n",
    "            except TypeError:\n",
    "                continue\n",
    "    \n",
    "    print( \"sumOfPairs = \", sumOfPairs )\n",
    "\n",
    "def printUpperFile( fileName ):\n",
    "    try:\n",
    "       file = open( fileName, \"r\" )\n",
    "    except FileNotFoundError:\n",
    "       print( \"***Error*** File\", fileName, \"not found!\" )\n",
    "       return False\n",
    "    \n",
    "    for line in file:\n",
    "        print( line.upper() )\n",
    "    file.close()\n",
    "    return True\n",
    "    \n",
    "def main():\n",
    "    example1()\n",
    "    L = [ 10, 3, 5, 6, 9, 3 ]\n",
    "    example2( L )\n",
    "    example2( [ 10, 3, 5, 6, \"NA\", 3 ] )\n",
    "\n",
    "    printUpperFile( \"doesNotExistYest.txt\" )\n",
    "    printUpperFile( \"./Dessssktop/misspelled.txt\" )\n",
    "\n",
    "main()"
   ]
  },
  {
   "cell_type": "markdown",
   "metadata": {},
   "source": [
    "## Zad. 5: Zgłaszanie i obsługa 'własnego wyjątku' -- klasa wyjątku, try/exept <a name=\"zad4\"></a>\n",
    "Napisz program który prosi użytkownika o wprowadzenie fragmentu tekstu,\n",
    "Następnie za pomoca klauzuli `try/except` zweryfikuj długośc wprowadzanego tekstu. \n",
    "Zgłaszaj wyjątek dla tekstu krótrzego od 3 znaków - Zdefinuj klasę wyjatku dla krótkiego wpisu.\n",
    "\n",
    "**Uwaga:** Zadanie demonstracyjne, temat programowania obiektowego do omówienia na nastepnych zajęciach"
   ]
  },
  {
   "cell_type": "code",
   "execution_count": 2,
   "metadata": {},
   "outputs": [
    {
     "name": "stdout",
     "output_type": "stream",
     "text": [
      "Wpisz coś ---> dw\n",
      "WyjatekKrotkiegoWpisu: Wpis miał długosc 2, wymagane conajmniej 3\n"
     ]
    }
   ],
   "source": [
    "#info: https://docs.python.org/3/library/exceptions.html#bltin-exceptions\n",
    "# Exception: All built-in, non-system-exiting exceptions are derived from this class. \n",
    "# All user-defined exceptions should also be derived from this class.\n",
    "\n",
    "class WyjatekKrotkiegoWpisu(Exception):\n",
    "    '''Klasa wyjatku zdefiniowana przez uzytkownika'''\n",
    "    def __init__(self, dlugosc, conajmniej):\n",
    "        Exception.__init__(self) # wywołanie superklasy Exceptions\n",
    "        self.dlugosc = dlugosc\n",
    "        self.conajmniej = conajmniej\n",
    "        \n",
    "        \n",
    "try:\n",
    "    tekst = input ('Wpisz coś ---> ')\n",
    "    if len(tekst) < 3:\n",
    "        raise WyjatekKrotkiegoWpisu(len(tekst), 3)\n",
    "    # dalsza część kodu jesli jest .....\n",
    "except EOFError: # przy użyciu input\n",
    "    print('Dlaczego uzyłeś znaku końca pliku?')\n",
    "except WyjatekKrotkiegoWpisu as wkw:\n",
    "    print(f'WyjatekKrotkiegoWpisu: Wpis miał długosc {wkw.dlugosc}, wymagane conajmniej {wkw.conajmniej}')\n",
    "    \n",
    "else:\n",
    "     print('Żaden wyjatek nie został zgloszony.')"
   ]
  },
  {
   "cell_type": "markdown",
   "metadata": {},
   "source": [
    "## Zad. 6: Zgłaszanie i obsługa 'własnego wyjątku' -- klasa wyjątku, try/ecxept <a name=\"zad5\"></a>\n",
    "Napisz program, który prosi użytkownika o wprowadzenie wieku,\n",
    "Następnie za pomoca klauzuli `try/except` zweryfukuje podane przez użytkownika dane. \n",
    "Program powinien zgłaszać wyjątek dla wieku poza przedziałem 1-100 lat - należy zdefiniować klasę wyjatku dla krótkiego wpisu."
   ]
  },
  {
   "cell_type": "code",
   "execution_count": 6,
   "metadata": {},
   "outputs": [
    {
     "name": "stdout",
     "output_type": "stream",
     "text": [
      "Wpisz wiek ---> 320\n",
      "WyjatekZakresWieku: Podany wiek owinien być w zakresie od 0 do 100\n",
      "Podany wiek to 320\n"
     ]
    }
   ],
   "source": [
    "class WyjatekZakresWieku(Exception):\n",
    "    '''Klasa wyjatku zdefiniowana przez uzytkownika'''\n",
    "    def __init__(self, wiek, minimum, maksimum):\n",
    "        super().__init__(self) # wywołanie superklasy Exceptions\n",
    "        self.wiek = wiek\n",
    "        self.minimum  = minimum\n",
    "        self.maksimum = maksimum\n",
    "        \n",
    "try:\n",
    "    wiek = input('Wpisz wiek ---> ')   \n",
    "    if int(wiek) <= int(wiek) and int(wiek) >= 100:\n",
    "        raise WyjatekZakresWieku(wiek, 0, 100)\n",
    "except EOFError:\n",
    "    print('Dlaczego uzyłeś znaku końca pliku?')\n",
    "except WyjatekZakresWieku as wzw:\n",
    "    print(f'WyjatekZakresWieku: Podany wiek owinien być w zakresie od {wzw.minimum} do {wzw.maksimum}')  \n",
    "except ValueError:\n",
    "    print('podana wartość nie jest wartością numeryczną, nie można rzutowac na int')\n",
    "else:\n",
    "     print('Żaden wyjatek nie został zgloszony.')\n",
    "finally:\n",
    "    print(f'Podany wiek to {wiek}')"
   ]
  },
  {
   "cell_type": "markdown",
   "metadata": {},
   "source": [
    "## Zad. 7: Wbudowane wyjątki w Pythonie  <a name=\"zad7\"></a>\n",
    "Napisać fragment kodu, który zgłosi wyjątek z listy wyjatków podanych tutaj: https://www.tutorialspoint.com/python3/standard_exceptions.htm\n",
    "\n",
    "Dla zgłoszenia każdego wyjatku należy przygotowac fragment kodu w oddzielnej komórce (w nagłówku kompórki powinien znajdować się komentarz z nazwą wyjątku). \n"
   ]
  },
  {
   "cell_type": "code",
   "execution_count": 3,
   "metadata": {},
   "outputs": [
    {
     "ename": "IndexError",
     "evalue": "list index out of range",
     "output_type": "error",
     "traceback": [
      "\u001b[0;31m---------------------------------------------------------------------------\u001b[0m",
      "\u001b[0;31mIndexError\u001b[0m                                Traceback (most recent call last)",
      "\u001b[0;32m<ipython-input-3-8016e6dde89b>\u001b[0m in \u001b[0;36m<module>\u001b[0;34m\u001b[0m\n\u001b[1;32m      1\u001b[0m \u001b[0ma\u001b[0m \u001b[0;34m=\u001b[0m \u001b[0;34m[\u001b[0m\u001b[0;36m1\u001b[0m\u001b[0;34m,\u001b[0m \u001b[0;36m2\u001b[0m\u001b[0;34m,\u001b[0m \u001b[0;36m3\u001b[0m\u001b[0;34m,\u001b[0m \u001b[0;36m40\u001b[0m\u001b[0;34m]\u001b[0m\u001b[0;34m\u001b[0m\u001b[0;34m\u001b[0m\u001b[0m\n\u001b[0;32m----> 2\u001b[0;31m \u001b[0mb\u001b[0m \u001b[0;34m=\u001b[0m \u001b[0ma\u001b[0m\u001b[0;34m[\u001b[0m\u001b[0;36m8\u001b[0m\u001b[0;34m]\u001b[0m\u001b[0;34m\u001b[0m\u001b[0;34m\u001b[0m\u001b[0m\n\u001b[0m",
      "\u001b[0;31mIndexError\u001b[0m: list index out of range"
     ]
    }
   ],
   "source": [
    "a = [1, 2, 3, 40]\n",
    "b = a[8]"
   ]
  },
  {
   "cell_type": "code",
   "execution_count": 2,
   "metadata": {},
   "outputs": [
    {
     "ename": "TypeError",
     "evalue": "unsupported operand type(s) for +: 'int' and 'str'",
     "output_type": "error",
     "traceback": [
      "\u001b[0;31m---------------------------------------------------------------------------\u001b[0m",
      "\u001b[0;31mTypeError\u001b[0m                                 Traceback (most recent call last)",
      "\u001b[0;32m<ipython-input-2-1daa4773f508>\u001b[0m in \u001b[0;36m<module>\u001b[0;34m\u001b[0m\n\u001b[1;32m      1\u001b[0m \u001b[0ma\u001b[0m \u001b[0;34m=\u001b[0m \u001b[0;36m2\u001b[0m\u001b[0;34m\u001b[0m\u001b[0;34m\u001b[0m\u001b[0m\n\u001b[1;32m      2\u001b[0m \u001b[0mb\u001b[0m \u001b[0;34m=\u001b[0m \u001b[0;34m'5'\u001b[0m\u001b[0;34m\u001b[0m\u001b[0;34m\u001b[0m\u001b[0m\n\u001b[0;32m----> 3\u001b[0;31m \u001b[0mb\u001b[0m \u001b[0;34m=\u001b[0m \u001b[0ma\u001b[0m \u001b[0;34m+\u001b[0m \u001b[0mb\u001b[0m\u001b[0;34m\u001b[0m\u001b[0;34m\u001b[0m\u001b[0m\n\u001b[0m",
      "\u001b[0;31mTypeError\u001b[0m: unsupported operand type(s) for +: 'int' and 'str'"
     ]
    }
   ],
   "source": [
    "a = 2\n",
    "b = '5'\n",
    "b = a + b"
   ]
  },
  {
   "cell_type": "code",
   "execution_count": 8,
   "metadata": {},
   "outputs": [
    {
     "ename": "ValueError",
     "evalue": "could not convert string to float: 'ola'",
     "output_type": "error",
     "traceback": [
      "\u001b[0;31m---------------------------------------------------------------------------\u001b[0m",
      "\u001b[0;31mValueError\u001b[0m                                Traceback (most recent call last)",
      "\u001b[0;32m<ipython-input-8-ae0c2ad405d2>\u001b[0m in \u001b[0;36m<module>\u001b[0;34m\u001b[0m\n\u001b[1;32m      1\u001b[0m \u001b[0ma\u001b[0m \u001b[0;34m=\u001b[0m \u001b[0;36m2\u001b[0m\u001b[0;34m\u001b[0m\u001b[0;34m\u001b[0m\u001b[0m\n\u001b[1;32m      2\u001b[0m \u001b[0mb\u001b[0m \u001b[0;34m=\u001b[0m \u001b[0;34m'ola'\u001b[0m\u001b[0;34m\u001b[0m\u001b[0;34m\u001b[0m\u001b[0m\n\u001b[0;32m----> 3\u001b[0;31m \u001b[0mb\u001b[0m \u001b[0;34m=\u001b[0m \u001b[0ma\u001b[0m \u001b[0;34m+\u001b[0m \u001b[0mfloat\u001b[0m\u001b[0;34m(\u001b[0m\u001b[0mb\u001b[0m\u001b[0;34m)\u001b[0m\u001b[0;34m\u001b[0m\u001b[0;34m\u001b[0m\u001b[0m\n\u001b[0m",
      "\u001b[0;31mValueError\u001b[0m: could not convert string to float: 'ola'"
     ]
    }
   ],
   "source": [
    "a = 2\n",
    "b = 'ola'\n",
    "b = a + float(b)"
   ]
  },
  {
   "cell_type": "code",
   "execution_count": 9,
   "metadata": {},
   "outputs": [
    {
     "ename": "NameError",
     "evalue": "name 'k' is not defined",
     "output_type": "error",
     "traceback": [
      "\u001b[0;31m---------------------------------------------------------------------------\u001b[0m",
      "\u001b[0;31mNameError\u001b[0m                                 Traceback (most recent call last)",
      "\u001b[0;32m<ipython-input-9-0b676f910e1e>\u001b[0m in \u001b[0;36m<module>\u001b[0;34m\u001b[0m\n\u001b[1;32m      2\u001b[0m \u001b[0my\u001b[0m \u001b[0;34m=\u001b[0m \u001b[0;36m3\u001b[0m\u001b[0;34m\u001b[0m\u001b[0;34m\u001b[0m\u001b[0m\n\u001b[1;32m      3\u001b[0m \u001b[0;34m\u001b[0m\u001b[0m\n\u001b[0;32m----> 4\u001b[0;31m \u001b[0mz\u001b[0m \u001b[0;34m=\u001b[0m \u001b[0mx\u001b[0m\u001b[0;34m+\u001b[0m\u001b[0my\u001b[0m\u001b[0;34m+\u001b[0m\u001b[0mk\u001b[0m\u001b[0;34m\u001b[0m\u001b[0;34m\u001b[0m\u001b[0m\n\u001b[0m",
      "\u001b[0;31mNameError\u001b[0m: name 'k' is not defined"
     ]
    }
   ],
   "source": [
    "x = 2\n",
    "y = 3\n",
    "\n",
    "z = x+y+k"
   ]
  },
  {
   "cell_type": "code",
   "execution_count": 10,
   "metadata": {},
   "outputs": [
    {
     "ename": "KeyError",
     "evalue": "'klucz1'",
     "output_type": "error",
     "traceback": [
      "\u001b[0;31m---------------------------------------------------------------------------\u001b[0m",
      "\u001b[0;31mKeyError\u001b[0m                                  Traceback (most recent call last)",
      "\u001b[0;32m<ipython-input-10-94e1a438a855>\u001b[0m in \u001b[0;36m<module>\u001b[0;34m\u001b[0m\n\u001b[1;32m      1\u001b[0m \u001b[0mdic1\u001b[0m\u001b[0;34m=\u001b[0m\u001b[0;34m{\u001b[0m\u001b[0;34m}\u001b[0m\u001b[0;34m\u001b[0m\u001b[0;34m\u001b[0m\u001b[0m\n\u001b[0;32m----> 2\u001b[0;31m \u001b[0mdic1\u001b[0m\u001b[0;34m[\u001b[0m\u001b[0;34m'klucz1'\u001b[0m\u001b[0;34m]\u001b[0m\u001b[0;34m\u001b[0m\u001b[0;34m\u001b[0m\u001b[0m\n\u001b[0m",
      "\u001b[0;31mKeyError\u001b[0m: 'klucz1'"
     ]
    }
   ],
   "source": [
    "dic1={}\n",
    "dic1['klucz1']"
   ]
  },
  {
   "cell_type": "code",
   "execution_count": 7,
   "metadata": {},
   "outputs": [
    {
     "name": "stdout",
     "output_type": "stream",
     "text": [
      "Zmienna x nie zostala zdefiniowana\n"
     ]
    }
   ],
   "source": [
    "try:\n",
    "  print(x)\n",
    "except NameError:\n",
    "  print(\"Zmienna x nie zostala zdefiniowana\")\n",
    "else:\n",
    "  print(\"Klauzula 'try except' została zakonczona\")"
   ]
  },
  {
   "cell_type": "code",
   "execution_count": null,
   "metadata": {},
   "outputs": [],
   "source": []
  },
  {
   "cell_type": "code",
   "execution_count": 5,
   "metadata": {},
   "outputs": [
    {
     "ename": "NameError",
     "evalue": "name 'x' is not defined",
     "output_type": "error",
     "traceback": [
      "\u001b[0;31m---------------------------------------------------------------------------\u001b[0m",
      "\u001b[0;31mNameError\u001b[0m                                 Traceback (most recent call last)",
      "\u001b[0;32m<ipython-input-5-fc17d851ef81>\u001b[0m in \u001b[0;36m<module>\u001b[0;34m\u001b[0m\n\u001b[0;32m----> 1\u001b[0;31m \u001b[0mprint\u001b[0m\u001b[0;34m(\u001b[0m\u001b[0mx\u001b[0m\u001b[0;34m)\u001b[0m\u001b[0;34m\u001b[0m\u001b[0;34m\u001b[0m\u001b[0m\n\u001b[0m",
      "\u001b[0;31mNameError\u001b[0m: name 'x' is not defined"
     ]
    }
   ],
   "source": [
    "print(x)\n"
   ]
  },
  {
   "cell_type": "code",
   "execution_count": 6,
   "metadata": {},
   "outputs": [
    {
     "data": {
      "text/plain": [
       "'Hellogorąco !'"
      ]
     },
     "execution_count": 6,
     "metadata": {},
     "output_type": "execute_result"
    }
   ],
   "source": [
    "class Welcome(object):\n",
    "    def hello(self):\n",
    "        return 'Hello'\n",
    "class WarmWelcome(Welcome):\n",
    "    def hello(self):\n",
    "        return Welcome.hello(self) + \"serdecznie\"\n",
    "class HeartyWelcome(Welcome):\n",
    "    def hello(self):\n",
    "        return super(HeartyWelcome, self).hello() + \"gorąco !\"\n",
    "\n",
    "WarmWelcome().hello()    # >>> Witaj serdecznie\n",
    "HeartyWelcome().hello() # >>> Wwitaj gorąco !"
   ]
  },
  {
   "cell_type": "code",
   "execution_count": null,
   "metadata": {},
   "outputs": [],
   "source": []
  },
  {
   "cell_type": "code",
   "execution_count": null,
   "metadata": {},
   "outputs": [],
   "source": []
  }
 ],
 "metadata": {
  "kernelspec": {
   "display_name": "Python 3",
   "language": "python",
   "name": "python3"
  },
  "language_info": {
   "codemirror_mode": {
    "name": "ipython",
    "version": 3
   },
   "file_extension": ".py",
   "mimetype": "text/x-python",
   "name": "python",
   "nbconvert_exporter": "python",
   "pygments_lexer": "ipython3",
   "version": "3.8.8"
  }
 },
 "nbformat": 4,
 "nbformat_minor": 2
}
