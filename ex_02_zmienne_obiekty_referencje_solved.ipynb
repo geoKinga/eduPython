{
 "cells": [
  {
   "cell_type": "raw",
   "metadata": {},
   "source": [
    "| **Kinga Węzka** <BR> kinga.wezka@pw.edu.pl  <BR> Warsaw University of Technology <BR> Faculty Geodesy and Cartography <BR> Plac Politechniki 1 (room 38)<BR> 00-661 Warszawa, POLAND<BR> <A href=\"https://www.google.com/maps/place/Gmach+G%C5%82%C3%B3wny+Politechniki+Warszawskiej/@52.220656,21.0094422,19z/data=!3m1!4b1!4m5!3m4!1s0x471ecce951c85a19:0x712b0e1503c42b91!8m2!3d52.220656!4d21.0099894\"> N 52&ordm; 12' 45&quot; / E 21&ordm; 03' 51&quot;</A></B><BR> | <a rel=\"license\" href=\"https://www.pw.edu.pl\"><img alt=\"Politechnika Warszawska\" style=\"border-width:0\" src=\"https://www.pw.edu.pl/design/pw/images/znak-pw.png\" /></a> |\n",
    "|---------------------------------------------------------------------------------------------------------------------------------------------------------------------------------------------------------------------------------------------------------------------------------------------------------------------------------------------------------------------------------------------------------------------------------------------------------------------------|-------------------------------------------------------------------------------------------------------------------------------------------------------------------------|\n",
    "\n",
    "**Informatyka Geodezyjna** (ćwiczenia) -- rok akademicki 2021/2022\n",
    "    \n",
    "**Prowadzący:** Kinga Węzka, \n",
    "    \n",
    "**Ćwiczenia 2: Zmienne, obiekty i referencje**\n",
    "\n",
    "\n",
    "**UWAGA: Odpowiedź na każde pytanie powinna znajdować się w oddzielnej komórce poniżej pytania, z podanym numerem pytania**\n"
   ]
  },
  {
   "cell_type": "markdown",
   "metadata": {},
   "source": [
    "# Spis tresci:\n",
    "\n",
    "\n",
    "1. [Zad. 1: Test ogólny ](#zad1)\n",
    "2. [Zad. 2: Instrukcje wejscia -- input()  i wyjścia  -- print()](#zad2)\n",
    "3. [Zad. 3: Biblioteka math](#zad3)\n",
    "4. [Zad. 4: Liczby zmiennoprzecinkowe](#zad4)\n",
    "5. [Zad. 5: Łańcuchy znaków (string) - typ napisowy](#zad5)\n",
    "6. [Zad. 6: Gratis](#zad6)\n",
    "\n",
    "7. [Zad. 7: Metody Listy](#zad7)\n",
    "8. [Zad. 8: Generowanie Listy - range](#zad8)\n",
    "9. [Zad. 9: Generowanie Listy - indeksowanie i wycinki](#zad9)\n",
    "10. [Zad. 10: Listy: kopia a referencja](#zad10)\n",
    "11. [Zad. 11: Metody słownika](#zad11)\n",
    "12. [Zad. 12: Metody słownika](#zad12)\n",
    "13. [Zad. 13: Metody zbiorów](#zad13)\n",
    "\n"
   ]
  },
  {
   "cell_type": "markdown",
   "metadata": {},
   "source": [
    "## Zad. 1: Test ogólny  <a name=\"zad1\"></a>\n",
    "\n",
    "Sprawdź i odpowiedz na pytania:\n",
    "\n",
    "1a) Pokazano, że przypisanie n = 42 jest poprawne. A co z przypisaniem 42 = n?\n",
    "\n",
    "1b) Jak wygląda sytuacja w przypadku zapisu x = y = 1?, Jakie są typy oraz referencje odniesienia do obiektów a i b?\n",
    "\n",
    "1c) W notacji matematycznej pomnożenie x przez y jest możliwe za pomocą zapisu xy. Co będzie,\n",
    "gdy spróbujesz tego w języku Python?\n",
    "\n",
    "1d) Wymień wszystkie rodzaje typów liczbowych Pythona.\n",
    "\n",
    "1e) Co oznacza pojęcie „niezmienny” i które trzy z podstawowych typów danych Pythona są\n",
    "uznawane za niezmienne?\n",
    "\n",
    "1f) Podaj wynik działania: d = 1 + 23 + 'ala'.\n",
    "\n",
    "1h) Podaj wynik działania: c = 1 + 2.35 +3.98795.\n",
    "\n",
    "1h) Popraw wyrażenie i podaj wynik działania: c = 1 + 2.5 + '3'.\n",
    "\n",
    "1g) Podaj wynik działania (replikacja): x = 3*'tak'.\n",
    "\n",
    "1h) Podaj wynik działania (konkatenacja - łączenie): c = 'hello' + 'world' + '!'."
   ]
  },
  {
   "cell_type": "code",
   "execution_count": null,
   "metadata": {},
   "outputs": [],
   "source": []
  },
  {
   "cell_type": "markdown",
   "metadata": {},
   "source": [
    "## Zad 2a: Instrukcje wejscia -- input()  i wyjścia  -- print()  <a name=\"zad2\"></a>\n",
    "Poproś użytkownika o podanie 2 wartości liczbowych, przypisz je odpowiednio do zmiennej a i b. Następnie wykonaj na podanych wartościach działania (dodawania, odejmowania, mnożenia, dzielenia, potęgowania, dzielenia z zaokrągleniem i resztę z dzielenia).\n",
    "Wyniki każdego działania zwróć z opisem np. dodawanie : uzyskany wynik\n",
    "odejmowanie: uzyskany wynik itd."
   ]
  },
  {
   "cell_type": "markdown",
   "metadata": {},
   "source": [
    "## Zad. 2b: Instrukcje wejscia i wyjścia (przeliczenia konwersje)\n",
    "Utwórz program, który prosi użytkownika o podanie imienia i nazwiska oraz wieku. Wydrukuj zaadresowaną do niego wiadomość, która mówi w którym roku skończy 100 lat."
   ]
  },
  {
   "cell_type": "markdown",
   "metadata": {},
   "source": [
    "## Zad 3: Biblioteka math (przeliczanie jednostek kątowych, funkcje trygonometryczne)  <a name=\"zad3\"></a>\n",
    "\n",
    "3a) Poproś użytkownika o podanie kąta w stopniach i zwróć użytkownikowi wynik w radianach, następnie poproś użytkownika o podanie kąta w radianach i zwróć jego wartość w stopniach. Wyniki obliczeń skontroluj, korzystając z funkcji dostępnych w bibliotece math."
   ]
  },
  {
   "cell_type": "markdown",
   "metadata": {},
   "source": [
    "## Zad. 4: Liczby zmiennoprzecinkowe  <a name=\"zad4\"></a>\n",
    "**Podpowiedź**: Komputery \"liczą\" w systemie binarnym, tj. o podstawie 2 (0,1), a my liczymy w systemie dziesiętnym, czyli o podstawie 10 (0,1,2...8,9). Trzeba uważać na błąd zaokrąglenia. \n",
    "Np: 0.1 jest ułamkiem niewymiernym w systemie dwójkowym.\n",
    "\n",
    "Sprawdź rezultaty poniższych działań. Porównaj wartości podanych zmiennych (wykorzystaj operator `==`)"
   ]
  },
  {
   "cell_type": "code",
   "execution_count": null,
   "metadata": {},
   "outputs": [],
   "source": [
    "a = 0.1 + 0.1\n",
    "b = 0.1 + 0.1 + 0.1\n",
    "c = 0.3\n",
    "print(a == 0.2)\n",
    "print(b == 0.3)\n",
    "print(b == c)\n",
    "print(b)\n",
    "print(c)"
   ]
  },
  {
   "cell_type": "markdown",
   "metadata": {},
   "source": [
    "## Zad. 5: Łańcuchy znaków (string) - typ napisowy <a name=\"zad5\"></a>\n",
    "\n",
    "- zdefinuj dwie zmienne będące łańcuchami znaków: \n",
    "a = 'HELLO'\n",
    "b = 'world'\n",
    "\n",
    "- połącz dwie w nowej zmiennej w zdanie: \n",
    "zdanie = 'Hello World!'\n"
   ]
  },
  {
   "cell_type": "markdown",
   "metadata": {},
   "source": [
    "## Zad. 6: Gratis ;)  <a name=\"zad6\"></a>\n",
    "Sprawdź działanie następujących bibliotek:\n"
   ]
  },
  {
   "cell_type": "code",
   "execution_count": null,
   "metadata": {},
   "outputs": [],
   "source": [
    "import this                       # zwraca: ZEN of Python\n",
    "import antigravity                # zwraca: :)\n",
    "import __hello__                  # zwraca napis: Hello World ...\n",
    "from __future__ import braces     #zwraca: SyntaxError: not a chance"
   ]
  },
  {
   "cell_type": "code",
   "execution_count": 1,
   "metadata": {},
   "outputs": [
    {
     "name": "stdout",
     "output_type": "stream",
     "text": [
      "The Zen of Python, by Tim Peters\n",
      "\n",
      "Beautiful is better than ugly.\n",
      "Explicit is better than implicit.\n",
      "Simple is better than complex.\n",
      "Complex is better than complicated.\n",
      "Flat is better than nested.\n",
      "Sparse is better than dense.\n",
      "Readability counts.\n",
      "Special cases aren't special enough to break the rules.\n",
      "Although practicality beats purity.\n",
      "Errors should never pass silently.\n",
      "Unless explicitly silenced.\n",
      "In the face of ambiguity, refuse the temptation to guess.\n",
      "There should be one-- and preferably only one --obvious way to do it.\n",
      "Although that way may not be obvious at first unless you're Dutch.\n",
      "Now is better than never.\n",
      "Although never is often better than *right* now.\n",
      "If the implementation is hard to explain, it's a bad idea.\n",
      "If the implementation is easy to explain, it may be a good idea.\n",
      "Namespaces are one honking great idea -- let's do more of those!\n"
     ]
    }
   ],
   "source": [
    "import this                       # zwraca: ZEN of Python\n"
   ]
  },
  {
   "cell_type": "markdown",
   "metadata": {},
   "source": [
    "## Zad. 7: Metody listy <a name=\"zad7\"></a>\n",
    "Korzystając z funkcji **dir** wyświetl wszystkie wbudowane metody listy. Korzystając z funkcji **range** zdefinuj listę l = [2,4,6,8,10] a nastepnie korzystając z funkcji **help** zapisz przykład wykorzystania danej metody (bez metod specjalnych).\n",
    "\n",
    "**Pomoc:** https://www.obliczeniowo.com.pl/411"
   ]
  },
  {
   "cell_type": "code",
   "execution_count": 2,
   "metadata": {},
   "outputs": [
    {
     "name": "stdout",
     "output_type": "stream",
     "text": [
      "2\n"
     ]
    }
   ],
   "source": [
    "l = [2,4,6,8,10, 10]\n",
    "\n",
    "print(l.count(10))\n"
   ]
  },
  {
   "cell_type": "code",
   "execution_count": 15,
   "metadata": {},
   "outputs": [
    {
     "name": "stdout",
     "output_type": "stream",
     "text": [
      "[2, 4, 6, 8, 10, 52, 1, 5, 5, [52, 87]]\n"
     ]
    }
   ],
   "source": [
    "# metoda append\n",
    "l.append([52, 87])\n",
    "print(l)"
   ]
  },
  {
   "cell_type": "code",
   "execution_count": 13,
   "metadata": {},
   "outputs": [
    {
     "name": "stdout",
     "output_type": "stream",
     "text": [
      "[2, 4, 6, 8, 10, 52, 1, 5, 5]\n"
     ]
    }
   ],
   "source": [
    "# metode extend\n",
    "l.extend([1, 5, 5])\n",
    "print(l)"
   ]
  },
  {
   "cell_type": "code",
   "execution_count": 32,
   "metadata": {},
   "outputs": [
    {
     "name": "stdout",
     "output_type": "stream",
     "text": [
      "lista na wejsciu [1, 3, 4, 2]\n",
      "lista na wyjściu po wykonaniu metody sort [1, 2, 3, 4]\n"
     ]
    }
   ],
   "source": [
    "# metoda sort\n",
    "lista1 = [1, 3, 4, 2] \n",
    "print('lista na wejsciu', lista1)\n",
    "# Sorting list of Integers in descending \n",
    "lista1.sort(reverse = False) \n",
    "# returned a sorted list  \n",
    "print('lista na wyjściu po wykonaniu metody sort', lista1) \n"
   ]
  },
  {
   "cell_type": "code",
   "execution_count": null,
   "metadata": {},
   "outputs": [],
   "source": [
    "#Pierwszy sposób za pomocą metody reverse:\n",
    "lista = list(range(1,11))\n",
    "lista.reverse()\n",
    "print(lista)"
   ]
  },
  {
   "cell_type": "code",
   "execution_count": null,
   "metadata": {},
   "outputs": [],
   "source": [
    "#Usuwanie dowolnego elementu listy \n",
    "lista = [9, 91, 92, 93, 94, 95]\n",
    "del lista[2]\n",
    "print(lista)\n",
    "lista.remove(5) # metoda wbudowania"
   ]
  },
  {
   "cell_type": "code",
   "execution_count": null,
   "metadata": {},
   "outputs": [],
   "source": [
    "#Usuwanie dowolnego elementu listy wraz z jego zwróceniem za pomocą metody pop:\n",
    "lista = [9, 91, 92, 93, 94]\n",
    "print(lista.pop(2))\n",
    "print(lista)"
   ]
  },
  {
   "cell_type": "code",
   "execution_count": null,
   "metadata": {},
   "outputs": [],
   "source": [
    "# Czyszczenie listy za pomocą metody clear:\n",
    "lista = list(range(1,11))\n",
    "print(lista)\n",
    "lista.clear() # metoda wbudowana\n",
    "print(lista)"
   ]
  },
  {
   "cell_type": "code",
   "execution_count": null,
   "metadata": {},
   "outputs": [],
   "source": [
    "# Kopiowanie listy za pomocą metody copy:\n",
    "\n",
    "lista = list(range(1,11))\n",
    "lista2 = lista.copy() # metoda wbudowana\n",
    "lista2 = lista[:] # również kopia listy\n",
    "lista2.append(10)\n",
    "lista3 = lista\n",
    "lista3[0] = 50\n",
    "print(lista)\n",
    "print(lista2)\n",
    "print(lista3)\n"
   ]
  },
  {
   "cell_type": "code",
   "execution_count": null,
   "metadata": {},
   "outputs": [],
   "source": [
    "# min, max, sum len\n",
    "\n",
    "lista = list(range(1, 11))\n",
    "print(min(lista))\n",
    "print(max(lista))\n",
    "print(sum(lista))"
   ]
  },
  {
   "cell_type": "markdown",
   "metadata": {},
   "source": [
    "## Zad. 8: Generowanie Listy - range <a name=\"zad8\"></a>\n",
    "Korzystając z funkcji **range**, zdefinuj :\n",
    "- listę liczb całkowitych z przedziału  <0 : 20).\n",
    "- listę [0,50,100,150,200]\n",
    "- listę składającą się z list dwóch współrzędnych [x, y] np. a = [[2, 3], [4, 5], [6, 7]], a nastpęnie zapisz odniesienia do współrzędnych y"
   ]
  },
  {
   "cell_type": "code",
   "execution_count": 42,
   "metadata": {},
   "outputs": [
    {
     "name": "stdout",
     "output_type": "stream",
     "text": [
      "[0, 1, 2, 3, 4, 5, 6, 7, 8, 9, 10, 11, 12, 13, 14, 15, 16, 17, 18, 19]\n",
      "[0, 50, 100, 150, 200]\n",
      "3 5 7\n"
     ]
    }
   ],
   "source": [
    "lista1 = list(range(0, 20))\n",
    "print(lista1)\n",
    "\n",
    "lista2 = list(range(0, 201, 50))\n",
    "print(lista2)\n",
    "\n",
    "lista3 = [[2, 3], [4, 5], [6, 7]]\n",
    "\n",
    "y1 = lista3[0][1]\n",
    "y2 = lista3[1][1]\n",
    "y3 = lista3[2][1]\n",
    "print(y1, y2, y3)"
   ]
  },
  {
   "cell_type": "markdown",
   "metadata": {},
   "source": [
    "## Zad. 9: Generowanie Listy - indeksowanie i wycinki <a name=\"zad9\"></a>\n",
    "Korzystając z metody range, wygeneruj listę liczb parzystych z przedziału <0 : 20).\n",
    "\n",
    "a) Do przedostatniego elementu dodaj 1000.\n",
    "\n",
    "b) Pierwszy element zamień na typ łańcucha znaków \"indeks_1\".\n",
    "\n",
    "c) Dla ostatniej wartości z listy wykonaj podstawowe działania arytmetyczne ze zmienną b = 2.5, a nastepnie zwróć je na konsolę.\n",
    "\n",
    "d) Czwarty element zamień na listę składającą się z łańcuchów znaków ['ala', 'hello', 'kot', 'ola', 'world'].\n",
    "\n",
    "e) Korzystając ze zmodyfikowanej w podpunkcie d listy, zwróć wartość będącą łańcuchem znaków 'hello world'."
   ]
  },
  {
   "cell_type": "code",
   "execution_count": 50,
   "metadata": {},
   "outputs": [
    {
     "name": "stdout",
     "output_type": "stream",
     "text": [
      "[0, 2, 4, 6, 8, 10, 12, 14, 16, 18]\n",
      "[1, 3, 5, 7, 9, 11, 13, 15, 17, 19]\n",
      "[0, 2, 4, 6, 8, 10, 12, 14, 1016, 18]\n",
      "['index_1', 2, 4, 6, 8, 10, 12, 14, 1016, 18]\n"
     ]
    }
   ],
   "source": [
    "#\n",
    "parzyste = list(range(0, 20, 2))\n",
    "print(parzyste)\n",
    "\n",
    "nieparzyste = list(range(1, 20, 2))\n",
    "print(nieparzyste)\n",
    "\n",
    "#a \n",
    "parzyste[-2] = parzyste[-2] + 1000\n",
    "print(parzyste)\n",
    "\n",
    "parzyste[0] = 'index_1'\n",
    "print(parzyste)\n",
    "\n"
   ]
  },
  {
   "cell_type": "markdown",
   "metadata": {},
   "source": [
    "## Zad. 10: Listy: kopia a referencja <a name=\"zad10\"></a>"
   ]
  },
  {
   "cell_type": "code",
   "execution_count": 51,
   "metadata": {},
   "outputs": [
    {
     "name": "stdout",
     "output_type": "stream",
     "text": [
      "referencja b = ['help', 'copyright', 'credits', 'license', 'XYZ']\n",
      "referencja a = ['help', 'copyright', 'credits', 'license', 'XYZ']\n",
      "kopia b = ['help', 'copyright', 'credits', 'license', 'XYZ']\n",
      "kopia a = ['help', 'copyright', 'credits', 'license']\n",
      "kopia głeboka b = [[1, 2], [3], [4], 9]\n",
      "kopia głeboka a = [[1, 2], [3], [4]]\n",
      "kopia głeboka c = [[1, 2, 9], [3], [4]]\n"
     ]
    }
   ],
   "source": [
    "from copy import deepcopy\n",
    "\n",
    "# REFERENCJA \n",
    "a = ['help', 'copyright', 'credits', 'license']\n",
    "b = a # referencja \n",
    "b.append('XYZ') # dodajemy tylko do listy b, natomiast zmieniają się również wartości a\n",
    "print('referencja b =', b) # ['help', 'copyright', 'credits', 'license', 'XYZ']\n",
    "print('referencja a =', a) # ['help', 'copyright', 'credits', 'license', 'XYZ']\n",
    "\n",
    "# KOPIA\n",
    "a = ['help', 'copyright', 'credits', 'license']\n",
    "b = a[:]# kopia wartości listy, tworzony jest nowy obiekt\n",
    "b = a.copy()# kopia wartości listy, tworzony jest nowy obiekt\n",
    "#b = deepcopy(a)# \n",
    "b.append('XYZ') \n",
    "print('kopia b =', b) # ['help', 'copyright', 'credits', 'license', 'XYZ']\n",
    "print('kopia a =', a) # ['help', 'copyright', 'credits', 'license', 'XYZ']\n",
    "\n",
    "# KOPIA ELEMENTÓW ZAGNIEŻDŻONYCH\n",
    "a = [[1,2],[3],[4]]\n",
    "b = a[:]\n",
    "b.append(9)\n",
    "c = deepcopy(a) # głęboka kopia, w przypadku list zagnieżdżonych lista list\n",
    "c[0].append(9)\n",
    "\n",
    "print('kopia głeboka b =', b) # [[1, 2], [3], [4], 9]\n",
    "print('kopia głeboka a =', a) # [[1, 2], [3], [4]]\n",
    "print('kopia głeboka c =', c) # [[1, 2, 9], [3], [4]]"
   ]
  },
  {
   "cell_type": "markdown",
   "metadata": {},
   "source": [
    "## Zad. 11: Metody słownika <a name=\"zad11\"></a>\n",
    "Korzystając z funkcji **dir** wyświetl wszystkie wbudowane metody słownika.Nastepnie zdefinuj słownik `s = {'a':1,'b':2, 'c': 3, 'd':4}` nastepnie korzystając z funkcji **help** zapisz przykład wykorzystania danej metody (bez metod specjalnych).\n",
    "\n",
    "**Pomoc:** https://www.obliczeniowo.com.pl/413"
   ]
  },
  {
   "cell_type": "code",
   "execution_count": 59,
   "metadata": {},
   "outputs": [
    {
     "name": "stdout",
     "output_type": "stream",
     "text": [
      "dict_values([2, [1, 2, 3]])\n"
     ]
    }
   ],
   "source": [
    "s = {'a':1,'b':2, 'c': 3, 'd':4}\n",
    "ns = {'klucz1': 2, 'klucz2': [1, 2, 3] }\n",
    "\n",
    "ns['klucz2'][0]\n",
    "print(ns.values())\n",
    "\n"
   ]
  },
  {
   "cell_type": "markdown",
   "metadata": {},
   "source": [
    "#### Odwoływanie się do pojedynczego elementu słownika"
   ]
  },
  {
   "cell_type": "code",
   "execution_count": null,
   "metadata": {},
   "outputs": [],
   "source": [
    "slownik = {\"Ania\":1200, \"Ola\":1300, \"Arek\":3000}\n",
    "print(slowanik[\"Ania\"]) # Poprzez klucz:\n",
    "print(slownik.get(\"Ania\")) # Za pomocą metody wewnętrznej get:"
   ]
  },
  {
   "cell_type": "markdown",
   "metadata": {},
   "source": [
    "#### Dodawanie wpisu, gdy ten nie występuje w słowniku"
   ]
  },
  {
   "cell_type": "code",
   "execution_count": null,
   "metadata": {},
   "outputs": [],
   "source": [
    "slownik = {\"Ania\":1200, \"Ola\":1300, \"Arek\":3000}\n",
    "slownik['nowy_klucz'] = 999 # za pomocą zdefiniowania klucza i \n",
    "slownik.setdefault(\"Arek\",3300) #  za pomocą metody wewnętrznej setdefault."
   ]
  },
  {
   "cell_type": "markdown",
   "metadata": {},
   "source": [
    "### Usuwanie elementu słownika: pop,  popitem.\n"
   ]
  },
  {
   "cell_type": "code",
   "execution_count": null,
   "metadata": {},
   "outputs": [],
   "source": [
    "slownik = {\"Ania\":1200, \"Ola\":1300, \"Arek\":3000}\n",
    "# pop pozwala usunąć wpis w słowniku o podanym kluczu z jednoczesnym zwróceniem samej wartości kryjącej się pod tymże kluczem:\n",
    "print(slownik.pop(\"Ania\"))\n",
    "\n",
    "#popitem pozwala usunąć ostatni wpis słownika z jednoczesnym zwróceniem klucza i wartości w postaci krotki:\n",
    "print(slownik.popitem())\n",
    "\n",
    "#Czyszczenie słownika za pomocą metody wewnętrznej clear\n",
    "slownik.clear()"
   ]
  },
  {
   "cell_type": "markdown",
   "metadata": {},
   "source": [
    "## Zad. 12: Metody słownika <a name=\"zad12\"></a>\n",
    "Zdefinuj słownik z 3 kluczami, gdzie jeden klucz będzie miał nazwę ’moja_lista’ i\n",
    "przypisz do niego wartości dowolnie zdefiniowanej listy.\n",
    "\n",
    "a) Podaj 1-szą wartość słownika której kluczem jest ’moja_lista’.\n",
    "\n",
    "b) Do utworzonego słownika dodaj nowy element klucz:wartość  (nazwa klucza : \"nowy_klucz\" wartość: lista liczb nieparzystych z przedziału <0, 30>."
   ]
  },
  {
   "cell_type": "code",
   "execution_count": 3,
   "metadata": {},
   "outputs": [
    {
     "name": "stdout",
     "output_type": "stream",
     "text": [
      "2\n",
      "{'moja_lista': [2, 3, 4, 5, 6], 'a': 15, 'b': [2, 5, 8], 'nowy_klucz': [1, 3, 5, 7, 9, 11, 13, 15, 17, 19, 21, 23, 25, 27, 29]}\n"
     ]
    }
   ],
   "source": [
    "d = {'moja_lista': [2, 3, 4, 5, 6], 'a': 15, 'b': [2,5,8]} #słownik z 3 kluczami jeden to \"moja_lista\"\n",
    "#a\n",
    "w = d['moja_lista'] # przypisanie wartości klucza 'moja_lista' - wartości klucza są listą więc 'w' stanie się listą \n",
    "print(w[0]) # pierwszy element wartości moja lista \n",
    "\n",
    "parzyste =list(range(1,30,2))\n",
    "d['nowy_klucz'] = parzyste # dodanie do istaniejącego słownika nowego klucza i nowych wartości\n",
    "print(d)"
   ]
  },
  {
   "cell_type": "markdown",
   "metadata": {},
   "source": [
    "## Zad. 13: Metody zbiorów <a name=\"zad13\"></a>\n",
    "Zdefinuj dwa zbiory i wykonaj wszystkie operacje na zbiorach. Wyniki działań przedstaw użytkownikowi (z opisem) korzystając z instrukcji wyjścia. "
   ]
  },
  {
   "cell_type": "code",
   "execution_count": 4,
   "metadata": {},
   "outputs": [
    {
     "name": "stdout",
     "output_type": "stream",
     "text": [
      "[2, 3, 4, 9]\n",
      "[2, 3, 4, 8]\n"
     ]
    }
   ],
   "source": [
    "a =[2, 3,4 ]\n",
    "a.extend(9)\n",
    "print(a)\n",
    "a[-1] =8\n",
    "print(a)"
   ]
  },
  {
   "cell_type": "code",
   "execution_count": null,
   "metadata": {},
   "outputs": [],
   "source": []
  }
 ],
 "metadata": {
  "kernelspec": {
   "display_name": "Python 3",
   "language": "python",
   "name": "python3"
  },
  "language_info": {
   "codemirror_mode": {
    "name": "ipython",
    "version": 3
   },
   "file_extension": ".py",
   "mimetype": "text/x-python",
   "name": "python",
   "nbconvert_exporter": "python",
   "pygments_lexer": "ipython3",
   "version": "3.8.8"
  }
 },
 "nbformat": 4,
 "nbformat_minor": 2
}
