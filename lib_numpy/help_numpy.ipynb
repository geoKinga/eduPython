{
 "cells": [
  {
   "cell_type": "markdown",
   "metadata": {},
   "source": [
    "| **Kinga Węzka** <BR> kinga.wezka@pw.edu.pl  <BR> Warsaw University of Technology <BR> Faculty Geodesy and Cartography <BR> Plac Politechniki 1 (room 38)<BR> 00-661 Warszawa, POLAND<BR> <A href=\"https://www.google.com/maps/place/Gmach+G%C5%82%C3%B3wny+Politechniki+Warszawskiej/@52.220656,21.0094422,19z/data=!3m1!4b1!4m5!3m4!1s0x471ecce951c85a19:0x712b0e1503c42b91!8m2!3d52.220656!4d21.0099894\"> N 52&ordm; 12' 45&quot; / E 21&ordm; 03' 51&quot;</A></B><BR> | <a rel=\"license\" href=\"https://www.pw.edu.pl\"><img alt=\"Politechnika Warszawska\" style=\"border-width:0\" src=\"https://www.pw.edu.pl/design/pw/images/znak-pw.png\" /></a> |\n",
    "|---------------------------------------------------------------------------------------------------------------------------------------------------------------------------------------------------------------------------------------------------------------------------------------------------------------------------------------------------------------------------------------------------------------------------------------------------------------------------|-------------------------------------------------------------------------------------------------------------------------------------------------------------------------|\n",
    "    \n"
   ]
  },
  {
   "cell_type": "markdown",
   "metadata": {},
   "source": [
    "# Spis tresci:\n",
    "\n",
    "1. [Biblioteka NumPy](#wprowadzenie)\n",
    "2. [Tablice ndarray](#sec2)\n",
    "    1. [Tworzenie tablic](#sec2A)\n",
    "    2. [Inspekcja tablic](#sec2B)\n",
    "    3. [Typy danych w tablicy](#sec2C)\n",
    "    4. [Odnoszenie się do elementów](#sec2D)\n",
    "    5. [Fancy indexing - indeksowanie przy pomocy tablic indeksów](#sec2E)\n",
    "3. [Kopia vs referencja](#sec3) \n",
    "4. [Działanie Numpy - Działanie Numpy - funkcje dla wszystkich elementów tablicy ](#sec4) \n",
    "5. [Broadcasting - operacje element po elemencie](#sec5) \n",
    "6. [Operacje logiczne dla tablic](#sec6)\n",
    "7. [Dane NaN lub None](#sec7)\n",
    "8. [Zapisywanie i wczytywanie tablic](#sec8)\n",
    "9. [Zapisywanie i wczytywanie plików tekstowych](#sec9)\n",
    "10. [Manipulacje tablicami](#sec10)\n",
    "    1. [Zmiana kształtu macierzy  - wypłaszczenie](#sec10A)\n",
    "    2. [Dodawanie i usuwanie elementów tablicy (append, insert, delete)](#sec10B)\n",
    "    3. [Łączenie tablic (pionowo, poziomo)](#sec10C)"
   ]
  },
  {
   "cell_type": "markdown",
   "metadata": {},
   "source": [
    "# 1. Biblioteka NumPy  - wprowadzenie<a name=\"wprowadzenie\"></a>\n",
    "Biblioteka NumPy (ang. Numeric Python) jest podstawową biblioteką do obliczeń naukowych w Pytonie. \n",
    "Zapewnia wysokowydajność poprzez zastosowanie obiektów w formie wielowymiarowych tablic i narzędzia do pracy z tymi tablicami.\n",
    "\n",
    "\n",
    "+ Oficjalna strona: http://www.numpy.org/\n",
    "+ Kompletna dokumentacja biblioteki: https://numpy.org/devdocs/reference/index.html\n",
    "+ Lista funkcji (takich jak: sin, cos, etc):  https://numpy.org/doc/stable/reference/ufuncs.html#ufunc"
   ]
  },
  {
   "cell_type": "code",
   "execution_count": 2,
   "metadata": {},
   "outputs": [
    {
     "data": {
      "text/plain": [
       "array([[ 1,  3,  2],\n",
       "       [ 1, 99,  2],\n",
       "       [ 1,  6,  4]])"
      ]
     },
     "execution_count": 2,
     "metadata": {},
     "output_type": "execute_result"
    }
   ],
   "source": [
    "import numpy as np  # importowanie \n",
    "\n",
    "# utworzenie dwówymiarowej tablicy\n",
    "a = np.array([[1, 3,  2], \n",
    "              [1, 99, 2],\n",
    "              [1, 6,  4]])\n",
    "a"
   ]
  },
  {
   "cell_type": "markdown",
   "metadata": {},
   "source": [
    "## 2. Tablice ndarray <a name=\"sec2\"></a>"
   ]
  },
  {
   "cell_type": "markdown",
   "metadata": {},
   "source": [
    "Jeśli  mówimy o danych tablicowwych to dlaczego nie moglibyśmy korzystać z wbudowanego typu zmiennych jakimi są listy. Przecież podstawowa lista daje już jednowymiarową tablicę, a przecież listy można dalej zagnieżdżać tworząc struktury tablic wielowymiarowych np. `moja_lista = [[1, 2], [11, 22], ,[111, 222]]`.\n",
    "\n",
    "Otóź jest jedna podstawowa zaleta tablic nad listami - wydajność. **Operacje na ndarrays są znacznie szybsze i mniej obciążające dla procesorów aniżeli operacje na listach**. Jest to spowodowane sposobem zapisu danych w pamięci. \n",
    "+ W listach **elementy nie muszą być zapisane w pamięci jeden po drugim**. Tak naprawdę lista posiada zapisane referencje (wskaźniki do miejsc w pamięci, gdzie znajdują się realne dane). Przy każdym pobieraniu danych z listy Python robi dwie rzeczy: pobiera wskaźnik, a następnie na jego podstawie pobiera z pamięci wartość. **W listach nie jest wymagane, aby elementy były tego samego typu**, skoro referencja może wskazywać na dowolne miejsce w pamięci, o dowolnym rozmiarze (to akurat jest zaletą list na tablicami ndarray)\n",
    "+ W  tablicach ndarrays **każdy element jest zapisywany w pamięci jeden po drugim**. W tablicach jest również **wymagany ten sam typ danych w całej tablicy** zapewnia to jednakową ilość pamięci potrzebną na zapisanie każdego elementu, przez co wszystkie bloki są jednakowe. Znając typ danych całej tablicy ndarray system od razu wie, gdzie kończy się jeden, a zaczyna kolejny element. Dzięki tej kontynuacji elementów iterowanie po tablicy jest znacznie wydajniejsze, gdyż nie trzeba szukać w pamięci po wskaźnikach.\n",
    "\n",
    "**Dużą zaletą ndarrays nad listami jest również możliwość używania funkcji dla wszystkich elementów tablicy (patrz rozdz. 4) oraz przeprowadzania operacji element po elemencie (patrz rozdz. 5).** Mnożenie czy dodawanie dwóch ndarray powoduje wykonanie operacji pomiędzy każdym odpowiadającym elementem tablicy. Niesie to za sobą wymóg zgodności wymiarów tablicy. Występują od niego jednak wyjątki, o których poniżej.\n",
    "\n",
    "\n",
    "**Wymiary Tablicy Numpy Array**\n",
    "<img alt=\"Politechnika Warszawska\" style=\"border-width:0\" src=\"https://1.bp.blogspot.com/-3P-ULcc-aSc/XwINe8CjKgI/AAAAAAAAFFg/LhApCVa2YqUBlnqDDNW4NudSS398L5gjACLcBGAsYHQ/s1600/NumPy%2Barrays.png\" />\n"
   ]
  },
  {
   "cell_type": "markdown",
   "metadata": {},
   "source": [
    "### 2A. Tworzenie tablicy <a name=\"sec2A\"></a>\n",
    "**Kompletny spis metod tworzenia tablic** dostępny tutaj: https://numpy.org/devdocs/reference/routines.array-creation.html"
   ]
  },
  {
   "cell_type": "markdown",
   "metadata": {},
   "source": [
    "#### a) tworzenie jednowymiarowej tablicy"
   ]
  },
  {
   "cell_type": "code",
   "execution_count": 2,
   "metadata": {},
   "outputs": [
    {
     "name": "stdout",
     "output_type": "stream",
     "text": [
      "<class 'numpy.ndarray'> a= \n",
      " [1 2 3]\n",
      "size  a =  3\n",
      "shape a =  (3,)\n",
      "dim a =  1\n"
     ]
    }
   ],
   "source": [
    "import numpy as np\n",
    "a = np.array([1,2,3])   \n",
    "print(type(a), 'a= \\n', a.view())\n",
    "print('size  a = ', np.size(a))   # liczba elementów tablicy\n",
    "print('shape a = ', np.shape(a))  # wypisanie rozmiarów tablicy \n",
    "print('dim a = ', np.ndim(a))  # wypisanie rozmiarów tablicy "
   ]
  },
  {
   "cell_type": "code",
   "execution_count": 5,
   "metadata": {},
   "outputs": [
    {
     "name": "stdout",
     "output_type": "stream",
     "text": [
      "<class 'numpy.ndarray'> b= \n",
      " [[1 2 3]]\n",
      "size  b =  3\n",
      "shape b =  (1, 3)\n",
      "dim b =  2\n"
     ]
    }
   ],
   "source": [
    "b = np.array([ [1,2,3] ])\n",
    "print(type(b), 'b= \\n', b.view())\n",
    "print('size  b = ', np.size(b))   # liczba elementów tablicy\n",
    "print('shape b = ', np.shape(b))  # wypisanie rozmiarów tablicy \n",
    "print('dim b = ', np.ndim(b))  # wypisanie rozmiarów tablicy "
   ]
  },
  {
   "cell_type": "markdown",
   "metadata": {},
   "source": [
    "#### b) tworzenie dwuwymiarowej tablicy"
   ]
  },
  {
   "cell_type": "code",
   "execution_count": 71,
   "metadata": {},
   "outputs": [
    {
     "name": "stdout",
     "output_type": "stream",
     "text": [
      "[[1 2 3]\n",
      " [4 5 6]]\n",
      "<class 'numpy.ndarray'> c= \n",
      " [[1 2 3]\n",
      " [4 5 6]]\n",
      "size  c =  6\n",
      "shape c =  (2, 3)\n"
     ]
    }
   ],
   "source": [
    "c = np.array([[1,2,3], \n",
    "              [4,5,6]])\n",
    "print(c)\n",
    "print(type(c), 'c= \\n', c.view())\n",
    "print('size  c = ', np.size(c))   # liczba elementów tablicy\n",
    "print('shape c = ', np.shape(c))  # wypisanie rozmiarów tablicy (wiersze, kolumny)\n",
    "print('dim c = ', np.ndim(c))  # wypisanie rozmiarów tablicy "
   ]
  },
  {
   "cell_type": "markdown",
   "metadata": {},
   "source": [
    "#### d) tworzenie wielowymiarowej tablicy"
   ]
  },
  {
   "cell_type": "code",
   "execution_count": 6,
   "metadata": {},
   "outputs": [
    {
     "name": "stdout",
     "output_type": "stream",
     "text": [
      "<class 'numpy.ndarray'> d= \n",
      " [[[ 1. 11.]\n",
      "  [ 2. 12.]]\n",
      "\n",
      " [[ 3. 13.]\n",
      "  [ 4. 14.]]]\n",
      "size  d =  8\n",
      "shape d =  (2, 2, 2)\n",
      "dim d =  3\n"
     ]
    }
   ],
   "source": [
    "d = np.array([[(1, 11), (2, 12)], [(3,13), (4,14)]], dtype = float)\n",
    "print(type(d), 'd= \\n', d.view())\n",
    "print('size  d = ', np.size(d))   # liczba elementów tablicy\n",
    "print('shape d = ', np.shape(d))  # wypisanie rozmiarów tablicy \n",
    "print('dim d = ', np.ndim(d))  # wypisanie rozmiarów tablicy "
   ]
  },
  {
   "cell_type": "code",
   "execution_count": null,
   "metadata": {},
   "outputs": [],
   "source": [
    "# \n",
    "d = np.array([ \n",
    "    [[1, 2, 3],\n",
    "     [4, 5, 6],\n",
    "     [7, 8, 9]],\n",
    "    [[10, 11, 12],\n",
    "     [13, 14, 15],\n",
    "     [16, 17, 18]],\n",
    "    [[111, 112, 113],\n",
    "     [114, 115, 116],\n",
    "     [117, 118, 119]],], dtype = float)\n",
    "\n",
    "# print(d.shape())\n",
    "# print(d.ndim())\n",
    "print(np.shape(d))\n",
    "print(np.ndim(d))\n",
    "\n",
    "print(d[:, 1, 1])"
   ]
  },
  {
   "cell_type": "markdown",
   "metadata": {},
   "source": [
    "#### e) tworzenie tablic inicjalizacyjnych (placeholder, wypełniacze)"
   ]
  },
  {
   "cell_type": "code",
   "execution_count": 73,
   "metadata": {},
   "outputs": [
    {
     "name": "stdout",
     "output_type": "stream",
     "text": [
      "[[0. 0. 0. 0.]\n",
      " [0. 0. 0. 0.]\n",
      " [0. 0. 0. 0.]]\n"
     ]
    }
   ],
   "source": [
    "a = np.zeros((3,4))               # utworzenie tablicy zer o wymiarach (3 wiersze, 4 kolumny)\n",
    "print(a)"
   ]
  },
  {
   "cell_type": "code",
   "execution_count": 74,
   "metadata": {},
   "outputs": [
    {
     "name": "stdout",
     "output_type": "stream",
     "text": [
      "[[1. 1. 1.]\n",
      " [1. 1. 1.]]\n"
     ]
    }
   ],
   "source": [
    "b = np.ones((2,3))                # utworzenie tablicy jedynek o wymiarach (2 wiersze, 3 kolumny)\n",
    "print(b)"
   ]
  },
  {
   "cell_type": "code",
   "execution_count": 75,
   "metadata": {},
   "outputs": [
    {
     "name": "stdout",
     "output_type": "stream",
     "text": [
      "[0.         0.55555556 1.11111111 1.66666667 2.22222222 2.77777778\n",
      " 3.33333333 3.88888889 4.44444444 5.        ]\n"
     ]
    }
   ],
   "source": [
    "c = np.linspace(0, 5, 10)          # utworzenie tablicy: start, stop, ilość wartości\n",
    "print(c)"
   ]
  },
  {
   "cell_type": "code",
   "execution_count": 76,
   "metadata": {},
   "outputs": [
    {
     "name": "stdout",
     "output_type": "stream",
     "text": [
      "[0 1 2 3 4]\n"
     ]
    }
   ],
   "source": [
    "c = np.arange(0, 5, 1)          # utworzenie tablicy: start, stop, interwał\n",
    "print(c)"
   ]
  },
  {
   "cell_type": "code",
   "execution_count": 77,
   "metadata": {},
   "outputs": [
    {
     "name": "stdout",
     "output_type": "stream",
     "text": [
      "[[7 7]\n",
      " [7 7]]\n"
     ]
    }
   ],
   "source": [
    "d = np.full((2,2),7)              # utworzenie tablicy o wymiarach (2x2) wypełnionej liczbą 7\n",
    "print(d)"
   ]
  },
  {
   "cell_type": "code",
   "execution_count": 78,
   "metadata": {},
   "outputs": [
    {
     "name": "stdout",
     "output_type": "stream",
     "text": [
      "[[1. 0.]\n",
      " [0. 1.]]\n"
     ]
    }
   ],
   "source": [
    "e = np.eye(2)                     # utworzenie macierzy jednostkowej (2 wiersze, 2 kolumny) - jedynki na diagonalnej\n",
    "print(e)"
   ]
  },
  {
   "cell_type": "code",
   "execution_count": 79,
   "metadata": {},
   "outputs": [
    {
     "name": "stdout",
     "output_type": "stream",
     "text": [
      "[[0.13328341 0.36673298]\n",
      " [0.78745858 0.24541144]]\n"
     ]
    }
   ],
   "source": [
    "f = np.random.random((2,2))       # utworzenie tablicy z losowymi danymi\n",
    "print(f)"
   ]
  },
  {
   "cell_type": "code",
   "execution_count": 80,
   "metadata": {},
   "outputs": [
    {
     "name": "stdout",
     "output_type": "stream",
     "text": [
      "[[4.9e-324 9.9e-324]\n",
      " [1.5e-323 2.0e-323]\n",
      " [2.5e-323 3.0e-323]]\n"
     ]
    }
   ],
   "source": [
    "g = np.empty((3,2))               # utworzenie pustej tablicy\n",
    "print(g)"
   ]
  },
  {
   "cell_type": "markdown",
   "metadata": {},
   "source": [
    "### 2B. Inspekcja tablic <a name=\"sec2B\"></a>"
   ]
  },
  {
   "cell_type": "markdown",
   "metadata": {},
   "source": [
    "#### a) sprawdzanie zmiana typów danych"
   ]
  },
  {
   "cell_type": "code",
   "execution_count": 81,
   "metadata": {},
   "outputs": [
    {
     "name": "stdout",
     "output_type": "stream",
     "text": [
      "<class 'numpy.ndarray'>\n",
      "[[0. 1. 2. 3.]\n",
      " [0. 1. 2. 3.]\n",
      " [0. 1. 2. 3.]]\n",
      "b.shape : (3, 4)\n",
      "b.size  : 12\n",
      "b.ndim  : 2\n"
     ]
    }
   ],
   "source": [
    "c = np.array([np.arange(4), np.arange(4), np.arange(4)])\n",
    "b = c.astype('float')           # zapisanie kopii tablicy jako tablicy z innym typem \n",
    "print(type(b)) \n",
    "print(b.view())\n",
    "\n",
    "print('b.shape :', b.shape)    # wypisanie rozmiarów tablicy: ZWRACA KTORKE (wiersze, kolumny)\n",
    "print('b.size  :', b.size)     # liczba elementów tablicy\n",
    "print('b.ndim  :', a.ndim)     # można też sprawdzić ilość wymiarów tablicy "
   ]
  },
  {
   "cell_type": "markdown",
   "metadata": {},
   "source": [
    "#### b) sprawdzanie rozmiarów"
   ]
  },
  {
   "cell_type": "code",
   "execution_count": 82,
   "metadata": {},
   "outputs": [
    {
     "name": "stdout",
     "output_type": "stream",
     "text": [
      "[0 1]\n",
      "<class 'numpy.ndarray'>\n",
      "int64\n",
      "[0 1] int64\n",
      "<class 'numpy.ndarray'>\n",
      "[[0. 1. 2. 3.]\n",
      " [0. 1. 2. 3.]\n",
      " [0. 1. 2. 3.]]\n"
     ]
    }
   ],
   "source": [
    "a = np.arange(2); print(a)      # inicjalizacja tablicy \n",
    "print(type(a))                  # wypisanie typu zmiennej tablicy (nie jej elementów) - ndarray \n",
    "print(a.dtype)                  # sprawdzenie typu danych tablicy \n",
    "\n",
    "a = np.arange(2, dtype='int64') # inicjalizacja tablicy z konkretnym typem danych \n",
    "print(a, a.dtype)           \n",
    "\n",
    "c = np.array([np.arange(4), np.arange(4), np.arange(4)])# inicjalizacja tablicy \n",
    "b = c.astype('float')           # zapisanie kopii tablicy jako tablicy z innym typem \n",
    "print(type(b)) \n",
    "print(b.view())"
   ]
  },
  {
   "cell_type": "markdown",
   "metadata": {},
   "source": [
    "###  2C. Typy danych  w tablicy  <a name=\"sec2C\"></a>"
   ]
  },
  {
   "cell_type": "code",
   "execution_count": 83,
   "metadata": {},
   "outputs": [
    {
     "data": {
      "text/plain": [
       "numpy.str_"
      ]
     },
     "execution_count": 83,
     "metadata": {},
     "output_type": "execute_result"
    }
   ],
   "source": [
    "np.int32   # 64-bitowe typy liczb całkowitych\n",
    "np.float64  # zmiennoprzecinkowa z podójna precyzją (double-precision)\n",
    "np.complex  # liczba zespolona reprezentowana przez 128 zmiennoprzecinkową \n",
    "np.bool     # typ logiczny (boolean):  TRUE i FALSE \n",
    "np.object   # pythonowy typ obiektu\n",
    "np.string_  # typ napisowy (string) o stałej długości\n",
    "np.unicode_ # typ unicode o stałej długości"
   ]
  },
  {
   "cell_type": "markdown",
   "metadata": {},
   "source": [
    "### 2D Odnoszenie się do elementów  <a name=\"sec2D\"></a>"
   ]
  },
  {
   "cell_type": "markdown",
   "metadata": {},
   "source": [
    "#### a) wskazanie elementów"
   ]
  },
  {
   "cell_type": "code",
   "execution_count": 84,
   "metadata": {},
   "outputs": [
    {
     "name": "stdout",
     "output_type": "stream",
     "text": [
      "[[1 2 3]\n",
      " [4 5 6]\n",
      " [7 8 9]]\n",
      "shape : (3, 3)\n",
      "wskazany element: 6\n"
     ]
    }
   ],
   "source": [
    "a = np.array([ [1,2,3], [4,5,6], [7, 8, 9] ])\n",
    "print(a.view())\n",
    "print('shape :', np.shape(a))\n",
    "print('wskazany element:', a[1, 2]) # wskazanie elementu"
   ]
  },
  {
   "cell_type": "markdown",
   "metadata": {},
   "source": [
    "#### b) wycięcie fragmentu/zakresu tablicy"
   ]
  },
  {
   "cell_type": "code",
   "execution_count": 85,
   "metadata": {},
   "outputs": [
    {
     "name": "stdout",
     "output_type": "stream",
     "text": [
      "[[1 2 3 4 5]\n",
      " [1 2 3 4 5]\n",
      " [1 2 3 4 5]]\n",
      "shape : (3, 5)\n"
     ]
    },
    {
     "data": {
      "text/plain": [
       "array([[2],\n",
       "       [2],\n",
       "       [2]])"
      ]
     },
     "execution_count": 85,
     "metadata": {},
     "output_type": "execute_result"
    }
   ],
   "source": [
    "a = np.array([ [1,2,3,4,5], [1,2,3,4,5], [1,2,3,4,5] ])\n",
    "print(a.view())\n",
    "print('shape :', np.shape(a))\n",
    "a[0:4, 1:2] # wycięcie fragmentu/zakresu tablicy"
   ]
  },
  {
   "cell_type": "markdown",
   "metadata": {},
   "source": [
    "#### b) wycięcie fragmentu/zakresu tablicy - warunek logiczny"
   ]
  },
  {
   "cell_type": "code",
   "execution_count": 1,
   "metadata": {},
   "outputs": [
    {
     "data": {
      "text/plain": [
       "array([1, 2, 1, 2, 1, 2])"
      ]
     },
     "execution_count": 1,
     "metadata": {},
     "output_type": "execute_result"
    }
   ],
   "source": [
    "import numpy as np\n",
    "a = np.array([ [1,2,3,4,5], [1,2,3,4,5], [1,2,3,4,5] ])\n",
    "a[a<3]\n"
   ]
  },
  {
   "cell_type": "markdown",
   "metadata": {},
   "source": [
    "### 2E Fancy indexing  - indeksowanie przy pomocy tablic indeksów<a name=\"sec2E\"></a>\n",
    "\n",
    "**Fancy indexing**, czyli indeksowanie przy pomocy tablic indeksów, bądź tablic wartości logicznych `True/False`.\n",
    "\n",
    "Najprostszym sposobem użycia fancy indexing jest przekazanie w nawiasach kwadratowych, w miejscu wybieranego indeksu czy wycinka, całej listy indeksów. W ten sposób w nowopowstałej tablicy zostaną zawarte elementy starej, o indeksach odpowiadających wartością przekazanej tablicy."
   ]
  },
  {
   "cell_type": "code",
   "execution_count": 87,
   "metadata": {},
   "outputs": [
    {
     "name": "stdout",
     "output_type": "stream",
     "text": [
      "tablica a:\n",
      " [ 0  2  4  6  8 10 12 14]\n",
      "tablica indeksów:\n",
      " [2 5 0]\n",
      "indeksowania z użycien tablicy indeksów:\n",
      " [ 4 10  0]\n"
     ]
    }
   ],
   "source": [
    "a  = np.arange(8)*2\n",
    "print('tablica a:\\n', a )\n",
    "idx = np.array([2, 5, 0]) # tworzymy tablicę indeksów \n",
    "print('tablica indeksów:\\n', idx )\n",
    "a[idx]\n",
    "print('indeksowania z użycien tablicy indeksów:\\n', a[idx])"
   ]
  },
  {
   "cell_type": "markdown",
   "metadata": {},
   "source": [
    "**Dla przekazanej jako wartość indeksu tablicy wielowymiarowej `idx2`, otrzymamy wynikową tablice wielowymiarową  o kształcie tablicy indeksów `idx`**"
   ]
  },
  {
   "cell_type": "code",
   "execution_count": 88,
   "metadata": {},
   "outputs": [
    {
     "name": "stdout",
     "output_type": "stream",
     "text": [
      "tablica a:\n",
      " [ 0  2  4  6  8 10 12 14]\n",
      "tablica indeksów:\n",
      " [[0 7]\n",
      " [1 3]\n",
      " [4 1]]\n",
      "indeksowania z użycien wielowymiarowe tablicy indeksów:\n",
      " [[ 0 14]\n",
      " [ 2  6]\n",
      " [ 8  2]]\n"
     ]
    }
   ],
   "source": [
    "a  = np.arange(8)*2\n",
    "print('tablica a:\\n', a )\n",
    "idx2 = np.array([[0, 7], [1, 3], [4, 1]]) # tworzymy tablicę indeksów \n",
    "print('tablica indeksów:\\n', idx2 )\n",
    "print('indeksowania z użycien wielowymiarowe tablicy indeksów:\\n', a[idx2])"
   ]
  },
  {
   "cell_type": "markdown",
   "metadata": {},
   "source": [
    "Sprawa wygląda trudniej, gdy chcemy w ten sposób indeksować tablicę dwuwymiarową. \n",
    "\n",
    "Należy w tym celu utworzyć dwie tablice indeksujące, **obie posiadające dokładnie wymiary oczekiwanej tablicy wynikowej**. Pierwsza z nich odpowiada indeksom głównej osi (przy dwuwymiarowej tablicy - osi wierszy), a druga indeksom osi podrzędnej (kolumny).\n",
    "\n",
    "Przy indeksowanych tablicach o większej liczbie wymiarów, należy adekwatnie przekazać więcej tablic indeksujących. Odpowiednio jedna na każdy wymiar."
   ]
  },
  {
   "cell_type": "code",
   "execution_count": 89,
   "metadata": {},
   "outputs": [
    {
     "name": "stdout",
     "output_type": "stream",
     "text": [
      "tablica a:\n",
      " [[0 1 2]\n",
      " [3 4 5]\n",
      " [6 7 8]]\n",
      "tablica wiersze:\n",
      " [[0 2]\n",
      " [1 1]]\n",
      "tablica kolumny:\n",
      " [[0 1]\n",
      " [2 0]]\n",
      "indeksowania :\n",
      " [[0 7]\n",
      " [5 3]]\n"
     ]
    }
   ],
   "source": [
    "a = np.arange(9).reshape(3,3)\n",
    "print('tablica a:\\n', a )\n",
    "\n",
    "wiersze = np.array([[0, 2], [1, 1]])\n",
    "print('tablica wiersze:\\n', wiersze )\n",
    "\n",
    "kolumny = np.array([[0, 1], [2, 0]])\n",
    "print('tablica kolumny:\\n', kolumny )\n",
    "\n",
    "print('indeksowania :\\n', a[wiersze, kolumny])"
   ]
  },
  {
   "cell_type": "markdown",
   "metadata": {},
   "source": [
    "Poza tworzeniem niestandardowych wycinków z tablic metoda ta dobrze działa w nadpisywaniu wartości określonych elementów. Wystarczy, przekazując w nawiasach kwadratowych tablicę indeksów przypisać takiemu wyrażeniu jakąś określoną wartość, a otrzymają ją wszystkie wybrane elementy."
   ]
  },
  {
   "cell_type": "code",
   "execution_count": 90,
   "metadata": {},
   "outputs": [
    {
     "data": {
      "text/plain": [
       "array([ 0, 99, 99,  3])"
      ]
     },
     "execution_count": 90,
     "metadata": {},
     "output_type": "execute_result"
    }
   ],
   "source": [
    "a = np.arange(4)\n",
    "a\n",
    "a[[1, 2]] = 99\n",
    "a"
   ]
  },
  {
   "cell_type": "markdown",
   "metadata": {},
   "source": [
    "##  3. Kopia vs referencja   <a name=\"sec3\"></a>\n",
    "\n",
    "Podobnie jak w przypadku list **przypisanie tworzy referencję a nie kopię**. Więc jeśli do zmiennej `B` przypiszemy tylko wycinek tablicy `A` to wykonują zmiany wartości elementów w tablicy `B` b będziemy wprowadzać zmiany w tablicy `A`.\n",
    "\n",
    "Aby zapobiec takiemu zachowaniu, **dobrą praktyką jest tworzenie kopi tablicy** za pomocą metody **ndarray.copy()**. Tworzy ona tak zwaną głęboką kopię, co oznacza, że tworzony jest nowy obiekt w pamięci, więc referencja obu zmiennych nie wskazuje już na to samo miejsce. Możemy dzięki temu spokojnie wprowadzać zmiany, nie martwiąc się, że zmienimy coś w pierwotnej tablicy."
   ]
  },
  {
   "cell_type": "code",
   "execution_count": null,
   "metadata": {},
   "outputs": [],
   "source": []
  },
  {
   "cell_type": "code",
   "execution_count": 91,
   "metadata": {},
   "outputs": [
    {
     "name": "stdout",
     "output_type": "stream",
     "text": [
      " ___::: Pierwotnia tablica A :::___  \n",
      " [[1 2 3]\n",
      " [4 5 6]\n",
      " [7 8 9]]\n",
      "B przypisanie: \n",
      " [[5 6]\n",
      " [8 9]]\n",
      "Nowe b po przypisaniu:\n",
      " [[999   6]\n",
      " [  8   9]]\n",
      "Nowe a:\n",
      " [[  1   2   3]\n",
      " [  4 999   6]\n",
      " [  7   8   9]]\n",
      " ___::: Pierwotnia tablica C :::___  \n",
      " [[1 2 3]\n",
      " [4 5 6]\n",
      " [7 8 9]]\n",
      "B przypisanie: \n",
      " [[5 6]\n",
      " [8 9]]\n",
      "Nowe b po kopi:\n",
      " [[999   6]\n",
      " [  8   9]]\n",
      "Nowe c po kopi:\n",
      " [[1 2 3]\n",
      " [4 5 6]\n",
      " [7 8 9]]\n"
     ]
    }
   ],
   "source": [
    "import numpy as np\n",
    "\n",
    "# PRZYPISANIE FRAGMENTU TABLICY DO NOWEJ ZMIENNEJ\n",
    "a  = np.arange(1,10).reshape(3,3) # utworzenie tablicy\n",
    "print(\" ___::: Pierwotnia tablica A :::___  \\n\", a)\n",
    "\n",
    "b = a[1:3, 1:3]  # PRZYPISANIE tworzy REFERENCJE (ten sam adres referencyjny w pamięci), a nie kopię\n",
    "print(\"B przypisanie: \\n\", b)\n",
    "\n",
    "b[0,0] = 999\n",
    "print('Nowe b po przypisaniu:\\n', b)\n",
    "print('Nowe a:\\n', a)\n",
    "\n",
    "\n",
    "# PRZYPISANIE FRAGMENTU TABLICY DO NOWEJ ZMIENNEJ\n",
    "c  = np.arange(1,10).reshape(3,3) # utworzenie tablicy\n",
    "print(\" ___::: Pierwotnia tablica C :::___  \\n\", c)\n",
    "\n",
    "b = c[1:3, 1:3].copy()  # KOPIA fragmentu tablicy, kopię całej tablicy można również wykonać: b = c[:, :]\n",
    "print(\"B przypisanie: \\n\", b)\n",
    "\n",
    "b[0,0] = 999\n",
    "print('Nowe b po kopi:\\n', b)\n",
    "print('Nowe c po kopi:\\n', c)"
   ]
  },
  {
   "cell_type": "markdown",
   "metadata": {},
   "source": [
    "## 4. Działanie Numpy - funkcje dla wszystkich elementów tablicy  <a name=\"sec4\"></a>\n",
    "\n",
    "Biblioteka NumPy udostępnia również użytkownikom **zestaw przygotowanych funkcji, które przyjmują tablicę i zwracają wynik działania przeprowadzony element po elemencie, jako tablicę** o tych samych wymiarach. W skrócie nazywane są unfunc od Universal Functions. Możemy dzięki nim przeprowadzić wiele przydatnych operacji jak liczenie potęg, pierwiastków czy wartości funkcji trygonometrycznych.\n",
    "\n",
    "Lista funkcji (takich jak: sin, cos, etc):  https://numpy.org/doc/stable/reference/ufuncs.html#ufunc\n",
    "Większość z funkcji NumPy pozwala również na podanie argumentu który jest wartością skalarną, funkcja zwraca wtedy również wynik obliczeń jako wartość skalarną."
   ]
  },
  {
   "cell_type": "code",
   "execution_count": 92,
   "metadata": {},
   "outputs": [
    {
     "name": "stdout",
     "output_type": "stream",
     "text": [
      "[0.2 0.7 1.2 1.7 2.2 2.7]\n",
      "[0.2  0.64 0.93 0.99 0.81 0.43]\n",
      "0.0015926529164868282\n"
     ]
    }
   ],
   "source": [
    "a = np.arange(0.2, 3.14, 0.5)\n",
    "print(a)\n",
    "\n",
    "asin = np.sin(a) # użycie funkcji sin dla całej tablicy\n",
    "print(np.round(asin,2))\n",
    "\n",
    "bsin = np.sin(3.14)\n",
    "print(bsin)"
   ]
  },
  {
   "cell_type": "markdown",
   "metadata": {},
   "source": [
    "## 5. Broadcasting - operacje element po elemencie  <a name=\"sec5\"></a>\n",
    "**Operacje arytmetyczne na tablicach ndarray sa operacjami element po elemencie** (ang. element wise) między dwoma tablicami."
   ]
  },
  {
   "cell_type": "code",
   "execution_count": 93,
   "metadata": {},
   "outputs": [
    {
     "name": "stdout",
     "output_type": "stream",
     "text": [
      "[2 3 4 5 6]\n"
     ]
    }
   ],
   "source": [
    "a = np.array([1, 2, 3, 4, 5])\n",
    "b = np.array([1, 1, 1, 1, 1])\n",
    "c = a + b\n",
    "print(c)"
   ]
  },
  {
   "cell_type": "markdown",
   "metadata": {},
   "source": [
    "Gdy wykonujemy operację arytmetyczną pomiędzy tablicą a wartością skalarną, powyższe reguły są zachowane. Skalar, mimo iż nie jest tablicą ndarray, jest rozumiany jako tablica o wymiarach (1, 1), stąd też niezależnie od wymiarów drugiej tablicy, można go rozciągnąć do jej wymiarów i przeprowadzić operację element po elemencie."
   ]
  },
  {
   "cell_type": "code",
   "execution_count": 94,
   "metadata": {},
   "outputs": [
    {
     "name": "stdout",
     "output_type": "stream",
     "text": [
      "[2 3 4] \n",
      " [ 4  9 16] \n",
      " [ 8 12 16]\n"
     ]
    }
   ],
   "source": [
    "c = np.arange(2,5)\n",
    "d = c ** 2\n",
    "e = 4 * c\n",
    "print(c,'\\n',d,'\\n',e)"
   ]
  },
  {
   "cell_type": "markdown",
   "metadata": {},
   "source": [
    "**Broadcasting** możemy opisać jako mechanizm wykonywania operacji arytmetycznych **element po elemencie** (ang. element wise** między dwoma tablicami, **w przypadku, gdy tablice nie posiadają tych samych wymiarów**. W bardzo dużym uproszczeniu można to opisać, jako **rozciąganie mniejszej tablicy (kopiowanie kolumn czy wierszy), do momentu, aż wymiary obu tablic będą się zgadzać**. Oczywiście NumPy nie robi żadnego kopiowania, a cały mechanizm dzieje się dzięki iteracją w języku C na zwektoryzowanych tablicach."
   ]
  },
  {
   "cell_type": "code",
   "execution_count": 3,
   "metadata": {},
   "outputs": [
    {
     "name": "stdout",
     "output_type": "stream",
     "text": [
      "f = [0 1 2 3]\n",
      "g = [1. 1. 1.]\n"
     ]
    },
    {
     "ename": "ValueError",
     "evalue": "operands could not be broadcast together with shapes (4,) (3,) ",
     "output_type": "error",
     "traceback": [
      "\u001b[0;31m---------------------------------------------------------------------------\u001b[0m",
      "\u001b[0;31mValueError\u001b[0m                                Traceback (most recent call last)",
      "\u001b[0;32m<ipython-input-3-aa5d3849322b>\u001b[0m in \u001b[0;36m<module>\u001b[0;34m\u001b[0m\n\u001b[1;32m      6\u001b[0m \u001b[0;34m\u001b[0m\u001b[0m\n\u001b[1;32m      7\u001b[0m \u001b[0;31m# dodawanie tablic o różnych wymiarach\u001b[0m\u001b[0;34m\u001b[0m\u001b[0;34m\u001b[0m\u001b[0;34m\u001b[0m\u001b[0m\n\u001b[0;32m----> 8\u001b[0;31m \u001b[0mh\u001b[0m \u001b[0;34m=\u001b[0m \u001b[0mf\u001b[0m \u001b[0;34m+\u001b[0m \u001b[0mg\u001b[0m \u001b[0;31m# < błąd !!  ValueError: operands could not be broadcast together with shapes (4,) (3,)\u001b[0m\u001b[0;34m\u001b[0m\u001b[0;34m\u001b[0m\u001b[0m\n\u001b[0m\u001b[1;32m      9\u001b[0m \u001b[0mprint\u001b[0m\u001b[0;34m(\u001b[0m\u001b[0mh\u001b[0m\u001b[0;34m)\u001b[0m\u001b[0;34m\u001b[0m\u001b[0;34m\u001b[0m\u001b[0m\n",
      "\u001b[0;31mValueError\u001b[0m: operands could not be broadcast together with shapes (4,) (3,) "
     ]
    }
   ],
   "source": [
    "import numpy as np\n",
    "f = np.arange(4)\n",
    "print('f =', f)\n",
    "g =  np.ones(3)\n",
    "print('g =', g)\n",
    "\n",
    "# dodawanie tablic o różnych wymiarach\n",
    "h = f + g # < błąd !!  ValueError: operands could not be broadcast together with shapes (4,) (3,) \n",
    "print(h)"
   ]
  },
  {
   "cell_type": "markdown",
   "metadata": {},
   "source": [
    "Aby  poprawnie wykonać broadcasting należy odwrócić jedną z tablic, tak aby miała jedną kolumnę i kilka wierszy. \n",
    "\n",
    "Na poniższym przykładzie tablica  `f` została odwrócona, teraz główny wymiar (liczba wierszy) `f` wynosi 4, natomiast w g wynosi 1, możemy więc 'rozciągnąć' tablicę a, aby miała 3 jednakowe kolumny. Podobnie rozciągamy' tablicę b aby miała 4 jednakowe wiersze. Teraz już można dodać do siebie tak zdefiniowane tablice."
   ]
  },
  {
   "cell_type": "code",
   "execution_count": 4,
   "metadata": {},
   "outputs": [
    {
     "name": "stdout",
     "output_type": "stream",
     "text": [
      "shape f : (4,)\n",
      "shape f (po reashape): (4, 1)\n",
      "[[0]\n",
      " [1]\n",
      " [2]\n",
      " [3]]\n",
      "shape g: (3,)\n",
      "[1. 1. 1.]\n",
      "dodawanie i broadcasting: [[1. 1. 1.]\n",
      " [2. 2. 2.]\n",
      " [3. 3. 3.]\n",
      " [4. 4. 4.]]\n"
     ]
    }
   ],
   "source": [
    "\n",
    "print('shape f :', np.shape(f))\n",
    "f.resize(4,1)\n",
    "\n",
    "print('shape f (po reashape):', np.shape(f))\n",
    "print(f)\n",
    "print('shape g:', np.shape(g))\n",
    "print(g)\n",
    "\n",
    "h = f + g\n",
    "print('dodawanie i broadcasting:', h)"
   ]
  },
  {
   "cell_type": "markdown",
   "metadata": {},
   "source": [
    "## 6. Operacje logiczne dla tablic  <a name=\"sec6\"></a>\n",
    "\n",
    "Bardzo przydatną funkcją Numpy jest **wyszukiwanie wartości w tablicy za pomocą funkcji logicznych**"
   ]
  },
  {
   "cell_type": "code",
   "execution_count": null,
   "metadata": {},
   "outputs": [],
   "source": [
    "import random\n",
    "\n",
    "#utworzenie tablicy\n",
    "A = np.array([random.randint(0, 20) for i in range(64)])\n",
    "A = A.reshape(8, 8)\n",
    "# wyszukiwanie wartości w tablicy za pomocą funkcji logicznych:\n",
    "\n",
    "B = A == 1 # tablica wartości True/False dla warunku gdzie A == 1\n",
    "print(B)\n",
    "B = A > 1 # tablica wartości True/False dla warunku gdzie A > 1\n",
    "print(B)"
   ]
  },
  {
   "cell_type": "markdown",
   "metadata": {},
   "source": [
    "NumPy pozwala również **indeksować tablicę za pomocą tablic wartości logicznych**. \n",
    "Można to zrealizować za pomocą tablicy logicznej, o tych samych wymiarach co tablica, którą chcemy indeksować.\n",
    "\n",
    "Pomocne są tutaj broadcasting i proste operacje na tablicach. Gdy wykonamy operację logiczną na całej tablicy (jak poniżej), operacja ta wykona się element po elemencie, a wynikiem będzie właśnie tablica wartości logicznych.\n",
    "\n",
    "Przekazując tak powstałą tablicę jako indeks innej tablicy, spowodujemy wybranie z niej tylko elementów, dla których w tablicy indeksującej występowało True. Pamiętać trzeba, że nawet jeśli pierwotnie tablica miała więcej niż jeden wymiar, wynik zostanie zwrócony jako tablica jednowymiarowa.\n"
   ]
  },
  {
   "cell_type": "code",
   "execution_count": 96,
   "metadata": {},
   "outputs": [
    {
     "name": "stdout",
     "output_type": "stream",
     "text": [
      "a =\n",
      " [[ 0  1  2  3]\n",
      " [ 4  5  6  7]\n",
      " [ 8  9 10 11]]\n",
      "b =\n",
      " [[ True False  True False]\n",
      " [ True False  True False]\n",
      " [ True False  True False]]\n",
      "c = a[b] =\n",
      " [ 0  2  4  6  8 10]\n"
     ]
    },
    {
     "data": {
      "text/plain": [
       "array([99, 99, 99, 99, 99, 99])"
      ]
     },
     "execution_count": 96,
     "metadata": {},
     "output_type": "execute_result"
    }
   ],
   "source": [
    "a = np.arange(12).reshape(3, 4)\n",
    "print('a =\\n', a)\n",
    "b = a % 2 == 0\n",
    "print('b =\\n', b)\n",
    "c = a[b]\n",
    "print('c = a[b] =\\n', c)\n",
    "\n",
    "# można tak przypisać określoną, wspólną wartość pewnej grupie elementów, wybranych w operacji logicznej.\n",
    "a[b] = 99 # wstawi 999 tab gdzie b = True\n",
    "a[b]"
   ]
  },
  {
   "cell_type": "markdown",
   "metadata": {},
   "source": [
    "**Można tak przypisać określoną, wspólną wartość pewnej grupie elementów, wybranych w operacji logicznej**"
   ]
  },
  {
   "cell_type": "code",
   "execution_count": 97,
   "metadata": {},
   "outputs": [
    {
     "name": "stdout",
     "output_type": "stream",
     "text": [
      "a =\n",
      " [[99  1 99  3]\n",
      " [99  5 99  7]\n",
      " [99  9 99 11]]\n",
      "b =\n",
      " [[ True False  True False]\n",
      " [ True False  True False]\n",
      " [ True False  True False]]\n"
     ]
    },
    {
     "data": {
      "text/plain": [
       "array([[99,  1, 99,  3],\n",
       "       [99,  5, 99,  7],\n",
       "       [99,  9, 99, 11]])"
      ]
     },
     "execution_count": 97,
     "metadata": {},
     "output_type": "execute_result"
    }
   ],
   "source": [
    "c = np.arange(12).reshape(3, 4)\n",
    "print('a =\\n', a)\n",
    "b = c % 2 == 0\n",
    "print('b =\\n', b)\n",
    "\n",
    "c[b] = 99 # wstawi 999 tab gdzie b = True\n",
    "c"
   ]
  },
  {
   "cell_type": "markdown",
   "metadata": {},
   "source": [
    "## 7. Dane NaN lub None <a name=\"sec7\"></a>\n",
    "**Jaka jest różnica między NaN, None i np.nan?**\n",
    "\n",
    "**NaN** to wartość liczbowa zdefiniowana w standardzie zmiennoprzecinkowym IEEE 754. **None** jest wewnętrznym typem Pythona (NoneType) i w tym kontekście bardziej przypomina „nieistniejący” lub „pusty” niż „niepoprawny numerycznie”. \n",
    "+ **nan** należy do klasy **float**, natomiast **None** należy do klasy **NoneType**\n",
    "+ Jeśli wykonasz, powiedzmy, **funkcję liczenia średniej lub sumy na tablicy zawierającej nan, nawet pojedynczej, otrzymasz w rezultacie nan**.\n",
    "+ **Nie można wykonywać operacji matematycznych, używając None jako argumentu**. Tak więc, w zależności od przypadku, można użyć None jako sposobu, na wskazanie algorytmowi, aby nie uwzględniał nieprawidłowych lub nieistniejących wartości w obliczeniach. Jednak oznaczałoby to, że algorytm powinien przetestować każdą wartość (czy jest None), aby sprawdzić, czy jest to Brak."
   ]
  },
  {
   "cell_type": "code",
   "execution_count": 5,
   "metadata": {},
   "outputs": [
    {
     "data": {
      "text/plain": [
       "nan"
      ]
     },
     "execution_count": 5,
     "metadata": {},
     "output_type": "execute_result"
    }
   ],
   "source": [
    "5 * np.nan #wynik nan"
   ]
  },
  {
   "cell_type": "code",
   "execution_count": 6,
   "metadata": {},
   "outputs": [
    {
     "ename": "TypeError",
     "evalue": "unsupported operand type(s) for *: 'int' and 'NoneType'",
     "output_type": "error",
     "traceback": [
      "\u001b[0;31m---------------------------------------------------------------------------\u001b[0m",
      "\u001b[0;31mTypeError\u001b[0m                                 Traceback (most recent call last)",
      "\u001b[0;32m<ipython-input-6-8d0e337763fe>\u001b[0m in \u001b[0;36m<module>\u001b[0;34m\u001b[0m\n\u001b[0;32m----> 1\u001b[0;31m \u001b[0;36m5\u001b[0m \u001b[0;34m*\u001b[0m \u001b[0;32mNone\u001b[0m\u001b[0;34m\u001b[0m\u001b[0;34m\u001b[0m\u001b[0m\n\u001b[0m",
      "\u001b[0;31mTypeError\u001b[0m: unsupported operand type(s) for *: 'int' and 'NoneType'"
     ]
    }
   ],
   "source": [
    "5 * None #wynikiem jest błąd działania"
   ]
  },
  {
   "cell_type": "markdown",
   "metadata": {},
   "source": [
    "Numpy ma kilka funkcji, które pozwalają uniknąć wartości NaN, które mogłyby zanieczyścić wyniki, na przykład np.nansumm np.nanstd\n",
    "\n",
    "**NaN może być używany jako wartość liczbowa w operacjach matematycznych, podczas gdy None nie może (lub przynajmniej nie powinien).**\n",
    "\n",
    "\n",
    "+ NaN jest używany jako symbol zastępczy (ang. placeholder) dla brakujących danych (NaN ang. _not a number_).Jego podstawową funkcją jest działanie jako symbol zastępczy dla brakujących wartości liczbowych w tablicy.\n",
    "\n",
    "+ **np.nan -- IEEE 754 jest reprezentacją zmiennoprzecinkową wartości  Not a Number (NaN)**, więcej: \n",
    "https://numpy.org/doc/stable/reference/constants.html#numpy.NAN\n",
    "\n",
    "+ Wartości np.nan nie są sobie równe: `np.nan != np.nan`\n",
    "\n",
    "+ **NaN i NAN są odpowiednikami definicji nan. Proszę używać nan zamiast NaN.**"
   ]
  },
  {
   "cell_type": "code",
   "execution_count": 98,
   "metadata": {},
   "outputs": [
    {
     "data": {
      "text/plain": [
       "float"
      ]
     },
     "execution_count": 98,
     "metadata": {},
     "output_type": "execute_result"
    }
   ],
   "source": [
    "a = np.nan\n",
    "type(a)"
   ]
  },
  {
   "cell_type": "code",
   "execution_count": 99,
   "metadata": {},
   "outputs": [
    {
     "data": {
      "text/plain": [
       "False"
      ]
     },
     "execution_count": 99,
     "metadata": {},
     "output_type": "execute_result"
    }
   ],
   "source": [
    "np.nan == np.nan"
   ]
  },
  {
   "cell_type": "code",
   "execution_count": 100,
   "metadata": {},
   "outputs": [
    {
     "data": {
      "text/plain": [
       "True"
      ]
     },
     "execution_count": 100,
     "metadata": {},
     "output_type": "execute_result"
    }
   ],
   "source": [
    "np.isnan(np.nan)"
   ]
  },
  {
   "cell_type": "markdown",
   "metadata": {},
   "source": [
    "**Utworzenie tablicy nan**"
   ]
  },
  {
   "cell_type": "code",
   "execution_count": 101,
   "metadata": {},
   "outputs": [
    {
     "data": {
      "text/plain": [
       "array([[nan, nan, nan],\n",
       "       [nan, nan, nan],\n",
       "       [nan, nan, nan]])"
      ]
     },
     "execution_count": 101,
     "metadata": {},
     "output_type": "execute_result"
    }
   ],
   "source": [
    "an_array = np.empty((3,3))\n",
    "an_array[:] = np.NaN\n",
    "an_array"
   ]
  },
  {
   "cell_type": "markdown",
   "metadata": {},
   "source": [
    "**Obsługa tablic z wartością nan: dodawanie nan**\n",
    "Dodawanie nan daje w wyniku nan"
   ]
  },
  {
   "cell_type": "markdown",
   "metadata": {},
   "source": [
    "**None** jest wewnętrznym typem Pythona (NoneType) i w tym kontekście bardziej przypomina „nieistniejący” lub „pusty” niż „niepoprawny numerycznie"
   ]
  },
  {
   "cell_type": "code",
   "execution_count": 102,
   "metadata": {},
   "outputs": [
    {
     "ename": "TypeError",
     "evalue": "unsupported operand type(s) for +: 'int' and 'NoneType'",
     "output_type": "error",
     "traceback": [
      "\u001b[0;31m---------------------------------------------------------------------------\u001b[0m",
      "\u001b[0;31mTypeError\u001b[0m                                 Traceback (most recent call last)",
      "\u001b[0;32m<ipython-input-102-2b6c0af46e35>\u001b[0m in \u001b[0;36m<module>\u001b[0;34m\u001b[0m\n\u001b[1;32m      1\u001b[0m \u001b[0ma\u001b[0m \u001b[0;34m=\u001b[0m \u001b[0mnp\u001b[0m\u001b[0;34m.\u001b[0m\u001b[0marray\u001b[0m\u001b[0;34m(\u001b[0m\u001b[0;34m[\u001b[0m\u001b[0;36m3\u001b[0m\u001b[0;34m,\u001b[0m \u001b[0;36m23\u001b[0m\u001b[0;34m,\u001b[0m \u001b[0;32mNone\u001b[0m\u001b[0;34m,\u001b[0m \u001b[0;36m15\u001b[0m\u001b[0;34m,\u001b[0m \u001b[0;32mNone\u001b[0m\u001b[0;34m,\u001b[0m \u001b[0;36m45\u001b[0m\u001b[0;34m,\u001b[0m \u001b[0;36m85\u001b[0m\u001b[0;34m,\u001b[0m \u001b[0;32mNone\u001b[0m\u001b[0;34m,\u001b[0m \u001b[0;36m5\u001b[0m\u001b[0;34m]\u001b[0m\u001b[0;34m)\u001b[0m\u001b[0;34m\u001b[0m\u001b[0;34m\u001b[0m\u001b[0m\n\u001b[0;32m----> 2\u001b[0;31m \u001b[0mnp\u001b[0m\u001b[0;34m.\u001b[0m\u001b[0msum\u001b[0m\u001b[0;34m(\u001b[0m\u001b[0ma\u001b[0m\u001b[0;34m)\u001b[0m \u001b[0;31m# działanie z None da błąd\u001b[0m\u001b[0;34m\u001b[0m\u001b[0;34m\u001b[0m\u001b[0m\n\u001b[0m",
      "\u001b[0;32m<__array_function__ internals>\u001b[0m in \u001b[0;36msum\u001b[0;34m(*args, **kwargs)\u001b[0m\n",
      "\u001b[0;32m~/anaconda3/lib/python3.8/site-packages/numpy/core/fromnumeric.py\u001b[0m in \u001b[0;36msum\u001b[0;34m(a, axis, dtype, out, keepdims, initial, where)\u001b[0m\n\u001b[1;32m   2226\u001b[0m         \u001b[0;32mreturn\u001b[0m \u001b[0mres\u001b[0m\u001b[0;34m\u001b[0m\u001b[0;34m\u001b[0m\u001b[0m\n\u001b[1;32m   2227\u001b[0m \u001b[0;34m\u001b[0m\u001b[0m\n\u001b[0;32m-> 2228\u001b[0;31m     return _wrapreduction(a, np.add, 'sum', axis, dtype, out, keepdims=keepdims,\n\u001b[0m\u001b[1;32m   2229\u001b[0m                           initial=initial, where=where)\n\u001b[1;32m   2230\u001b[0m \u001b[0;34m\u001b[0m\u001b[0m\n",
      "\u001b[0;32m~/anaconda3/lib/python3.8/site-packages/numpy/core/fromnumeric.py\u001b[0m in \u001b[0;36m_wrapreduction\u001b[0;34m(obj, ufunc, method, axis, dtype, out, **kwargs)\u001b[0m\n\u001b[1;32m     88\u001b[0m                 \u001b[0;32mreturn\u001b[0m \u001b[0mreduction\u001b[0m\u001b[0;34m(\u001b[0m\u001b[0maxis\u001b[0m\u001b[0;34m=\u001b[0m\u001b[0maxis\u001b[0m\u001b[0;34m,\u001b[0m \u001b[0mout\u001b[0m\u001b[0;34m=\u001b[0m\u001b[0mout\u001b[0m\u001b[0;34m,\u001b[0m \u001b[0;34m**\u001b[0m\u001b[0mpasskwargs\u001b[0m\u001b[0;34m)\u001b[0m\u001b[0;34m\u001b[0m\u001b[0;34m\u001b[0m\u001b[0m\n\u001b[1;32m     89\u001b[0m \u001b[0;34m\u001b[0m\u001b[0m\n\u001b[0;32m---> 90\u001b[0;31m     \u001b[0;32mreturn\u001b[0m \u001b[0mufunc\u001b[0m\u001b[0;34m.\u001b[0m\u001b[0mreduce\u001b[0m\u001b[0;34m(\u001b[0m\u001b[0mobj\u001b[0m\u001b[0;34m,\u001b[0m \u001b[0maxis\u001b[0m\u001b[0;34m,\u001b[0m \u001b[0mdtype\u001b[0m\u001b[0;34m,\u001b[0m \u001b[0mout\u001b[0m\u001b[0;34m,\u001b[0m \u001b[0;34m**\u001b[0m\u001b[0mpasskwargs\u001b[0m\u001b[0;34m)\u001b[0m\u001b[0;34m\u001b[0m\u001b[0;34m\u001b[0m\u001b[0m\n\u001b[0m\u001b[1;32m     91\u001b[0m \u001b[0;34m\u001b[0m\u001b[0m\n\u001b[1;32m     92\u001b[0m \u001b[0;34m\u001b[0m\u001b[0m\n",
      "\u001b[0;31mTypeError\u001b[0m: unsupported operand type(s) for +: 'int' and 'NoneType'"
     ]
    }
   ],
   "source": [
    "a = np.array([3, 23, None, 15, None, 45, 85, None, 5])\n",
    "np.sum(a) # działanie z None da błąd"
   ]
  },
  {
   "cell_type": "code",
   "execution_count": null,
   "metadata": {},
   "outputs": [],
   "source": [
    "a = np.array([3, 23, np.nan, 15, np.nan, 45, 85, np.nan, 5])\n",
    "np.sum(a)\n",
    "print('dodawanie tablicy z nan: ', np.sum(a))\n",
    "np.nansum(a)\n",
    "print('dodawanie tablicy z nan: ', np.sum(a))\n",
    "np.nanmean(a)\n",
    "print('średnia tablicy z nan: ', np.sum(a))\n",
    "np.nanstd(a)\n",
    "print('odchylenie standardowe tablicy z nan: ', np.nanstd(a))"
   ]
  },
  {
   "cell_type": "markdown",
   "metadata": {},
   "source": [
    "**Obsługa tablic z wartością nan: mnożenie nan**"
   ]
  },
  {
   "cell_type": "code",
   "execution_count": null,
   "metadata": {},
   "outputs": [],
   "source": [
    "a[1] * a[2]"
   ]
  },
  {
   "cell_type": "markdown",
   "metadata": {},
   "source": [
    "**Wskazanie miejsc z nan**"
   ]
  },
  {
   "cell_type": "code",
   "execution_count": null,
   "metadata": {},
   "outputs": [],
   "source": [
    "boolean_array = np.isnan(a)\n",
    "print('boolean_array', boolean_array)\n",
    "\n",
    "index_array = np.argwhere(np.isnan(a))\n",
    "print('index_array\\n', index_array)"
   ]
  },
  {
   "cell_type": "markdown",
   "metadata": {},
   "source": [
    "## 8. Zapisywanie i wczytywanie tablic  <a name=\"sec8\"></a>\n",
    "Numpy pozwala przechowywać swoje dane tablicowe (typu array w plikach binarnych) odobnie jak matlab (pliki .mat). Pozwala to szybkie wczytywanie i ponowne działanie na tych tablicach."
   ]
  },
  {
   "cell_type": "code",
   "execution_count": null,
   "metadata": {},
   "outputs": [],
   "source": []
  },
  {
   "cell_type": "code",
   "execution_count": null,
   "metadata": {},
   "outputs": [],
   "source": [
    "import numpy as np\n",
    "a= np.full((6,8),7) \n",
    "a= np.full((2,2),7) \n",
    "np.save('my_array', a)  # zapisze na dysku tablice w formacie binarnym\n",
    "np.savez('array.npz', a, b) # zapisze na dysku tablice w formacie binarnym\n",
    "test = np.load('my_array.npy') # odczyta tablice w foracie binarnym numpy\n",
    "print(test)"
   ]
  },
  {
   "cell_type": "markdown",
   "metadata": {},
   "source": [
    "## 9. Zapisywanie i wczytywanie plików tekstowych  <a name=\"sec9\"></a>"
   ]
  },
  {
   "cell_type": "code",
   "execution_count": null,
   "metadata": {},
   "outputs": [],
   "source": [
    "import numpy as np\n",
    "a = np.full((7,6),7) \n",
    "a[:,3] = 33 # wstawienie wartosci dla wszystkich wierzy w 4 kolumnie\n",
    "a[:,4] = 44 # wstawienie wartosci dla wszystkich wierzy w 4 kolumnie\n",
    "a[:,5] = 55 # wstawienie wartosci dla wszystkich wierzy w 4 kolumnie\n",
    "b1 = a.astype('int32') \n",
    "# zapis: https://docs.scipy.org/doc/numpy-1.15.0/reference/generated/numpy.savetxt.html\n",
    "np.savetxt(\"myarray.txt\", b1, delimiter=',', fmt = '%10.2f', header = 'jakis naglowek')\n",
    "\n",
    "# odczyt: https://docs.scipy.org/doc/numpy-1.15.1/reference/generated/numpy.genfromtxt.html\n",
    "np.genfromtxt(\"myarray.txt\", delimiter=',', skip_header = 1 , usecols =(5, 4, 3, 1) )\n"
   ]
  },
  {
   "cell_type": "markdown",
   "metadata": {},
   "source": [
    "## 10. Manipulacje tablicami <a name=\"sec10\"></a>\n",
    "Kompletny zestaw funkcji dostępny tutaj: https://numpy.org/devdocs/reference/routines.array-manipulation.html"
   ]
  },
  {
   "cell_type": "markdown",
   "metadata": {},
   "source": [
    "### 10A.  Zmiana kształtu macierzy  - wypłaszczenie<a name=\"sec10A\"></a>"
   ]
  },
  {
   "cell_type": "code",
   "execution_count": null,
   "metadata": {},
   "outputs": [],
   "source": [
    "a = np.array([ [1,2,3,4,5], [1,2,3,4,5], [1,2,3,4,5] ])\n",
    "a.ravel() #wypłaszczenie tablicy"
   ]
  },
  {
   "cell_type": "markdown",
   "metadata": {},
   "source": [
    "Zmiana kształtu macierzy  - zmiana kształtu bez zmiany danych"
   ]
  },
  {
   "cell_type": "code",
   "execution_count": null,
   "metadata": {},
   "outputs": [],
   "source": [
    "import numpy as np\n",
    "a = np.array([ [1,2,3,4], [1,2,3,4], [1,2,3,4] ])\n",
    "print('shape a: ', a. shape) #(3x4)\n",
    "print(a.view())\n",
    "\n",
    "# Przy zmianie kształtu metodą reshape liczba elementów macierzy wyjścia i wejscia powinna być taka sama!\n",
    "b = np.reshape(a, (2,6) ) #reshape(a, newshape, order='C')\n",
    "print('shape b: ', b.shape)\n",
    "print(b.view())"
   ]
  },
  {
   "cell_type": "markdown",
   "metadata": {},
   "source": [
    "### Zmiana kształtu macierzy  - zmiana kształtu"
   ]
  },
  {
   "cell_type": "code",
   "execution_count": null,
   "metadata": {},
   "outputs": [],
   "source": [
    "import numpy as np\n",
    "a = np.array([ [1,2,3,4], [1,2,3,4], [1,2,3,4] ])\n",
    "print('shape a: ', a. shape) #(3x4)\n",
    "print(a.view())\n",
    "\n",
    "\n",
    "b = np.resize(a, (2,3) )#\n",
    "print('shape b: ', b.shape)\n",
    "print(b.view())"
   ]
  },
  {
   "cell_type": "markdown",
   "metadata": {},
   "source": [
    "### 10B. Dodawanie i usuwanie elementów tablicy (append, insert, delete) <a name=\"sec10B\"></a>"
   ]
  },
  {
   "cell_type": "markdown",
   "metadata": {},
   "source": [
    "#### a) dodawanie elementów do tablicy - append"
   ]
  },
  {
   "cell_type": "code",
   "execution_count": null,
   "metadata": {},
   "outputs": [],
   "source": [
    "import numpy as np\n",
    "\n",
    "a = np.array([ [1,2,3,4], [1,2,3,4], [1,2,3,4] ])\n",
    "\n",
    "b = np.append(a, [9,9,9,9])\n",
    "print(b.view())"
   ]
  },
  {
   "cell_type": "markdown",
   "metadata": {},
   "source": [
    "#### b) wstawianie elementów do tablicy - insert"
   ]
  },
  {
   "cell_type": "code",
   "execution_count": null,
   "metadata": {},
   "outputs": [],
   "source": [
    "import numpy as np\n",
    "\n",
    "a = np.array([ [1,2,3,4], [1,2,3,4], [1,2,3,4] ])\n",
    "\n",
    "b = np.insert(a, 3, 5) # na 3 indeksie wartosc 5\n",
    "print(b.view())"
   ]
  },
  {
   "cell_type": "markdown",
   "metadata": {},
   "source": [
    "#### c) usuwanie elementów z tablicy"
   ]
  },
  {
   "cell_type": "code",
   "execution_count": null,
   "metadata": {},
   "outputs": [],
   "source": [
    "import numpy as np\n",
    "\n",
    "a = np.array([ [1,2,3,4], [1,2,3,4], [1,2,3,4] ])\n",
    "\n",
    "b = np.delete(a, [3])  # usuwa 5 element\n",
    "print(b.view())"
   ]
  },
  {
   "cell_type": "markdown",
   "metadata": {},
   "source": [
    "### 10C. Łączenie tablic (pionowo, poziomo) <a name=\"sec10C\"></a>"
   ]
  },
  {
   "cell_type": "code",
   "execution_count": null,
   "metadata": {},
   "outputs": [],
   "source": [
    "a = np.array([ [1,2,3,4], [1,2,3,4], [1,2,3,4] ])\n",
    "b = np.array([ [9,9,9,9], [8,8,8,8], [8,8,8,8] ])\n",
    "\n",
    "np.concatenate((a,b))"
   ]
  },
  {
   "cell_type": "markdown",
   "metadata": {},
   "source": [
    "#### g) łaczenie tablic pionowo (wertykalnie) i poziomo (horyzontalnie)"
   ]
  },
  {
   "cell_type": "code",
   "execution_count": null,
   "metadata": {},
   "outputs": [],
   "source": [
    "a = np.array([ [1,2,3,4], [1,2,3,4], [1,2,3,4] ])\n",
    "b = np.array([ [9,9,9,9], [8,8,8,8], [8,8,8,8] ])\n",
    "\n",
    "v = np.vstack((a,b))\n",
    "print(v.view())\n",
    "h = np.hstack((a,b))\n",
    "print(h.view())"
   ]
  },
  {
   "cell_type": "markdown",
   "metadata": {},
   "source": [
    "#### h) dzielenie tablic pionowo (wertykalnie) i poziomo (horyzontalnie)"
   ]
  },
  {
   "cell_type": "code",
   "execution_count": null,
   "metadata": {},
   "outputs": [],
   "source": [
    "# Vertykalnie\n",
    "a = np.array([ [1,2,3,4], \n",
    "               [1,2,3,4], \n",
    "               [1,2,3,4] ])\n",
    "b = np.array([ [9,9,9,9], \n",
    "               [8,8,8,8], \n",
    "               [8,8,8,8] ])\n",
    "v = np.vstack((a,b))\n",
    "print(v.view())\n",
    "\n",
    "vs = np.vsplit(v, 2)\n",
    "print(vs)\n",
    "\n",
    "\n",
    "# Horyzontalnie\n",
    "a = np.array([ [1,2,3,4], \n",
    "               [1,2,3,4], \n",
    "               [1,2,3,4] ])\n",
    "b = np.array([ [9,9,9,9], \n",
    "               [8,8,8,8], \n",
    "               [8,8,8,8] ])\n",
    "v = np.vstack((a,b))\n",
    "print(v.view())\n",
    "\n",
    "hs = np.hsplit(v, 2)\n",
    "print(hs)"
   ]
  },
  {
   "cell_type": "code",
   "execution_count": null,
   "metadata": {},
   "outputs": [],
   "source": []
  }
 ],
 "metadata": {
  "kernelspec": {
   "display_name": "Python 3",
   "language": "python",
   "name": "python3"
  },
  "language_info": {
   "codemirror_mode": {
    "name": "ipython",
    "version": 3
   },
   "file_extension": ".py",
   "mimetype": "text/x-python",
   "name": "python",
   "nbconvert_exporter": "python",
   "pygments_lexer": "ipython3",
   "version": "3.8.8"
  }
 },
 "nbformat": 4,
 "nbformat_minor": 2
}
