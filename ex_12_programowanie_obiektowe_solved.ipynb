{
 "cells": [
  {
   "cell_type": "markdown",
   "metadata": {},
   "source": [
    "| **Kinga Węzka** <BR> kinga.wezka@pw.edu.pl  <BR> Warsaw University of Technology <BR> Faculty Geodesy and Cartography <BR> Plac Politechniki 1 (room 38)<BR> 00-661 Warszawa, POLAND<BR> <A href=\"https://www.google.com/maps/place/Gmach+G%C5%82%C3%B3wny+Politechniki+Warszawskiej/@52.220656,21.0094422,19z/data=!3m1!4b1!4m5!3m4!1s0x471ecce951c85a19:0x712b0e1503c42b91!8m2!3d52.220656!4d21.0099894\"> N 52&ordm; 12' 45&quot; / E 21&ordm; 03' 51&quot;</A></B><BR> | <a rel=\"license\" href=\"https://www.pw.edu.pl\"><img alt=\"Politechnika Warszawska\" style=\"border-width:0\" src=\"https://www.pw.edu.pl/design/pw/images/znak-pw.png\" /></a> |\n",
    "|---------------------------------------------------------------------------------------------------------------------------------------------------------------------------------------------------------------------------------------------------------------------------------------------------------------------------------------------------------------------------------------------------------------------------------------------------------------------------|-------------------------------------------------------------------------------------------------------------------------------------------------------------------------|\n",
    "\n",
    "**Informatyka Geodezyjna** (projekt) -- rok akademicki 2020/2021\n",
    "    \n",
    "**Prowadzący:** Kinga Węzka, Joanna Kożuchowska \n",
    "    \n",
    "**Projekt 12**  Programowanie obiektowe\n",
    "\n",
    "**UWAGA: Odpowiedź na każde pytanie powinna znajdować się w oddzielnej komórce poniżej pytania, z podanym numerem pytania**\n"
   ]
  },
  {
   "cell_type": "markdown",
   "metadata": {},
   "source": [
    "# Spis treści:\n",
    "1. [Zad. 1: Definicja klasy, konkretyzacja klasy (utworzenie obiektu) - dziedziczenie](#zad1)\n",
    "2. [Zad. 2: Klasa z metodą __init__ -- konstruktor klasy z argumentami](#zad2)\n",
    "3. [Zad. 3: Klasa z metodą __init__ -- konstruktor klasy z argumentami](#zad3)\n",
    "4. [Zad. 4 Klasa z metodą specjalną __init__ -- konstruktor klasy z argumentami)](#zad4)\n",
    "5. [Zad. 5 Dziedziczenie, metoda super()  - przykład](#zad5)\n",
    "6. [Zad. 3: Klasa z konstruktorem __init__ -- dziedziczenie, metoda super()](#zad6) \n",
    "7. [Zad. 4: Klasa przeliczenie jednostek kątowych ](#zad7)"
   ]
  },
  {
   "cell_type": "markdown",
   "metadata": {},
   "source": [
    "## Zad.1: Definicja klasy, konkretyzacja klasy (utworzenie obiektu) - dziedziczenie <a name=\"zad1\"></a>\n",
    "\n",
    "+ Zdefinuj klasę `Kalkulator` (klasa rodzic) zawierającą:\n",
    "    + atrybuty: wartość liczby pi i wartość liczby eulera;\n",
    "    + metody realizujące obliczenia: dodawanie, odejmowanie, mnożenie, dzielenie;\n",
    "    + metodę realizującą obliczenie: `(a + b) + (a - b) + pi + e`, wykorzystaj dostępne metody i argumenty;\n",
    "+ Zdefinuj klasę `KalkulatorJednostek` (klasa dziecko), klasa powinna dziedziczyć wszystkie atrybuty i metody klasy Kalkulator, oraz zawierać metody:\n",
    "    + przeliczające stopnie na radiany;\n",
    "    + przeliczające stopnie na radiany;\n",
    "    + metodę realizującą obliczenie: `pi + radiany`, wykorzystaj metodę dodawania z klasy rodzic;"
   ]
  },
  {
   "cell_type": "code",
   "execution_count": 12,
   "metadata": {},
   "outputs": [
    {
     "data": {
      "text/plain": [
       "3.961592653589793"
      ]
     },
     "execution_count": 12,
     "metadata": {},
     "output_type": "execute_result"
    }
   ],
   "source": [
    "class Kalkulator:\n",
    "    pi = 3.141592653589793238\n",
    "    e  = 2.718281828459045235\n",
    "    def dodawanie(self, a, b):\n",
    "        return(a + b)\n",
    "    def odejmowanie(self, a, b):\n",
    "        return(a - b)\n",
    "    def mnozenie(self, a, b):\n",
    "        return(a + b)\n",
    "    def dzielenie(self, a, b):\n",
    "        return(a + b)\n",
    "\n",
    "class KalkulatorJednostek(Kalkulator):\n",
    "    def st2rad(self, st):\n",
    "        return(st *self.pi/180 )\n",
    "    def rad2st(self, rad):\n",
    "        return(rad * 180/self.pi)\n",
    "    def dzialanie(self, rad):\n",
    "        x = self.dodawanie(self.pi ,rad) # wykorzystanie metody z klasy rodzic !!!\n",
    "        return(x)\n",
    "    \n",
    "ob = KalkulatorJednostek()\n",
    "ob.dzialanie(0.82)"
   ]
  },
  {
   "cell_type": "markdown",
   "metadata": {},
   "source": [
    "## Zad.2: Klasa z metodą __init__ -- konstruktor klasy z argumentami <a name=\"zad2\"></a>\n",
    "Stworzyć klasę, która zawiera dwie metody: pobierz_napis (pobierającą napis wpisany przez użytkownika) oraz wyświetl napis, która wyświetla ten napis wielkimi literami."
   ]
  },
  {
   "cell_type": "code",
   "execution_count": 1,
   "metadata": {},
   "outputs": [
    {
     "name": "stdout",
     "output_type": "stream",
     "text": [
      "jshd\n",
      "JSHD\n"
     ]
    }
   ],
   "source": [
    "class Napisy():\n",
    "    def __init__(self):\n",
    "        self.napis = \"\"   # w razie gdyby metoda wypisywania zostala wywolana przed wpisaniem napisu\n",
    "        \n",
    "    def pobierz_napis(self):\n",
    "        self.napis = input()\n",
    "        \n",
    "    def wyswietl_napis(self):\n",
    "        print(self.napis.upper())\n",
    "        \n",
    "napis1 = Napisy()\n",
    "napis1.pobierz_napis()\n",
    "napis1.wyswietl_napis()"
   ]
  },
  {
   "cell_type": "markdown",
   "metadata": {},
   "source": [
    "## Zad.3:  Klasa z metodą __init__ -- konstruktor klasy z argumentami <a name=\"zad3\"></a>\n",
    "a) Utwórz klasę Kolo, która jest definiowana przez promień okręgu. Klasa powinna zawierać metody służące do obliczenia pola koła oraz obwodu okręgu."
   ]
  },
  {
   "cell_type": "code",
   "execution_count": null,
   "metadata": {},
   "outputs": [],
   "source": [
    "import math as m\n",
    "\n",
    "class Kolo:\n",
    "    def __init__(self, r = 0):\n",
    "        self.r = r\n",
    "    \n",
    "    def pole(self):\n",
    "        return self.r**2 * m.pi\n",
    "    \n",
    "    def obwod(self):\n",
    "        return self.r*2 * m.pi\n",
    "    \n",
    "kolo = Kolo(5)\n",
    "print(kolo.pole())\n",
    "print(kolo.obwod())"
   ]
  },
  {
   "cell_type": "markdown",
   "metadata": {},
   "source": [
    "## Zad.4: Klasa z metodą specjalną __init__ (konstruktor klasy)<a name=\"zad4\"></a>\n",
    "Utworzyć klasę Osoba, która będzie przechowywać imię oraz wiek.\n",
    "\n",
    "a) Skorzystać z funkcji __init__(), która przypisze wartości atrybutów imię oraz wiek do utworzonego obiektu.\n",
    "\n",
    "b) Utworz obiekt tej klasy (instancję klasy) o nazwie czlowiek1 i przypisz imię Jan, oraz wiek 80 lat.\n",
    "\n",
    "c) Wyświetl typ obiektu.\n",
    "\n",
    "d) Wyświetl imię obiektu czlowiek1. Wyświetl wiek tego obiektu.\n",
    "\n",
    "e) W klasie Osoba, utworz metodę, która będzie \"postarzać\" obiekt o rok oraz drugą, która będzie słuzyla odmłodzeniu o rok. Wywołaj te metody.\n",
    "\n",
    "f) W klasie Osoba, utwórz metodę, która po jej wywołaniu, wypisze komunikat \"Miłego dnia, <imie_obiektu>\". Wywołaj tę metodę.\n",
    "\n",
    "g) Zmien wartość parametru imie dla obiektu czlowiek1, nie korzystając z dodatkowej metody klasy.\n",
    "\n",
    "h) Usuń obiekt czlowiek1."
   ]
  },
  {
   "cell_type": "code",
   "execution_count": 13,
   "metadata": {},
   "outputs": [
    {
     "name": "stdout",
     "output_type": "stream",
     "text": [
      "<class '__main__.Osoba'>\n",
      "Imie:  Jan  wiek:  80\n",
      "Milego dnia,  Jan !\n",
      "Jan ma teraz  81 lat\n",
      "Milego dnia,  Patryk !\n"
     ]
    }
   ],
   "source": [
    "class Osoba:\n",
    "    def __init__(self, imie, wiek):\n",
    "        self.imie = imie\n",
    "        self.wiek = wiek\n",
    "        \n",
    "    def dodaj_rok(self):\n",
    "        self.wiek +=1\n",
    "        \n",
    "    def odejmij_rok(self):\n",
    "        self.wiek += -1\n",
    "    \n",
    "    def przywitaj_osobe(self):\n",
    "        print(\"Milego dnia, \", self.imie, \"!\")\n",
    "        \n",
    "czlowiek1 = Osoba(\"Jan\", 80)\n",
    "print(type(czlowiek1))\n",
    "print(\"Imie: \", czlowiek1.imie, \" wiek: \", czlowiek1.wiek)\n",
    "\n",
    "czlowiek1.przywitaj_osobe()\n",
    "czlowiek1.dodaj_rok()\n",
    "print(czlowiek1.imie, \"ma teraz \", czlowiek1.wiek, \"lat\")\n",
    "\n",
    "#g\n",
    "czlowiek1.imie = \"Patryk\"\n",
    "czlowiek1.przywitaj_osobe()\n",
    "\n",
    "#h\n",
    "#del czlowiek1\n",
    "#print(type(czlowiek1)) # powinno wyrzucic blad\n",
    "        "
   ]
  },
  {
   "cell_type": "markdown",
   "metadata": {},
   "source": [
    "## Zad.5: Dziedziczenie, metoda super()  - przykład <a name=\"zad5\"></a>\n",
    "`super().__init__()` - metoda super() tutaj konkretnie wywołuje tutaj konstruktor klasy nadrzędnej"
   ]
  },
  {
   "cell_type": "code",
   "execution_count": 26,
   "metadata": {},
   "outputs": [
    {
     "name": "stdout",
     "output_type": "stream",
     "text": [
      "4\n",
      "6\n",
      "8\n"
     ]
    }
   ],
   "source": [
    "#  demonstruje dziedziczenie - metoda super\n",
    "class Prostokat():\n",
    "    def __init__(self, a, b):\n",
    "        self.a = a\n",
    "        self.b = b\n",
    "    def pole(self):\n",
    "        return self.a*self.b\n",
    "    def obwod(self, a, b):\n",
    "        return(2*a + 2*b)\n",
    "\n",
    "class Kwadrat(Prostokat):\n",
    "    def __init__(self, a):\n",
    "        super().__init__(a, a) # dziedziczy z klasy rodzic\n",
    "    def obwod(self):\n",
    "        x = super().obwod(self.a, self.a)\n",
    "        return(x)\n",
    "\n",
    "\n",
    "print(Kwadrat(2).pole())\n",
    "print(Prostokat(3, 2).pole())\n",
    "print(Kwadrat(2).obwod())"
   ]
  },
  {
   "cell_type": "markdown",
   "metadata": {},
   "source": [
    "## Zad.6: Klasa z konstruktorem __init__ -- dziedziczenie, metoda super() <a name=\"zad6\"></a>\n",
    "\n",
    "a) Zmodyfikuj klasę Osoba z poprzedniego zadania, tak, aby jej atrybutami bylo imie i nazwisko. Utwórz metodę wyswietl_dane, która wypisze imię i nazwisko osoby. Utwórz obiekt tej klasy i wypisz jego imię i nazwisko, korzystając z odpowiedniej metody.\n",
    "\n",
    "b) Utwórz pustą klasę Student, dziedziczącą po Osoba. Która klasa jest klasą bazową ('rodzicem'), a która 'dzieckiem'? Nie definiuj żadnych metod ani atrybutów. Utwórz obiekt tej klasy i wyświetl jego imię i nazwisko.\n",
    "\n",
    "c) Do klasy Student dodaj metodę __init__() (konstruktor). Która funkcja będzie wykorzystywana przy tworzeniu obiektu klasy student?\n",
    "\n",
    "d) Zdefiniuj ponownie funkcję __init__() tym razem wykorzystując __init__() z klasy Osoba. Podpowiedź: należy wykorzystać słowo kluczowe **super** (Wywołanie super odnosi się do klasy nadrzędnej, dzięki czemu można odnieść się do metod, które klasa potomna przysłania).\n",
    "\n",
    "e) Do klasy student dodaj atrybut numer_indeksu. Zmodyfikuj odpowiednio funkcję __init__ (wykorzystującą init z punktu c lub d). Dodaj metodę wyswietl_dane (nazwa jak w punkcie a), wyświetlającą imię i nazwisko studenta oraz jego numer indeksu. Dlaczego wyświetlane są wszytkie informacje?\n",
    "\n",
    "Podpowiedź: Najlepiej każdy podpunkt realizować w osobnej komórce (cell) i za każdym razem tworzyć definicję klasy."
   ]
  },
  {
   "cell_type": "code",
   "execution_count": 10,
   "metadata": {},
   "outputs": [
    {
     "name": "stdout",
     "output_type": "stream",
     "text": [
      "Jan Kowalski\n"
     ]
    }
   ],
   "source": [
    "class Osoba:\n",
    "    def __init__(self, imie, nazwisko):\n",
    "        self.imie = imie\n",
    "        self.nazwisko = nazwisko\n",
    "   \n",
    "    def wyswietl_dane(self):\n",
    "        print(self.imie, self.nazwisko)\n",
    "\n",
    "os1 = Osoba(\"Jan\", \"Kowalski\")\n",
    "os1.wyswietl_dane()"
   ]
  },
  {
   "cell_type": "code",
   "execution_count": 13,
   "metadata": {},
   "outputs": [
    {
     "name": "stdout",
     "output_type": "stream",
     "text": [
      "Maria Nowak\n"
     ]
    }
   ],
   "source": [
    "# b\n",
    "class Student(Osoba):\n",
    "    pass\n",
    "\n",
    "stud1 = Student(\"Maria\", \"Nowak\")\n",
    "stud1.wyswietl_dane()"
   ]
  },
  {
   "cell_type": "code",
   "execution_count": 14,
   "metadata": {},
   "outputs": [
    {
     "name": "stdout",
     "output_type": "stream",
     "text": [
      "Maria Nowak\n"
     ]
    }
   ],
   "source": [
    "#c\n",
    "class Student(Osoba):\n",
    "    def __init__(self, imie, nazwisko):\n",
    "        self.imie = imie\n",
    "        self.nazwisko = nazwisko\n",
    "\n",
    "stud1 = Student(\"Maria\", \"Nowak\")\n",
    "stud1.wyswietl_dane()"
   ]
  },
  {
   "cell_type": "code",
   "execution_count": 15,
   "metadata": {},
   "outputs": [
    {
     "name": "stdout",
     "output_type": "stream",
     "text": [
      "Maria Nowak\n"
     ]
    }
   ],
   "source": [
    "# d\n",
    "class Student(Osoba):\n",
    "    def __init__(self, imie, nazwisko):\n",
    "        super().__init__(imie, nazwisko)\n",
    "\n",
    "stud1 = Student(\"Maria\", \"Nowak\")\n",
    "stud1.wyswietl_dane()"
   ]
  },
  {
   "cell_type": "code",
   "execution_count": 17,
   "metadata": {},
   "outputs": [
    {
     "name": "stdout",
     "output_type": "stream",
     "text": [
      "Maria Nowak nr indeksu 245362\n"
     ]
    }
   ],
   "source": [
    "# e\n",
    "class Student(Osoba):\n",
    "    def __init__(self, imie, nazwisko, indeks):\n",
    "        super().__init__(imie, nazwisko)\n",
    "        self.nr_indeksu = indeks\n",
    "    \n",
    "    #f\n",
    "    def wyswietl_dane(self):\n",
    "        print(self.imie, self.nazwisko, \"nr indeksu\", self.nr_indeksu)\n",
    "\n",
    "stud1 = Student(\"Maria\", \"Nowak\", 245362)\n",
    "stud1.wyswietl_dane()"
   ]
  },
  {
   "cell_type": "markdown",
   "metadata": {},
   "source": [
    "## Zad.7: Klasa przeliczenie jednostek kątowych <a name=\"zad7\"></a>\n",
    "\n",
    "Utwórz klasę przeliczającą jednostki kątowe. Klasa powinna zawierać konstruktor (metodę __init__).\n",
    "\n",
    "Zdefiniuj metody pozwalające na przeliczenie stopni na grady, stopni na radiany, radianów na stopnie, radianów na grady, gradów na radiany, gradów na stopnie.\n",
    "\n",
    "Dodaj metodę, umożliwiającą przeliczenie stopni w postaci dziesiętnej do postaci stopnie minuty sekundy oraz metodę realizująca odwrotne przeliczenie."
   ]
  },
  {
   "cell_type": "code",
   "execution_count": 6,
   "metadata": {},
   "outputs": [
    {
     "name": "stdout",
     "output_type": "stream",
     "text": [
      "g\n",
      "90.0 s\n",
      "(90, 30, 50)\n"
     ]
    }
   ],
   "source": [
    "import math as m\n",
    "\n",
    "class JednostkiKata():\n",
    "    def __init__(self, kat = 0, jednostka = 'r'):\n",
    "        self.kat = kat\n",
    "        if jednostka in ['r', 's', 'g']:\n",
    "            self.jednostka = jednostka # symbol: r, g, s\n",
    "        else:\n",
    "            print(\"Niepoprawna jednostka, ustawiam radiany\")\n",
    "            self.jednostka = 'r'\n",
    "            \n",
    "    def grad2rad(self):\n",
    "        self.jednostka = 'r'\n",
    "        self.kat *=  m.pi / 200\n",
    "    \n",
    "    def grad2stop(self):\n",
    "        self.jednostka = 's'\n",
    "        self.kat *= 0.9\n",
    "    \n",
    "    def rad2grad(self):\n",
    "        self.jednostka = 'g' \n",
    "        self.kat *= 200 / m.pi \n",
    "    \n",
    "    def rad2stop(self):\n",
    "        self.jednostka = 's'\n",
    "        self.kat = m.degrees(self.kat)\n",
    "    \n",
    "    def stop2grad(self):\n",
    "        self.jednostka = 'g' \n",
    "        self.kat *= 10 / 9\n",
    "    \n",
    "    def stop2rad(self):\n",
    "        self.jednostka = 'r'\n",
    "        self.kat = m.radians(self.kat)\n",
    "        \n",
    "    def dec2stmins(self):\n",
    "        # ta funkcja \n",
    "        pass\n",
    "    \n",
    "    def stmins2dec(self):\n",
    "        self.kat = self.kat[0] + self.kat[1]/60 + self.kat[2]/3600\n",
    "        \n",
    "                \n",
    "kat = JednostkiKata(100, 'g')\n",
    "print(kat.jednostka)\n",
    "kat.grad2stop()\n",
    "print(kat.kat, kat.jednostka)\n",
    "kat2 = JednostkiKata((90, 30, 50), 's')  # powinno byc sprawdzenie, ze nie sa wieksze niz 60\n",
    "print(kat2.kat)\n"
   ]
  }
 ],
 "metadata": {
  "kernelspec": {
   "display_name": "Python 3",
   "language": "python",
   "name": "python3"
  },
  "language_info": {
   "codemirror_mode": {
    "name": "ipython",
    "version": 3
   },
   "file_extension": ".py",
   "mimetype": "text/x-python",
   "name": "python",
   "nbconvert_exporter": "python",
   "pygments_lexer": "ipython3",
   "version": "3.8.8"
  }
 },
 "nbformat": 4,
 "nbformat_minor": 2
}
