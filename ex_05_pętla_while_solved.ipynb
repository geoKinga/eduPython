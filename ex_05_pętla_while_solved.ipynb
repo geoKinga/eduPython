{
 "cells": [
  {
   "cell_type": "markdown",
   "metadata": {},
   "source": [
    "| **Kinga Węzka** <BR> kinga.wezka@pw.edu.pl  <BR> Warsaw University of Technology <BR> Faculty Geodesy and Cartography <BR> Plac Politechniki 1 (room 38)<BR> 00-661 Warszawa, POLAND<BR> <A href=\"https://www.google.com/maps/place/Gmach+G%C5%82%C3%B3wny+Politechniki+Warszawskiej/@52.220656,21.0094422,19z/data=!3m1!4b1!4m5!3m4!1s0x471ecce951c85a19:0x712b0e1503c42b91!8m2!3d52.220656!4d21.0099894\"> N 52&ordm; 12' 45&quot; / E 21&ordm; 03' 51&quot;</A></B><BR> | <a rel=\"license\" href=\"https://www.pw.edu.pl\"><img alt=\"Politechnika Warszawska\" style=\"border-width:0\" src=\"https://www.pw.edu.pl/design/pw/images/znak-pw.png\" /></a> |\n",
    "|---------------------------------------------------------------------------------------------------------------------------------------------------------------------------------------------------------------------------------------------------------------------------------------------------------------------------------------------------------------------------------------------------------------------------------------------------------------------------|-------------------------------------------------------------------------------------------------------------------------------------------------------------------------|\n",
    "\n",
    "**Informatyka Geodezyjna** (projekt) -- rok akademicki 2021/2022\n",
    "    \n",
    "**Prowadzący:** Kinga Węzka\n",
    "    \n",
    "**Projekt 5: Pętla `while`**\n",
    "\n",
    "\n",
    "**UWAGA: Odpowiedź na każde pytanie powinna znajdować się w oddzielnej komórce poniżej pytania, z podanym numerem pytania**\n"
   ]
  },
  {
   "cell_type": "markdown",
   "metadata": {},
   "source": [
    "# Spis tresci:\n",
    "\n",
    "1. [Zad. 1: Odliczanie od 10 do 1](#zad1)\n",
    "2. [Zad. 2: Wybieranie co trzeciej wartości](#zad2)\n",
    "3. [Zad. 3: Średnia z podawanych wartości](#zad3)\n",
    "4. [Zad. 4: Zgadywanie liczby wylosowanej przez program](#zad4)\n",
    "5. [Zad. 5: Zgadywanie liczby wylosowanej przez program (z podpowiedziami) ](#zad5)\n",
    "6. [Zad. 6: Dokładność liczb rzeczywistych w komputerze ](#zad6)\n",
    "7. [Zad. 7: Przeliczanie z systemu dwójkowego na dziesiętny (liczba całkowita)](#zad7)\n",
    "8. [Zad. 8: Przeliczanie z systemu dwójkowego na dziesiętny (liczba zmiennoprzecinkowa)](#zad8)\n",
    "9. [Zad. 9: Przeliczanie z systemu dziesiętnego na binarny (liczba całkowita)](#zad9)\n",
    "10. [Zad. 10: Przeliczanie z systemu dziesiętnego na binarny (liczba zmiennoprzecinkowa)](#zad10)\n",
    "11. [Zad. 11: Liczba pierwsza ](#zad11)\n",
    "12. [Zad. 12: Suma liczb nieparzystych mniejszych od n](#zad12)\n",
    "13. [Zad. 13: Oszczędności](#zad13)\n",
    "14. [Zad. 14: Suma ciągu](#zad14)"
   ]
  },
  {
   "cell_type": "markdown",
   "metadata": {},
   "source": [
    "## Zad.1: Odliczanie od 10 do 1 <a name=\"zad1\"></a>\n",
    "Korzystając z pętli while, napisz program który będzie odliczał od 10 do 1 (co 1)"
   ]
  },
  {
   "cell_type": "code",
   "execution_count": null,
   "metadata": {
    "scrolled": true
   },
   "outputs": [],
   "source": [
    "a=4\n",
    "while(a>0):\n",
    "    print(a)\n",
    "    a-=1\n",
    "else:\n",
    "    print('0 osiągniete')"
   ]
  },
  {
   "cell_type": "code",
   "execution_count": null,
   "metadata": {},
   "outputs": [],
   "source": [
    "i = 10\n",
    "while True:\n",
    "    print(i)\n",
    "    i-=1\n",
    "    if i < 0:\n",
    "        break"
   ]
  },
  {
   "cell_type": "markdown",
   "metadata": {},
   "source": [
    "## Zad. 2: Wybieranie co trzeciej wartości  <a name=\"zad2\"></a>\n",
    "Napisz program który z podanej listy będzie wybierał co 3 warość i zapisywał ją do nowej listy listę\n"
   ]
  },
  {
   "cell_type": "code",
   "execution_count": null,
   "metadata": {},
   "outputs": [],
   "source": [
    "lista = list(range(0,9,1))\n",
    "ilosc_elementow = len(lista)\n",
    "nowa_lista =[]\n",
    "i = 0\n",
    "while i < ilosc_elementow:\n",
    "    nowa_lista.append(lista[i])\n",
    "    i+=3\n",
    "print(nowa_lista)"
   ]
  },
  {
   "cell_type": "markdown",
   "metadata": {},
   "source": [
    "## Zad. 3:  Średnia z podawanych wartości  <a name=\"zad3\"></a>\n",
    "Napisz program wczytujący z klawiatury liczby podawane przez użytkownika, a następnie wyświetlający średnią podanych wartości. Niech program kończy działanie, kiedy użytkownik poda liczbę 0"
   ]
  },
  {
   "cell_type": "code",
   "execution_count": null,
   "metadata": {},
   "outputs": [],
   "source": [
    "## bez break:\n",
    "suma = 0\n",
    "licznik = 0\n",
    "liczba = 1\n",
    "while liczba != 0: # warunek: program kończy działanie gdy uzytkownik poda liczbę 0 \n",
    "  liczba = int(input('Podaj liczbę (0 aby zakończyć): '))\n",
    "  suma += liczba\n",
    "  licznik += 1\n",
    "\n",
    "print('Średnia wynosi: ', (suma/licznik))\n",
    "# z break\n",
    "suma = 0\n",
    "licznik = 0\n",
    "while True:\n",
    "  liczba = int(input('Podaj liczbę a(0 aby zakończyć): '))\n",
    "  if liczba == 0:  # warunek: program kończy działanie gdy uzytkownik poda liczbę 0 \n",
    "    break\n",
    "  suma += liczba\n",
    "  licznik += 1\n",
    "\n",
    "print('Średnia wynosi: ', (suma/licznik))"
   ]
  },
  {
   "cell_type": "markdown",
   "metadata": {},
   "source": [
    "##  Zad. 4:  Zgadywanie liczby wylosowanej przez program  <a name=\"zad4\"></a>\n",
    "Napisz program, który wylosuje przypadkowa liczbę od 1 do 100 i który po uruchomieniu będzie \n",
    "prosił użytkownika o jej odgadnięcie. Jeżli uzytkownik zgadnie liczbę zakończ działanie programu."
   ]
  },
  {
   "cell_type": "code",
   "execution_count": null,
   "metadata": {},
   "outputs": [],
   "source": [
    "import random\n",
    "\n",
    "liczba = random.randint(0, 5) # random.randint(a, b) - zwraca przypadkową liczbe całkowitą z zakresu a-b: https://docs.python.org/3/library/random.html\n",
    "\n",
    "print('wylosowana liczba to :', liczba) ## po co ją podawac, skoro uzytkownik ma zgadnac?\n",
    "while True:\n",
    "    twoja_liczba = int(input('Zgadnij liczbe: '))\n",
    "    if  twoja_liczba != liczba:\n",
    "        print('Zgaduj dalej ... ')\n",
    "    else:\n",
    "        break\n",
    "print('Brawo!')\n",
    "\n",
    "\n",
    "# ...::: bez break :::...\n",
    "liczba = random.randint(0, 5) # random.randint(a, b) - zwraca przypadkową liczbe całkowitą z zakresu a-b: https://docs.python.org/3/library/random.html\n",
    "twoja_liczba = int(input('Zgadnij liczbe: '))\n",
    "while twoja_liczba!=liczba:\n",
    "    print('Zgaduj dalej ... ')\n",
    "    twoja_liczba = int(input('Zgadnij liczbe: '))\n",
    "\n",
    "print('Brawo!')"
   ]
  },
  {
   "cell_type": "markdown",
   "metadata": {},
   "source": [
    "##  Zad. 5: Zgadywanie liczby wylosowanej przez program (z podpowiedziami)  <a name=\"zad5\"></a>\n",
    "Napisz program, który wylosuje przypadkowa liczbę od 1 do 100 i który po uruchomieniu będzie prosił użytkownika o jej odgadnięcie. Podczas podawania liczby przez uzytkownika program podpowiada czy liczba jest mniejsza czy większa od wylosowanej. Jezli uzytkownik zgadnie liczbę program powienienzapytać czy uzytkownik chcę zacząć nową grę\n",
    "czy zakończyć - działanie programu powinno byś zgodne z odpowiedzią uzytkownika."
   ]
  },
  {
   "cell_type": "code",
   "execution_count": null,
   "metadata": {},
   "outputs": [],
   "source": [
    "import random\n",
    "number  = random.randint(1,100) # # random.randint(a, b) - zwraca przypadkową liczbe całkowitą z zakresu a-b\n",
    "answer = \"\"   \n",
    "while True:    \n",
    "    guess = input('podaj liczbę :')\n",
    "    if guess.isdigit():  # sprawdzenie czy podana wartość jest cyfrą\n",
    "        guess = int(guess)\n",
    "        if guess<number:\n",
    "            print('Moja liczba jest wieksza')\n",
    "        if guess>number:\n",
    "            print('Moja liczba jest mniejsza')\n",
    "        if guess == number:\n",
    "            print('Brawo!, zgadłes moja liczbe!')\n",
    "            answer = str.lower(input(\"Chcesz zakonczyc program czy grac dalej? \\n Jezeli chcesz grac dalej napisz TAK, \\n jezeli nie chcesz napisz NIE   : \\n \"))\n",
    "        if answer==\"nie\":\n",
    "            print (\"Koniec programu!\" )\n",
    "            break\n",
    "        if answer == \"tak\":\n",
    "            print (\"To gramy dalej ... !\")\n",
    "            number  = random.randint(1,100) # losowanie\n",
    "            answer = \"\"               \n",
    "    else:  \n",
    "        print('podana wartość nie jest liczbą')\n"
   ]
  },
  {
   "cell_type": "code",
   "execution_count": null,
   "metadata": {},
   "outputs": [],
   "source": [
    "### bez break:\n",
    "import random\n",
    "\n",
    "number  = random.randint(1,100) # # random.randint(a, b) - zwraca przypadkową liczbe całkowitą z zakresu a-b\n",
    "answer = \"\"  \n",
    "guess = number + 1\n",
    "while guess != number:    \n",
    "    guess = input('podaj liczbę :')\n",
    "    if guess.isdigit():  # sprawdzenie czy podana wartość jest cyfrą\n",
    "        guess = int(guess)\n",
    "        if guess<number:\n",
    "            print('Moja liczba jest wieksza')\n",
    "        if guess>number:\n",
    "            print('Moja liczba jest mniejsza')\n",
    "        if guess == number:\n",
    "            print('Brawo!, zgadłes moja liczbe!')\n",
    "            answer = str.lower(input(\"Chcesz zakonczyc program czy grac dalej? \\n Jezeli chcesz grac dalej napisz TAK, \\n jezeli nie chcesz napisz NIE   : \\n \"))\n",
    "            if answer==\"nie\":\n",
    "                print (\"Koniec programu!\" )\n",
    "                break\n",
    "            if answer == \"tak\":\n",
    "                print (\"To gramy dalej ... !\")\n",
    "                number  = random.randint(1,100) # losowanie\n",
    "                answer = \"\"               \n",
    "    else:  \n",
    "        print('podana wartość nie jest liczbą')"
   ]
  },
  {
   "cell_type": "markdown",
   "metadata": {},
   "source": [
    "##  Zad. 6:   Dokładność liczb rzeczywistych w komputerze <a name=\"zad6\"></a>\n",
    "Sprawdzić jaka jest dokładność przechowywania liczb rzeczywistych w komputerze:\n",
    "\n",
    "**Podpowiedź:** wykonywać dzielenie liczby przez 2 dopóki wyniki kolejnych dzieleń przestaną się od siebie różnić. "
   ]
  },
  {
   "cell_type": "code",
   "execution_count": null,
   "metadata": {},
   "outputs": [],
   "source": [
    "liczba = 100\n",
    "wynik_1 = liczba / 2\n",
    "n = 0\n",
    "\n",
    "while wynik_1 != liczba:\n",
    "    liczba = wynik_1\n",
    "    wynik_1 = liczba /2\n",
    "    n += 1 \n",
    "    \n",
    "print(wynik_1, n)"
   ]
  },
  {
   "cell_type": "markdown",
   "metadata": {},
   "source": [
    "##  Zad. 7:  Przeliczanie z systemu dwójkowego na dziesiętny  (liczba całkowita) <a name=\"zad7\"></a>\n",
    "\n",
    "Napisz program, który liczbę całkowitą podaną przez użytkownika w systemie dwójkowym zamieni na odpowiadającą liczbę w systemie dziesiętnym.\n",
    "\n",
    "**Podpowiedź:**\n",
    "\n",
    "Aby zamienić liczbę z systemu dwójkowego na dziesiętny należy najpierw przypomnieć sobie jak są tworzone liczby w systemach? jaka liczba jest podstawą w danym systemie liczbowym. **Podstawą w systemie dwójkowym jest liczba 2}, w systemie szesnastkowym liczba 16, a w systemie dziesiętnym liczba 10**.\n",
    "\n",
    "Aby przeliczyć liczbę z systemu  dwójkowego na dziesiętny należy:  \n",
    "$$x \\cdot 2^n + ... + x \\cdot 2^5 + x \\cdot 2^4 + x \\cdot 2^3 + x \\cdot 2^2 + x \\cdot 2^1 + x \\cdot 2^0 $$\n",
    "\n",
    "Przykład: $(1110)_{BIN} = (14)_{DEC}$\n",
    "<img src=\"https://i2.wp.com/electricalfundablog.com/wp-content/uploads/2018/09/Binary-to-Decimal-Conversion.png?ssl=1\" width=\"30%\">\n",
    "\n",
    "Warto znać kolejne potęgi dwójki: \n",
    "<img src=\"https://i0.wp.com/electricalfundablog.com/wp-content/uploads/2018/09/Binary-Numbers.png?ssl=1\" width=\"40%\">\n",
    "\n",
    "Źródło rysunków: https://electricalfundablog.com/conversion-decimal-to-binary-binary-to-decimal/\n"
   ]
  },
  {
   "cell_type": "code",
   "execution_count": null,
   "metadata": {},
   "outputs": [],
   "source": [
    "# n = input(\"Podaj liczbę w systemie binarnym :\")\n",
    "n = \"1110\"\n",
    "print(\"Podana liczba w systemie dziesiętnym: \", n)\n",
    "inv_n = n[::-1] # odwrócenie\n",
    "dec_number = 0\n",
    "i = 0\n",
    "while i < len(n):\n",
    "    dec_number +=  (int(inv_n[i]) * 2**(i))\n",
    "    i+=1\n",
    "print('Liczba w systemie dziesiętnym to: ', dec_number)\n",
    "\n",
    "# kontrola metodami wbudowanymi\n",
    "a =14\n",
    "print(bin(a))\n",
    "abin = bin(14)\n",
    "print(int(abin, 2)) #baza 2(binary)"
   ]
  },
  {
   "cell_type": "markdown",
   "metadata": {},
   "source": [
    "##  Zad. 8:  Przeliczanie z systemu dwójkowego na dziesiętny  (liczba zmiennoprzecinkowa) <a name=\"zad8\"></a>\n",
    "\n",
    "Napisz program, który liczbę zmiennoprzecinkową podaną przez użytkownika w systemie dwójkowym zamieni na odpowiadającą liczbę w systemie dziesiętnym.\n",
    "\n",
    "**Podpowiedź:**\n",
    "\n",
    "Przykład: $(1110.011)_{BIN} = (14.375)_{DEC}$\n",
    "<img src=\"https://i0.wp.com/electricalfundablog.com/wp-content/uploads/2018/09/Binary-to-Decimal-Conversion-1.png?ssl=1\" width=\"50%\">\n",
    "\n",
    "Źródło rysunków: https://electricalfundablog.com/conversion-decimal-to-binary-binary-to-decimal/"
   ]
  },
  {
   "cell_type": "code",
   "execution_count": null,
   "metadata": {},
   "outputs": [],
   "source": [
    "# n = input(\"Podaj liczbę w systemie binarnym :\")\n",
    "n = \"1110.011\"\n",
    "print(\"Podana liczba w systemie dziesiętnym: \", n)\n",
    "[n1, n2] = n.split('.')\n",
    "print(n1,n2)\n",
    "\n",
    "# przeliczenie części całkowitej\n",
    "inv_n = n1[::-1] # odwrócenie\n",
    "nDecInt= 0\n",
    "i = 0\n",
    "while i < len(n1):\n",
    "    nDecInt +=  (int(inv_n[i]) * 2**(i))\n",
    "    i+=1\n",
    "print('Część całkowita w systemie dziesiętnym to: ', nDecInt)\n",
    "\n",
    "# przeliczenie części dziesiętnej\n",
    "nDecFloat= 0\n",
    "i = 0\n",
    "while i < len(n2):\n",
    "    nDecFloat +=  (int(n2[i]) * 1/2**(i+1))\n",
    "    i+=1\n",
    "print('Część dziesiętna w systemie dziesiętnym to: ', nDecFloat)\n",
    "\n",
    "# połączenie wyniku\n",
    "nDec = str(nDecInt) +str(nDecFloat)[1:]\n",
    "print('Liczba zmiennoprzecinkowa w systemie dziesiętnym:', nDec)"
   ]
  },
  {
   "cell_type": "markdown",
   "metadata": {},
   "source": [
    "##  Zad. 9:  Przeliczanie z systemu dziesiętnego na binarny (liczba całkowita) <a name=\"zad9\"></a>\n",
    "Napisz program, który liczbę całkowitą podaną przez użytkownika w systemie dziesiętnym zamieni na odpowiadającą liczbę w systemie binarnym.\n",
    "\n",
    "**Podpowiedź**\n",
    "Aby z liczby dziesiętnej uzyskać liczbę dwójkową należy dzielić daną liczbę przez 2, wyniki\n",
    "kolejnych dzieleń zapisać w słupku, a reszty z dzieleń zapisać po prawej stronie za kreską.\n",
    "Kolejne dzielenia wykonujemy do **momentu gdy wynik z dzielenia mniejszy od 1**. \n",
    "\n",
    "Przykład: $(458)_{DEC} = (111001010)_{BIN}$\n",
    "<img src=\"https://i1.wp.com/electricalfundablog.com/wp-content/uploads/2018/09/Decimal-Number-System-Conversion-to-Binary.png?ssl=1\" width=\"30%\">\n",
    "\n",
    "Źródło rysunków: https://electricalfundablog.com/conversion-decimal-to-binary-binary-to-decimal/"
   ]
  },
  {
   "cell_type": "code",
   "execution_count": null,
   "metadata": {},
   "outputs": [],
   "source": [
    "from math import modf, floor\n",
    "\n",
    "#nDec = int(input(\"Podaj liczbę w systemie dziesiętnym: \"))\n",
    "nDec = 458 # przykład\n",
    "print(\"Liczba w systemie dziesiętnym: \", nDec)\n",
    "nBin = \"\"\n",
    "while nDec > 0:\n",
    "    rest = int(nDec % 2)\n",
    "    # print (value)\n",
    "    nDec = int(nDec / 2)\n",
    "    nBin += str(rest)\n",
    "nBin = nBin[::-1]\n",
    "print(\"Liczba w systemie  binarnym:  \", nBin)"
   ]
  },
  {
   "cell_type": "code",
   "execution_count": null,
   "metadata": {},
   "outputs": [],
   "source": [
    "# funkcja rekurencyjna\n",
    "def DecimalToBinary(num):\n",
    "    if num > 1:\n",
    "        DecimalToBinary(num // 2)\n",
    "        print(num % 2)"
   ]
  },
  {
   "cell_type": "markdown",
   "metadata": {},
   "source": [
    "##  Zad. 10:  Przeliczanie z systemu dziesiętnego na binarny (liczba zmiennoprzecinkowa) <a name=\"zad10\"></a>\n",
    "Napisz program, który liczbę zmiennoprzecinkową podaną przez użytkownika w systemie dziesiętnym zamieni na odpowiadającą liczbę w systemie binarnym.\n",
    "\n",
    "Aby zamienić część ułamkową z systemu dziesiętnego na system dwójkowy należy dziesiętny należy najpierw mnożyć kolejne cześć dziesiętne przez 2 Następnie część całkowitą z kolumny obliczenia wpisujemy jako bit, a część ułamkową poddajemy kolejnemu mnożeniu przez 2.\n",
    "\n",
    "Przykład: $(458.692)_{DEC} = (1011)_{BIN}$\n",
    "<img src=\"https://i2.wp.com/electricalfundablog.com/wp-content/uploads/2018/09/Decimal-Number-System-Conversion-to-Binary-2.png?ssl=1\" width=\"30%\">\n",
    "\n",
    "Źródło rysunków: https://electricalfundablog.com/conversion-decimal-to-binary-binary-to-decimal/"
   ]
  },
  {
   "cell_type": "code",
   "execution_count": 6,
   "metadata": {},
   "outputs": [
    {
     "name": "stdout",
     "output_type": "stream",
     "text": [
      "0.30000000000000004\n"
     ]
    }
   ],
   "source": [
    "a = 0.1\n",
    "b = 0.1 + 0.1 + 0.1\n",
    "print(float(b))"
   ]
  },
  {
   "cell_type": "code",
   "execution_count": 7,
   "metadata": {},
   "outputs": [
    {
     "name": "stdout",
     "output_type": "stream",
     "text": [
      "Fractional part: 0.6920000000000073\n",
      "------------------------ index 0 1.384\n",
      "----- 0.384\n"
     ]
    },
    {
     "ename": "NameError",
     "evalue": "name 'floor' is not defined",
     "output_type": "error",
     "traceback": [
      "\u001b[0;31m---------------------------------------------------------------------------\u001b[0m",
      "\u001b[0;31mNameError\u001b[0m                                 Traceback (most recent call last)",
      "\u001b[0;32m<ipython-input-7-52a12e483ad2>\u001b[0m in \u001b[0;36m<module>\u001b[0;34m\u001b[0m\n\u001b[1;32m     12\u001b[0m     \u001b[0mfrac\u001b[0m\u001b[0;34m,\u001b[0m \u001b[0mit\u001b[0m  \u001b[0;34m=\u001b[0m \u001b[0mmodf\u001b[0m\u001b[0;34m(\u001b[0m\u001b[0mvalue\u001b[0m\u001b[0;34m)\u001b[0m\u001b[0;34m\u001b[0m\u001b[0;34m\u001b[0m\u001b[0m\n\u001b[1;32m     13\u001b[0m     \u001b[0mprint\u001b[0m\u001b[0;34m(\u001b[0m\u001b[0;34m'-----'\u001b[0m\u001b[0;34m,\u001b[0m \u001b[0mround\u001b[0m\u001b[0;34m(\u001b[0m\u001b[0mfrac\u001b[0m\u001b[0;34m,\u001b[0m\u001b[0;36m3\u001b[0m\u001b[0;34m)\u001b[0m\u001b[0;34m)\u001b[0m\u001b[0;34m\u001b[0m\u001b[0;34m\u001b[0m\u001b[0m\n\u001b[0;32m---> 14\u001b[0;31m     \u001b[0mnBin\u001b[0m \u001b[0;34m+=\u001b[0m \u001b[0mstr\u001b[0m\u001b[0;34m(\u001b[0m\u001b[0mfloor\u001b[0m\u001b[0;34m(\u001b[0m\u001b[0mit\u001b[0m\u001b[0;34m)\u001b[0m\u001b[0;34m)\u001b[0m\u001b[0;34m\u001b[0m\u001b[0;34m\u001b[0m\u001b[0m\n\u001b[0m\u001b[1;32m     15\u001b[0m \u001b[0;34m\u001b[0m\u001b[0m\n\u001b[1;32m     16\u001b[0m     \u001b[0;32mif\u001b[0m \u001b[0mi\u001b[0m \u001b[0;34m==\u001b[0m \u001b[0;36m6\u001b[0m\u001b[0;34m:\u001b[0m\u001b[0;34m\u001b[0m\u001b[0;34m\u001b[0m\u001b[0m\n",
      "\u001b[0;31mNameError\u001b[0m: name 'floor' is not defined"
     ]
    }
   ],
   "source": [
    "#Tylko przeliczenie części dziesiętnej, całkowita w zad. poprzednim\n",
    "from math import modf\n",
    "# n = input(\"Podaj liczbę w systemie binarnym :\")\n",
    "n = \"458.692\"\n",
    "frac, integer = modf(458.692)\n",
    "print('Fractional part:', frac)\n",
    "i = 0\n",
    "nBin = \".\"\n",
    "while i < 6:\n",
    "    value = float(round(frac,3)) * 2\n",
    "    frac, it  = modf(value)\n",
    "    nBin += str(floor(it))\n",
    "    \n",
    "    if i == 6:\n",
    "        break\n",
    "    i+=1\n",
    "        \n",
    "print(nBin)"
   ]
  },
  {
   "cell_type": "markdown",
   "metadata": {},
   "source": [
    "##  Zad. 11:  Liczba pierwsza <a name=\"zad11\"></a>\n",
    "Korzystając z pętli while, napisać program, który sprawdza, czy podana przez użytkownika liczba jest liczbą pierwszą."
   ]
  },
  {
   "cell_type": "code",
   "execution_count": null,
   "metadata": {},
   "outputs": [],
   "source": [
    "import math as m\n",
    "n = int(input(\"Podaj n: \"))\n",
    "\n",
    "dzielniki = 0\n",
    "i = 2\n",
    "\n",
    "while dzielniki == 0 and i <= m.floor(m.sqrt(n)):\n",
    "    if n % i == 0:\n",
    "        dzielniki += 1\n",
    "    i += 1\n",
    "\n",
    "if dzielniki == 1: # wystarczylo znalezc jeden dzielnik\n",
    "    print(\"Liczba zlozona\")\n",
    "else:\n",
    "    print(\"Liczba pierwsza\")"
   ]
  },
  {
   "cell_type": "markdown",
   "metadata": {},
   "source": [
    "## Zad. 12:  Suma liczb nieparzystych mniejszych od n <a name=\"zad12\"></a>\n",
    "Wypisać kolejne liczby całkowite dodatnie nieparzyste, których suma jest mniejsza niż podana przez użytkownika liczba n."
   ]
  },
  {
   "cell_type": "code",
   "execution_count": null,
   "metadata": {},
   "outputs": [],
   "source": [
    "n = float(input(\"Podaj n: \"))\n",
    "suma = 0\n",
    "i = 1\n",
    "\n",
    "while suma <= n:\n",
    "    if i % 2 == 1:\n",
    "        suma += i\n",
    "        print(i)\n",
    "    i +=1"
   ]
  },
  {
   "cell_type": "markdown",
   "metadata": {},
   "source": [
    "## Zad. 13:  Oszczędności <a name=\"zad13\"></a>\n",
    "Pan Janek ma 8000 zł oszczędności. Umieścił je na lokacie, na której roczne oprocentowanie wynosi 4%. Po ilu latach oszczędności pana Janka będą wynosić 10 000 zł?"
   ]
  },
  {
   "cell_type": "code",
   "execution_count": 1,
   "metadata": {},
   "outputs": [
    {
     "name": "stdout",
     "output_type": "stream",
     "text": [
      "Musi minac 6 lat, zeby Pan Janek mial 10000 zł oszczednosci.\n"
     ]
    }
   ],
   "source": [
    "oszczednosci = 8000\n",
    "lata = 0\n",
    "bogactwo = 10000\n",
    "procent = 0.04\n",
    "\n",
    "while (oszczednosci <= bogactwo):\n",
    "    lata +=1\n",
    "    oszczednosci *= (1+procent)\n",
    "print(\"Musi minac\", lata, \"lat, zeby Pan Janek mial\", bogactwo, \"zł oszczednosci.\")"
   ]
  },
  {
   "cell_type": "markdown",
   "metadata": {},
   "source": [
    "## Zad. 14:  Suma ciągu <a name=\"zad14\"></a>\n",
    "Obliczyć wartość sumy ciagu $S_m$:\n",
    "$$\n",
    "S_m =\\sum_{i=1}^m  ((i + 1)^2 − 5)\n",
    "$$\n",
    "Sumowanie zakończyć, gdy suma przekroczy wartość limit (ustaloną przez użytkownika). Ile wyrazów zsumowano? Wyswietlić odpowiedź."
   ]
  },
  {
   "cell_type": "code",
   "execution_count": null,
   "metadata": {},
   "outputs": [],
   "source": [
    "limit = float(input(\"Podaj limit sumowania: \"))\n",
    "\n",
    "suma = 0\n",
    "liczba = 0\n",
    "i = 1\n",
    "\n",
    "while suma <= limit:\n",
    "    suma += (i+1)**2 - 5\n",
    "    liczba += 1\n",
    "    i += 1\n",
    "    \n",
    "print(\"Liczba zsumowanych liczb wynosi: \", liczba)"
   ]
  }
 ],
 "metadata": {
  "kernelspec": {
   "display_name": "Python 3",
   "language": "python",
   "name": "python3"
  },
  "language_info": {
   "codemirror_mode": {
    "name": "ipython",
    "version": 3
   },
   "file_extension": ".py",
   "mimetype": "text/x-python",
   "name": "python",
   "nbconvert_exporter": "python",
   "pygments_lexer": "ipython3",
   "version": "3.8.8"
  }
 },
 "nbformat": 4,
 "nbformat_minor": 2
}
