{
 "cells": [
  {
   "cell_type": "markdown",
   "metadata": {},
   "source": [
    "| **Kinga Węzka** <BR> kinga.wezka@pw.edu.pl  <BR> Warsaw University of Technology <BR> Faculty Geodesy and Cartography <BR> Plac Politechniki 1 (room 38)<BR> 00-661 Warszawa, POLAND<BR> <A href=\"https://www.google.com/maps/place/Gmach+G%C5%82%C3%B3wny+Politechniki+Warszawskiej/@52.220656,21.0094422,19z/data=!3m1!4b1!4m5!3m4!1s0x471ecce951c85a19:0x712b0e1503c42b91!8m2!3d52.220656!4d21.0099894\"> N 52&ordm; 12' 45&quot; / E 21&ordm; 03' 51&quot;</A></B><BR> | <a rel=\"license\" href=\"https://www.pw.edu.pl\"><img alt=\"Politechnika Warszawska\" style=\"border-width:0\" src=\"https://www.pw.edu.pl/design/pw/images/znak-pw.png\" /></a> |\n",
    "|---------------------------------------------------------------------------------------------------------------------------------------------------------------------------------------------------------------------------------------------------------------------------------------------------------------------------------------------------------------------------------------------------------------------------------------------------------------------------|-------------------------------------------------------------------------------------------------------------------------------------------------------------------------|\n",
    "\n",
    "**Informatyka Geodezyjna** (projekt) -- rok akademicki 2021/2022\n",
    "    \n",
    "**Prowadzący:** Kinga Węzka\n",
    "    \n",
    "**Projekt 11**  Elementy programowania funkcyjnego  w Pythonie\n",
    "\n",
    "**UWAGA: Odpowiedź na każde pytanie powinna znajdować się w oddzielnej komórce poniżej pytania, z podanym numerem pytania**\n"
   ]
  },
  {
   "cell_type": "markdown",
   "metadata": {},
   "source": [
    "# Spis treści:\n",
    "0. [Zad. 0: Funkcja anonimowa lambda](#zad0)\n",
    "1. [Zad. 1: Funkcje z użyciem lambda, filter](#zad1)\n",
    "2. [Zad. 2: Funkcje z użyciem lambda, map](#zad2)\n",
    "3. [Zad. 3: Listy składane (list comprehension)](#zad3) \n",
    "4. [Zad. 4: Funkcja z użyciem map](#zad6)\n",
    "5. [Zad. 5: Funkcja z użyciem lambda, reduce ](#zad4)\n",
    "6. [Zad. 6: Listy składane (list comprehension) ](#zad5)\n",
    "7. [Zad. 7: Słowniki składane (dictionary comprehension)](#zad7)"
   ]
  },
  {
   "cell_type": "code",
   "execution_count": 24,
   "metadata": {},
   "outputs": [
    {
     "name": "stdout",
     "output_type": "stream",
     "text": [
      "0.2866954803466797\n"
     ]
    }
   ],
   "source": [
    "#pętla czas realizacji\n",
    "import time\n",
    "\n",
    "start = time.time()\n",
    "parzyste = []\n",
    "for i in range(1000000):\n",
    "    if i %2==0:\n",
    "        parzyste.append(i)\n",
    "end = time.time()\n",
    "print(end-start)"
   ]
  },
  {
   "cell_type": "code",
   "execution_count": 23,
   "metadata": {},
   "outputs": [
    {
     "name": "stdout",
     "output_type": "stream",
     "text": [
      "0.20896387100219727\n"
     ]
    }
   ],
   "source": [
    "#lista składana czas realizacji\n",
    "start = time.time()\n",
    "parzyste = [i for i in range(1000000) if (i % 2 == 0) ]\n",
    "end = time.time()\n",
    "print(end-start)"
   ]
  },
  {
   "cell_type": "markdown",
   "metadata": {},
   "source": [
    "## Zad.0: Funkcja anonimowa lambda, filter <a name=\"zad0\"></a>\n",
    "Poniższą funkcję zapisz jako funkcję anonimową z operatorem `lambda`"
   ]
  },
  {
   "cell_type": "code",
   "execution_count": 11,
   "metadata": {},
   "outputs": [
    {
     "name": "stdout",
     "output_type": "stream",
     "text": [
      "30\n"
     ]
    }
   ],
   "source": [
    "def x (a, b):\n",
    "    return a*b\n",
    "print(x(5, 6))"
   ]
  },
  {
   "cell_type": "code",
   "execution_count": 1,
   "metadata": {},
   "outputs": [
    {
     "name": "stdout",
     "output_type": "stream",
     "text": [
      "30\n"
     ]
    }
   ],
   "source": [
    "x = lambda a, b : a * b\n",
    "print(x(5, 6))"
   ]
  },
  {
   "cell_type": "markdown",
   "metadata": {},
   "source": [
    "## Zad.1: Funkcja z użyciem lambda, filter <a name=\"zad1\"></a>\n",
    "Napisz funkcję która z listy słów zwróci listę słów będących palidromami.\n",
    "Następnie tą samą funkcję zapisz korzystając z operatorów: `lambda` `filter`\n"
   ]
  },
  {
   "cell_type": "code",
   "execution_count": 17,
   "metadata": {},
   "outputs": [
    {
     "name": "stdout",
     "output_type": "stream",
     "text": [
      "['madam', 'anutforajaroftuna']\n"
     ]
    }
   ],
   "source": [
    "dromes = (\"demigod\", \"rewire\", \"madam\", \"freer\", \"anutforajaroftuna\", \"kiosk\")\n",
    "\n",
    "def palidromes(word):\n",
    "    return word == word[::-1]\n",
    "          \n",
    "\n",
    "#print(palidromes(dromes))\n",
    "p = list(filter(palidromes, dromes))\n",
    "print(p)"
   ]
  },
  {
   "cell_type": "code",
   "execution_count": 1,
   "metadata": {},
   "outputs": [
    {
     "name": "stdout",
     "output_type": "stream",
     "text": [
      "['madam', 'anutforajaroftuna']\n"
     ]
    }
   ],
   "source": [
    "dromes = (\"demigod\", \"rewire\", \"madam\", \"freer\", \"anutforajaroftuna\", \"kiosk\")\n",
    "\n",
    "palindromes = list(filter(lambda word: word == word[::-1], dromes))\n",
    "\n",
    "print(palindromes)"
   ]
  },
  {
   "cell_type": "markdown",
   "metadata": {},
   "source": []
  },
  {
   "cell_type": "code",
   "execution_count": 19,
   "metadata": {},
   "outputs": [],
   "source": [
    "aquarium_tanks = [11, False, 18, 21, \"\", 12, 34, 0, [], {}]\n",
    "list(filter(None, aquarium_tanks))"
   ]
  },
  {
   "cell_type": "markdown",
   "metadata": {},
   "source": [
    "## Zad.2: Funkcja z użyciem lambda, map <a name=\"zad2\"></a>\n",
    "\n",
    "Korzystając z operatorów `lambda` `map` listę krotek dwuelementowych (po jednym elemencie z każdej z list"
   ]
  },
  {
   "cell_type": "code",
   "execution_count": null,
   "metadata": {},
   "outputs": [],
   "source": [
    "my_strings = ['a', 'b', 'c', 'd', 'e']\n",
    "my_numbers = [1,2,3,4,5]\n",
    "\n",
    "results = list(zip(my_strings, my_numbers))\n",
    "\n",
    "print(results)\n"
   ]
  },
  {
   "cell_type": "code",
   "execution_count": 1,
   "metadata": {},
   "outputs": [
    {
     "name": "stdout",
     "output_type": "stream",
     "text": [
      "[('a', 1), ('b', 2), ('c', 3), ('d', 4), ('e', 5)]\n"
     ]
    }
   ],
   "source": [
    "my_strings = ['a', 'b', 'c', 'd', 'e']\n",
    "my_numbers = [1,2,3,4,5]\n",
    "\n",
    "results = list(map(lambda x, y: (x,y), my_strings, my_numbers))\n",
    "\n",
    "print(results)"
   ]
  },
  {
   "cell_type": "markdown",
   "metadata": {},
   "source": [
    "## Zad.3: Listy składane (list comprehension) <a name=\"zad3\"></a>\n",
    "Korzystając z list składanych oraz z operatorów programowania funkcyjnego napisz funkcje generujące:\n",
    "+ a) listę liczb parzystych z przedziału <1,20>\n",
    "+ b) listę liczb nieparzystychz przedziału <1,20>\n"
   ]
  },
  {
   "cell_type": "code",
   "execution_count": 21,
   "metadata": {},
   "outputs": [
    {
     "name": "stdout",
     "output_type": "stream",
     "text": [
      "[1, 3] [1, 3]\n"
     ]
    }
   ],
   "source": [
    "#parzyste\n",
    "f = list(filter(lambda x: x%2 !=0, [1,2,3,4]))\n",
    "c = [i for i in [1,2,3,4] if i%2!=0]\n",
    "print(f,c)"
   ]
  },
  {
   "cell_type": "code",
   "execution_count": 23,
   "metadata": {},
   "outputs": [
    {
     "name": "stdout",
     "output_type": "stream",
     "text": [
      "[2, 4] [2, 4]\n"
     ]
    }
   ],
   "source": [
    "#nieparzyste\n",
    "f = list(filter(lambda x: x%2 == 0, [1,2,3,4]))\n",
    "c = [i for i in [1,2,3,4] if i%2==0]\n",
    "print(f,c)"
   ]
  },
  {
   "cell_type": "markdown",
   "metadata": {},
   "source": [
    "## Zad.4: Funkcja z użyciem map <a name=\"zad4\"></a>\n",
    "\n",
    "Napisz fragment kodu który nazwy zwierzaków (z listy my_pets)  pisane małymi literami zmnieni na nazwy pisane dużymi literami i zapisze do listy (uppered_pets). Następnie ten sam fragment kodu zapisz korzystając z funkcji `map`."
   ]
  },
  {
   "cell_type": "code",
   "execution_count": 2,
   "metadata": {},
   "outputs": [
    {
     "name": "stdout",
     "output_type": "stream",
     "text": [
      "['ALFRED', 'TABITHA', 'WILLIAM', 'ARLA']\n"
     ]
    }
   ],
   "source": [
    "my_pets = ['alfred', 'tabitha', 'william', 'arla']\n",
    "uppered_pets = []\n",
    "for pet in my_pets:\n",
    "    pet_ = pet.upper()\n",
    "    uppered_pets.append(pet_)\n",
    "\n",
    "print(uppered_pets)"
   ]
  },
  {
   "cell_type": "code",
   "execution_count": null,
   "metadata": {},
   "outputs": [],
   "source": [
    "my_pets = ['alfred', 'tabitha', 'william', 'arla']\n",
    "\n",
    "uppered_pets = list(map(str.upper, my_pets))\n",
    "\n",
    "print(uppered_pets)"
   ]
  },
  {
   "cell_type": "markdown",
   "metadata": {},
   "source": [
    "## Zad.5: Funkcja z użyciem lambda, reduce <a name=\"zad5\"></a>\n",
    "Napisz funkcje pythona które:\n",
    "+ sumują wszystkie elementy listy\n",
    "+ wskazują wartość maksymalną listy\n",
    "\n",
    "Następnie obie funkcje zapisz korzystając z metody `lambda` i `reduce`\n"
   ]
  },
  {
   "cell_type": "code",
   "execution_count": null,
   "metadata": {},
   "outputs": [],
   "source": [
    "lis = [ 1 , 3, 5, 6, 2, 2 ] \n",
    "\n",
    "for x in lis:\n",
    "    if "
   ]
  },
  {
   "cell_type": "code",
   "execution_count": 4,
   "metadata": {},
   "outputs": [
    {
     "name": "stdout",
     "output_type": "stream",
     "text": [
      "Suma elementów listy to: 19\n",
      "Element o maksymalnej wartości: 6\n"
     ]
    }
   ],
   "source": [
    "# import functools dla funkcji reduce()\n",
    "import functools \n",
    "  \n",
    "# lista\n",
    "lis = [ 1 , 3, 5, 6, 2, 2 ] \n",
    "  \n",
    "# użycie reduce do obliczenia sumy wszystkich elementów z listy\n",
    "print (\"Suma elementów listy to: \", end=\"\") \n",
    "print (functools.reduce(lambda a,b : a+b, lis)) \n",
    "  \n",
    "# użycie reduce to wyznaczaniea maximum listy\n",
    "print (\"Element o maksymalnej wartości: \",end=\"\") \n",
    "print (functools.reduce(lambda a, b : a if a > b else b, lis)) "
   ]
  },
  {
   "cell_type": "code",
   "execution_count": null,
   "metadata": {},
   "outputs": [],
   "source": []
  },
  {
   "cell_type": "markdown",
   "metadata": {},
   "source": [
    "## Zadanie 6: Listy składane (list comprehension)\n",
    "Korzystając z metody list składanych (list comprehension) wygeneruj listę:\n",
    "+ a) listę liczb parzystych podzielnych przez 4 z przedziału <5, 50>\n",
    "+ b) listę która zamiast wartości od 0 do 10 wyświetli odpowiadajace liczbom informacje Parzysty/Nieparzysty (Even/Odd)\n"
   ]
  },
  {
   "cell_type": "code",
   "execution_count": 7,
   "metadata": {},
   "outputs": [
    {
     "name": "stdout",
     "output_type": "stream",
     "text": [
      "[8, 12, 16, 20, 24, 28, 32, 36, 40, 44, 48]\n"
     ]
    }
   ],
   "source": [
    "# a) listę liczb parzystych podzielnych przez 4 z przedziału <5, 50>\n",
    "number_list = [ x for x in range(5, 50) if (x % 2 == 0 and x % 4 == 0)]\n",
    "print(number_list)\n"
   ]
  },
  {
   "cell_type": "code",
   "execution_count": 10,
   "metadata": {},
   "outputs": [
    {
     "name": "stdout",
     "output_type": "stream",
     "text": [
      "['Even', 'Odd', 'Even', 'Odd', 'Even', 'Odd', 'Even', 'Odd', 'Even', 'Odd']\n"
     ]
    }
   ],
   "source": [
    "# b) listę która zamiast wartości od 0 do 10 wyświetli odpowiadajace liczbom informacje Even/Odd\n",
    "obj = [\"Even\" if i%2==0 else \"Odd\" for i in range(10)]\n",
    "print(obj)"
   ]
  },
  {
   "cell_type": "markdown",
   "metadata": {},
   "source": [
    "## Przykłady użycia list comprehension"
   ]
  },
  {
   "cell_type": "code",
   "execution_count": null,
   "metadata": {},
   "outputs": [],
   "source": [
    "[x.upper() for x in [\"a\",\"b\",\"c\"]]"
   ]
  },
  {
   "cell_type": "code",
   "execution_count": null,
   "metadata": {},
   "outputs": [],
   "source": [
    "[x.lower() for x in [\"A\",\"B\",\"C\"]]"
   ]
  },
  {
   "cell_type": "code",
   "execution_count": null,
   "metadata": {},
   "outputs": [],
   "source": [
    "Zadanie 7. Słownik składany (dictionary com)"
   ]
  },
  {
   "cell_type": "markdown",
   "metadata": {},
   "source": [
    "## Zadanie 7: Słowniki składane (dictionary comprehension)\n",
    "\n",
    "Napisz program korzystając ze wyrażenia słownika składanego (dictionary comprehension) który z listy liczb od 1 do 10 wygeneruje słownik {liczba: liczba**2}:\n",
    "\n",
    "{1: 1, 2: 4, 3: 9, 4: 16, 5: 25, 6: 36, 7: 49, 8: 64, 9: 81, 10: 100}\n"
   ]
  },
  {
   "cell_type": "code",
   "execution_count": 2,
   "metadata": {},
   "outputs": [
    {
     "name": "stdout",
     "output_type": "stream",
     "text": [
      "{1: 1, 2: 4, 3: 9, 4: 16, 5: 25, 6: 36, 7: 49, 8: 64, 9: 81, 10: 100}\n"
     ]
    }
   ],
   "source": [
    "# dictionary comprehension example\n",
    "square_dict = {num: num*num for num in range(1, 11)}\n",
    "print(square_dict)"
   ]
  },
  {
   "cell_type": "code",
   "execution_count": null,
   "metadata": {},
   "outputs": [],
   "source": []
  }
 ],
 "metadata": {
  "kernelspec": {
   "display_name": "Python 3",
   "language": "python",
   "name": "python3"
  },
  "language_info": {
   "codemirror_mode": {
    "name": "ipython",
    "version": 3
   },
   "file_extension": ".py",
   "mimetype": "text/x-python",
   "name": "python",
   "nbconvert_exporter": "python",
   "pygments_lexer": "ipython3",
   "version": "3.8.8"
  }
 },
 "nbformat": 4,
 "nbformat_minor": 2
}
