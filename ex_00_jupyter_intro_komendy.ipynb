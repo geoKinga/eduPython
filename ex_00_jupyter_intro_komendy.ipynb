{
 "cells": [
  {
   "cell_type": "markdown",
   "metadata": {},
   "source": [
    "| **Kinga Węzka** <BR> kinga.wezka@pw.edu.pl  <BR> Warsaw University of Technology <BR> Faculty Geodesy and Cartography <BR> Plac Politechniki 1 (room 38)<BR> 00-661 Warszawa, POLAND<BR> <A href=\"https://www.google.com/maps/place/Gmach+G%C5%82%C3%B3wny+Politechniki+Warszawskiej/@52.220656,21.0094422,19z/data=!3m1!4b1!4m5!3m4!1s0x471ecce951c85a19:0x712b0e1503c42b91!8m2!3d52.220656!4d21.0099894\"> N 52&ordm; 12' 45&quot; / E 21&ordm; 03' 51&quot;</A></B><BR> | <a rel=\"license\" href=\"https://www.pw.edu.pl\"><img alt=\"Politechnika Warszawska\" style=\"border-width:0\" src=\"https://www.pw.edu.pl/design/pw/images/znak-pw.png\" /></a> |\n",
    "|---------------------------------------------------------------------------------------------------------------------------------------------------------------------------------------------------------------------------------------------------------------------------------------------------------------------------------------------------------------------------------------------------------------------------------------------------------------------------|-------------------------------------------------------------------------------------------------------------------------------------------------------------------------|"
   ]
  },
  {
   "cell_type": "markdown",
   "metadata": {},
   "source": [
    "## Jupyter skróty klawiszowe i komendy"
   ]
  },
  {
   "cell_type": "markdown",
   "metadata": {},
   "source": [
    "# Spis tresci:\n",
    "\n",
    "1. [Wprowadzenie](#intro)\n",
    "    1. [Funkcjonalność komórek (cells)](#intro2)\n",
    "    2. [Kernel](#intro3)\n",
    "2. [Tryby pracy](#modes)\n",
    "3. [Menagery podpowiedzi](#podpowiedzi)\n",
    "4. [Komendy Magiczne IPython](#magickomends)\n",
    "5. [Opcje wyświetlania wykresów w notebooku jupyter](#show_fig)\n",
    "\n"
   ]
  },
  {
   "cell_type": "markdown",
   "metadata": {},
   "source": [
    "## 1. Wprowadzenie <a name=\"intro\"></a>\n",
    "\n",
    "\n",
    "Notatnik Jupyter integruje kod i jego dane wyjściowe w jeden dokument, który łączy wizualizacje, tekst narracyjny, równania matematyczne i inne multimedia. Innymi słowy: jest to pojedynczy dokument, w którym można uruchomić kod, wyświetlić dane wyjściowe, a także dodać wyjaśnienia, formuły, wykresy i sprawić, by Twoja praca była bardziej przejrzysta, zrozumiała, powtarzalna i możliwa do udostępniania.\n",
    "\n",
    "Więcej trików i podpowiedzi jak korzystać z notatników Jupyter można znaleźć tutaj: https://www.dataquest.io/blog/jupyter-notebook-tips-tricks-shortcuts/\n",
    "\n",
    "### 1.A. Funkcjonalność komórek (cells) <a name=\"intro2\"></a>\n",
    "Kazdy Notatnik Jupyter składa się z komórek \n",
    "- **Code** - Komórka zawiera kod do wykonania w jądrze. Po uruchomieniu kodu, wynik działania koduuruchamia się poniżej komórki kodu, która go wygenerowała.\n",
    "- **Markdown**  - Komórka  zawiera tekst sformatowany przy użyciu języka Markdown i wyświetla dane wyjściowe w miejscu, gdy komórka Markdown jest uruchomiona. Więcej informacji na temat formatowania tekstu w języku **Markdown** znajduje się w notatniku: **help_jupyter_intro_markdown.ipynb**\n",
    "- **Raw NBConver**  - Komórka  zawiera tekst niesformatowany tak jak w notatniku tekstowym.\n",
    "- **Heading**  - Komórka  zawiera formatowanie nagłówków sekcji (np. `# Rozdział 1`)\n",
    "\n",
    "Nowo dodana komórka jest zawsze komórką **Code**.\n",
    "\n",
    "### 1.B. Kernel <a name=\"intro3\"></a>\n",
    "\n",
    "**Kernel** (jądro) to „silnik obliczeniowy”, który wykonuje kod zapisany w dokumencie notatnika, w naszym przypadku. jest to silnik języka Python (Istnieją jądra dla różnych wersji Pythona, a także dla ponad 100 języków, w tym Java, C, a nawet Fortran).\n",
    "\n",
    "Na zapleczu każdego notebooka znajduje się kernel (jądro). Podczas uruchomiania komórki kodu, ten kod jest wykonywany w jądrze. Wszelkie dane wyjściowe są zwracane z powrotem do komórki, która ma zostać wyświetlona. Stan jądra utrzymuje się w czasie i między komórkami — dotyczy dokumentu jako całości, a nie poszczególnych komórek. To oznacza, że jesli w kmórce pierwszej zadeklarowaliśmy zmienną \"a\" i komórka ta została uruchomiona, to w komórce drugiek nie musimy ponownie deklarować zmiennej \"a\" ponieważ jest ona już zadeklarowana w danej sesji Kernela. Jednak po restarcie kkernela lub po ponownycm uruchomieniu notatnika, mósimy pamietać o tym aby przed uruchomieniem komórki drugiej uruchomić komórkę pierwszą ze zmienną \"a\".\n",
    "\n",
    "\n"
   ]
  },
  {
   "cell_type": "markdown",
   "metadata": {},
   "source": [
    "## 2. Tryby pracy <a name=\"modes\"></a>\n",
    "\n",
    "\n",
    "Jupyter Notebooks ma dwa różne tryby wprowadzania treści z klawiatury:\n",
    "+ **Tryb komend (Command mode)** - pozwala na korzystanie z funkcjonalnych skrótów klawiszonych (poniżej). Aby uruchomić tryb komend i należy zaznaczyć komórkę, aby wyjść z trybu edycji należy wcisnąć klawisz **ESC**. Komórka jest otoczona ramką koloru **niebieskiego**\n",
    "+ **Tryb edycji (Edit mode)** - wybranie komórki i wciśniecie `Enter` pozwala wejść w tryb edycji, tryb ten pozwala na edycję zawartości danej komórki. Komórka jest otoczona ramką koloru **zielonego**\n",
    "\n",
    "\n",
    "+ **Tryb komend (Command mode)**  - lewa ramka koloru niebieskiego\n",
    "    - [x] klawisze `ctrl + enter` uruchomią kod danej komórki\n",
    "    - [x] klawisze `shift + enter` uruchomią kod danej komórki i przejdziemy do edycji komórki poniżej\n",
    "    - [x] klawisze `alt + enter` uruchomią kod danej komórki i utworzą nową komórkę poniżej\n",
    "    - [x] klawisz `A` wstawi komórkę powyżej aktywnej\n",
    "    - [x] klawisz `B` wstawi komórkę powyżej aktywnej\n",
    "    - [x] klawisz `C` skopuje komórkę (powinna być ona w trybie komend)\n",
    "    - [x] klawisz `V` wklei komórkę\n",
    "    - [x] klawisz `Y` zmieni funkcjonalność komórki w tryb **Code**\n",
    "    - [x] klawisz `M` zmieni funkcjonalność komórki w tryb **Markdown**\n",
    "    - [x] dwa razy kliknięty klawisz `D` usunie wybrana komórkę (powinna być ona w trybie komend)\n",
    "    - [x] klawisz `Z` cofnie usunięcie komórki \n",
    "    - [x] klawisze `shift + M` połączą 2 wybrane komórki, lub bieżącą komórkę z tą poniżej, jeśli zaznaczono jedną komórkę\n",
    "    - [x] dwa razy kliknięty klawisz `I` przerwie działanie kernela\n",
    "    - [x] wa razy kliknięty klawisz `0` zrestartuje kernela\n",
    "\n",
    "\n",
    "+ **Tryb edycji (Edit mode)** - lewa ramka koloru zielonego\n",
    "    - [x] klawisze `ctrl + shift + -`  podzielą komórkę, komórka w trybie edycji zostanie podzielona w miejscu kursora\n",
    "    - [x] klawisze `cmd + /` przełączą zaznaczony wiersz w komentarz\n",
    "    - [x] klawisz `tab` uzupełnia kod lub tworzy indentację \n",
    "    - [x] klawisze `shift + tab` dostęp do opisu funkcji (wyjaśnienie poniżej)\n",
    "   \n",
    "Całą paletę komend dostępnych w Jupyter można uzyskać po naciśnięciu klawiszy `Ctrl + Shift + P`."
   ]
  },
  {
   "cell_type": "code",
   "execution_count": 33,
   "metadata": {},
   "outputs": [
    {
     "name": "stdout",
     "output_type": "stream",
     "text": [
      "Object `math.sin  #< proszę stanąć kursorem na końcu słowa sin (lub słowa math) i nacisnąć klawisze `shift + tab`` not found.\n"
     ]
    }
   ],
   "source": [
    "#klawisze `shift + tab` dostęp do opisu funkcji\n",
    "import math\n",
    "\n",
    "math.sin  #< proszę stanąć kursorem na końcu słowa sin (lub słowa math) i nacisnąć klawisze `shift + tab`\n"
   ]
  },
  {
   "cell_type": "code",
   "execution_count": null,
   "metadata": {},
   "outputs": [],
   "source": [
    "fafa"
   ]
  },
  {
   "cell_type": "markdown",
   "metadata": {},
   "source": [
    "## 3. Menager podpowiedzi <a name=\"podpowiedzi\"></a>\n",
    "\n",
    "Aby wyświetlić dokumentację dla funkcji/metody należy na poczatku lini z wykorzystywaną metoda wpisać \"?\" i uruchomić komórkę"
   ]
  },
  {
   "cell_type": "code",
   "execution_count": 1,
   "metadata": {},
   "outputs": [],
   "source": [
    "import math\n",
    "\n",
    "?math.sin\n",
    "?str.replace"
   ]
  },
  {
   "cell_type": "markdown",
   "metadata": {},
   "source": [
    "## 4. Komendy Magiczne IPython <a name=\"magickomends\"></a>"
   ]
  },
  {
   "cell_type": "markdown",
   "metadata": {},
   "source": [
    "Komendy magiczne w notatnikach czy też w interaktywnych konsolach takich jak IPython daja wiele dodatkowych funkcjonalności. Aby wyświetlić dostepne komendy należy w kompurce kodu lub w konsoli IPython wpisac komendę `%lsmagic`\n",
    "\n",
    "Wiele fukcjonalności komend magicznych zostało opisane tutaj: https://www.dataquest.io/blog/jupyter-notebook-tips-tricks-shortcuts/\n",
    "\n",
    "\n",
    "\n",
    "- [x] Wylistowanie wszystkich komend magicznych: `%lsmagic`\n",
    "- [x] Załadowanie kodu z zewnętrznego pliku (to nie jest import modułu): `%load ./hello_world.py`\n",
    "- [x] Wyświetlenie listy zmiennych globalnych: `%who`\n"
   ]
  },
  {
   "cell_type": "code",
   "execution_count": 3,
   "metadata": {},
   "outputs": [
    {
     "data": {
      "application/json": {
       "cell": {
        "!": "OSMagics",
        "HTML": "Other",
        "SVG": "Other",
        "bash": "Other",
        "capture": "ExecutionMagics",
        "debug": "ExecutionMagics",
        "file": "Other",
        "html": "DisplayMagics",
        "javascript": "DisplayMagics",
        "js": "DisplayMagics",
        "latex": "DisplayMagics",
        "markdown": "DisplayMagics",
        "perl": "Other",
        "prun": "ExecutionMagics",
        "pypy": "Other",
        "python": "Other",
        "python2": "Other",
        "python3": "Other",
        "ruby": "Other",
        "script": "ScriptMagics",
        "sh": "Other",
        "svg": "DisplayMagics",
        "sx": "OSMagics",
        "system": "OSMagics",
        "time": "ExecutionMagics",
        "timeit": "ExecutionMagics",
        "writefile": "OSMagics"
       },
       "line": {
        "alias": "OSMagics",
        "alias_magic": "BasicMagics",
        "autoawait": "AsyncMagics",
        "autocall": "AutoMagics",
        "automagic": "AutoMagics",
        "autosave": "KernelMagics",
        "bookmark": "OSMagics",
        "cat": "Other",
        "cd": "OSMagics",
        "clear": "KernelMagics",
        "colors": "BasicMagics",
        "conda": "PackagingMagics",
        "config": "ConfigMagics",
        "connect_info": "KernelMagics",
        "cp": "Other",
        "debug": "ExecutionMagics",
        "dhist": "OSMagics",
        "dirs": "OSMagics",
        "doctest_mode": "BasicMagics",
        "ed": "Other",
        "edit": "KernelMagics",
        "env": "OSMagics",
        "gui": "BasicMagics",
        "hist": "Other",
        "history": "HistoryMagics",
        "killbgscripts": "ScriptMagics",
        "ldir": "Other",
        "less": "KernelMagics",
        "lf": "Other",
        "lk": "Other",
        "ll": "Other",
        "load": "CodeMagics",
        "load_ext": "ExtensionMagics",
        "loadpy": "CodeMagics",
        "logoff": "LoggingMagics",
        "logon": "LoggingMagics",
        "logstart": "LoggingMagics",
        "logstate": "LoggingMagics",
        "logstop": "LoggingMagics",
        "ls": "Other",
        "lsmagic": "BasicMagics",
        "lx": "Other",
        "macro": "ExecutionMagics",
        "magic": "BasicMagics",
        "man": "KernelMagics",
        "matplotlib": "PylabMagics",
        "mkdir": "Other",
        "more": "KernelMagics",
        "mv": "Other",
        "notebook": "BasicMagics",
        "page": "BasicMagics",
        "pastebin": "CodeMagics",
        "pdb": "ExecutionMagics",
        "pdef": "NamespaceMagics",
        "pdoc": "NamespaceMagics",
        "pfile": "NamespaceMagics",
        "pinfo": "NamespaceMagics",
        "pinfo2": "NamespaceMagics",
        "pip": "PackagingMagics",
        "popd": "OSMagics",
        "pprint": "BasicMagics",
        "precision": "BasicMagics",
        "prun": "ExecutionMagics",
        "psearch": "NamespaceMagics",
        "psource": "NamespaceMagics",
        "pushd": "OSMagics",
        "pwd": "OSMagics",
        "pycat": "OSMagics",
        "pylab": "PylabMagics",
        "qtconsole": "KernelMagics",
        "quickref": "BasicMagics",
        "recall": "HistoryMagics",
        "rehashx": "OSMagics",
        "reload_ext": "ExtensionMagics",
        "rep": "Other",
        "rerun": "HistoryMagics",
        "reset": "NamespaceMagics",
        "reset_selective": "NamespaceMagics",
        "rm": "Other",
        "rmdir": "Other",
        "run": "ExecutionMagics",
        "save": "CodeMagics",
        "sc": "OSMagics",
        "set_env": "OSMagics",
        "store": "StoreMagics",
        "sx": "OSMagics",
        "system": "OSMagics",
        "tb": "ExecutionMagics",
        "time": "ExecutionMagics",
        "timeit": "ExecutionMagics",
        "unalias": "OSMagics",
        "unload_ext": "ExtensionMagics",
        "who": "NamespaceMagics",
        "who_ls": "NamespaceMagics",
        "whos": "NamespaceMagics",
        "xdel": "NamespaceMagics",
        "xmode": "BasicMagics"
       }
      },
      "text/plain": [
       "Available line magics:\n",
       "%alias  %alias_magic  %autoawait  %autocall  %automagic  %autosave  %bookmark  %cat  %cd  %clear  %colors  %conda  %config  %connect_info  %cp  %debug  %dhist  %dirs  %doctest_mode  %ed  %edit  %env  %gui  %hist  %history  %killbgscripts  %ldir  %less  %lf  %lk  %ll  %load  %load_ext  %loadpy  %logoff  %logon  %logstart  %logstate  %logstop  %ls  %lsmagic  %lx  %macro  %magic  %man  %matplotlib  %mkdir  %more  %mv  %notebook  %page  %pastebin  %pdb  %pdef  %pdoc  %pfile  %pinfo  %pinfo2  %pip  %popd  %pprint  %precision  %prun  %psearch  %psource  %pushd  %pwd  %pycat  %pylab  %qtconsole  %quickref  %recall  %rehashx  %reload_ext  %rep  %rerun  %reset  %reset_selective  %rm  %rmdir  %run  %save  %sc  %set_env  %store  %sx  %system  %tb  %time  %timeit  %unalias  %unload_ext  %who  %who_ls  %whos  %xdel  %xmode\n",
       "\n",
       "Available cell magics:\n",
       "%%!  %%HTML  %%SVG  %%bash  %%capture  %%debug  %%file  %%html  %%javascript  %%js  %%latex  %%markdown  %%perl  %%prun  %%pypy  %%python  %%python2  %%python3  %%ruby  %%script  %%sh  %%svg  %%sx  %%system  %%time  %%timeit  %%writefile\n",
       "\n",
       "Automagic is ON, % prefix IS NOT needed for line magics."
      ]
     },
     "execution_count": 3,
     "metadata": {},
     "output_type": "execute_result"
    }
   ],
   "source": [
    "%lsmagic"
   ]
  },
  {
   "cell_type": "markdown",
   "metadata": {},
   "source": [
    "## 4. Opcje wyświetlania wykresów w notebooku jupyter <a name=\"show_fig\"></a>\n",
    "\n",
    "\n",
    "Ustawienia formatu wyświetlania, realizowane są za pomoca jednej z metod magicznych Jupytera:\n",
    "\n",
    "- [x] wyświetlenie w domyślnym oknie interaktywnym (domyślne dla systemu np.qt, wx, gtk, osx, tk)\n",
    "\n",
    "`%matplotlib`\n",
    "\n",
    "- [x] wyświetlenie w wybranym (zdefiniowanym) oknie interaktywnym: qt, wx, gtk, osx, tk,\n",
    "\n",
    "`%matplotlib qt`\n",
    "\n",
    "- [x] wyswietlenie w lini komórki Jupyter\n",
    "\n",
    "`%matplotlib inline`\n",
    "\n",
    "- [x] wyświetlanie w lini z opcjami interaktywnymi (powiększ/pomniejsz/zapisz etc):\n",
    "\n",
    "`%matplotlib notebook`"
   ]
  },
  {
   "cell_type": "code",
   "execution_count": null,
   "metadata": {},
   "outputs": [],
   "source": []
  }
 ],
 "metadata": {
  "kernelspec": {
   "display_name": "Python 3",
   "language": "python",
   "name": "python3"
  },
  "language_info": {
   "codemirror_mode": {
    "name": "ipython",
    "version": 3
   },
   "file_extension": ".py",
   "mimetype": "text/x-python",
   "name": "python",
   "nbconvert_exporter": "python",
   "pygments_lexer": "ipython3",
   "version": "3.8.8"
  }
 },
 "nbformat": 4,
 "nbformat_minor": 2
}
