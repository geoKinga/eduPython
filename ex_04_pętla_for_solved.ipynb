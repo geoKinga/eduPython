{
 "cells": [
  {
   "cell_type": "markdown",
   "metadata": {},
   "source": [
    "| **Kinga Węzka** <BR> kinga.wezka@pw.edu.pl  <BR> Warsaw University of Technology <BR> Faculty Geodesy and Cartography <BR> Plac Politechniki 1 (room 38)<BR> 00-661 Warszawa, POLAND<BR> <A href=\"https://www.google.com/maps/place/Gmach+G%C5%82%C3%B3wny+Politechniki+Warszawskiej/@52.220656,21.0094422,19z/data=!3m1!4b1!4m5!3m4!1s0x471ecce951c85a19:0x712b0e1503c42b91!8m2!3d52.220656!4d21.0099894\"> N 52&ordm; 12' 45&quot; / E 21&ordm; 03' 51&quot;</A></B><BR> | <a rel=\"license\" href=\"https://www.pw.edu.pl\"><img alt=\"Politechnika Warszawska\" style=\"border-width:0\" src=\"https://www.pw.edu.pl/design/pw/images/znak-pw.png\" /></a> |\n",
    "|---------------------------------------------------------------------------------------------------------------------------------------------------------------------------------------------------------------------------------------------------------------------------------------------------------------------------------------------------------------------------------------------------------------------------------------------------------------------------|-------------------------------------------------------------------------------------------------------------------------------------------------------------------------|\n",
    "\n",
    "**Informatyka Geodezyjna** (projekt) -- rok akademicki 2020/2021\n",
    "    \n",
    "**Prowadzący:** Kinga Węzka, Joanna Kożuchowska \n",
    "    \n",
    "**Projekt 5: Pętla `for`**\n",
    "\n",
    "\n",
    "**UWAGA: Odpowiedź na każde pytanie powinna znajdować się w oddzielnej komórce poniżej pytania, z podanym numerem pytania**\n"
   ]
  },
  {
   "cell_type": "markdown",
   "metadata": {},
   "source": [
    "# Spis tresci:\n",
    "\n",
    "1. [Zad. 1: Petle for - działania na elementach obiektów iterowanych](#zad1)\n",
    "    1. [Zad. 1a: Działania na elementach listy ](#zad1a)\n",
    "    1. [Zad. 1b: Działania na elementach listy i zapis do nowej listy](#zad1b)\n",
    "    1. [Zad. 1c: SDziałania na elementach listy i instrukcje warunkowe](#zad1c)\n",
    "    1. [Zad. 1d: Suma i iloczyn skumulowany](#zad1d)\n",
    "2. [Zad. 2: Silnia liczby naturalnej - iloczyn skumulowany](#zad2)\n",
    "3. [Zad. 3: Ciąg Fibonacciego - suma skumulowana](#zad3)\n",
    "4. [Zad. 4: Sprawdzenie liczby pierwszej](#zad4)\n",
    "5. [Zad. 5: Wyznaczenie azymutu dla szeregu współrzednych](#zad5)\n",
    "6. [Zad. 6: Generowanie słownika - \"zebranie\" wyników do listy](#zad6)\n",
    "7. [Zad. 7: Petla z metodą zip](#zad7)\n",
    "8. [Zad. 8: Generowanie listy - \"zebranie\" wyników do listy](#zad8)\n",
    "9. [Zad. 9: Sprawdzanie plików w folderze - biblioteka os](#zad9)\n",
    "10.[Listy i słowniki składane](#zad10)"
   ]
  },
  {
   "cell_type": "markdown",
   "metadata": {},
   "source": [
    "## Zad. 1:  Petle for - działania na elementach obiektów iterowanych <a name=\"zad1\"></a>"
   ]
  },
  {
   "cell_type": "markdown",
   "metadata": {},
   "source": [
    "Napisz program, który policzy sumę elementów znajdujacych się na tej samej pozycji w listach A i B. Następnie program wybierze elementy z listy A i B, których suma jest większa od 5 i zapisze je do nowej listy jako dwuelementowe krotki.   \n",
    "Wynik nowej listy: [(3, 4), (4, 5), (5, 7), (6, 5), (7, 6)]\n",
    "Dane listy:\n",
    "A = [1, 2, 3, 4, 5, 6, 7, 1]\n",
    "B = [2, 3, 4, 5, 7, 5, 6, 2]"
   ]
  },
  {
   "cell_type": "code",
   "execution_count": 5,
   "metadata": {},
   "outputs": [
    {
     "name": "stdout",
     "output_type": "stream",
     "text": [
      "7 (3, 4)\n",
      "9 (4, 5)\n",
      "12 (5, 7)\n",
      "11 (6, 5)\n",
      "13 (7, 6)\n",
      "[(3, 4), (4, 5), (5, 7), (6, 5), (7, 6)]\n"
     ]
    }
   ],
   "source": [
    "A = [1, 2, 3, 4, 5, 6, 7, 1]\n",
    "B = [2, 3, 4, 5, 7, 5, 6, 2]\n",
    "nowa = []\n",
    "\n",
    "for a, b in zip(A, B):\n",
    "    s = a + b\n",
    "    if s > 5:\n",
    "        nowa.append((a, b))\n",
    "        print(s, (a, b))\n",
    "        \n",
    "print(nowa)"
   ]
  },
  {
   "cell_type": "markdown",
   "metadata": {},
   "source": [
    "#### Zad. 1a:  Działania na elementach listy  <a name=\"zad1a\"></a>\n",
    "Używając petli for proszę do każdego elementu listy A dodać wartość 100, wydrukuj na konsolę wyniki działania na kolejnych elementach listy.\n",
    "\n",
    "\n",
    "**Dana Lista A:**\n",
    "`A = [2, 5, 9, 1, 2, 3, 6]`"
   ]
  },
  {
   "cell_type": "code",
   "execution_count": null,
   "metadata": {},
   "outputs": [],
   "source": [
    "A = [2, 5, 9, 1, 2, 3, 6]\n",
    "\n",
    "for element in A:\n",
    "    a = element + 100\n",
    "    print(element, a )"
   ]
  },
  {
   "cell_type": "markdown",
   "metadata": {},
   "source": [
    "#### Zad. 1b:  Działania na elementach listy i zapis do nowej listy  <a name=\"zad1b\"></a>\n",
    "Używając petli for proszę do każdego elementu listy A dodać wartość 100, wyniki należy zapisać do nowej listy B.\n",
    "\n",
    "\n",
    "**Dana Lista A:**\n",
    "`A = [2, 5, 9, 1, 2, 3, 6]`\n",
    "\n",
    "**Podpowiedź:** Do tworzenia nowej listy wykorzystaj medtody append i extend! Skomentuj działanie metod"
   ]
  },
  {
   "cell_type": "code",
   "execution_count": 2,
   "metadata": {},
   "outputs": [
    {
     "name": "stdout",
     "output_type": "stream",
     "text": [
      "[(4, 6), (5, 7)]\n"
     ]
    }
   ],
   "source": [
    "A = [ 1, 2, 5, 2, 6, 7, 3, 10]\n",
    "\n",
    "lista =[]\n",
    "for i, a in enumerate(A):\n",
    "    if a> 5 and a<=8:\n",
    "        lista.append((i,a))\n",
    "        \n",
    "print(lista)\n"
   ]
  },
  {
   "cell_type": "markdown",
   "metadata": {},
   "source": [
    "#### Zad. 1b:  Działania na elementach listy  i instrukcje warunkowe <a name=\"zad1c\"></a>\n",
    "Używając petli for proszę do każdego elementu wykonać sprawdzenie czy zapisane wartości typu str są liczbami, czy literkami. Natępnie dla elementów które są liczbami sprawdź czy są to liczby parzyste czy nieparzyste.\n",
    "Na podstawie listy A, utwórz 3 nowe listy (skorzystaj z metody append):\n",
    "+ x - lista elementów które są literkami\n",
    "+ y - lista elementów które są liczbami parzystymi\n",
    "+ z - lista elementów które są liczbami parzystymi\n",
    "\n",
    "**Dana Lista A:**\n",
    "`A = ['2', 'h', '5', '9', 'g', '1', '2', '3', '6', 'c', '20', 'r']`"
   ]
  },
  {
   "cell_type": "code",
   "execution_count": 1,
   "metadata": {},
   "outputs": [],
   "source": [
    "A = ['2', 'h', '5', '9', 'g', '1', '2', '3', '6', 'c', '20', 'r']"
   ]
  },
  {
   "cell_type": "markdown",
   "metadata": {},
   "source": [
    "#### Zad. 1d:  Suma i iloczyn skumulowany <a name=\"zad1d\"></a>\n",
    "Używając petli for prosze policzyć sume oraz iloczyn skumulowany.\n",
    "A = [2, 5, 9, 1, 2, 3, 6]"
   ]
  },
  {
   "cell_type": "code",
   "execution_count": 3,
   "metadata": {},
   "outputs": [
    {
     "name": "stdout",
     "output_type": "stream",
     "text": [
      "0\n",
      "2\n",
      "7\n",
      "16\n",
      "17\n",
      "19\n",
      "22\n",
      "suma : 28\n",
      "iloczyn : 3240\n"
     ]
    }
   ],
   "source": [
    "A = [2, 5, 9, 1, 2, 3, 6]\n",
    "\n",
    "suma = 0\n",
    "iloczyn = 1\n",
    "for i in A:\n",
    "    print(suma)\n",
    "    suma+=i\n",
    "    iloczyn*=i\n",
    "print('suma :', suma)\n",
    "print('iloczyn :', iloczyn)\n"
   ]
  },
  {
   "cell_type": "markdown",
   "metadata": {},
   "source": [
    "## Zad. 2:  Silnia liczby naturalnej - iloczyn skumulowany <a name=\"zad2\"></a>\n",
    "Napisz program, który dla podanej przez użytkownika liczby całkowitej wyświetla jej silnię.\n",
    "\n",
    "<img src=\"https://geekster.pl/wp-content/uploads/2017/12/silnia.jpg\" width=\"40%\">\n",
    "\n",
    "                                                                                                      "
   ]
  },
  {
   "cell_type": "code",
   "execution_count": 1,
   "metadata": {},
   "outputs": [
    {
     "name": "stdout",
     "output_type": "stream",
     "text": [
      "0 1 1\n",
      "1 2 1\n",
      "2 3 2\n",
      "3 4 6\n",
      "4 5 24\n",
      "120\n"
     ]
    }
   ],
   "source": [
    "#a = int(input(\"podaj liczbe, ktorej silnie chcesz obliczyc \"))\n",
    "a = 5\n",
    "silnia = 1\n",
    "for i in range(a):\n",
    "    print(i, i+1, silnia)\n",
    "    silnia *= (i+1)    # bo chcemy mnożyc przez liczby od i do a, a nie od 0 do a-1\n",
    "    \n",
    "print(silnia)\n"
   ]
  },
  {
   "cell_type": "code",
   "execution_count": null,
   "metadata": {},
   "outputs": [],
   "source": []
  },
  {
   "cell_type": "markdown",
   "metadata": {},
   "source": [
    "## Zad. 3:  Ciąg Fibonacciego - suma skumulowana <a name=\"zad3\"></a>\n",
    "Dla podanej przez użytkownika liczby n:\n",
    "- Wypisz n pierwszych liczb ciągu Fibonacciego.\n",
    "- Znajdź sumę n pierwszych liczb ciągu Fibonacciego.\n",
    "\n",
    "**Podpowiedź:** a_1 = 1, a_2 = 1, kolejne wyrazy ciagu są suma dwóch poprzednich wyrazów ciagu: a_i = a_i−2 + a_i−1. \n",
    "Uwaga: a_17 > 1000, a_31 > 106."
   ]
  },
  {
   "cell_type": "code",
   "execution_count": null,
   "metadata": {},
   "outputs": [],
   "source": [
    "a_i2 = 1\n",
    "a_i1 = 1\n",
    "suma = a_i2 + a_i1 # to podejscie nie zadziala, jak sie poda n=2?\n",
    "print(a_i2, a_i1)\n",
    "\n",
    "n = int(input(\"Podaj n \"))\n",
    "\n",
    "for i in range(n-2): # dwa wyrazy juz zdefiniowane\n",
    "    a_i = a_i1 + a_i2\n",
    "    print(a_i)\n",
    "    a_i2 = a_i1\n",
    "    a_i1 = a_i\n",
    "    suma += a_i\n",
    "print(suma)\n",
    "    \n",
    "# alternatywnie\n",
    "a_fib =[1, 1]\n",
    "for i in range(n-2):\n",
    "    a_fib.append(a_fib[-1]+a_fib[-2])\n",
    "    print(a_fib[-1])\n",
    "\n",
    "suma = 0\n",
    "for el in a_fib:\n",
    "    suma +=el\n",
    "print(suma)\n"
   ]
  },
  {
   "cell_type": "markdown",
   "metadata": {},
   "source": [
    "## Zad. 4:  Sprawdzenie liczby pierwszej <a name=\"zad4\"></a>\n",
    "Sprawdź czy podana przez użytkownika liczba całkowita n jest liczbą pierwszą."
   ]
  },
  {
   "cell_type": "code",
   "execution_count": 1,
   "metadata": {},
   "outputs": [
    {
     "name": "stdout",
     "output_type": "stream",
     "text": [
      "0 4.58257569495584 4\n",
      "1 4.58257569495584 4\n",
      "2 4.58257569495584 4\n",
      "3 4.58257569495584 4\n",
      "liczba jest zlozona\n"
     ]
    }
   ],
   "source": [
    "from math import floor, sqrt\n",
    "#n = int(input(\"Podaj liczbe do sprawdzenia\"))\n",
    "n=21\n",
    "\n",
    "\n",
    "for i in range(floor(sqrt(n))+1): # +1 bo chcemy z pierwiastkiem wlacznie\n",
    "    print(i, sqrt(n), floor(sqrt(n)))\n",
    "    if i < 2 : # liczba pierwsza musi być większa od 1\n",
    "        continue\n",
    "    elif n % i == 0: # dzielę moją liczbę n \n",
    "        print(\"liczba jest zlozona\")\n",
    "        break\n",
    "    elif i == floor(sqrt(n)): # jesli doszlismy do konca i nie zaszlo dzielenie bez reszty, to jest pierwsza\n",
    "        print(\"liczba jest pierwsza\")"
   ]
  },
  {
   "cell_type": "code",
   "execution_count": 4,
   "metadata": {},
   "outputs": [
    {
     "name": "stdout",
     "output_type": "stream",
     "text": [
      "Liczba jest pierwsza 1\n"
     ]
    }
   ],
   "source": [
    "from math import floor, sqrt\n",
    "# mozna tez zliczac dzielniki\n",
    "n = 7\n",
    "\n",
    "dzielniki = 1 # bo pomijamy 1 w dzieleniu, a i tak dzieli sie przez 1\n",
    "for i in range(floor(sqrt(n))+1):\n",
    "    if i < 2:\n",
    "        continue\n",
    "    elif n % i == 0:\n",
    "        dzielniki +=1\n",
    "\n",
    "if dzielniki > 1:\n",
    "    print(\"Liczba jest zlozona\", dzielniki)\n",
    "else:\n",
    "    print(\"Liczba jest pierwsza\", dzielniki)"
   ]
  },
  {
   "cell_type": "markdown",
   "metadata": {},
   "source": [
    "## Zad. 5:  Wyznaczenie azymutu dla szeregu współrzednych <a name=\"zad5\"></a>\n",
    "Znając współrzędne płaskie (x,y) czterech punktów A i B.  Policz azymuty (z punktu B do A)  oraz odległość miedzy punktami. Do obliczenia azymutu można skorzystać z zadania z poprzednich ćw. Wyniki obliczeń zapisz do słownika którego kluczem będzie numer pary punktów (np. B1-A1), a wartość będzie listą składającą się z dwóch elementów [azymut-stopnie, odległość].\n",
    "\n"
   ]
  },
  {
   "cell_type": "code",
   "execution_count": 27,
   "metadata": {},
   "outputs": [
    {
     "name": "stdout",
     "output_type": "stream",
     "text": [
      "B1-A1\n",
      "III ćwiartka 185.20906057454428\n",
      "długość:  113.44853635018832\n",
      "B2-A2\n",
      "I ćwiartka 20.136303428248134\n",
      "długość:  63.90618123468183\n",
      "B3-A3\n",
      "IV ćwiartka 345.4397243806431\n",
      "długość:  79.55501241279521\n",
      "B4-A4\n",
      "I ćwiartka 60.25511870305778\n",
      "długość:  80.62257748298549\n",
      "{'B1-A1': [185.2091, 113.4485], 'B2-A2': [20.1363, 63.9062], 'B3-A3': [345.4397, 79.555], 'B4-A4': [60.2551, 80.6226]}\n"
     ]
    }
   ],
   "source": [
    "import math\n",
    "# DANE współrzędne punktów A i B (można zapytać użytkownika o podanie współrzednych)\n",
    "wspolrzedne_A = {'A1':[-45.00, 23.82], 'A2':[15.00, 45.82], 'A3':[32.00, 3.82], 'A4':[-5.00, 93.82]}\n",
    "wspolrzedne_B = {'B1':[67.98, 34.12], 'B2':[-45.00, 23.82], 'B3':[-45.00, 23.82], 'B4':[-45.00, 23.82]}\n",
    "\n",
    "# wyznaczenie przyrostów współrzednych\n",
    "#dX = xy_A[0] - xy_B[0]\n",
    "#dY = xy_A[1] - xy_B[1]\n",
    "\n",
    "az_od = {}\n",
    "for a, b in zip(wspolrzedne_A, wspolrzedne_B):\n",
    "    dX = wspolrzedne_A[a][0] - wspolrzedne_B[b][0]\n",
    "    dY = wspolrzedne_A[a][1] - wspolrzedne_B[b][1]\n",
    "    klucz = str(b)+'-'+str(a)\n",
    "    print(klucz)\n",
    "    az_od.setdefault(klucz, []) # przypisanie do słownika klucza z pusta listą\n",
    "    # wyznaczenie azymutu:\n",
    "    if dX > 0 and dY > 0:                       # I ćwiartka (0-90st)\n",
    "        Az      = math.atan(dY/dX)              # [rad]\n",
    "        Az_deg  = math.degrees(Az)              # [deg]\n",
    "        print('I ćwiartka', Az_deg)\n",
    "        az_od[klucz].append(round(Az_deg,4))\n",
    "    elif dX < 0 and dY > 0:                     # II ćwiartka (90-180st)\n",
    "        Az      = math.atan(dY/dX)+ math.pi     # [rad]\n",
    "        Az_deg  = math.degrees(Az)              # [deg]\n",
    "        print('II ćwiartka', Az_deg)\n",
    "        az_od[klucz].append(round(Az_deg,4))\n",
    "    elif dX < 0 and dY < 0:                     # III ćwiartka (180-270st)\n",
    "        Az      = math.atan(dY/dX) + math.pi    # [rad]\n",
    "        Az_deg  = math.degrees(Az)              # [deg]\n",
    "        print('III ćwiartka', Az_deg)\n",
    "        az_od[klucz].append(round(Az_deg,4))\n",
    "    elif dX > 0 and dY < 0:                     # IV ćwiartka (270-360st)\n",
    "        Az      = math.atan(dY/dX)  + 2 * math.pi  # [rad]\n",
    "        Az_deg  = math.degrees(Az)              # [deg]\n",
    "        print('IV ćwiartka', Az_deg)\n",
    "        az_od[klucz].append(round(Az_deg,4))\n",
    "    elif dX == 0 and dY > 0:                    # (90st)\n",
    "        Az      = math.pi /2                    # [rad]\n",
    "        Az_deg  = math.degrees(Az)              # [deg]\n",
    "        print('dX=0 i dY>0', Az_deg)\n",
    "        az_od[klucz].append(round(Az_deg,4))\n",
    "    elif dX < 0 and dY == 0:                    # (180st)\n",
    "        Az      = math.pi                       # [rad]\n",
    "        Az_deg  = math.degrees(Az)              # [deg]\n",
    "        print('dX=0 i dY>0', Az_deg)\n",
    "        az_od[klucz].append(round(Az_deg,4))\n",
    "    elif dX == 0 and dY < 0:                    # (270st)\n",
    "        Az      = math.pi + math.pi /2          # [rad]\n",
    "        Az_deg  = math.degrees(Az)              # [deg]\n",
    "        print('dX=0 i dY>0', Az_deg)\n",
    "        az_od[klucz].append(round(Az_deg,4))\n",
    "    elif dX > 0 and dY == 0:                    # (360st lub 0st)\n",
    "        Az1     = 0                             # [rad]\n",
    "        Az_deg1 = math.degrees(Az)              # [deg]\n",
    "        Az2     = 2* math.pi                    # [rad]\n",
    "        Az_deg2 = math.degrees(Az)              # [deg]\n",
    "        print('dX=0 i dY>0', (Az_deg1, Az_deg2))\n",
    "        az_od[klucz].append(round(Az_deg,4))\n",
    "    # wyznaczenie długości odcinka AB\n",
    "    dist_AB = math.sqrt(dX**2 +dY**2)\n",
    "    az_od[klucz].append(round(dist_AB, 4))\n",
    "    print('długość: ', dist_AB)\n",
    "print('wszystkie wyniki:', az_od)\n",
    "    "
   ]
  },
  {
   "cell_type": "markdown",
   "metadata": {},
   "source": [
    "## Zad. 6: Generowanie słownika - \"zebranie\" wyników do słownika <a name=\"zad6\"></a>\n",
    "Utwórz słownik zawierający elementy klucz:wartość odpowiadające nazwa_produktu:cena. Utwórz obiekt typu lista, który będzie zawierał nazwy produków (lista zakupów).\n",
    "Następnie, korzystając z pętli for podaj sumę wartości zakupu produktów znajdujących się na liście (lista zakupów). \n"
   ]
  },
  {
   "cell_type": "code",
   "execution_count": 1,
   "metadata": {},
   "outputs": [
    {
     "name": "stdout",
     "output_type": "stream",
     "text": [
      "10.5\n"
     ]
    }
   ],
   "source": [
    "spozywka = {\"maslo\":5, \"chleb\":2, \"bulka\" :1, \"sok\":4, \"cebula\":2, \"czekolada\": 4, \"jogurt\": 1.5}\n",
    "lista_zakupow = [\"jogurt\", \"maslo\", \"czekolada\"]\n",
    "\n",
    "\n",
    "naleznosc = 0\n",
    "for produkt in lista_zakupow:\n",
    "    naleznosc += spozywka.get(produkt, 0)\n",
    "print(naleznosc)"
   ]
  },
  {
   "cell_type": "markdown",
   "metadata": {},
   "source": [
    "## Zad. 7:  Petla z metodą zip <a name=\"zad7\"></a>\n",
    "Mają 3 listy zawierające współrzędne kolejnych punktów (punkty mają kolejno przypisywane współrzedne xyz z kazdej listy. Policzyć odległości 3D pomiędzy kolejnymi punktami. Wyniki odległości zapisz do nowej listy.\n",
    "\n",
    "\n",
    "- X = [10, 1, 4, 14.8, 23, 56, 98.4] # współrzędne X\n",
    "\n",
    "- Y = [10, 1, 4, 14.8, 23, 56, 98.4] # wspołrzędne Y\n",
    "\n",
    "- Z = [10, 1, 4, 14.8, 23, 56, 98.4] # współrzędne Z\n"
   ]
  },
  {
   "cell_type": "code",
   "execution_count": 1,
   "metadata": {},
   "outputs": [
    {
     "name": "stdout",
     "output_type": "stream",
     "text": [
      "10 10\n",
      "0.0\n",
      "1 1\n",
      "0.0\n",
      "4 4\n",
      "0.0\n",
      "14.8 14.8\n",
      "0.0\n",
      "23 23\n",
      "0.0\n",
      "56 56\n",
      "0.0\n",
      "98.4 98.4\n",
      "0.0\n"
     ]
    }
   ],
   "source": [
    "from math import sqrt \n",
    "X = [10, 1, 4, 14.8, 23, 56, 98.4]  # współrzędne X\n",
    "Y = [2, 1.5, 4, 14.8, 23, 56, 98.4] # wspołrzędne Y\n",
    "Z = [0, 11, 4, 14.8, 23, 56, 98.4]  # współrzędne Z\n",
    "\n",
    "i = 0 # index\n",
    "for x, y, z in zip(X, Y, Z):\n",
    "    print(x,X[i])\n",
    "    od = sqrt((x-X[i])**2 + (y-Y[i])**2 + (z-Z[i])**2)\n",
    "    print(od)\n",
    "    i+=1\n",
    "\n"
   ]
  },
  {
   "cell_type": "markdown",
   "metadata": {},
   "source": [
    "## Zad. 8:  Generowanie listy - \"zebranie\" wyników do listy<a name=\"zad8\"></a>\n",
    "Proszę za pomocą pętli for wygenerować ciąg liczb od 10 do 40, które nie są podzielne przez 5, 3 oraz 2. "
   ]
  },
  {
   "cell_type": "code",
   "execution_count": null,
   "metadata": {},
   "outputs": [],
   "source": [
    "%reset - f\n",
    "lista =[]\n",
    "for x in range (10,40):\n",
    "    if (x % 5 == 0):\n",
    "        print('/5 = ', x)\n",
    "        continue\n",
    "    if (x % 2 == 0):\n",
    "        print('/2 = ', x)\n",
    "        continue\n",
    "    if (x % 3 == 0):\n",
    "        print('/3 = ', x)\n",
    "        continue\n",
    "    #print(x)\n",
    "    lista.append(x)\n",
    "\n",
    "print(x)"
   ]
  },
  {
   "cell_type": "code",
   "execution_count": null,
   "metadata": {},
   "outputs": [],
   "source": []
  },
  {
   "cell_type": "markdown",
   "metadata": {},
   "source": [
    "## Zad. 9:  Sprawdzanie plików w folderze - biblioteka os <a name=\"zad9\"></a>\n",
    "Korzystając z biblioteki os, wykonaj następujące działania\n",
    "- sprawdż wszystkie pliki w folderze oraz ich rozmiar w bajtach \n",
    "- utwórzy słownik którego kluczami są nazwy plików a ich wartościami wielkości tych plików;\n",
    "- do wszystkich plików dodaj prefix \"del_\"\n",
    "\n",
    "#### Pomoc:\n",
    "- **biblioteki standardowe:** https://docs.python.org/3/library/\n",
    "- **biblioteka os (Różne interfejsy systemu operacyjnego):** https://docs.python.org/3/library/os.html"
   ]
  },
  {
   "cell_type": "markdown",
   "metadata": {},
   "source": [
    "## Zad. 10: Listy i słowniki składane <a name=\"zad10\"></a>\n",
    "\n",
    "Korzystając z pętli for oraz z metod list i słowników składanych:\n",
    "\n",
    "- Utworzyć listę kwadratów liczb z zakresu <1, 20> bez liczby 5, 8 i 13. \n",
    "- Utworzyć listę liczb z zakresu <1, 20> które są podzielne przez 4.\n",
    "\n",
    "- Utworzyć słownik liczb nieparzystych z przedziału <0, 20> i ich sześcianów. Klucze słownika powinny mieć nazwę: klucz_xx, gdzie xx to liczba będąca wartością klucza np. {\"klucz_1\": 1, \"klucz_3\": 3, \"klucz_5\": 5 ......}\n",
    "\n",
    "- Utworzyć slownik który zawiera do wartości przeliczenia stopni na radiany w przedziale <0, 180>, co 15 stopni. Klucze słownika powinny mieć nazwę: klucz_xx, gdzie xx to wartość w stopniach  np. {\"klucz_0\":  0.00, \"klucz_15\": 0.262, \"klucz_30\": 0.524}.  Wartości radianów przedstaw do 2 miejsc po przecinku korzystając z metody round.\n"
   ]
  },
  {
   "cell_type": "code",
   "execution_count": 14,
   "metadata": {},
   "outputs": [
    {
     "name": "stdout",
     "output_type": "stream",
     "text": [
      "[1, 2, 3, 4, 6, 7, 9, 10, 11, 12, 14, 15, 16, 17, 18, 19, 20]\n",
      "[1, 2, 3, 4, 6, 7, 9, 10, 11, 12, 14, 15, 16, 17, 18, 19, 20]\n"
     ]
    }
   ],
   "source": [
    "A = []\n",
    "for a in range(1, 21):\n",
    "    if (a !=5 and a!=8 and a!=13):\n",
    "        A.append(a)\n",
    "print(A)\n",
    "\n",
    "B = [a for a in range(1, 21)  if (a !=5 and a!=8 and a!=13)]\n",
    "print(B)"
   ]
  },
  {
   "cell_type": "code",
   "execution_count": 16,
   "metadata": {},
   "outputs": [
    {
     "name": "stdout",
     "output_type": "stream",
     "text": [
      "[4, 8, 12, 16, 20]\n",
      "[4, 8, 12, 16, 20]\n"
     ]
    }
   ],
   "source": [
    "A = []\n",
    "for a in range(1, 21):\n",
    "    if (a % 4 == 0):\n",
    "        A.append(a)\n",
    "print(A)\n",
    "B = [a for a in range(1, 21)  if (a % 4 == 0)]\n",
    "print(B)"
   ]
  },
  {
   "cell_type": "code",
   "execution_count": 21,
   "metadata": {},
   "outputs": [
    {
     "name": "stdout",
     "output_type": "stream",
     "text": [
      "{'klucz_1': 1, 'klucz_3': 9, 'klucz_5': 25, 'klucz_7': 49, 'klucz_9': 81, 'klucz_11': 121, 'klucz_13': 169, 'klucz_15': 225, 'klucz_17': 289, 'klucz_19': 361}\n",
      "{'klucz_1': 1, 'klucz_3': 9, 'klucz_5': 25, 'klucz_7': 49, 'klucz_9': 81, 'klucz_11': 121, 'klucz_13': 169, 'klucz_15': 225, 'klucz_17': 289, 'klucz_19': 361}\n"
     ]
    }
   ],
   "source": [
    "d = {}\n",
    "for i in range(1, 20, 2):\n",
    "    d['klucz_'+str(i)] = i**2\n",
    "print(d)\n",
    "\n",
    "c = {'klucz_'+str(i): i**2 for i in range(1, 20, 2)}\n",
    "print(c)"
   ]
  },
  {
   "cell_type": "code",
   "execution_count": 23,
   "metadata": {},
   "outputs": [
    {
     "name": "stdout",
     "output_type": "stream",
     "text": [
      "{'klucz_0': 0.0, 'klucz_15': 0.262, 'klucz_30': 0.524, 'klucz_45': 0.785, 'klucz_60': 1.047, 'klucz_75': 1.309, 'klucz_90': 1.571, 'klucz_105': 1.833, 'klucz_120': 2.094, 'klucz_135': 2.356, 'klucz_150': 2.618, 'klucz_165': 2.88, 'klucz_180': 3.142}\n",
      "{'klucz_0': 0.0, 'klucz_15': 0.262, 'klucz_30': 0.524, 'klucz_45': 0.785, 'klucz_60': 1.047, 'klucz_75': 1.309, 'klucz_90': 1.571, 'klucz_105': 1.833, 'klucz_120': 2.094, 'klucz_135': 2.356, 'klucz_150': 2.618, 'klucz_165': 2.88, 'klucz_180': 3.142}\n"
     ]
    }
   ],
   "source": [
    "from math import radians\n",
    "d = {}\n",
    "for i in range(0, 181, 15):\n",
    "    d['klucz_'+str(i)] = round(radians(i), 3)\n",
    "print(d)\n",
    "\n",
    "c = {'klucz_'+str(i): round(radians(i), 3) for i in range(0, 181, 15)}\n",
    "print(c)"
   ]
  },
  {
   "cell_type": "code",
   "execution_count": null,
   "metadata": {},
   "outputs": [],
   "source": []
  }
 ],
 "metadata": {
  "kernelspec": {
   "display_name": "Python 3",
   "language": "python",
   "name": "python3"
  },
  "language_info": {
   "codemirror_mode": {
    "name": "ipython",
    "version": 3
   },
   "file_extension": ".py",
   "mimetype": "text/x-python",
   "name": "python",
   "nbconvert_exporter": "python",
   "pygments_lexer": "ipython3",
   "version": "3.8.8"
  }
 },
 "nbformat": 4,
 "nbformat_minor": 2
}
