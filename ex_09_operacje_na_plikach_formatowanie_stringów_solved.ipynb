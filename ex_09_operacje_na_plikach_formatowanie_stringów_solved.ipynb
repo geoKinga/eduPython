{
 "cells": [
  {
   "cell_type": "markdown",
   "metadata": {},
   "source": [
    "| **Kinga Węzka** <BR> kinga.wezka@pw.edu.pl  <BR> Warsaw University of Technology <BR> Faculty Geodesy and Cartography <BR> Plac Politechniki 1 (room 38)<BR> 00-661 Warszawa, POLAND<BR> <A href=\"https://www.google.com/maps/place/Gmach+G%C5%82%C3%B3wny+Politechniki+Warszawskiej/@52.220656,21.0094422,19z/data=!3m1!4b1!4m5!3m4!1s0x471ecce951c85a19:0x712b0e1503c42b91!8m2!3d52.220656!4d21.0099894\"> N 52&ordm; 12' 45&quot; / E 21&ordm; 03' 51&quot;</A></B><BR> | <a rel=\"license\" href=\"https://www.pw.edu.pl\"><img alt=\"Politechnika Warszawska\" style=\"border-width:0\" src=\"https://www.pw.edu.pl/design/pw/images/znak-pw.png\" /></a> |\n",
    "|---------------------------------------------------------------------------------------------------------------------------------------------------------------------------------------------------------------------------------------------------------------------------------------------------------------------------------------------------------------------------------------------------------------------------------------------------------------------------|-------------------------------------------------------------------------------------------------------------------------------------------------------------------------|\n",
    "\n",
    "**Informatyka Geodezyjna** (projekt) -- rok akademicki 2020/2021\n",
    "    \n",
    "**Prowadzący:** Kinga Węzka, Joanna Kożuchowska \n",
    "    \n",
    "**Projekt 10** Operacje na plikach i formatowanie wyrażeń tekstowych\n",
    "\n",
    "**UWAGA: Odpowiedź na każde pytanie powinna znajdować się w oddzielnej komórce poniżej pytania, z podanym numerem pytania**\n"
   ]
  },
  {
   "cell_type": "markdown",
   "metadata": {},
   "source": [
    "# Spis treści:\n",
    "\n",
    "1. [Zad. 1: Formatowanie wyrażeń tekstowych ](#zad1)\n",
    "2. [Zad. 2: Odczyt i zapis do pliku](#zad2)\n",
    "3. [Zad. 3: Zapis do pliku - liczenie słow](#zad3)\n",
    "4. [Zad. 4: Przeliczanie kątów - raporty ](#zad4)"
   ]
  },
  {
   "cell_type": "markdown",
   "metadata": {},
   "source": [
    "## Zad.1: Formatowanie wyrażeń tekstowych <a name=\"zad1\"></a>\n",
    "\n",
    "Wykorzystując metody formatowania wyrażeń tekstowych wydrukuj tabelę na konsolę. Następnie zapisz ją do pliku o nazwie \"tabela1.txt\"\n",
    "+ a) metoda format\n",
    "+ b) metoda f-string"
   ]
  },
  {
   "cell_type": "raw",
   "metadata": {},
   "source": [
    "----------------------------\n",
    "|Czas  |  Zawodnik   | Rok |\n",
    "****************************\n",
    "|9.580 |Usain Bolt   | 2010|\n",
    "|9.690 |Tyson Gay    | 2005|\n",
    "|9.690 |Yohan Blake  | 2006|\n",
    "|9.740 |Asafa Powell | 2007|\n",
    "----------------------------"
   ]
  },
  {
   "cell_type": "code",
   "execution_count": 27,
   "metadata": {},
   "outputs": [
    {
     "name": "stdout",
     "output_type": "stream",
     "text": [
      "----------------------------\n",
      "|Czas  |  Zawodnik   | Rok |\n",
      "****************************\n",
      "|9.580 |Usain Bolt   | 2010|\n",
      "|9.690 |Tyson Gay    | 2005|\n",
      "|9.690 |Yohan Blake  | 2006|\n",
      "|9.740 |Asafa Powell | 2007|\n",
      "----------------------------\n"
     ]
    }
   ],
   "source": [
    "czas = [9.58, 9.69, 9.69, 9.74]\n",
    "zawodnik = [\"Usain Bolt\", \"Tyson Gay\", \"Yohan Blake\",\"Asafa Powell\"]\n",
    "rok = [2010, 2005, 2006, 2007]\n",
    "\n",
    "# metoda format\n",
    "szer = 28\n",
    "print(\"-\" * szer)\n",
    "print(\"|{:^5} |{:^13}|{:^5}|\".format('Czas', 'Zawodnik', 'Rok'))\n",
    "print(\"*\" * szer)\n",
    "for t, n, y in zip(czas, zawodnik, rok):\n",
    "    print(\"|{:^6.3f}|{:13s}|{:5d}|\" .format(t, n, y))\n",
    "print(\"-\" * szer)"
   ]
  },
  {
   "cell_type": "code",
   "execution_count": 31,
   "metadata": {},
   "outputs": [
    {
     "name": "stdout",
     "output_type": "stream",
     "text": [
      "----------------------------\n",
      "|Czas  |  Zawodnik   | Rok |\n",
      "****************************\n",
      "|9.580 |Usain Bolt   | 2010|\n",
      "|9.690 |Tyson Gay    | 2005|\n",
      "|9.690 |Yohan Blake  | 2006|\n",
      "|9.740 |Asafa Powell | 2007|\n",
      "----------------------------\n"
     ]
    }
   ],
   "source": [
    "czas = [9.58, 9.69, 9.69, 9.74]\n",
    "zawodnik = [\"Usain Bolt\", \"Tyson Gay\", \"Yohan Blake\",\"Asafa Powell\"]\n",
    "rok = [2010, 2005, 2006, 2007]\n",
    "\n",
    "# metoda f-string\n",
    "szer = 28\n",
    "print(\"-\" * szer)\n",
    "print(f\"|Czas  |  Zawodnik   | Rok |\")\n",
    "print(\"*\" * szer)\n",
    "for t, n, y in zip(czas, zawodnik, rok):\n",
    "    print(f\"|{t:^6.3f}|{n:13s}|{y:5d}|\")\n",
    "print(\"-\" * szer)"
   ]
  },
  {
   "cell_type": "code",
   "execution_count": null,
   "metadata": {},
   "outputs": [],
   "source": [
    "# metoda format i zapisanie do pliku\n",
    "czas = [9.58, 9.69, 9.69, 9.74]\n",
    "zawodnik = [\"Usain Bolt\", \"Tyson Gay\", \"Yohan Blake\",\"Asafa Powell\"]\n",
    "rok = [2010, 2005, 2006, 2007]\n",
    "\n",
    "plik = open('test.txt', 'w+')\n",
    "# metoda format\n",
    "szer = 28\n",
    "plik.write(\"-\" * szer)\n",
    "print(\"|{:^5} |{:^13}|{:^5}|\".format('Czas', 'Zawodnik', 'Rok'))\n",
    "print(\"*\" * szer)\n",
    "for t, n, y in zip(czas, zawodnik, rok):\n",
    "    print(\"|{:^6.3f}|{:13s}|{:5d}|\" .format(t, n, y))\n",
    "print(\"-\" * szer)"
   ]
  },
  {
   "cell_type": "markdown",
   "metadata": {},
   "source": [
    "## Zad.2: Odczyt i zapis do pliku <a name=\"zad2\"></a>\n",
    "Wczytaj plik 'input_xyz.txt' w którym znajdują się współrzedne geocentryczne. Następnie wykorzystaj metodę hirvonena do przeliczenia współrzednych geocentrycznych na współrzedne geodezyjne (długość, szerokość, wysokość).\n",
    "\n",
    "Wygeneruj raport który zawiera:\n",
    "    - informacje wstępne (nagłówek) opisujący projekt oraz datę jego wykonania;\n",
    "    - wpółrzędne geocentryczne oraz współrzędne geodezyjne (długość, szerokość, wysokość);\n",
    "    - wartości średnia współrzędnych geocentrycznych xyz;\n",
    "\n",
    "Przykład raportu poniżej."
   ]
  },
  {
   "cell_type": "code",
   "execution_count": null,
   "metadata": {},
   "outputs": [],
   "source": [
    "# podpowiedź jak zdefiniować znak stopnia:\n",
    "degree_sign  = '\\u00b0'\n",
    "lambda_greek = '\\u03BB'\n",
    "phi_greek    = '\\u03C6'\n",
    "print('45\\u00b0',lambda_greek, phi_greek  ) "
   ]
  },
  {
   "cell_type": "raw",
   "metadata": {},
   "source": [
    "# Struktura pliku 'input_xyz.txt'\n",
    "X = 3731440.00 Y = 1240560.00 Z = 5005620.20\n",
    "X = 3731442.25 Z = 1240561.12 Z = 5005623.17\n",
    "X = 3731442.10 Z = 1240562.20 Z = 5005622.00\n",
    "X = 3731441.45 Z = 1240562.33 Z = 5005621.87"
   ]
  },
  {
   "cell_type": "raw",
   "metadata": {},
   "source": [
    "# Przykładowa struktura pliku 'raport.txt'\n",
    "Raport projektu geodezyjnego z dnia: 2019-11-19 \n",
    "Przeliczenie współrzędnych ggeocentrycznych XYZ do geodezyjnych \n",
    "--------------------------------------------------------------------------\n",
    "|   X[m]   |   Y[m]     |  Z[m]      |     φ      |     λ      |  h[m]   | \n",
    "--------------------------------------------------------------------------\n",
    "3731440.00 | 1240560.00 | 5005620.20 |18° 23' 24\" | 52° 2'  5\" | 555.561 |\n",
    "3731442.25 | 1240561.12 | 5005623.17 |18° 23' 24\" | 52° 2'  5\" | 559.433 |\n",
    "3731442.10 | 1240562.20 | 5005622.00 |18° 23' 24\" | 52° 2'  5\" | 558.633 |\n",
    "3731441.45 | 1240562.33 | 5005621.87 |18° 23' 24\" | 52° 2'  5\" | 558.176 |\n",
    "--------------------------------------------------------------------------\n",
    "Średnia X = 3731441.4500\n",
    "Średnia Y = 1240561.4125\n",
    "Średnia Z = 5005621.8100"
   ]
  },
  {
   "cell_type": "code",
   "execution_count": 127,
   "metadata": {},
   "outputs": [],
   "source": [
    "# rozwiązanie\n",
    "import moje_metody as mm\n",
    "import numpy as np\n",
    "import datetime\n",
    "today = datetime.date.today()\n",
    "\n",
    "# Odczyt z pliku i przeliczenie współrzednych\n",
    "plik = 'input_xyz.txt'\n",
    "dane = open(plik, 'r')\n",
    "xyz = [] # współrzędne wczytane z pliku \n",
    "plh = [] # wwspółrzędne po przeliczeniu\n",
    "for linia in dane:\n",
    "    a = linia.split('=')\n",
    "    x = a[1].split(' ')\n",
    "    y = a[2].split(' ')\n",
    "    z = a[3].split(' ')\n",
    "    x = x[1].strip()\n",
    "    y = y[1].strip()\n",
    "    z = z[1].strip()\n",
    "    xyz.append([float(x), float(y), float(z)]) # zapisanie wczytywanych danych do zmiennej xyz \n",
    "    # wykorzystanie metody hirvonena i przeliczenie współrzędnych\n",
    "    phi, lam, hel = mm.hirvonen(float(x), float(y), float(z), a = 6378137., e2 = 0.006694379990)\n",
    "    plh.append([phi, lam, hel])\n",
    "dane.close()\n",
    "\n",
    "# Zapis do pliku\n",
    "out = open('raport.txt', 'w+')\n",
    "out.write(f'Raport projektu geodezyjnego z dnia: {today} \\n')\n",
    "out.write(f'Przeliczenie współrzędnych ggeocentrycznych XYZ do geodezyjnych \\n')\n",
    "line = 74\n",
    "out.write(line * '-'+'\\n')\n",
    "out.write(f'|   X[m]   |   Y[m]     |  Z[m]      |{phi_greek:^12s}|{lambda_greek:^12s}|  h[m]   | \\n')\n",
    "out.write(line * '-'+'\\n')\n",
    "for xyz1, plh1 in zip(xyz, plh):\n",
    "    xyz1[0], xyz[1], xyz[2]\n",
    "    lam = mm.decimalDeg2dms(plh1[0])\n",
    "    lon = mm.decimalDeg2dms(plh1[1])\n",
    "    hel = plh1[2]\n",
    "    out.write(f'{xyz1[0]:8.2f} | {xyz1[1]:8.2f} | {xyz1[2]:8.2f} |{lon[0]}\\u00b0 {lon[1]}\\' {lon[2]:2.0f}\\\" | {lam[0]}\\u00b0 {lam[1]}\\' {lam[2]:2.0f}\\\" | {hel :7.3f} |\\n')\n",
    "out.write(line * '-'+'\\n')\n",
    "# zamiana listy-of-list na array (tablica)\n",
    "tablica = np.array(xyz)\n",
    "x_mean = np.mean(tablica[:, 0])\n",
    "y_mean = np.mean(tablica[:, 1])\n",
    "z_mean = np.mean(tablica[:, 2])\n",
    "out.write(f\"Średnia X = {x_mean:8.4f}\\n\")\n",
    "out.write(f\"Średnia Y = {y_mean:8.4f}\\n\")\n",
    "out.write(f\"Średnia Z = {z_mean:8.4f}\\n\")\n",
    "out.close()\n",
    "\n"
   ]
  },
  {
   "cell_type": "markdown",
   "metadata": {},
   "source": [
    "## Zad. 3: Zapis do pliku - liczenie słow <a name=\"zad4\"></a>\n",
    "Utworzyć plik zawierający kilka 5 linii tekstu (w każdej linii powinno znaleźć się jakieś zdanie lub kilka słów). Następnie należy wczytać plik oraz napisać funkcję, która zlicza słowa w pliku."
   ]
  },
  {
   "cell_type": "code",
   "execution_count": 25,
   "metadata": {},
   "outputs": [],
   "source": [
    "# utworzenie pliku\n",
    "nazwa_pliku = 'slowa.txt'\n",
    "f =open(nazwa_pliku, 'w+')\n",
    "f.write('Ala ma kota \\n')\n",
    "f.write('Ola ma kota \\n')\n",
    "f.write('Tomek ma psa \\n')\n",
    "f.close()    "
   ]
  },
  {
   "cell_type": "code",
   "execution_count": 24,
   "metadata": {},
   "outputs": [
    {
     "name": "stdout",
     "output_type": "stream",
     "text": [
      "dane słowa: {'Ala': 1, 'ma': 3, 'kota': 2, 'Ola': 1, 'Tomek': 1, 'psa': 1}\n",
      "liczba wszystkich słów w  9\n",
      "liczba wyrazów wystepujacych więcej niż raz:  2\n"
     ]
    }
   ],
   "source": [
    "# otwarcie pliku i zliczanie slow\n",
    "def licz_slowa_w_pliku(nazwa_pliku):\n",
    "    word_count = {} # pusty slownik którego kluczem jest wyraz natomiast wartość klucza to ilośc wystapień danego wyrazu\n",
    "    suma_slow = 0\n",
    "    with open(nazwa_pliku, 'r') as data:\n",
    "        for line in data:\n",
    "            w  = line.strip() # czyszczenie dodatkowych pustych spacji\n",
    "            words = w.split(' ') # podział wiersza listę której elementami są słowa\n",
    "            suma_slow += len(words)\n",
    "            for word in words:\n",
    "                if word in word_count.keys(): # sprawdza klucze\n",
    "                    word_count[word] +=1\n",
    "                else:\n",
    "                    word_count[word] =1\n",
    "    return word_count, suma_slow\n",
    "\n",
    "word_count, suma_slow =  licz_slowa_w_pliku('slowa.txt')        \n",
    "print('dane słowa:', word_count)\n",
    "print('liczba wszystkich słów w ', suma_slow)             \n",
    "# inne analizy np \n",
    "more_then_one = 0\n",
    "# tutaj wyrzucone wszystkie powtórzenia\n",
    "for word, count in word_count.items(): # iteracja po elementach\n",
    "    if count > 1:\n",
    "        more_then_one +=1\n",
    "  \n",
    "print(\"liczba wyrazów wystepujacych więcej niż raz: \", more_then_one)"
   ]
  },
  {
   "cell_type": "markdown",
   "metadata": {},
   "source": [
    "## Zad.4: Przeliczanie kątów - raporty <a name=\"zad4\"></a>\n",
    "Utworzyć plik zawierający kąty w stopniach w postaci dziesiętnej wartość w zakresie od 0 do 90 stopni. Wczytać dane z pliku i przeliczyć do postaci stopnie minuty sekun"
   ]
  },
  {
   "cell_type": "code",
   "execution_count": 42,
   "metadata": {},
   "outputs": [
    {
     "name": "stdout",
     "output_type": "stream",
     "text": [
      "wynik można też zapisac do pliku:  77 | 77 | 77.00\n",
      "wynik można też zapisac do pliku:  54 | 54 | 54.00\n",
      "wynik można też zapisac do pliku:  87 | 87 | 87.00\n",
      "wynik można też zapisac do pliku:  89 | 89 | 89.00\n",
      "wynik można też zapisac do pliku:  61 | 61 | 61.00\n",
      "wynik można też zapisac do pliku:  77 | 77 | 77.00\n",
      "wynik można też zapisac do pliku:  39 | 39 | 39.00\n",
      "wynik można też zapisac do pliku:  26 | 26 | 26.00\n",
      "wynik można też zapisac do pliku:  80 | 80 | 80.00\n",
      "wynik można też zapisac do pliku:  13 | 13 | 13.00\n",
      "wynik można też zapisac do pliku:  64 | 64 | 64.00\n",
      "wynik można też zapisac do pliku:  24 | 24 | 24.00\n",
      "wynik można też zapisac do pliku:  46 | 46 | 46.00\n",
      "wynik można też zapisac do pliku:  59 | 59 | 59.00\n",
      "wynik można też zapisac do pliku:  49 | 49 | 49.00\n",
      "wynik można też zapisac do pliku:  22 | 22 | 22.00\n",
      "wynik można też zapisac do pliku:  34 | 34 | 34.00\n",
      "wynik można też zapisac do pliku:  09 | 09 | 09.00\n",
      "wynik można też zapisac do pliku:  43 | 43 | 43.00\n",
      "wynik można też zapisac do pliku:  81 | 81 | 81.00\n"
     ]
    }
   ],
   "source": [
    "import random\n",
    "\n",
    "# losowe wygenerowanie wartości kątów\n",
    "dec_angle_val = [ random.uniform(0, 90) for i in range(20)]\n",
    "#print(\"Random float numbers are: \", dec_angle_val)\n",
    "\n",
    "# utworzenie pliku\n",
    "nazwa_pliku = 'katy.txt'\n",
    "f =open(nazwa_pliku, 'w+')\n",
    "for kat in dec_angle_val:\n",
    "    out= str(kat)+'\\n'\n",
    "    f.write(out)\n",
    "f.close()  \n",
    "\n",
    "\n",
    "def decimalDeg2dms(decimalDeg):\n",
    "    '''\n",
    "    Metoda przelicza wartość kąta podaną w dziesiętnych stopnia \n",
    "    do wartości kata wyrażonej w stopniach, minutach i sekundach\n",
    "    INPUT:\n",
    "        decimalDeg [float]: decimal degree (np, 185.209060574544st)\n",
    "    OUTPUT: \n",
    "        (d, m, s) [tuple]: (stopnie, minuty, sekundy) (np.(185st, 12min, 32.62sec))\n",
    "    '''\n",
    "    d = int(decimalDeg)\n",
    "    m = int((decimalDeg - d) * 60)\n",
    "    s = (decimalDeg - d - m / 60.) * 3600.0\n",
    "    return (d, m, s) \n",
    "\n",
    "\n",
    "# odczytanie pliku\n",
    "nazwa_pliku = 'katy.txt'\n",
    "f =open(nazwa_pliku, 'r')\n",
    "dane = f.readlines()\n",
    "for angle in dane:\n",
    "    s, m, sek = decimalDeg2dms(float(angle))\n",
    "    out = f\"{s:02.0f} | {s:02.0f} | {s:05.2f}\"\n",
    "    print('wynik można też zapisac do pliku: ', out)\n",
    "f.close() \n",
    "\n"
   ]
  },
  {
   "cell_type": "code",
   "execution_count": null,
   "metadata": {},
   "outputs": [],
   "source": []
  }
 ],
 "metadata": {
  "kernelspec": {
   "display_name": "Python 3",
   "language": "python",
   "name": "python3"
  },
  "language_info": {
   "codemirror_mode": {
    "name": "ipython",
    "version": 3
   },
   "file_extension": ".py",
   "mimetype": "text/x-python",
   "name": "python",
   "nbconvert_exporter": "python",
   "pygments_lexer": "ipython3",
   "version": "3.8.8"
  }
 },
 "nbformat": 4,
 "nbformat_minor": 2
}
