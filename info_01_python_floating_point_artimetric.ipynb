{
 "cells": [
  {
   "cell_type": "markdown",
   "metadata": {},
   "source": [
    "<table>\n",
    "<thead>\n",
    "  <tr>\n",
    "    <td></td>\n",
    "    <td>\n",
    "        Kinga Węzka <br>\n",
    "        kinga.wezka@pw.edu.pl <br>\n",
    "        Warsaw University of Technology  <br>\n",
    "Faculty Geodesy and Cartography <br>\n",
    "<a ref=\"https://www.google.com/maps/place/Gmach+G%C5%82%C3%B3wny+Politechniki+Warszawskiej/@52.220656,21.0094422,19z/data=!3m1!4b1!4m5!3m4!1s0x471ecce951c85a19:0x712b0e1503c42b91!8m2!3d52.220656!4d21.0099894\"> N 52&ordm; 12' 45&quot; / E 21&ordm; 03' 51&quot;</a>\n",
    "    </td>\n",
    "    <td>\n",
    "<a rel=\"license\" href=\"https://www.pw.edu.pl\"><img alt=\"Politechnika Warszawska\" style=\"border-width:0\" src=\"https://www.pw.edu.pl/design/pw/images/znak-pw.png\" width=\"50%\" /></a>\n",
    "    </td>\n",
    "  </tr>\n",
    "</thead>\n",
    "</table>\n"
   ]
  },
  {
   "cell_type": "markdown",
   "metadata": {},
   "source": [
    "<div class=\"alert-success\">\n",
    "<b>Liczby zmiennoprzecinokowe i ich artmetyka:  </b> O dokładności obliczeń\n",
    "</div>"
   ]
  },
  {
   "cell_type": "markdown",
   "metadata": {},
   "source": [
    "### Spis treści\n",
    "1. [Wprowadzenie](#wprowadzenie) \n",
    "2. [Dlaczego komputery posługują się zapisem dwójkowym?](#intro)\n",
    "3. [Standard artmetyki liczb zmiennoprzecinkowych (IEEE 754 floating-point standard)](#IEEEE754)\n",
    "4. [Zapisy dwójkowy vs zapis dzesiętny - komputer vs człowiek](#komputery)\n",
    "5. [Przeliczenie pomiedzy systemem dwójkowy i dzesiętnym](#bin2dec)\n",
    "    1. [Przeliczenie liczb całkowitych](#bin2dec_int)\n",
    "    2. [Przeliczenie liczb zmiennoprzecinkowych](#bin2dec_float)\n",
    "6. [Liczba zmiennoprzecinkowa w Pythonie](#float)\n",
    "7. [Liczba całkowita w Pythonie - PEP 237 – Long Integer](#bin_vs_dec)\n",
    "8. [Jak sprawdzić dokładność przechowywania liczb w komputerze?](#spr_dokladnosci)\n",
    "9. [Obliczenia wysokiej precyzji - rozwiązanie problemu liczb zmiennoprzecinowych - biblioteka Decimal](#decimal)"
   ]
  },
  {
   "cell_type": "markdown",
   "metadata": {},
   "source": [
    "### 1. Wprowadzenie <a name=\"intro\"></a>\n",
    "**System liczbowy** to zbiór reguł jednolitego zapisu i nazewnictwa liczb. Do zapisywania liczb używa się skończonego zbioru znaków, zwanych cyframi. **Cyfra jest jedynie reprezentacją graficzną liczby** (np. 9 to znak graficzny liczby 9 w systemi dziesiętnym). Więc **ta sama liczba może mieć wiele systemów zapisu**.\n",
    "\n",
    "Do najbardziej popularnych systemów liczbowych należą systemy dwójkowy, ósemkowy, dzisiętny oraz szesnastkowy. Nazwy systemów mówią nam ile znaków dany system wykorzystuje do zapisu liczb.\n",
    "- **system dwójkowy (binary)** - 2 znaki: 0 i 1 - takiego systemu używają używają komputery\n",
    "- **system osemkowy (octal)** - 8 znaków: 0, 2, 3, 4, 5, 6, 7\n",
    "- **system dziesiętny (decimal)** - 10 znaków: 0, 1, 2, 3, 4, 5, 6,7 ,8 ,9 - takiego używa człowiek w systemie liczb arabskich\n",
    "- **system szesnastkowy (hexadecimal)** - 16 znaków: 0,1,2,3,4,5,6,7,8,9,A,B,C,D,E,F\n",
    "\n",
    "**Z racji reprezentacji liczb w pamięci komputerów za pomocą bitów, najbardziej naturalnym systemem w informatyce jest dwójkowy system liczbowy**. Natomiast naturalny dla ludzi **system dziesiętny** został wprowadzony dopiero wraz z powstaniem języków programowania wyższego poziomu, aby maksymalnie ułatwić korzystanie z komputerów. Ze względu na specyfikę architektury komputerów, gdzie często najszybszy dostęp jest do adresów parzystych, albo podzielnych przez 4, 8 czy 16, często używany jest **szesnastkowy system liczbowy**, stosowany jest przy zapisie dużych liczb takich jak adresy pamięci, adresy MAC urządzeń sieciowych etc.\n",
    "\n",
    "+ **Bit** (skrót od ang. binary digit) – najmniejsza ilość informacji potrzebna do określenia, który z dwóch równie prawdopodobnych stanów przyjął układ. Jednostka logiczna. Jest to również najmniejsza jednostka informacji używana w odniesieniu do sprzętu komputerowego a oznaczana jest za pomocą b.\n",
    "+ **Bajt** – najmniejsza adresowalna jednostka informacji pamięci komputerowej, składająca się z bitów. W praktyce przyjmuje się, że jeden bajt to 8 bitów.\n",
    "\n",
    "Dla oznaczenia większych grup danych stosuje się przedrostki oparte o wielokrotność liczby 1024:\n",
    "+ $2^{20} = 1024^2$ - megabajt - MiB\n",
    "+ $2^{30} = 1024^3$ - gigabajt - GiB ..."
   ]
  },
  {
   "cell_type": "markdown",
   "metadata": {},
   "source": [
    "### 2. Dlaczego komputery posługują się zapisem dwójkowym?  <a name=\"komputery\"></a>\n",
    "\n",
    "Dlaczego komputery posługują się zapisem dwójkowym? Wynika to z ograniczeń technologicznych \n",
    "No bo jak jak zapisać dane w komputerze? Posługujemy się np zapisem magnetycznym czyli możemy umówić się że obecność ładunku magnetycznego to 0 a jego brak to 1 ( albo odwwrotnie, to tyko kwestia umowna).\n",
    "Łatwo to rozróżnić głowicy bo albo jest ładunek albo go nie ma. A jak zapisać 10 różnych stanów (zapisu magnetycznego) i potem poprawnie je rozpoznawać. Właśnie dlatego komputery używają systemu dwu-stanowego czyli dwójkowego (binarnego). **Liczby binarne** mimo swej prostoty **mają jedną GENIALNĄ cechę** , **wartości liczbowe mogą być reprezentowane i przetwarzane w ten sam sposób co wartości logiczne (True/False)**. Komputery, z których obecnie korzystamy, wykorzystują miliony mechanizmów logicznych nazywanych **bramkami logicznymi** - są to elektroniczne elementy konstrukcyjne maszyn i mechanizmów (zazwyczaj: układ scalony). Te elementy elektroniczne,  przyjmują sygnały binarne na wejściach i zwracają wartości 1 lub 0 - prawda lub fałsz. Więcej o bramkach logicznych: https://botland.com.pl/blog/bramki-logiczne-jak-to-dziala/#:~:text=Komputery%2C%20z%20kt%C3%B3rych%20obecnie%20korzystamy,lub%200%20%E2%80%93%20prawda%20lub%20fa%C5%82sz.\n",
    "\n",
    "\n",
    "Nowe rozumienie pracy komputera jest zastosowane w **komputerach kwantowych**. W komputerze kwantowym w Innsbrucku informacja jest przechowywana w indywidualnie uwięzionych atomach wapnia. Każdy z tych atomów ma naturalnie **osiem różnych stanów**, z których tylko dwa są zwykle wykorzystywane do przechowywania informacji. W rzeczywistości prawie wszystkie istniejące komputery kwantowe mają dostęp do większej liczby stanów kwantowych niż faktycznie wykorzystują do obliczeń. Wiecej: https://nafalinauki.pl/aktualnosci/do-2029-roku-ma-powstac-w-pelni-funkcjonalny-komputer-kwantowy/\n",
    "Potencjał komputerów kwantowych jest ogromny, jednak ... Opracowany przez **GOOGLE 54-kubitowy procesor Sycamore** był w stanie w 200 sekund wykonać obliczenia, które najpotężniejszemu superkomputerowi na świecie zajęłyby 10 000 lat. Jednak naukowcy z Google twierdzą, że czeka nas długa droga, zanim takie komputery staną się przydatne i **niezawodne**. Jednym z wyzwań jest ograniczenie błędów popełnianych przez kubity. Więc technologie kwantowe to nadal na wczesnym etapie rozwoju, można wręcz powiedzieć, że eksperymentalnym. Jednak wyścig trwa ...!!\n",
    "\n",
    "\n",
    "**Komputery kwantowe to pieśń przyszłości, obecnie wszystkie komputery pracuja w systemi binarnym**. Przechowywanie informacji w zerach i jedynkach nie jest może najbardziej wydajnym sposobem wykonywania obliczeń. Jest to jednak zdecydowanie najprostszy sposób. Prosty - zazwyczaj oznacza to też **niezawodny** i **odporny na błędy**. Dlatego informacja binarna stała się niekwestionowanym standardem pracy dla klasycznych komputerów. \n",
    "\n",
    "Właściwie jedyny problem pracy komputera polega na tym, że w cyfrowej maszynie liczącej, która jest przecież skrzynką o skończonych rozmiarach, no bo nie da się zmieścić całej reprezentacji liczby rzeczywistej. Innymi słowy - **komputery bardzo nie lubią nieskończoności**, dlatego też pracują ze skończonymi reprezentacjami liczb. *Skończoność* - w komputerach standardowo stosowany jest system binarny o bazie dwójkowej. \n",
    "\n",
    "Więc gdy programy komputerowe przechowują liczby w zmiennych, komputer musi znaleźć sposób na ich reprezentację w pamięci komputera. Komputery stosują różne strategie w zależności od tego, czy dana liczba jest liczbą całkowitą, czy też nie. **Ze względu na ograniczenia pamięci komputerowej, programy napotykają czasem na problemy z zaokrąglaniem, przepełnianiem lub precyzją zmiennych liczbowych - artmetyka liczb zmiennoprzecinkowych**."
   ]
  },
  {
   "cell_type": "markdown",
   "metadata": {},
   "source": [
    "### 3.  Standard artmetyki liczb zmiennoprzecinkowych (IEEE floating-point standard) <a name=\"IEEEE754\"></a>\n",
    "\n",
    "Częściowym rozwiązaniem problemu artmetyki liczb zmiennoprzecinowych jest **Standard reprezentacji binarnej i operacji na liczbach zmiennoprzecinkowych (IEEE-754 floating-point standard).\n",
    "\n",
    "Standard ten definuje, w jaki sposób zapisujemy liczby, jakie operacje na nich wykonujemy, a także szczegóły typu **jak zaokrąglać liczby**. Przyjęło się wyróżniać dwa podstawowe formaty tego kodowania \n",
    "+ pojedynczy (32-bitowy, w programowaniu spotykany pod nazwą float) \n",
    "+ podwójny (64-bitowy, spotykany jako double). \n",
    "\n",
    "Oprócz tego **standard IEEE-754** definiuje wartości specjalne:\n",
    "+ **NaN**, czyli nie-liczba (od ang. not a number). Jest to specjalna wartość zwracana przy wykonaniu niedozwolonych operacji. W tym przypadku wszystkie bity wykładnika są jedynkami, a mantysa ma dowolną nie-zerową wartość.\n",
    "+ **Zero**. Jak pamiętamy, zero nie istnieje w normalnym zapisie zmiennoprzecinkowym. W IEEE-754 zero jest wtedy, kiedy wszystkie bity wykładnika i mantysy są zerami. Co ciekawe, znak może być + lub -, czyli ponownie mamy sytuację znaną chociażby z kodowania U1. Tutaj jednak nie wpływa to na liczbę dostępnych liczb do zapisania.\n",
    "+ **Nieskończoność**. Może wystąpić ona w przypadku nadmiaru, czyli kiedy liczba jest na tyle duża, że nie jesteśmy w stanie jej zapisać w naszym kodowaniu, lub przy dzieleniu przez zero. Zapisujemy ją, ustawiając wszystkie bity wykładnika na jedynki a mantysy na zera. Mamy oczywiście dostępne dwa rodzaje nieskończoności, plusową i minusową.\n",
    "\n",
    "Standart IEEE-754 nie jest najprostszym formatem, aczkolwiek stał się szeroko stosowanym standardem. **Wszystkie  działania (obliczenia) na komputerach z liczbami rzeczywistymi, są realizowane w pamieci komputera z dokładnym zachowaniem IEEE-754**. Standard jest wspierany obecnie przez niemal każdy procesor.\n"
   ]
  },
  {
   "cell_type": "markdown",
   "metadata": {},
   "source": [
    "### 4. Zapisy dwójkowy vs zapis dzesiętny - komputer vs człowiek <a name=\"bin_vs_dec\"></a>\n",
    "W związku z tym, że komputery liczą i przechowuja wartości w systemie binarnym (o podstawie 2:0,1), człowiek liczy w systemie dziesiętnym (o podstawie 10: 0,1,2,3,4,5,6,7,8,9), mamy kilka rozbieżności w dokładności i precyzji naszych obliczeń w stosunku do tego co liczy komputer. Problem łatwo zauważyć w zapisie ułamka $\\frac{1}{3}$  który w postaci dziesiętnej można zapisać jako 0.3, lub 0.33 lub 0.33333 etc.\n",
    "\n",
    "\n",
    "Wynika to z faktu, że nie wszystkie liczby można z dokładnie taką samą precyzją zapisać w obu systemach (przykład liczby wymierne z okresowym rozwinieciem).  I chociaż standard IEEE754 bardzo ułatwił komputerom pracę z liczbami rzeczywistymi (float) to niestety ma on swoje **wady**. Jedną z nich jest to, że **w pewnych przypadkach zapis liczby w tym formacie prowadzi do utracenia informacji**. Dzieje się tak na przykład ***w przypadku liczb wymiernych** gdy ułamek zapisany binarnie ma **rozwinięcie okresowe**. Więcej: https://swistak.codes/post/liczby-wymierne-i-rzeczywiste-w-zero-jedynkowym-swiecie/#liczby-zmiennoprzecinkowe\n",
    "\n",
    "\n",
    "**I teraz cały problem polega na tym, że nie wszystkie ułamki o podstawie 10 da się przedstawić za pomocą ułamka o podstawie 2**. Na przykład reprezentacja liczby 3.7 w systemie dziesiętnym (o podstawie 10) wygląda tak:\n",
    "+ 3.7 = 3 + 7/10   - w systemie dziesiętnym \n",
    "+ 3.7 = 3 + 1/2 + 0/4 + 1/8 + 1/16 + 0/32 + 0/64 + 1/128 + 1/256 + 0/512 + 0/1024 + 1/2048 ... etc. - w systemie binarnym\n",
    "\n",
    "Ile byśmy tych ułamków nie dodali to za &^%# nie wyjdzie 3.7 Dlatego też komputery nie są w stanie poprawnie liczyć na ułamkach dziesiętnych (nie licząc takich programistycznych \"sztuczek\" jak istniejący w każdym sensownym języku typ **Decimal** - patrz ostatni rozdział tego notebooka).\n",
    "\n",
    "\n",
    "\n",
    "Przykładem takich ułamków z rozwinieciem okresowym są: 0.1 ($\\frac{1}{10}$) czy 0.2 ($\\frac{2}{10}$).\n",
    "\n",
    "Chociaż 0.1 + 0.2 = 0.3 w naszych obliczeniach się zgadza to w pamięci komputera wygląda to trochę inaczej:\n",
    "`0.10000000000000000555 + 0.20000000000000001110 != 0.3`\n",
    "\n",
    "Więc należy zachować należytą staranność w obliczeniach charakteryzujacych się wysoką precyzja. A o fatalnych skutkach komputerowej artmetyki można poczytać tutaj:  \n",
    "https://www.komputerswiat.pl/aktualnosci/sprzet/powazne-konsekwencje-drobnych-bledow-w-oprogramowaniu/m50x51x"
   ]
  },
  {
   "cell_type": "code",
   "execution_count": 39,
   "metadata": {},
   "outputs": [
    {
     "name": "stdout",
     "output_type": "stream",
     "text": [
      "0.10000000000000000555\n",
      "0.20000000000000001110\n"
     ]
    },
    {
     "data": {
      "text/plain": [
       "True"
      ]
     },
     "execution_count": 39,
     "metadata": {},
     "output_type": "execute_result"
    }
   ],
   "source": [
    "a = 0.1\n",
    "print(f'{a:.20f}') # zapis formatowania łańcucha znaków wyświetla liczbę z 17 znakami po przecinku\n",
    "b = 0.2\n",
    "print(f'{b:.20f}')\n",
    "a + b == 0.3\n",
    "a + b != 0.3"
   ]
  },
  {
   "cell_type": "markdown",
   "metadata": {},
   "source": [
    "### 5. Przeliczenie z systemu dwójkowego do dzesiętnego i odwrotnie <a name=\"bin2dec\"></a>"
   ]
  },
  {
   "cell_type": "markdown",
   "metadata": {},
   "source": [
    "#### A. Przeliczenie z systemu dwójkowego do dzesiętnego liczba całkowita<a name=\"bin2dec_int\"></a>\n",
    "W systemie binarnym **aby sprowadzić liczbę dziesiętną do postaci binarnej**, należy dokonać dzielenia przez 2. W tym przypadku liczbą dziesiętną będzie liczba 8. Dzielimy kolejne liczby przez 2, ustalając czy reszta jest równa 0 czy 1. Po wykonaniu ostatniego dzielenia, czyli podzielenia cyfry 1 przez 2 zapisujemy liczbę która nam powstała, pisząc od dołu do góry powstałe 1 oraz 0. Powstaje nam następująca liczba czyli: 1000.\n",
    "\n",
    "<img src=\"https://www.informatyk.edu.pl/wp-content/uploads/2017/04/BinarkaKonwersja.png\" width=\"15%\">\n",
    "\n",
    "**Aby dokonać konwersji liczby binarnej na dziesiętną** należy pomnożyć kolejne 1 i 0 przez kolejne potęgi dwójki (zaczynając od potęgi zerowej), zaczynając od rzędu jedności (od prawej strony), a kolejne cyfry liczby binarnej dodać ze sobą po pomnożeniu.\n",
    "\n",
    "1 * 23 + 0 * 22 + 0 * 21 + 0 * 20  =  1 * 8 + 0 * 4 + 0 * 2 + 0 * 1 = 8\n",
    "\n",
    "Żeby rozpoznać parzystość lub nieparzystość liczby wystarczy sprawdzić cyfrę liczby binarnej w rzędzie jedności, jeśli będzie wynosiła ona 0 to liczba jest parzysta, jeśli 1 to liczba jest nieparzysta.\n",
    "\n",
    "**Przykład**: \n",
    "+ $(1000)_{BIN} = (8)_{DEC}$\n",
    "+ $(8)_{DEC} = (1000)_{BIN}$\n",
    "\n",
    "Warto znać kolejne potęgi dwójki: \n",
    "<img src=\"https://i0.wp.com/electricalfundablog.com/wp-content/uploads/2018/09/Binary-Numbers.png?ssl=1\" width=\"35%\">"
   ]
  },
  {
   "cell_type": "code",
   "execution_count": 47,
   "metadata": {},
   "outputs": [
    {
     "data": {
      "text/plain": [
       "'0001'"
      ]
     },
     "execution_count": 47,
     "metadata": {},
     "output_type": "execute_result"
    }
   ],
   "source": [
    "from math import modf, floor\n",
    "\n",
    "# przeliczenie z  dziesiętnego do dwójkowego \n",
    "def dec2bin_int(ndec):\n",
    "    nbin = \"\"\n",
    "    while ndec > 0:\n",
    "        rest = ndec % 2\n",
    "        ndec = floor(ndec / 2)\n",
    "        nbin += str(rest)\n",
    "    nBin = nbin[::-1]\n",
    "    return nbin\n",
    "\n",
    "\n",
    "ndec = 8 # '0001'\n",
    "dec2bin_int(ndec)"
   ]
  },
  {
   "cell_type": "code",
   "execution_count": 43,
   "metadata": {},
   "outputs": [
    {
     "data": {
      "text/plain": [
       "8"
      ]
     },
     "execution_count": 43,
     "metadata": {},
     "output_type": "execute_result"
    }
   ],
   "source": [
    "# przeliczenie z dwójkowego do dziesiętnego\n",
    "def bin2dec_int(nbin):\n",
    "    inv_bin = nbin[::-1] # odwrócenie\n",
    "    dec_number = 0\n",
    "    i = 0\n",
    "    while i < len(nbin):\n",
    "        dec_number +=  (int(inv_bin[i]) * 2**(i))\n",
    "        i+=1\n",
    "    return dec_number\n",
    "\n",
    "nbin = \"1000\" # 8\n",
    "bin2dec_int(nbin)"
   ]
  },
  {
   "cell_type": "markdown",
   "metadata": {},
   "source": [
    "#### B. Przeliczenie z systemu dwójkowego do dzesiętnego liczba zmiennoprzecinowa<a name=\"bin2dec_float\"></a>"
   ]
  },
  {
   "cell_type": "markdown",
   "metadata": {},
   "source": [
    "Aby zamienić część ułamkową z systemu dziesiętnego na system dwójkowy należy dziesiętny należy najpierw mnożyć kolejne cześć dziesiętne przez 2 Następnie część całkowitą z kolumny obliczenia wpisujemy jako bit, a część ułamkową poddajemy kolejnemu mnożeniu przez 2.\n",
    "\n",
    "\n",
    "<img src=\"https://i2.wp.com/electricalfundablog.com/wp-content/uploads/2018/09/Decimal-Number-System-Conversion-to-Binary-2.png?ssl=1\" width=\"20%\">\n",
    "\n",
    "\n",
    "Łatwo zauważyć, że np dla ułamka 0.1 podążając za algorytmem nigdy nie skończymy wypisywać cyfr po przecinku, ponieważ będziemy w kółko wypisywać wyniki z kolejno powtarzanych kroków. **Sposobem na rozwiązanie tego problemu jest ustalenie precyzji. Precyzja określa ile cyfr po przecinku chcemy wypisać** - to jest problem z reprezentacją liczb w systemie binarnym.\n",
    "\n",
    "\n",
    "Aby zamienić liczbę zmiennoprzecinkową podaną przez użytkownika w systemie dwójkowym zamieni na odpowiadającą liczbę w systemie dziesiętnym.\n",
    "\n",
    "\n",
    "<img src=\"https://i0.wp.com/electricalfundablog.com/wp-content/uploads/2018/09/Binary-to-Decimal-Conversion-1.png?ssl=1\" width=\"40%\">\n",
    "\n",
    "**Przykład:** \n",
    "+ $(458.692)_{DEC} = (1011)_{BIN}$\n",
    "+ $(1110.011)_{BIN} = (14.375)_{DEC}$"
   ]
  },
  {
   "cell_type": "code",
   "execution_count": null,
   "metadata": {},
   "outputs": [],
   "source": [
    "a = 0.1\n",
    "b = 0.1 + 0.1 + 0.1\n",
    "print(float(b))"
   ]
  },
  {
   "cell_type": "code",
   "execution_count": 59,
   "metadata": {},
   "outputs": [
    {
     "data": {
      "text/plain": [
       "'.011'"
      ]
     },
     "execution_count": 59,
     "metadata": {},
     "output_type": "execute_result"
    }
   ],
   "source": [
    "#Tylko przeliczenie części dziesiętnej, całkowita w zad. poprzednim\n",
    "from math import modf, floor\n",
    "\n",
    "def dec2bin_dec(ndec, precyzja = 3): # ustalenie precyzji\n",
    "    frac, integer = modf(ndec)\n",
    "    i = 0\n",
    "    nbin_dec = \".\"\n",
    "    while i < precyzja:\n",
    "        value = float(round(frac,3)) * 2\n",
    "        frac, it  = modf(value)\n",
    "        nbin_dec += str(floor(it))\n",
    "        if i == precyzja: # potrzebne aby przerwać po osiągnieciu precyzji\n",
    "            break\n",
    "        i+=1\n",
    "    return nbin_dec\n",
    "        \n",
    "n = 14.375\n",
    "dec2bin_dec(n) # nie "
   ]
  },
  {
   "cell_type": "code",
   "execution_count": 56,
   "metadata": {},
   "outputs": [
    {
     "data": {
      "text/plain": [
       "'.375'"
      ]
     },
     "execution_count": 56,
     "metadata": {},
     "output_type": "execute_result"
    }
   ],
   "source": [
    "#Tylko przeliczenie części dziesiętnej, całkowita w zad. poprzednim\n",
    "def bin2dec_dec(nbin):\n",
    "    [n1, n2] = nbin.split('.')\n",
    "    ndec_dec= 0\n",
    "    i = 0\n",
    "    while i < len(n2):\n",
    "        ndec_dec +=  (int(n2[i]) * 1/2**(i+1))\n",
    "        i+=1\n",
    "    return str(ndec_dec)[1:]\n",
    "\n",
    "nbin = \"1110.011\"\n",
    "bin2dec_dec(nbin)"
   ]
  },
  {
   "cell_type": "markdown",
   "metadata": {},
   "source": [
    "### 6. Liczba zmiennoprzecinkowa w Pythonie<a name=\"float\"></a>\n",
    "\n",
    "Potrzebne informacje na temat arytmetyki zmiennoprzecinowej w Pythonie zapisane sa w jego dokumentacji, więcej: https://docs.python.org/3/tutorial/floatingpoint.html#\n",
    "\n",
    "Python wszystkie obliczenia na liczbach zmiennoprzecinowych (podobnie jak większość języków programowania) wykonuje z tzw podwójną precyzją  (ang. **double precision**), **reprezentacja liczby zawiera 53 bits**. \n",
    "https://docs.python.org/3/tutorial/floatingpoint.html#representation-error\n",
    "\n"
   ]
  },
  {
   "cell_type": "markdown",
   "metadata": {},
   "source": [
    "### 7. Liczba całkowita w Pythonie - PEP 237 – Long Integer<a name=\"PEP237\"></a>\n",
    "\n",
    "W wielu językach powstały rozwiązania (programowe), które pozwalają wykonywać działania na nieskończenie wielkich\n",
    "liczbach całkowitych (zwane czasami BigInt lub BigNumber) i Python domyślnie korzysta właśnie z czegoś takiego.\n",
    "\n",
    "PEP 237 – Unifying Long Integers and Integers\n",
    "https://peps.python.org/pep-0237/\n",
    "\n",
    "\n",
    "W wersji Python 2.6 jeszcze był podział na \"int\" i \"long int\" czyli liczby ograniczone przez procesor (int) oraz BigInt (long int)."
   ]
  },
  {
   "cell_type": "markdown",
   "metadata": {},
   "source": [
    "### 8. Jak sprawdzić dokładność przechowywania liczb w komputerze? <a name=\"spr_dokladność\"></a>\n",
    "\n",
    "Aby sprawdzić jaka jest dokładność przechowywania liczb zmiennoprzecinowych w naszej maszynie (komputerze). Należy np. wykonywać dzielenie liczby przez 2 dopóki wyniki kolejnych dzieleń przestaną się od siebie różnić. "
   ]
  },
  {
   "cell_type": "code",
   "execution_count": null,
   "metadata": {},
   "outputs": [],
   "source": [
    "# architektóra maszyny\n",
    "import platform\n",
    "platform.architecture() # 64-bit"
   ]
  },
  {
   "cell_type": "code",
   "execution_count": 60,
   "metadata": {},
   "outputs": [
    {
     "name": "stdout",
     "output_type": "stream",
     "text": [
      "0.0000000000000000000000000000000000000000000000000000000000000000000000000000000000000000000000000000, 1082\n"
     ]
    }
   ],
   "source": [
    "liczba = 100\n",
    "wynik_1 = liczba / 2\n",
    "\n",
    "n = 0\n",
    "while wynik_1 != liczba:\n",
    "    liczba = wynik_1\n",
    "    wynik_1 = liczba /2\n",
    "    #print(f'wynik_{n}: {wynik_1:.50f}')\n",
    "    n += 1 \n",
    "    \n",
    "print(f'{wynik_1:.100f}, {n}')"
   ]
  },
  {
   "cell_type": "markdown",
   "metadata": {},
   "source": [
    "### 9. Obliczenia wysokiej precyzji - - rozwiązanie problemu float - biblioteka Decimal <a name=\"decimal\"></a>\n",
    "\n",
    "Każdy język programowania aby rozwiązać problem związany z arytmetyka liczb zmiennoprzecinowych posiada swój zestaw narzędzi najczęściej specjalne biblioteki. Podobnie jest w języku Python. Python, aby zapewnić poprawną obsługę \n",
    "arytmetyki zmiennoprzecinkowej dziesiętnej wykorzystuję standardową bibliotekę **Decimal** https://docs.python.org/2/library/decimal.html\n",
    "\n",
    "Biblioteka **Decimal** oferuje kilka zalet w porównaniu z arytmetyka typy danych float:\n",
    "\n",
    "+ **Decimal** „jest oparty na modelu zmiennoprzecinkowym, który został zaprojektowany z myślą o ludziach i koniecznie ma nadrzędną zasadę przewodnią – komputery muszą zapewniać arytmetykę, która działa w taki sam sposób, jak arytmetyka, której ludzie uczą się w szkole”. – wyciąg ze specyfikacji arytmetyki dziesiętnej.\n",
    "\n",
    "+ Liczby dziesiętne mogą być dokładnie reprezentowane. W przeciwieństwie do tego liczby takie jak 1.1 i 2.2 nie mają dokładnych reprezentacji w binarnych liczbach zmiennoprzecinkowych. Użytkownicy końcowi zazwyczaj nie spodziewają się, że 1.1 + 2.2 będą wyświetlane jako 3.300000000000003, jak to ma miejsce w przypadku binarnych liczb zmiennoprzecinkowych.\n",
    "\n",
    "+ **Decimal** zawiera pojęcie miejsc znaczących tak, że `1.30 + 1.20 to 2.50`. Końcowe zero jest zachowywane, aby wskazać znaczenie. Jest to zwyczajowa prezentacja dla zastosowań monetarnych. W przypadku mnożenia podejście wykorzystuje wszystkie liczby w mnożnikach. Na przykład `1.3 * 1.2 daje 1.56`, a `1.30 * 1.20 daje 1,5600..`\n",
    "\n",
    "+ W przeciwieństwie do sprzętowego binarnego zmiennoprzecinkowego modułu dziesiętnego - **float**, biblioteka **Decimal** ma precyzję zmienianą przez użytkownika (domyślnie do 28 miejsc), która może być tak duża, jak jest to konieczne dla danego problemu: "
   ]
  },
  {
   "cell_type": "code",
   "execution_count": 33,
   "metadata": {},
   "outputs": [
    {
     "name": "stdout",
     "output_type": "stream",
     "text": [
      "Context(prec=28, rounding=ROUND_HALF_EVEN, Emin=-999999, Emax=999999, capitals=1, clamp=0, flags=[Inexact, Rounded], traps=[InvalidOperation, DivisionByZero, Overflow])\n"
     ]
    }
   ],
   "source": [
    "from decimal import *\n",
    "context = getcontext() # pobranie informacji o aktualnej precyzji obliczeń\n",
    "print(context)\n",
    "\n",
    "# zmiana precyzji obliczeń\n",
    "getcontext().prec = 32       # Set a new precision"
   ]
  },
  {
   "cell_type": "code",
   "execution_count": 34,
   "metadata": {},
   "outputs": [
    {
     "name": "stdout",
     "output_type": "stream",
     "text": [
      "prec, ..: 0.14285714285714285\n",
      "prec,  6: 0.142857\n",
      "prec, 28: 0.1428571428571428571428571429\n",
      "prec, 64: 0.1428571428571428571428571428571428571428571428571428571428571429\n"
     ]
    }
   ],
   "source": [
    "from decimal import *\n",
    "\n",
    "print('prec, ..:', 1/7)\n",
    "\n",
    "getcontext().prec = 6\n",
    "print('prec,  6:', Decimal(1) / Decimal(7))\n",
    "\n",
    "getcontext().prec = 28\n",
    "print('prec, 28:', Decimal(1) / Decimal(7))\n",
    "\n",
    "getcontext().prec = 64\n",
    "print('prec, 64:',Decimal(1) / Decimal(7))\n"
   ]
  }
 ],
 "metadata": {
  "kernelspec": {
   "display_name": "Python 3 (ipykernel)",
   "language": "python",
   "name": "python3"
  },
  "language_info": {
   "codemirror_mode": {
    "name": "ipython",
    "version": 3
   },
   "file_extension": ".py",
   "mimetype": "text/x-python",
   "name": "python",
   "nbconvert_exporter": "python",
   "pygments_lexer": "ipython3",
   "version": "3.9.12"
  }
 },
 "nbformat": 4,
 "nbformat_minor": 2
}
