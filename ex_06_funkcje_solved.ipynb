{
 "cells": [
  {
   "cell_type": "markdown",
   "metadata": {},
   "source": [
    "| **Kinga Węzka** <BR> kinga.wezka@pw.edu.pl  <BR> Warsaw University of Technology <BR> Faculty Geodesy and Cartography <BR> Plac Politechniki 1 (room 38)<BR> 00-661 Warszawa, POLAND<BR> <A href=\"https://www.google.com/maps/place/Gmach+G%C5%82%C3%B3wny+Politechniki+Warszawskiej/@52.220656,21.0094422,19z/data=!3m1!4b1!4m5!3m4!1s0x471ecce951c85a19:0x712b0e1503c42b91!8m2!3d52.220656!4d21.0099894\"> N 52&ordm; 12' 45&quot; / E 21&ordm; 03' 51&quot;</A></B><BR> | <a rel=\"license\" href=\"https://www.pw.edu.pl\"><img alt=\"Politechnika Warszawska\" style=\"border-width:0\" src=\"https://www.pw.edu.pl/design/pw/images/znak-pw.png\" /></a> |\n",
    "|---------------------------------------------------------------------------------------------------------------------------------------------------------------------------------------------------------------------------------------------------------------------------------------------------------------------------------------------------------------------------------------------------------------------------------------------------------------------------|-------------------------------------------------------------------------------------------------------------------------------------------------------------------------|\n",
    "\n",
    "**Informatyka Geodezyjna** (projekt) -- rok akademicki 2020/2021\n",
    "    \n",
    "**Prowadzący:** Kinga Węzka, Joanna Kożuchowska \n",
    "    \n",
    "**Projekt 7: Funkcje w Pythonie**\n",
    "\n",
    "\n",
    "**UWAGA: Odpowiedź na każde pytanie powinna znajdować się w oddzielnej komórce poniżej pytania, z podanym numerem pytania**\n"
   ]
  },
  {
   "cell_type": "markdown",
   "metadata": {},
   "source": [
    "# Spis treści:\n",
    "\n",
    "1. [Zad. 1: Funkcje i wyrażenie lambda - operacje matematyczne:  `+,-,*,/`](#zad1)\n",
    "2. [Zad. 2: Odległość 3D - dokumentacja, adnotacja](#zad2)\n",
    "3. [Zad. 3: Konwersja z Celsjusza na Fahrenheit - użycie funkcji w pętli](#zad3)\n",
    "4. [Zad. 4: Odległość 2D](#zad4)\n",
    "5. [Zad. 5: Wykładnik potęgi](#zad5)\n",
    "6. [Zad. 6: Pole trójkąta na podstawie współrzędnych wierzchołków](#zad6)\n",
    "7. [Zad. 7: Współczynniki prostej przechodzącej przez 2 punkty](#zad7)\n",
    "8. [Zad. 8: Funkcja rekurencyjna - silnia ](#zad8)\n",
    "9. [Zad. 9: Sprawdzanie elementów listy](#zad9)\n",
    "10. [Zad. 10: Wartość wielomianu w punkcie](#zad10)\n",
    "11. [Zad. 11: Iloczyn skalarny wektorów](#zad11)\n",
    "12. [Zad. 12: Funkcje do wyznaczenia średniej, sumy, max, min etc ](#zad12)\n",
    "13. [Zad. 13: Dodawanie macierzy](#zad13)\n",
    "14. [Zad. 14: Współrzedne kolejnych punktów na podstawie wsp. biegunowych ](#zad14)"
   ]
  },
  {
   "cell_type": "markdown",
   "metadata": {},
   "source": [
    "## Zad.1: Funkcje i wyrażenie lambda - operacje matematyczne:   `+,-,*,/` <a name=\"zad1\"></a>\n",
    "\n",
    "Napisać 4 funkcję, które przyjmują 2 argumenty, i zwracają wynik następujących operacji matematycznych:\n",
    "a) dodawania;\n",
    "b) odejmowania;\n",
    "c) mnożenia;\n",
    "d) dzielenia, wynik podaj z dokładnością do dwóch miejsc po przecinku oraz uwzględnij warunek dla dzielnika równego zero.\n",
    "e) funkcja licząca średnią arytmetyczną na podstawie listy o nieznanej ilości elementów  \n",
    "\n",
    "Następnie funkcje a, b, c, d zapisz korzystając z wyrażenia **lambda**."
   ]
  },
  {
   "cell_type": "code",
   "execution_count": 3,
   "metadata": {},
   "outputs": [
    {
     "name": "stdout",
     "output_type": "stream",
     "text": [
      "wynik dodawania - funkcja: 5\n",
      "wynik odejmowania - funkcja: 6\n",
      "wynik mnożenia - funkcja: 5\n",
      "wynik dzielenia - funkcja: 0.67\n"
     ]
    }
   ],
   "source": [
    "#a) dodawanie - funkcja\n",
    "def dodawanie(a,b):\n",
    "    return(a+b)\n",
    "print('wynik dodawania - funkcja:', dodawanie(2,3))\n",
    "\n",
    "#funkcja anonimowa lambda\n",
    "dodawanieL = lambda a,b :a+b\n",
    "print('wynik dodawania - lambda:', dodawanieL(3,3))"
   ]
  },
  {
   "cell_type": "code",
   "execution_count": null,
   "metadata": {},
   "outputs": [],
   "source": [
    "#b) odejmowanie - funkcja\n",
    "def odejmowanie(a,b):\n",
    "    return(a*b)\n",
    "print('wynik odejmowania - funkcja:', odejmowanie(2,3))\n",
    "\n",
    "#funkcja anonimowa lambda\n",
    "odejmowanieL = lambda a,b :a-b\n",
    "print('wynik odejmowania - lambda:', odejmowanieL(3,3))"
   ]
  },
  {
   "cell_type": "code",
   "execution_count": null,
   "metadata": {},
   "outputs": [],
   "source": [
    "#c) mnożenie - funkcja\n",
    "def mnozenie(a,b):\n",
    "    return(a+b)\n",
    "print('wynik mnożenia - funkcja:', mnozenie(2,3))\n",
    "\n",
    "#funkcja anonimowa lambda\n",
    "mnozenieL = lambda a,b :a*b\n",
    "print('wynik dodawania - lambda:', mnozenieL(3,3))"
   ]
  },
  {
   "cell_type": "code",
   "execution_count": 19,
   "metadata": {},
   "outputs": [
    {
     "name": "stdout",
     "output_type": "stream",
     "text": [
      "wynik dzielenia - funkcja: 0.67\n",
      "wynik dodawania - lambda: False\n"
     ]
    }
   ],
   "source": [
    "#d) dzielenie - funkcja\n",
    "def dzielenie(a,b):\n",
    "    if b != 0: \n",
    "        return(round(a/b, 2))\n",
    "    else:\n",
    "        return('niedozwolone dzielenie przez zero!')\n",
    "\n",
    "print('wynik dzielenia - funkcja:', dzielenie(2,3))\n",
    "\n",
    "#funkcja anonimowa lambda\n",
    "dzielenieL  = lambda a,b:a/b\n",
    "dzielenieL1 = lambda a,b: a/b if b!=0 else False\n",
    "\n",
    "print('wynik dodawania - lambda:', dzielenieL1(3,0))"
   ]
  },
  {
   "cell_type": "code",
   "execution_count": 16,
   "metadata": {},
   "outputs": [
    {
     "name": "stdout",
     "output_type": "stream",
     "text": [
      "315 7\n",
      "45.0\n"
     ]
    }
   ],
   "source": [
    "#e) średnia arytmetyczna\n",
    "def sr_ar(*lista):\n",
    "    licznik = 0 # policzy liczbę elementów\n",
    "    suma    = 0 # policzy sumę elementów\n",
    "    for e in lista:\n",
    "        suma    += e\n",
    "        licznik += 1\n",
    "    sr = suma/licznik\n",
    "    print(suma, licznik)\n",
    "    return(sr)\n",
    "\n",
    "obserwacje = [1, 2, 3, 4, 5, 100, 200]\n",
    "s = sr_ar(*obserwacje)\n",
    "print(s)"
   ]
  },
  {
   "cell_type": "markdown",
   "metadata": {},
   "source": [
    "## Zad.2: Odległość 3D - dokumentacja, adnotacja <a name=\"zad2\"></a>\n",
    "Napisać funkcję, która na podstawie podanych przez użytkownika współrzednych 3D dla punktu A i B (w centymetrach) policzy odgległość geometryczną między tymi punktami i wynik poda w centymetrach.\n",
    "+ Zdefiniuj poprawną **dokumentację (docstring)** oraz **adnotację** funkcji.\n",
    "+ Wydrukuj na konsolę dokumentację funkcji.\n",
    "+ Korzystając z adnotacji wydrukuj na konsolę wynik z jednostką.\n",
    "\n",
    "Współrzędne punktów podane są w listach 3 elementowych [xyz]:\n",
    "\n",
    "`\n",
    "X = [32, 144, 63]\n",
    "Y = [66, 182, 99]\n",
    "`"
   ]
  },
  {
   "cell_type": "code",
   "execution_count": 8,
   "metadata": {},
   "outputs": [
    {
     "name": "stdout",
     "output_type": "stream",
     "text": [
      "\n",
      "    Funkcja do obliczenia długości 3D na podstawie współrzędnych\n",
      "    INPUT:\n",
      "         A - lista której elementami są kolejno współrzedne x,y,z\n",
      "         B - lista której elementami są kolejno współrzedne x,y,z\n",
      "    \n",
      "    OUTPUT:\n",
      "        odl - odległość 3D podana w metrach\n",
      "    \n",
      "{'A': 'centymetry', 'B': 'centymetry', 'return': 'metry'}\n",
      "0.62 metry\n"
     ]
    }
   ],
   "source": [
    "from math import sqrt\n",
    "\n",
    "def odleglosc3D(A:'centymetry',B:'centymetry') ->'metry':\n",
    "    \"\"\"\n",
    "    Funkcja do obliczenia długości 3D na podstawie współrzędnych\n",
    "    INPUT:\n",
    "         A - lista której elementami są kolejno współrzedne x,y,z []\n",
    "         B - lista której elementami są kolejno współrzedne x,y,z\n",
    "    \n",
    "    OUTPUT:\n",
    "        odl - odległość 3D podana w metrach\n",
    "    \n",
    "    \"\"\"\n",
    "    odl = sqrt((A[0] - B[0])**2 + (A[1] - B[1])**2 + (A[2] - B[2])**2 )\n",
    "    return(round(odl/100, 2))\n",
    "\n",
    "#dane\n",
    "X = [32, 144, 63]\n",
    "Y = [66, 182, 99]\n",
    "\n",
    "# wywołanie funkcji\n",
    "odleglosc = odleglosc3D(X, Y)\n",
    "\n",
    "print(odleglosc3D.__doc__)\n",
    "\n",
    "slownik_adnotacji = odleglosc3D.__annotations__\n",
    "print(slownik_adnotacji)\n",
    "jednostka_wynik   = slownik_adnotacji['return']\n",
    "print(odleglosc, jednostka_wynik)"
   ]
  },
  {
   "cell_type": "markdown",
   "metadata": {},
   "source": [
    "## Zad.3: Konwersja z Celsjusza na Fahrenheit - użycie funkcji w pętli <a name=\"zad3\"></a>\n",
    "Napisać funkcję zamieniającą x stopni Celsjusza na stopnie w skali Fahrenheita. Następnie wykorzystując funkcję należy zamienić °C na °F dla wartości z przedziału [-10, 100] (co 10 stopni). Wyświetlić wynik.\n",
    "\n",
    "*Podpowiedź:* $T(°F) = T(°C) × 9/5 + 32 $"
   ]
  },
  {
   "cell_type": "code",
   "execution_count": 9,
   "metadata": {
    "scrolled": true
   },
   "outputs": [
    {
     "name": "stdout",
     "output_type": "stream",
     "text": [
      "-10 [C]--  14.0 [F]\n",
      "0 [C]--  32.0 [F]\n",
      "10 [C]--  50.0 [F]\n",
      "20 [C]--  68.0 [F]\n",
      "30 [C]--  86.0 [F]\n",
      "40 [C]--  104.0 [F]\n",
      "50 [C]--  122.0 [F]\n",
      "60 [C]--  140.0 [F]\n",
      "70 [C]--  158.0 [F]\n",
      "80 [C]--  176.0 [F]\n",
      "90 [C]--  194.0 [F]\n",
      "100 [C]--  212.0 [F]\n"
     ]
    }
   ],
   "source": [
    "def cels2fahrenheit(celsius):\n",
    "    fahrenheit = celsius * 1.8 +32\n",
    "    return fahrenheit\n",
    "\n",
    "celsius_list = list(range(-10, 101, 10))\n",
    "fahr_list = [cels2fahrenheit(degree) for degree in celsius_list]\n",
    "\n",
    "for c, f in zip(celsius_list, fahr_list):\n",
    "    print (c, '[C]  -- ', f, '[F]')"
   ]
  },
  {
   "cell_type": "markdown",
   "metadata": {},
   "source": [
    "## Zad. 4: Odległość 2D <a name=\"zad4\"></a>\n",
    "Napisać funkcję wyznaczająca odległość między dwoma punktami $P_1$ i $P_2$ o podanych przez użytkownika współrzędnych $(x_1, y_1)$, $(x_2, y_2)$. Współrzędne punktów wczytywane są przed wywołaniem funkcji. Obliczoną odległość wyświetlić."
   ]
  },
  {
   "cell_type": "code",
   "execution_count": 1,
   "metadata": {},
   "outputs": [
    {
     "name": "stdout",
     "output_type": "stream",
     "text": [
      "Podaj x1 0\n",
      "Podaj y1 0\n",
      "Podaj x2 0\n",
      "Podaj y2 1\n",
      "1.0\n"
     ]
    }
   ],
   "source": [
    "import math as m\n",
    "def distance(x1, y1, x2, y2):\n",
    "    d = m.sqrt((x2 - x1) ** 2 + (y2 - y1) ** 2)\n",
    "    return d\n",
    "\n",
    "x1 = float(input('Podaj x1 '))\n",
    "y1 = float(input('Podaj y1 '))\n",
    "x2 = float(input('Podaj x2 '))\n",
    "y2 = float(input('Podaj y2 '))\n",
    "print(distance(x1, y1, x2, y2))"
   ]
  },
  {
   "cell_type": "markdown",
   "metadata": {},
   "source": [
    "## Zad. 5: Wykładnik potęgi  <a name=\"zad5\"></a>\n",
    "Napisać funkcję, która jako argument przyjmuje liczbę całkowitą $n$ i zwraca $2^n$. Rozważyć również przypadek $n < 0$."
   ]
  },
  {
   "cell_type": "code",
   "execution_count": 9,
   "metadata": {},
   "outputs": [
    {
     "name": "stdout",
     "output_type": "stream",
     "text": [
      "Podaj wykladnik do potegowania liczby 2: 2\n",
      "2^ 2  =  4\n"
     ]
    }
   ],
   "source": [
    "def two2n_r(n):\n",
    "    # definicja rekurencyjna\n",
    "    if n == 0:\n",
    "        return 1\n",
    "    elif n > 0:\n",
    "        return two2n(n-1) * 2\n",
    "    elif n < 0:\n",
    "        return 1 / two2n(-n)\n",
    "\n",
    "n = int(input(\"Podaj wykladnik do potegowania liczby 2: \"))\n",
    "potega = two2n(n)\n",
    "print(\"2^\",n, \" = \", potega)\n",
    "print"
   ]
  },
  {
   "cell_type": "markdown",
   "metadata": {},
   "source": [
    "## Zad. 6: Pole trójkąta na podstawie współrzędnych wierzchołków <a name=\"zad6\"></a>\n",
    "\n",
    "Napisać funkcję wyznaczającą i zwracająca pole trójkata. Argumentami\n",
    "funkcji sa współrzędne (x, y) trzech wierzchołków trójkata (podane przed wywołaniem funkcji). Wynik wyświetlić.\n",
    "\n",
    "Podpowiedź: można wykorzystać funkcję obliczającą długość odcinka ze współrzędnych.\n",
    "\n",
    "Uwaga: czy pole może byś obliczone w każdym przypadku?"
   ]
  },
  {
   "cell_type": "code",
   "execution_count": 5,
   "metadata": {
    "scrolled": true
   },
   "outputs": [
    {
     "name": "stdout",
     "output_type": "stream",
     "text": [
      "Pole wynosi  0.4999999999999998\n"
     ]
    }
   ],
   "source": [
    "import math as m\n",
    "\n",
    "def czy_trojkat(a, b, c):\n",
    "    if a + b >c and b+c >a and c+a >b:\n",
    "        return True\n",
    "    else:\n",
    "        return False\n",
    "    \n",
    "def pole_trojkata(A, B, C):\n",
    "    a = distance(*A, *B)\n",
    "    b = distance(*B, *C)\n",
    "    c = distance(*C, *A)\n",
    "    if (czy_trojkat(a, b, c)):\n",
    "        p= 0.5 * (a + b + c) \n",
    "        pole = m.sqrt(p * (p - a) * (p - b) * (p - c))\n",
    "        print(\"Pole wynosi \", pole)\n",
    "    else: # jeśli nie ma trójkąta to nie można wyznaczyć pola\n",
    "        print(\"To nie trojkat!\")\n",
    "        pole = -1\n",
    "    return pole\n",
    "\n",
    "A = [0, 0]\n",
    "B = [1, 1]\n",
    "C = [1, 0]\n",
    "pole_trojkata(A, B, C)"
   ]
  },
  {
   "cell_type": "markdown",
   "metadata": {},
   "source": [
    "## Zad. 7: Współczynniki prostej przechodzącej przez 2 punkty <a name=\"zad7\"></a>\n",
    "Napisać funkcję wyznaczającą współczynniki prostej przechodzącej przez dwa zadane przez użytkownika punkty o współrzędnych (x1, y1), (x2, y2). Wyznaczone współczynniki wyświetlić.\n",
    "\n",
    "Podpowiedź: \n",
    "Równanie prostej przechodzącej przez dwa punkty: \n",
    "\n",
    "$$ \n",
    "y = \\frac{y_A−y_B}{x_A−x_B}x+(y_A−\\frac{y_A−y_B}{x_A−x_B} x_A)\n",
    "$$\n",
    "$$ \n",
    "y = \\frac{y_A−y_B}{x_A−x_B}x+(y_A−\\frac{y_A−y_B}{x_A−x_B} x_A) = ax + y_A-a x_A\n",
    "$$\n",
    "Równanie prostej w postaci kierunkowej:\n",
    "$$y = ax+b$$\n",
    "Podstawiając wyznaczamy współczynniki a i b"
   ]
  },
  {
   "cell_type": "code",
   "execution_count": 10,
   "metadata": {},
   "outputs": [
    {
     "name": "stdout",
     "output_type": "stream",
     "text": [
      "Prosta przechodzaca przez punkty P1 i P2, to prosta: y = -2.0 x + 1.0\n"
     ]
    }
   ],
   "source": [
    "def prosta_z_punktów(P1, P2):\n",
    "    \"\"\"\n",
    "    Funkcja do obliczenia współczynników prostej przechodzacej przez dwa punkty na podstawie ich współrzędnych\n",
    "    INPUT:\n",
    "         P1 - lista której elementami są kolejno współrzedne x,y pierwszego punktu\n",
    "         P2 - lista której elementami są kolejno współrzedne x,y drugiego punktu\n",
    "    \n",
    "    OUTPUT:\n",
    "        a, b - wspolczynniki prostej o rownaniu: y = ax + b\n",
    "    \"\"\"\n",
    "    a = (P2[1]-P1[1])/(P2[0]-P1[0])\n",
    "    b = P1[1] - a * P1[0]\n",
    "    return a, b\n",
    "\n",
    "\n",
    "# mozna wczytac wspolrzedne za pomoca input, tu, dla sprawnosci testowania, zdefiniowane w kodzie\n",
    "# x1 = float(input(\"Podaj x pierwszego punktu: \"))\n",
    "# y1 = float(input(\"Podaj x pierwszego punktu: \"))\n",
    "# x2 = float(input(\"Podaj x pierwszego punktu: \"))\n",
    "# y2 = float(input(\"Podaj x pierwszego punktu: \"))\n",
    "# P1 = [x1, y1]\n",
    "# P2 = [x2, y2]\n",
    "P1 = [0, 1]\n",
    "P2 = [1, -1]\n",
    "\n",
    "a, b = prosta_z_punktów(P1, P2)\n",
    "print(\"Prosta przechodzaca przez punkty P1 i P2, to prosta: y =\",a,\"x +\", b)\n"
   ]
  },
  {
   "cell_type": "markdown",
   "metadata": {},
   "source": [
    "## Zad. 8: Funkcja rekurencyjna - silnia <a name=\"zad8\"></a>\n",
    "Napisać funkcję umożliwiającą wyznaczenie silni liczby naturalnej (można wykorzystać rekurencję)."
   ]
  },
  {
   "cell_type": "code",
   "execution_count": 14,
   "metadata": {},
   "outputs": [
    {
     "name": "stdout",
     "output_type": "stream",
     "text": [
      "wynik funkcja rekurencyjne 24\n",
      "Podaj n4\n",
      "24\n"
     ]
    }
   ],
   "source": [
    "# metoda 1: funkcja rekurencyjna\n",
    "def silnia(n):\n",
    "    # n powinno być dodatnie\n",
    "    if n == 1:\n",
    "        return 1\n",
    "    else:\n",
    "        wynik = silnia(n-1) * n\n",
    "        return wynik\n",
    "\n",
    "print('wynik funkcja rekurencyjne',silnia(4))\n",
    "    \n",
    "# metoda 2: funkcja rekurencyjna\n",
    "n = input(\"Podaj n\")\n",
    "if n.isnumeric():\n",
    "    n = int(n)\n",
    "    print(silnia(n))\n",
    "else:\n",
    "    print(\"Nie można obliczyć silni\")"
   ]
  },
  {
   "cell_type": "markdown",
   "metadata": {},
   "source": [
    "## Zad. 9: Sprawdzanie elementów listy <a name=\"zad9\"></a>\n",
    "Napisać program, który wczytuje dane liczbowe (typu całkowitego) z klawiatury do 6-elementowej listy, a następnie sprawdzi:\n",
    "\n",
    " (a) czy liczby w tablicy są uporzadkowane rosnąco lub malejąco,\n",
    " \n",
    " (b) czy tablica jest symetryczna (jest palindromem) (pierwszy element równy ostatniemu, drugi – przedostatniemu itd.); funkcja ma zwrócic 1, gdy tablica jest palindromem, 0 w przeciwnym przypadku.\n",
    " \n",
    " (c) czy w tablicy wystepuje co najmniej jedno powtórzenie wartości dowolnego z jej elementów.\n",
    "\n",
    "Funkcje po sprawdzeniu powyższych zagadnień powinny zwracać wartości boolowskie (True, False)\n",
    "\n",
    "Czy można wykorzystać te same funkcje dla listy zawierającej zmienne znakowe?"
   ]
  },
  {
   "cell_type": "code",
   "execution_count": 26,
   "metadata": {},
   "outputs": [
    {
     "name": "stdout",
     "output_type": "stream",
     "text": [
      "podaj liczbe7\n",
      "podaj liczbe7\n",
      "podaj liczbe7\n",
      "podaj liczbe7\n",
      "podaj liczbe5\n",
      "podaj liczbe4\n",
      "0\n",
      "0\n",
      "0\n",
      "-1\n",
      "-1\n",
      "Lista jest posortowana:  True\n",
      "Lista jest palindromem:  False\n",
      "W liscie wystepuja powtorzenia:  True\n"
     ]
    }
   ],
   "source": [
    "def is_sorted(lista):\n",
    "    sort = 0   #1 -> rosnaco -1 >malejaco\n",
    "    for i in range(0, len(lista)-1):\n",
    "        if lista[i] < lista[i+1] and sort >=0 :\n",
    "            sort = 1\n",
    "        elif lista[i] > lista[i+1] and sort <= 0:\n",
    "            sort = -1\n",
    "        elif lista[i] == lista[i+1]:\n",
    "            sort = 0\n",
    "        else: \n",
    "            return False\n",
    "    return True\n",
    "\n",
    "def check_palindrome(lista):\n",
    "    palindrome = True\n",
    "    for i in range(len(lista)//2):\n",
    "        if lista[i] !=  lista[-(i+1)]:\n",
    "            palindrome = False\n",
    "            break\n",
    "    return palindrome\n",
    "    \n",
    "\n",
    "def check_repetition(lista):\n",
    "    rep = False\n",
    "    for x in lista:\n",
    "        if lista.count(x) > 1:\n",
    "            rep = True \n",
    "    return rep\n",
    "\n",
    "\n",
    "lista = []\n",
    "for i in range(6):\n",
    "    element = int(input(\"podaj liczbe\"))\n",
    "    lista.append(element)\n",
    "    \n",
    "# sprawdzanie\n",
    "print(\"Lista jest posortowana: \", is_sorted(lista))\n",
    "#palindrom:\n",
    "print(\"Lista jest palindromem: \", check_palindrome(lista))\n",
    "#powtorzenie\n",
    "print(\"W liscie wystepuja powtorzenia: \", check_repetition(lista))"
   ]
  },
  {
   "cell_type": "markdown",
   "metadata": {},
   "source": [
    "## Zad. 10: Wartość wielomianu w punkcie <a name=\"zad10\"></a>\n",
    "Napisać funkcję zwracającą wartość wielomianu 4-tego stopnia o współczynnikach\n",
    "$a_4, a_3, ..., a_0$ w punkcie $x$. Lista współczynników i $x$ są parametrami funkcji. $a_4$ to współczynnik przy najwyższej potędze $N$. Do podnoszenia $x$ do potęgi stworzyć osobną funkcję. Wypisać na ekran wielomian, $x$ i $f(x)$.\n",
    "\n",
    "Uogólnić powyższe zadanie na przypadek wielomianu $n$-tego stopnia."
   ]
  },
  {
   "cell_type": "code",
   "execution_count": 34,
   "metadata": {},
   "outputs": [
    {
     "name": "stdout",
     "output_type": "stream",
     "text": [
      "wartosc wielomianu 1x^0+2x^1+3x^2+5x^3+4x^4  w punkcie  0  wynosi  1\n"
     ]
    }
   ],
   "source": [
    "def wielomiann(wspolczynniki, x):\n",
    "    fx = 0\n",
    "    for n,a in enumerate(wspolczynniki[::-1]):\n",
    "        fx += a * x**n\n",
    "    return fx\n",
    "\n",
    "def wielomian_str(wspolczynniki):\n",
    "    wiel = \"\"\n",
    "    for n, a in enumerate(wspolczynniki[::-1]):\n",
    "        wiel += str(a) + \"x^\" + str(n) + '+'\n",
    "    return wiel[:-1]    \n",
    "\n",
    "\n",
    "a_n = [4, 5, 3, 2, 1]\n",
    "x = 0\n",
    "wielomian = wielomian_str(a_n)\n",
    "fx = wielomiann(a_n, x)\n",
    "print(\"wartosc wielomianu\", wielomian, \" w punkcie \", x, \" wynosi \", fx)\n"
   ]
  },
  {
   "cell_type": "markdown",
   "metadata": {},
   "source": [
    "## Zad. 11: Iloczyn skalarny wektorów <a name=\"zad11\"></a>\n",
    "Napisać funkcję, która jako argumenty przyjmuje dwie N-elementowe listy o\n",
    "elementach typu rzeczywistego i zwraca iloczyn skalarny wektorów przekazanych jako argumenty. \n",
    "Jak należy wykonac obliczenia jeśli wektory nie maja tej samej długości? ;)\n",
    "\n",
    "Dane:\n",
    "`\n",
    "v1 = [1, 2, 3]\n",
    "v2 = [0, 1, 0]\n",
    "`"
   ]
  },
  {
   "cell_type": "code",
   "execution_count": 45,
   "metadata": {},
   "outputs": [
    {
     "name": "stdout",
     "output_type": "stream",
     "text": [
      "2\n"
     ]
    }
   ],
   "source": [
    "def dot(v, u):\n",
    "    if len(v) == len(u):\n",
    "        mult = [x * y for x, y in zip(v, u)]\n",
    "        return sum(mult)\n",
    "    else:\n",
    "        print(\"Wektory nie maja takiej samej dlugosci\")\n",
    "        return None\n",
    "\n",
    "v1 = [1, 2, 3]\n",
    "v2 = [0, 1, 0]\n",
    "dot12 = dot(v1, v2)\n",
    "print(dot12)\n"
   ]
  },
  {
   "cell_type": "markdown",
   "metadata": {},
   "source": [
    "## Zad. 12: Funkcje do wyznaczenia  średniej, sumy, max, min etc <a name=\"zad12\"></a>\n",
    "\n",
    "Napisać funkcję, która zwraca:\n",
    "\n",
    "(a) średnią arytmetyczną elementów listy,\n",
    "\n",
    "(b) sumę wszystkich elementów listy,\n",
    "\n",
    "(c) sumę elementów listy o parzystych indeksach,\n",
    "\n",
    "(d) sumę niedodatnich elementów listy,\n",
    "\n",
    "(e) sumę kwadratów elementów listy,\n",
    "\n",
    "(f) maksymalną wartość elementu w liście i jej indeks,\n",
    "\n",
    "(g) minimalną wartość elementu w liście i jej indeks,\n",
    "\n",
    "(h) średnią geometryczną elementów listy,\n",
    "\n",
    "nie korzystając z funkcji wbudowanych min, max, mean, sum."
   ]
  },
  {
   "cell_type": "code",
   "execution_count": 28,
   "metadata": {},
   "outputs": [
    {
     "name": "stdout",
     "output_type": "stream",
     "text": [
      "(-9, 1)\n"
     ]
    }
   ],
   "source": [
    "import math as m\n",
    "\n",
    "def srednia(L):\n",
    "    n = len(L)\n",
    "    return suma(L)/n\n",
    "    \n",
    "def suma(L):\n",
    "    suma = 0\n",
    "    for el in L:\n",
    "        suma += el\n",
    "    return suma\n",
    "\n",
    "def suma_parzystych(L):\n",
    "    suma = 0\n",
    "    for i, el in enumerate(L):\n",
    "        if i % 2 == 0:\n",
    "            suma += el\n",
    "    return suma\n",
    "\n",
    "def suma_niedodatnich(L):\n",
    "    suma = 0\n",
    "    for el in L:\n",
    "        if i <= 0:\n",
    "            suma += el\n",
    "    return suma\n",
    "\n",
    "def suma_kwadratow(L):\n",
    "    suma_kw = 0\n",
    "    for el in L:\n",
    "        suma_kw += el*el\n",
    "    # lub list comprehension:\n",
    "    # kw = [el*el for el in L]\n",
    "    # suma_kw = suma(kw)\n",
    "    return suma_kw\n",
    "\n",
    "def srednia_geom(L):\n",
    "    # srednia geometryczna obliczymy tylko z dodatnich elementow:\n",
    "    L_dod = [el for el in L if el > 0]\n",
    "    # Lub:\n",
    "#     L_dod = []\n",
    "#     for el in L:\n",
    "#         if el > 0:\n",
    "#             L_dod.append(el)\n",
    "    iloczyn  = 1\n",
    "    for el in L_dod:\n",
    "        iloczyn *= el\n",
    "    srednia_geom = m.pow(iloczyn, 1/len(L_dod))\n",
    "    return srednia_geom\n",
    "\n",
    "def minimum(L):\n",
    "    min_L = L[0]\n",
    "    index = 0\n",
    "    for i, el in enumerate(L):\n",
    "        if el < min_L:\n",
    "            min_L = el\n",
    "            index = i\n",
    "    return min_L, index\n",
    "\n",
    "    \n",
    "L = [0, -9, 2, 2, 5, 7]\n",
    "srednia_geom(L)\n",
    "print(minimum(L))"
   ]
  },
  {
   "cell_type": "markdown",
   "metadata": {},
   "source": [
    "## Zad. 13: Dodawanie macierzy <a name=\"zad13\"></a>\n",
    "Napisać funkcje, która zwraca sumę macierzy i której argumentami są dwie listy złożone (A, B). \n",
    "\n",
    "`\n",
    "A = [[1, 2, 3], [4, 5, 6], [7, 8, 9]]\n",
    "B = [[1, 0, 0], [0, 1, 0], [0, 0, 1]]\n",
    "`\n",
    "\n",
    "+ Każda z list (A, B) składa się z trzech elementów będących listami z trzema elementami, co pozwala je przedstawić jako macierz o rozmiarach 3x3.\n",
    "\n",
    "Wykonaj następujące działanie i zwróć wynik: \n",
    "\n",
    "$\n",
    "\\begin{bmatrix}\n",
    "1& 2& 3 \\\\\n",
    "4& 5& 6 \\\\\n",
    "7& 8& 9 \\\\\n",
    "\\end{bmatrix}\n",
    "+\n",
    "\\begin{bmatrix}\n",
    "1& 0& 0 \\\\\n",
    "0& 1& 0 \\\\\n",
    "0& 0& 1 \\\\\n",
    "\\end{bmatrix}\n",
    "= ?\n",
    "$"
   ]
  },
  {
   "cell_type": "code",
   "execution_count": 43,
   "metadata": {},
   "outputs": [
    {
     "name": "stdout",
     "output_type": "stream",
     "text": [
      "[[2, 2, 3], [4, 6, 6], [7, 8, 10]]\n"
     ]
    }
   ],
   "source": [
    "#dane:\n",
    "A = [[1, 2, 3], [4, 5, 6], [7, 8, 9]]\n",
    "B = [[1, 0, 0], [0, 1, 0], [0, 0, 1]]\n",
    "\n",
    "def suma_macierzy(a, b):\n",
    "    c = []\n",
    "    for i, row in enumerate(a):\n",
    "        sum_row = []\n",
    "        for j in range(len(row)):\n",
    "            sum_row.append(row[j] + b[i][j])\n",
    "        c.append(sum_row)\n",
    "    return c\n",
    "\n",
    "print(suma_macierzy(A, B))"
   ]
  },
  {
   "cell_type": "markdown",
   "metadata": {},
   "source": [
    "## Zad. 14: Współrzedne kolejnych punktów na podstawie wsp. biegunowych <a name=\"zad14\"></a>\n",
    "N-elementowa lista zawiera w pierwszej kolumnie azymut podany w stopniach (wartości rzeczywiste) oraz odległość (podaną w metrach). Przyjmując, że punkt początkowy ma współrzędne (0, 0) i kolejne współrzędne biegunowe mierzone były z punktu poprzedniego, wyznaczyć współrzędne punktu końcowego.\n",
    "\n",
    "Podpowiedź: Współrzedne biegunowe:\n",
    "$$\n",
    "x = r \\cdot cos(\\alpha)\n",
    "$$\n",
    "$$\n",
    "y = r \\cdot sin(\\alpha)\n",
    "$$\n",
    "gdzie: $r$ - odległość, $\\alpha$ kąt\n",
    "(*) Zapamiętać odpowiednie współrzędne pośrednie prowadzące do punktu koncowego.\n",
    "\n",
    "**Przykład**\n",
    "- dla współrzednych początkowych [0,0], przyjmijmy współrzedne biegunowe:\n",
    "\n",
    "biegunowe = [[0, 10],[90, 5],[0, 20],[90, 1]]\n",
    "- więc na podstawie wzorów na współrzedne biegunowe w ciągu będą miały następujące wartości:\n",
    "\n",
    "[(0, 0), (10.0, 0.0), (10.0, 5.0), (30.0, 5.0), (30.0, 6.0)]\n",
    "\n",
    "* sin(0) = 0, cos(0) = 1, sin(90) = 1, cos(90) = 0"
   ]
  },
  {
   "cell_type": "code",
   "execution_count": 38,
   "metadata": {},
   "outputs": [
    {
     "name": "stdout",
     "output_type": "stream",
     "text": [
      "[(0, 0), (10.0, 0.0), (10.0, 5.0), (30.0, 5.0), (30.0, 6.0)]\n"
     ]
    }
   ],
   "source": [
    "from math import cos, sin\n",
    "\n",
    "def wspolrzedne(az, odl, x, y):\n",
    "    x += odl * cos(radians(az))\n",
    "    y += odl * sin(radians(az))\n",
    "    return x,y\n",
    "\n",
    "biegunowe = [[0, 10],[90, 5],[0, 20],[90, 1]]\n",
    "posrednie = [(0, 0)]\n",
    "\n",
    "for dane in biegunowe:\n",
    "    posrednie.append(wspolrzedne(*dane, *posrednie[-1]))\n",
    "\n",
    "print(posrednie)"
   ]
  }
 ],
 "metadata": {
  "kernelspec": {
   "display_name": "Python 3",
   "language": "python",
   "name": "python3"
  },
  "language_info": {
   "codemirror_mode": {
    "name": "ipython",
    "version": 3
   },
   "file_extension": ".py",
   "mimetype": "text/x-python",
   "name": "python",
   "nbconvert_exporter": "python",
   "pygments_lexer": "ipython3",
   "version": "3.8.8"
  }
 },
 "nbformat": 4,
 "nbformat_minor": 2
}
