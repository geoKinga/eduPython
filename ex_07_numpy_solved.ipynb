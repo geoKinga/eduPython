{
 "cells": [
  {
   "cell_type": "markdown",
   "metadata": {},
   "source": [
    "| **Kinga Węzka** <BR> kinga.wezka@pw.edu.pl  <BR> Warsaw University of Technology <BR> Faculty Geodesy and Cartography <BR> Plac Politechniki 1 (room 38)<BR> 00-661 Warszawa, POLAND<BR> <A href=\"https://www.google.com/maps/place/Gmach+G%C5%82%C3%B3wny+Politechniki+Warszawskiej/@52.220656,21.0094422,19z/data=!3m1!4b1!4m5!3m4!1s0x471ecce951c85a19:0x712b0e1503c42b91!8m2!3d52.220656!4d21.0099894\"> N 52&ordm; 12' 45&quot; / E 21&ordm; 03' 51&quot;</A></B><BR> | <a rel=\"license\" href=\"https://www.pw.edu.pl\"><img alt=\"Politechnika Warszawska\" style=\"border-width:0\" src=\"https://www.pw.edu.pl/design/pw/images/znak-pw.png\" /></a> |\n",
    "|---------------------------------------------------------------------------------------------------------------------------------------------------------------------------------------------------------------------------------------------------------------------------------------------------------------------------------------------------------------------------------------------------------------------------------------------------------------------------|-------------------------------------------------------------------------------------------------------------------------------------------------------------------------|\n",
    "\n",
    "**Informatyka Geodezyjna** (projekt) -- rok akademicki 2020/2021\n",
    "    \n",
    "**Prowadzący:** Kinga Węzka, Joanna Kożuchowska \n",
    "    \n",
    "**Projekt 8:** Obliczenia numeryczne z wykorzystaniem biblioteki **NumPy**\n",
    "\n",
    "**UWAGA: Odpowiedź na każde pytanie powinna znajdować się w oddzielnej komórce poniżej pytania, z podanym numerem pytania**\n"
   ]
  },
  {
   "cell_type": "markdown",
   "metadata": {},
   "source": [
    "# Spis treści:\n",
    "\n",
    "1. [Zad. 1: Tworzenie i modyfikacja tablicy ndarray](#zad1)\n",
    "2. [Zad. 2: Rozwiązanie układu równań](#zad2)\n",
    "3. [Zad. 3: Tablice z wartościami NaN ](#zad3)\n",
    "4. [Zad. 4: Wyszukiwania w tablicy ndarray](#zad4)\n",
    "5. [Zad. 5: Iteracje po elementach ](#zad5)\n",
    "6. [Zad. 6: Iteracje po elementach i operacje w pętlach tablicy ndarray](#zad6)\n",
    "\n"
   ]
  },
  {
   "cell_type": "markdown",
   "metadata": {},
   "source": [
    "## Zad.1: Tworzenie i modyfikacja tablicy ndarray <a name=\"zad1\"></a>\n",
    "a) Utwórz tablicę A o wymiarach 8x8 i wypełnij ją dowolnymi wartościami (za pomoca liczb losowych lub innego przypisania wartości, tak, żeby w wierszach występowały różne wartości).\n",
    "\n",
    "b) Utwórz tablicę B, która będzie zawierała fragment tablicy A -> elementy na przecięciu wybranych 4 wierszy i 4 kolumn.\n",
    "\n",
    "a) Przypisz nową wartość do B[0, 0]. Wyświetl macierz A. Wyjaśnij uzyskany wynik, podaj rozwiązanie zadania, które pozostawia macierz A bez zmian.\n",
    "\n",
    "b) Zamień wszystkie wartości 1 występujące w macierzy A na wartość 999.\n",
    "\n",
    "c) Zamień wszystkie wartości 999 występujące w macierzy A na wartość 99.9.\n",
    "\n",
    "d) Zapisz tablicę A do pliku tekstowego.\n",
    "\n",
    "e) Otwórz tablicę przypisując ją do zmiennej C.\n",
    "\n",
    "f) Policz wartości funkcji sinus dla wszystkich elementów w pierwszym wierszu tablicy C.\n"
   ]
  },
  {
   "cell_type": "code",
   "execution_count": 48,
   "metadata": {},
   "outputs": [
    {
     "data": {
      "text/plain": [
       "array([[13.,  6.,  4.,  2.,  7.,  0.,  1.,  1.],\n",
       "       [16., 12.,  0.,  1.,  3., 14.,  1., 19.],\n",
       "       [20., 18.,  7.,  9., 13.,  4., 16.,  4.],\n",
       "       [ 9.,  8., 13., 16., 15.,  0.,  1., 16.],\n",
       "       [ 9., 15., 11.,  6.,  5., 19.,  3.,  7.],\n",
       "       [ 5., 19.,  5.,  7., 11., 15., 13., 11.],\n",
       "       [17.,  3.,  3., 18., 16., 20., 11.,  7.],\n",
       "       [13., 14., 11.,  0.,  2.,  2.,  6., 17.]])"
      ]
     },
     "execution_count": 48,
     "metadata": {},
     "output_type": "execute_result"
    }
   ],
   "source": [
    "import numpy as np\n",
    "import random\n",
    "\n",
    "#utworzenie tablicy\n",
    "A = np.array([random.randint(0, 20) for i in range(64)])\n",
    "A = A.reshape(8, 8)\n",
    "\n",
    "A = np.zeros(64)\n",
    "for i in range(64):\n",
    "    A[i] = random.randint(0, 20) \n",
    "\n",
    "A = A.reshape(8,8)\n",
    "A"
   ]
  },
  {
   "cell_type": "code",
   "execution_count": 20,
   "metadata": {},
   "outputs": [
    {
     "name": "stdout",
     "output_type": "stream",
     "text": [
      "[[ 7. 18. 11.  5. 13. 14. 11.  3.]\n",
      " [20. 12. 16.  4. 10.  3. 13. 20.]\n",
      " [17. 20. 15. 16. 16. 19. 18.  4.]\n",
      " [ 9. 14. 14. 15.  7. 18.  1.  1.]\n",
      " [ 6. 10.  4.  6.  0.  6. 12.  6.]\n",
      " [ 0.  3. 13. 16.  1. 13.  5. 16.]\n",
      " [14. 17.  0.  2.  1. 10. 20.  4.]\n",
      " [17.  0.  2. 11. 10.  9. 10.  4.]]\n",
      "[[ 3. 13. 20.]\n",
      " [19. 18.  4.]\n",
      " [18.  1.  1.]\n",
      " [ 6. 12.  6.]]\n"
     ]
    }
   ],
   "source": [
    "B = A[1:5, 5:] # przypisanie tworzy referencje - tablica A będzie modyfikowana\n",
    "B[0, 0] = 3\n",
    "print(A)\n",
    "\n",
    "B = A[1:5, 5:].copy() # utworzenie kopi - tablica A nie będzie modyfikowana\n",
    "print(B"
   ]
  },
  {
   "cell_type": "code",
   "execution_count": null,
   "metadata": {},
   "outputs": [],
   "source": [
    "mask = A == 1 # tablica wartości True/False dla warunku gdzie A == 1\n",
    "print(mask)\n",
    "A[mask] = 999\n",
    "print(A)\n",
    "\n",
    "B = np.array(A, dtype=np.float64)\n",
    "mask = B == 999 # tablica wartości True/False dla warunku gdzie B ==99.9\n",
    "print(mask)\n",
    "B[mask] = 99.9\n",
    "print(B)"
   ]
  },
  {
   "cell_type": "code",
   "execution_count": null,
   "metadata": {},
   "outputs": [],
   "source": [
    "# zapis: https://docs.scipy.org/doc/numpy-1.15.0/reference/generated/numpy.savetxt.html\n",
    "np.savetxt(\"myarray.txt\", b1, delimiter=',', fmt = '%10.2f', header = 'jakis naglowek')\n",
    "\n",
    "# odczyt: https://docs.scipy.org/doc/numpy-1.15.1/reference/generated/numpy.genfromtxt.html\n",
    "np.genfromtxt(\"myarray.txt\", delimiter=',', skip_header = 1 , usecols =(5, 4, 3, 1) )"
   ]
  },
  {
   "cell_type": "code",
   "execution_count": 57,
   "metadata": {},
   "outputs": [
    {
     "name": "stdout",
     "output_type": "stream",
     "text": [
      "[[13.  6.  4.  2.  7.  0.  1.  1.]\n",
      " [16. 12.  0.  1.  3. 14.  1. 19.]\n",
      " [20. 18.  7.  9. 13.  4. 16.  4.]\n",
      " [ 9.  8. 13. 16. 15.  0.  1. 16.]\n",
      " [ 9. 15. 11.  6.  5. 19.  3.  7.]\n",
      " [ 5. 19.  5.  7. 11. 15. 13. 11.]\n",
      " [17.  3.  3. 18. 16. 20. 11.  7.]\n",
      " [13. 14. 11.  0.  2.  2.  6. 17.]]\n",
      "(8, 1) (8, 1)\n"
     ]
    },
    {
     "data": {
      "text/plain": [
       "array([[13.,  6.,  4.,  2.,  7.,  0.,  1.,  1.],\n",
       "       [16., 12.,  0.,  1.,  3., 14.,  1., 19.],\n",
       "       [20., 18.,  7.,  9., 13.,  4., 16.,  4.],\n",
       "       [ 9.,  8., 13., 16., 15.,  0.,  1., 16.],\n",
       "       [ 9., 15., 11.,  6.,  5., 19.,  3.,  7.],\n",
       "       [ 5., 19.,  5.,  7., 11., 15., 13., 11.],\n",
       "       [17.,  3.,  3., 18., 16., 20., 11.,  7.],\n",
       "       [13., 14., 11.,  0.,  2.,  2.,  6., 17.]])"
      ]
     },
     "execution_count": 57,
     "metadata": {},
     "output_type": "execute_result"
    }
   ],
   "source": [
    "s = np.std(A[:, 1]) \n",
    "s = np.min(A[:, 1]) \n",
    "print(A)\n",
    "a = np.full((8,1), 100)\n",
    "b = A[:, 1].reshape(8,1)\n",
    "\n",
    "print(b.shape, a.shape)\n",
    "\n",
    "a + "
   ]
  },
  {
   "cell_type": "markdown",
   "metadata": {},
   "source": [
    "## Zad. 2: Rozwiązanie układu równań <a name=\"zad2\"></a>\n",
    "Korzystając z rachunku macierzowego rozwiąż układ równań:\n",
    "\n",
    "$$ \\begin{matrix}\n",
    "2a &+  b  &+  c &= 4  \\\\\n",
    "a  &+  3b &+ 2c &= 5 \\\\\n",
    "a  &      &   &= 6 \n",
    "\\end{matrix}$$\n",
    "\n",
    "\n",
    "A - macierz współrzczynników przy niewiadomych:\n",
    "$$A = \\begin{bmatrix} 2 & 1 & 1 \\\\ 1 & 3 & 2 \\\\ 1 & 0 & 0\\end{bmatrix}$$\n",
    "\n",
    "B - macierz wyników:\n",
    "$$B = \\begin{bmatrix} 4\\\\ 5 \\\\ 6 \\end{bmatrix}$$\n",
    "\n",
    "x - macierz niewiadomych:\n",
    "$$x = \\begin{bmatrix} a\\\\ b \\\\ c \\end{bmatrix}$$\n",
    "\n",
    "\n",
    "\n",
    "Zapis równania liniowego w postaci macierzowej zapisać w następujący sposób:\n",
    "$$Ax = B $$\n",
    "\n",
    "Aby rozwiązać powyższe równanie należy wyznaczyć wektor x (wektor niewiadomych), musimy odwrotność macierzy Apomnożyć przez B następująco:\n",
    "\n",
    "$$ x = A^{-1}B $$\n",
    "\n",
    "Do rozwiązania zadania wykorzystaj:\n",
    "\n",
    "a) tablice ndarray\n",
    "\n",
    "b) zmienne typu matrix\n",
    "\n",
    "c) sprawdź uzyskane rozwiązanie za pomocą odpowiedniej metody z modułu np.linalg \n",
    "\n",
    "odp.  a =  6,  b = 15, c =-23"
   ]
  },
  {
   "cell_type": "code",
   "execution_count": null,
   "metadata": {},
   "outputs": [],
   "source": []
  },
  {
   "cell_type": "code",
   "execution_count": 1,
   "metadata": {},
   "outputs": [
    {
     "name": "stdout",
     "output_type": "stream",
     "text": [
      "--------------------- metoda 1:\n",
      " [[  6.]\n",
      " [ 15.]\n",
      " [-23.]]\n",
      "--------------------- metoda 2:\n",
      " [[  6.]\n",
      " [ 15.]\n",
      " [-23.]]\n",
      "---------------------metoda 3:\n",
      " [[  6.]\n",
      " [ 15.]\n",
      " [-23.]]\n"
     ]
    }
   ],
   "source": [
    "import numpy as np\n",
    "import numpy.linalg\n",
    "\n",
    "from numpy.linalg import inv \n",
    "\n",
    "# zdefiniowanie tablicy A, A - macierz współrzczynników przy niewiadomych:\n",
    "A = np.array([[2, 1, 1],\n",
    "              [1, 3, 2],\n",
    "              [1, 0, 0]]) \n",
    "\n",
    "# zdefiniowanie tablicy  B, B - macierz wyników:\n",
    "B = np.array([[4], [5], [6]]) \n",
    "\n",
    "# x - macierz niewiadomych:\n",
    "\n",
    "# metoda 1. działania na tablicach ndarray\n",
    "x = inv(A).dot(B) \n",
    "print('--------------------- metoda 1:\\n', x)\n",
    "\n",
    "# metoda 2. działania na tablicach matrix: https://docs.scipy.org/doc/numpy/reference/routines.matlib.html\n",
    "# metody macierzy: https://docs.scipy.org/doc/numpy/reference/generated/numpy.matrix.html#numpy.matrix\n",
    "Am = np.matrix(A) # konwersja ndarray do matrix\n",
    "Bm = np.matrix(B) # konwersja ndarray do matrix\n",
    "x  =   Am.I * B\n",
    "print('--------------------- metoda 2:\\n', x)\n",
    "\n",
    "\n",
    "\n",
    "# metoda 3: wykorzystanie metody - zakaz używania tego typu metod w tym semestrze !!! :P\n",
    "x = np.linalg.solve(A, B)\n",
    "print('---------------------metoda 3:\\n', x)"
   ]
  },
  {
   "cell_type": "markdown",
   "metadata": {},
   "source": [
    "## Zad. 3: Tablice z wartościami NaN  <a name=\"zad3\"></a>\n",
    "\n",
    "+ a) Zdefinuj tablicę o wymiarach (4x4) zawierająca wartości liczb całkowitych w zakresie od 0 do 20.\n",
    "+ b) Wyszukaj wartości większe od 10 i zamień je na wartość nan. \n",
    "+ c) Policz średnią dla wszystkich elementów 3ciej kolumny.\n",
    "\n",
    "**Pomoc**: Zerknij do notebooka **help_numpy.ipynb**"
   ]
  },
  {
   "cell_type": "code",
   "execution_count": 24,
   "metadata": {},
   "outputs": [
    {
     "name": "stdout",
     "output_type": "stream",
     "text": [
      "[[ True False False False]\n",
      " [ True False False  True]\n",
      " [ True False False  True]\n",
      " [False  True  True False]]\n",
      "float64\n",
      "[[nan  1.  7.  6.]\n",
      " [nan  6.  3. nan]\n",
      " [nan  3.  3. nan]\n",
      " [ 8. nan nan  9.]]\n"
     ]
    }
   ],
   "source": [
    "import numpy as np\n",
    "import random\n",
    "\n",
    "# a) utworzenie tablicy\n",
    "A = np.array([random.randint(0, 15) for i in range(16)], dtype=np.float64)\n",
    "A = A.reshape(4, 4)\n",
    "\n",
    "# b\n",
    "mask = A > 10 # tablica wartości True/False dla warunku gdzie A == 1\n",
    "print(mask)\n",
    "\n",
    "print(A.dtype)\n",
    "A[mask] = np.nan\n",
    "print(A)\n",
    "\n",
    "# c = "
   ]
  },
  {
   "cell_type": "markdown",
   "metadata": {},
   "source": [
    "## Zad. 4: Wyszukiwania w tablicy ndarray <a name=\"zad4\"></a>\n",
    "Poniższa tablica zawiera wartości zaisane w kolumnach odpowiednio: col1 = epoka, col2 = numer satelity, col3 = PDOP, col4 = HDOP.\n",
    "\n",
    "- a) Znajdź w tablicy wiersze w których wartość kolumny 3 jest większa od 2\n",
    "\n",
    "- b) Znajdź w tablicy wiersze w których wartość kolumny 4 jest większa od 8. Nastepnie zamień wartości w kolumnie 4 większe od 8 wartością `None`\n",
    "\n",
    "- c) Podziel poniższą tablicę na trzy tablice każda z tablic ma zawierać wiersze jedynie dla tej samej epoki."
   ]
  },
  {
   "cell_type": "code",
   "execution_count": 1,
   "metadata": {},
   "outputs": [
    {
     "name": "stdout",
     "output_type": "stream",
     "text": [
      "----------------- solution a: ---------------------------\n",
      "[[ 1.  12.   2.2  2.1]\n",
      " [ 1.   2.   3.1  3.3]\n",
      " [ 1.  22.   2.1  2.2]\n",
      " [ 1.  31.   5.1  8.2]\n",
      " [ 2.  12.   3.5  1.2]\n",
      " [ 2.   2.   3.1  4.6]\n",
      " [ 2.  22.   6.1  3.2]\n",
      " [ 2.  31.   7.1  8.2]\n",
      " [ 2.  14.   2.1  1.2]\n",
      " [ 3.  12.   3.2  2.3]\n",
      " [ 3.  12.   4.1  8.2]\n",
      " [ 3.  12.   3.1  3.2]]\n",
      "----------------- solution b: ---------------------------\n",
      "[[ 1.  12.   2.2  2.1]\n",
      " [ 1.   2.   3.1  3.3]\n",
      " [ 1.  19.   1.8  3.5]\n",
      " [ 1.  22.   2.1  2.2]\n",
      " [ 1.  31.   5.1  nan]\n",
      " [ 2.  12.   3.5  1.2]\n",
      " [ 2.   2.   3.1  4.6]\n",
      " [ 2.  19.   1.3  3.2]\n",
      " [ 2.  22.   6.1  3.2]\n",
      " [ 2.  31.   7.1  nan]\n",
      " [ 2.  14.   2.1  1.2]\n",
      " [ 3.  12.   3.2  2.3]\n",
      " [ 3.  12.   4.1  nan]\n",
      " [ 3.  12.   3.1  3.2]]\n"
     ]
    }
   ],
   "source": [
    "import numpy as np\n",
    "A = np.array([\n",
    "    [1, 12,  2.2, 2.1],\n",
    "    [1,  2,  3.1, 3.3],\n",
    "    [1, 19,  1.8, 3.5],\n",
    "    [1, 22,  2.1, 2.2],\n",
    "    [1, 31,  5.1, 8.2],\n",
    "    [2, 12,  3.5, 1.2],\n",
    "    [2,  2,  3.1, 4.6],\n",
    "    [2, 19,  1.3, 3.2],\n",
    "    [2, 22,  6.1, 3.2],\n",
    "    [2, 31,  7.1, 8.2],\n",
    "    [2, 14,  2.1, 1.2],\n",
    "    [3, 12,  3.2, 2.3],\n",
    "    [3, 12,  4.1, 8.2],\n",
    "    [3, 12,  3.1, 3.2]])\n",
    "\n",
    "\n",
    "print('----------------- solution a: ---------------------------')\n",
    "b = A[A[:,2]>2]\n",
    "print(b)\n",
    "\n",
    "\n",
    "print('----------------- solution b: ---------------------------')\n",
    "A[A[:,3]>8,3] = None\n",
    "print(A)    "
   ]
  },
  {
   "cell_type": "code",
   "execution_count": 7,
   "metadata": {},
   "outputs": [
    {
     "name": "stdout",
     "output_type": "stream",
     "text": [
      "Tablica B: \n",
      " [[1.  7.  2.2 2.1]\n",
      " [2.  1.  3.5 1.2]\n",
      " [1.  2.  3.1 3.3]]\n"
     ]
    }
   ],
   "source": []
  },
  {
   "cell_type": "code",
   "execution_count": 96,
   "metadata": {},
   "outputs": [
    {
     "name": "stdout",
     "output_type": "stream",
     "text": [
      "----------------- solution c: ---------------------------\n",
      "[ 1.  1.  1.  1. nan  2.  2.  2.  2. nan  2.  3. nan  3.]\n",
      "[ 3.  1.  1.  1.  1. nan  2.  2.  2.  2. nan  2.  3. nan]\n",
      "[array([[ 1. , 12. ,  2.2,  2.1],\n",
      "       [ 1. ,  2. ,  3.1,  3.3],\n",
      "       [ 1. , 19. ,  1.8,  3.5],\n",
      "       [ 1. , 22. ,  2.1,  2.2],\n",
      "       [ nan,  nan,  nan,  nan],\n",
      "       [ 2. , 12. ,  3.5,  1.2],\n",
      "       [ 2. ,  2. ,  3.1,  4.6],\n",
      "       [ 2. , 19. ,  1.3,  3.2],\n",
      "       [ 2. , 22. ,  6.1,  3.2],\n",
      "       [ nan,  nan,  nan,  nan],\n",
      "       [ 2. , 14. ,  2.1,  1.2]]), array([[ 3. , 12. ,  3.2,  2.3],\n",
      "       [ nan,  nan,  nan,  nan],\n",
      "       [ 3. , 12. ,  3.1,  3.2]])]\n"
     ]
    },
    {
     "name": "stderr",
     "output_type": "stream",
     "text": [
      "/home/kinga/anaconda3/lib/python3.7/site-packages/ipykernel_launcher.py:8: RuntimeWarning: invalid value encountered in greater\n",
      "  \n"
     ]
    }
   ],
   "source": [
    "print('----------------- solution c: ---------------------------')\n",
    "# determine where the data \"splits\" shoule be\n",
    "col1 = A[:, 0]\n",
    "print(col1)\n",
    "print(np.roll(col1,1)) # wykonuje przesunicie kolejnych elementów o 1\n",
    "\n",
    "diff = col1 - np.roll(col1,1)\n",
    "idxs = np.where(diff>0)[0] # indexy (numery wiersza podziału tablicy)\n",
    "\n",
    "# ------ metoda 1 podziału:\n",
    "n = np.split(A, list(idxs))\n",
    "print(n)\n",
    "\n",
    "# ------ metoda 2 podziału: pętla dzięląca tablice \"splits\"\n",
    "strts = idxs\n",
    "stops = list(idxs[1:])+[None]\n",
    "groups = [A[strt:stop] for strt,stop in zip(strts,stops)]"
   ]
  },
  {
   "cell_type": "code",
   "execution_count": null,
   "metadata": {},
   "outputs": [],
   "source": [
    "\n"
   ]
  },
  {
   "cell_type": "markdown",
   "metadata": {},
   "source": [
    "## Zad. 5: Iteracje po elementach tablicy ndarray <a name=\"zad5\"></a>\n",
    "Korzystając z pętli zagnieżdżonych, zaimplementuj mnożenie macierzy korzystając z jego definicji."
   ]
  },
  {
   "cell_type": "code",
   "execution_count": 105,
   "metadata": {},
   "outputs": [
    {
     "name": "stdout",
     "output_type": "stream",
     "text": [
      "[114, 160, 60, 27]\n",
      "[74, 97, 73, 14]\n",
      "[119, 157, 112, 23]\n"
     ]
    }
   ],
   "source": [
    "# Program to multiply two matrices using nested loops\n",
    "# 3x3 matrix\n",
    "X = [[12,7,3],\n",
    "    [4 ,5,6],\n",
    "    [7 ,8,9]]\n",
    "# 3x4 matrix\n",
    "Y = [[5,8,1,2],\n",
    "    [6,7,3,0],\n",
    "    [4,5,9,1]]\n",
    "# result is 3x4\n",
    "result = [[0,0,0,0],\n",
    "         [0,0,0,0],\n",
    "         [0,0,0,0]]\n",
    "\n",
    "# iterate through rows of X\n",
    "for i in range(len(X)):\n",
    "   # iterate through columns of Y\n",
    "   for j in range(len(Y[0])):\n",
    "       # iterate through rows of Y\n",
    "       for k in range(len(Y)):\n",
    "           result[i][j] += X[i][k] * Y[k][j]\n",
    "        \n",
    "for r in result:\n",
    "   print(r)"
   ]
  },
  {
   "cell_type": "markdown",
   "metadata": {},
   "source": [
    "## Zad. 6: Iteracje po elementach i operacje w pętlach tablicy ndarray <a name=\"zad6\"></a>\n",
    "Majac daną tablicę A oraz korzystając z pętli wykonaj następujące działania, wyniki zapisz do nowej tablicy B:\n",
    "\n",
    "\n",
    "- policz sumę elementów w każdym wierszu znajdujących się w  drugiej i trzeciej kolumnie A oraz wstaw wynik do odpowiedniego wiersza w kolumnie czwartej tablicy B.\n",
    "\n",
    "\n",
    "- w pierwszej kolumnie tablicy B wstaw numery kolejnych wierszy;\n",
    "\n",
    "- w drugiej kolumnie tablicy B wstaw sumę elementów wiersza tablicy A;\n",
    "\n",
    "- w trzeciej kolumnie tablicy B, wstaw największa wartość z wiersza tablicy A.\n"
   ]
  },
  {
   "cell_type": "code",
   "execution_count": 19,
   "metadata": {},
   "outputs": [
    {
     "name": "stdout",
     "output_type": "stream",
     "text": [
      "[[ 0.  17.3 12.  14.2]\n",
      " [ 1.   9.4  3.3  5.1]\n",
      " [ 2.  25.3 19.  20.8]\n",
      " [ 3.  27.3 22.  24.1]\n",
      " [ 4.  45.3 31.  36.1]\n",
      " [ 5.  18.7 12.  15.5]\n",
      " [ 6.  11.7  4.6  5.1]\n",
      " [ 7.  25.5 19.  20.3]\n",
      " [ 8.  33.3 22.  28.1]\n",
      " [ 9.  48.3 31.  38.1]\n",
      " [10.  19.3 14.  16.1]\n",
      " [11.  20.5 12.  15.2]\n",
      " [12.  27.3 12.  16.1]\n",
      " [13.  21.3 12.  15.1]]\n"
     ]
    }
   ],
   "source": [
    "import numpy as np\n",
    "\n",
    "A = np.array([\n",
    "    [1, 12,  2.2, 2.1],\n",
    "    [1,  2,  3.1, 3.3],\n",
    "    [1, 19,  1.8, 3.5],\n",
    "    [1, 22,  2.1, 2.2],\n",
    "    [1, 31,  5.1, 8.2],\n",
    "    [2, 12,  3.5, 1.2],\n",
    "    [2,  2,  3.1, 4.6],\n",
    "    [2, 19,  1.3, 3.2],\n",
    "    [2, 22,  6.1, 3.2],\n",
    "    [2, 31,  7.1, 8.2],\n",
    "    [2, 14,  2.1, 1.2],\n",
    "    [3, 12,  3.2, 2.3],\n",
    "    [3, 12,  4.1, 8.2],\n",
    "    [3, 12,  3.1, 3.2]])\n",
    "\n",
    "B = np.zeros(A.shape)\n",
    "\n",
    "# a\n",
    "for i in range(A.shape[0]):\n",
    "    #a\n",
    "    B[i, 3] = A[i, 1] + A[i, 2]\n",
    "    #b\n",
    "    B[i, 0] = i\n",
    "    # c\n",
    "    B[i, 1] = A[i, :].sum()\n",
    "    # d\n",
    "    B[i, 2] = A[i, :].max()\n",
    "print(B)"
   ]
  }
 ],
 "metadata": {
  "kernelspec": {
   "display_name": "Python 3",
   "language": "python",
   "name": "python3"
  },
  "language_info": {
   "codemirror_mode": {
    "name": "ipython",
    "version": 3
   },
   "file_extension": ".py",
   "mimetype": "text/x-python",
   "name": "python",
   "nbconvert_exporter": "python",
   "pygments_lexer": "ipython3",
   "version": "3.8.8"
  }
 },
 "nbformat": 4,
 "nbformat_minor": 2
}
